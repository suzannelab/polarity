{
 "cells": [
  {
   "cell_type": "code",
   "execution_count": 22,
   "metadata": {},
   "outputs": [],
   "source": [
    "import ipyvolume as ipv\n",
    "from tyssue import HistoryHdf5\n",
    "from tyssue.draw import browse_history"
   ]
  },
  {
   "cell_type": "code",
   "execution_count": 55,
   "metadata": {},
   "outputs": [
    {
     "data": {
      "application/vnd.jupyter.widget-view+json": {
       "model_id": "48e534af0a774d75a8ed4890a5cf9096",
       "version_major": 2,
       "version_minor": 0
      },
      "text/plain": [
       "VBox(children=(Figure(camera=PerspectiveCamera(fov=46.0, position=(0.0, 0.0, 2.0), quaternion=(0.0, 0.0, 0.0, …"
      ]
     },
     "metadata": {},
     "output_type": "display_data"
    },
    {
     "data": {
      "application/vnd.jupyter.widget-view+json": {
       "model_id": "d31127794e90419e9165ec0c87cecc25",
       "version_major": 2,
       "version_minor": 0
      },
      "text/plain": [
       "interactive(children=(IntSlider(value=0, description='i', max=62), Output()), _dom_classes=('widget-interact',…"
      ]
     },
     "metadata": {},
     "output_type": "display_data"
    }
   ],
   "source": [
    "history = HistoryHdf5.from_archive(\n",
    "    \"Simulations/test_contractility_speed/1.005_constriction_0.1_radialtension.hf5\")\n",
    "#history = HistoryHdf5.from_archive(\"temp2.hf5\")\n",
    "\n",
    "\n",
    "\n",
    "specs = {\n",
    "    \"face\": {\n",
    "        \"visible\": True,\n",
    "        \"color\": lambda sheet : sheet.face_df['area'],\n",
    "        \"colormap\": 'viridis',\n",
    "    },\n",
    "    \"edge\": {\n",
    "        \"color\": 'k'\n",
    "    }\n",
    "}\n",
    "\n",
    "\n",
    "browse_history(history, coords=['z', 'x', 'y'], **specs)\n",
    "ipv.style.use(\"dark\")\n",
    "ipv.style.box_off()\n",
    "ipv.pylab.style.axes_off()"
   ]
  },
  {
   "cell_type": "code",
   "execution_count": null,
   "metadata": {},
   "outputs": [],
   "source": []
  },
  {
   "cell_type": "code",
   "execution_count": null,
   "metadata": {},
   "outputs": [],
   "source": []
  }
 ],
 "metadata": {
  "kernelspec": {
   "display_name": "Python 3",
   "language": "python",
   "name": "python3"
  },
  "language_info": {
   "codemirror_mode": {
    "name": "ipython",
    "version": 3
   },
   "file_extension": ".py",
   "mimetype": "text/x-python",
   "name": "python",
   "nbconvert_exporter": "python",
   "pygments_lexer": "ipython3",
   "version": "3.7.3"
  }
 },
 "nbformat": 4,
 "nbformat_minor": 4
}
