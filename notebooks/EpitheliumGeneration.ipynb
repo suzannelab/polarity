{
 "cells": [
  {
   "cell_type": "code",
   "execution_count": 1,
   "metadata": {},
   "outputs": [],
   "source": [
    "import numpy as np\n",
    "import pandas as pd\n",
    "import matplotlib.pyplot as plt\n",
    "import ipyvolume as ipv\n",
    "%matplotlib inline\n",
    "\n",
    "from scipy.spatial import Voronoi\n",
    "from scipy import interpolate\n",
    "\n",
    "from tyssue import Sheet, Monolayer, ClosedMonolayerGeometry\n",
    "from tyssue import SheetGeometry\n",
    "from tyssue.geometry.sheet_geometry import ClosedSheetGeometry\n",
    "from tyssue.generation import hexa_cylinder, sheet_from_cell_centers, extrude\n",
    "from tyssue.topology import type1_transition\n",
    "from tyssue.draw import sheet_view\n",
    "\n",
    "from tyssue.dynamics import model_factory, effectors\n",
    "from tyssue.solvers.quasistatic import QSSolver\n",
    "from tyssue import config\n",
    "\n",
    "import math\n"
   ]
  },
  {
   "cell_type": "markdown",
   "metadata": {},
   "source": [
    "### Initial tissue generation"
   ]
  },
  {
   "cell_type": "code",
   "execution_count": 10,
   "metadata": {},
   "outputs": [],
   "source": [
    "points_xyz = hexa_cylinder(42, 61, 30, noise=0, capped=True)\n",
    "hexa_cylinder()\n",
    "sheet = sheet_from_cell_centers(points_xyz)\n",
    "ClosedSheetGeometry.update_all(sheet)\n"
   ]
  },
  {
   "cell_type": "code",
   "execution_count": 11,
   "metadata": {},
   "outputs": [
    {
     "data": {
      "application/vnd.jupyter.widget-view+json": {
       "model_id": "01d1dc508098493a974faa58fd8e144a",
       "version_major": 2,
       "version_minor": 0
      },
      "text/html": [
       "<p>Failed to display Jupyter Widget of type <code>VBox</code>.</p>\n",
       "<p>\n",
       "  If you're reading this message in the Jupyter Notebook or JupyterLab Notebook, it may mean\n",
       "  that the widgets JavaScript is still loading. If this message persists, it\n",
       "  likely means that the widgets JavaScript library is either not installed or\n",
       "  not enabled. See the <a href=\"https://ipywidgets.readthedocs.io/en/stable/user_install.html\">Jupyter\n",
       "  Widgets Documentation</a> for setup instructions.\n",
       "</p>\n",
       "<p>\n",
       "  If you're reading this message in another frontend (for example, a static\n",
       "  rendering on GitHub or <a href=\"https://nbviewer.jupyter.org/\">NBViewer</a>),\n",
       "  it may mean that your frontend doesn't currently support widgets.\n",
       "</p>\n"
      ],
      "text/plain": [
       "VBox(children=(Figure(camera_center=[0.0, 0.0, 0.0], height=500, matrix_projection=[0.0, 0.0, 0.0, 0.0, 0.0, 0.0, 0.0, 0.0, 0.0, 0.0, 0.0, 0.0, 0.0, 0.0, 0.0, 0.0], matrix_world=[0.0, 0.0, 0.0, 0.0, 0.0, 0.0, 0.0, 0.0, 0.0, 0.0, 0.0, 0.0, 0.0, 0.0, 0.0, 0.0], meshes=[Mesh(color=array('#2b5d0a', dtype='<U7'), lines=array([[   0,  258],\n",
       "       [3049, 3046],\n",
       "       [1971, 3049],\n",
       "       ...,\n",
       "       [1583, 1582],\n",
       "       [ 685, 1157],\n",
       "       [3737, 3734]], dtype=uint32), texture=None, x=array([-18.16537952,  29.55704035,   6.93202784, ..., -18.12016916,\n",
       "       -18.11913319, -19.29156804]), y=array([ 1.28207224, -5.18413972, -0.28866288, ..., 23.79183553,\n",
       "       23.7904887 , 22.86187688]), z=array([-135.80200748,  -54.96686099, -135.7257545 , ...,  -50.47727501,\n",
       "        -45.98746892,  -48.23241574])), Mesh(color=array([[0.175707, 0.6979  , 0.491033],\n",
       "       [0.120638, 0.625828, 0.533488],\n",
       "       [0.166383, 0.690856, 0.496502],\n",
       "       ...,\n",
       "       [0.166383, 0.690856, 0.496502],\n",
       "       [0.166383, 0.690856, 0.496502],\n",
       "       [0.166383, 0.690856, 0.496502]]), texture=None, triangles=array([[    0,  2816, 19700],\n",
       "       [ 1495,  2817, 19701],\n",
       "       [ 1495,  2818, 19702],\n",
       "       ...,\n",
       "       [  720, 19697, 36581],\n",
       "       [  718, 19698, 36582],\n",
       "       [  719, 19699, 36583]], dtype=uint32), x=array([-21.05269215, -16.69082159, -16.37712151, ...,  11.65626109,\n",
       "        15.64684987,  11.65749472]), y=array([  0.80211301,  -0.82796118,   3.5951899 , ..., -27.49596293,\n",
       "       -25.46114984, -27.49891323]), z=array([-135.75409645, -135.78958227, -135.78780585, ...,  -37.00824458,\n",
       "        -21.30723856,  -14.5801341 ]))], style={'axes': {'visible': False, 'label': {'color': 'white'}, 'ticklabel': {'color': 'white'}, 'color': 'white'}, 'box': {'visible': False}, 'background-color': 'black'}, tf=None, width=400, xlim=[-150.58069334409493, 150.3291998615686], ylim=[-150.58069334409493, 150.3291998615686], zlim=[-150.58069334409493, 150.3291998615686]),))"
      ]
     },
     "metadata": {},
     "output_type": "display_data"
    }
   ],
   "source": [
    "ipv.clear()\n",
    "fig, mesh = sheet_view(\n",
    "    sheet,\n",
    "    mode='3D',\n",
    "    face={\n",
    "        \"visible\":True,\n",
    "        \"color\": sheet.face_df.area\n",
    "    }\n",
    ")\n",
    "ipv.squarelim()\n",
    "ipv.show()"
   ]
  },
  {
   "cell_type": "code",
   "execution_count": null,
   "metadata": {},
   "outputs": [],
   "source": []
  },
  {
   "cell_type": "code",
   "execution_count": 12,
   "metadata": {},
   "outputs": [],
   "source": [
    "smodel = model_factory([\n",
    "    effectors.LumenVolumeElasticity,\n",
    "    effectors.FaceAreaElasticity,\n",
    "    effectors.FaceContractility])\n",
    "\n",
    "\n",
    "dyn_specs = {\n",
    "    \"settings\": {\n",
    "        \"lumen_prefered_vol\": sheet.settings[\"lumen_vol\"]*1.1,\n",
    "        \"lumen_vol_elasticity\": 1e-1/sheet.Nf,\n",
    "        \"threshold_length\": 1e-2,\n",
    "    },\n",
    "    \"face\": {\n",
    "        \"area_elasticity\": 1.,\n",
    "        #\"prefered_area\": sheet.face_df.area.median(), \n",
    "        \"prefered_area\": sheet.face_df.area.median(), \n",
    "        \"contractility\": 1e-4,\n",
    "    },\n",
    "    \"edge\": {\n",
    "        \"ux\": 0.0,\n",
    "        \"uy\": 0.0,\n",
    "        \"uz\": 0.0,\n",
    "    }\n",
    "}\n",
    "## Those settings are set homogenously in the epithelium\n",
    "sheet.update_specs(dyn_specs, reset=True)\n",
    "ClosedSheetGeometry.update_all(sheet)"
   ]
  },
  {
   "cell_type": "code",
   "execution_count": 13,
   "metadata": {},
   "outputs": [],
   "source": [
    "solver = QSSolver(with_t1=False, with_t3=False)\n",
    "res = solver.find_energy_min(sheet, ClosedSheetGeometry, smodel, options={\"gtol\": 1e-8})"
   ]
  },
  {
   "cell_type": "code",
   "execution_count": 14,
   "metadata": {},
   "outputs": [],
   "source": [
    "from tyssue.io import hdf5\n",
    "hdfname = 'superegg.hf5'\n",
    "hdf5.save_datasets(hdfname, sheet)"
   ]
  },
  {
   "cell_type": "code",
   "execution_count": 21,
   "metadata": {},
   "outputs": [
    {
     "data": {
      "text/plain": [
       "-138.68749662720884"
      ]
     },
     "execution_count": 21,
     "metadata": {},
     "output_type": "execute_result"
    }
   ],
   "source": [
    "sheet.face_df.z.min()"
   ]
  },
  {
   "cell_type": "code",
   "execution_count": 16,
   "metadata": {},
   "outputs": [
    {
     "data": {
      "text/plain": [
       "{'lumen_prefered_vol': 837810.3141130656,\n",
       " 'lumen_vol': 837809.9534519882,\n",
       " 'lumen_vol_elasticity': 3.551136363636364e-05,\n",
       " 'threshold_length': 0.01}"
      ]
     },
     "execution_count": 16,
     "metadata": {},
     "output_type": "execute_result"
    }
   ],
   "source": [
    "sheet.settings"
   ]
  },
  {
   "cell_type": "code",
   "execution_count": null,
   "metadata": {},
   "outputs": [],
   "source": []
  },
  {
   "cell_type": "code",
   "execution_count": null,
   "metadata": {},
   "outputs": [],
   "source": []
  },
  {
   "cell_type": "code",
   "execution_count": 6,
   "metadata": {},
   "outputs": [],
   "source": [
    "extruded = extrude(sheet.datasets, method=\"normals\", scale=0.1)\n",
    "\n",
    "eptm = Monolayer(\"tube\", extruded)\n",
    "ClosedMonolayerGeometry.update_all(eptm)\n"
   ]
  },
  {
   "cell_type": "code",
   "execution_count": 7,
   "metadata": {
    "scrolled": false
   },
   "outputs": [
    {
     "data": {
      "application/vnd.jupyter.widget-view+json": {
       "model_id": "841e82f9a5d34325b1ca838771cc7d89",
       "version_major": 2,
       "version_minor": 0
      },
      "text/html": [
       "<p>Failed to display Jupyter Widget of type <code>VBox</code>.</p>\n",
       "<p>\n",
       "  If you're reading this message in the Jupyter Notebook or JupyterLab Notebook, it may mean\n",
       "  that the widgets JavaScript is still loading. If this message persists, it\n",
       "  likely means that the widgets JavaScript library is either not installed or\n",
       "  not enabled. See the <a href=\"https://ipywidgets.readthedocs.io/en/stable/user_install.html\">Jupyter\n",
       "  Widgets Documentation</a> for setup instructions.\n",
       "</p>\n",
       "<p>\n",
       "  If you're reading this message in another frontend (for example, a static\n",
       "  rendering on GitHub or <a href=\"https://nbviewer.jupyter.org/\">NBViewer</a>),\n",
       "  it may mean that your frontend doesn't currently support widgets.\n",
       "</p>\n"
      ],
      "text/plain": [
       "VBox(children=(Figure(camera_center=[0.0, 0.0, 0.0], height=500, matrix_projection=[0.0, 0.0, 0.0, 0.0, 0.0, 0.0, 0.0, 0.0, 0.0, 0.0, 0.0, 0.0, 0.0, 0.0, 0.0, 0.0], matrix_world=[0.0, 0.0, 0.0, 0.0, 0.0, 0.0, 0.0, 0.0, 0.0, 0.0, 0.0, 0.0, 0.0, 0.0, 0.0, 0.0], meshes=[Mesh(color=array('#2b5d0a', dtype='<U7'), lines=array([[ 143,    0],\n",
       "       [1314, 1313],\n",
       "       [1312, 1314],\n",
       "       ...,\n",
       "       [4367, 9995],\n",
       "       [9995, 9993],\n",
       "       [9993, 4365]], dtype=uint32), texture=None, x=array([-0.06549919, -0.45523666, -0.96163355, ..., -0.08423853,\n",
       "       -0.04665799, -0.08424675]), y=array([-0.06375642, -0.58694241, -0.1665625 , ...,  0.87074595,\n",
       "        0.87361721,  0.87087584]), z=array([-4.87287952,  4.65801168, -0.48435483, ...,  1.52836231,\n",
       "        1.59989944,  1.67717833])), Mesh(color=array([[0.974417, 0.90359 , 0.130215],\n",
       "       [0.974417, 0.90359 , 0.130215],\n",
       "       [0.974417, 0.90359 , 0.130215],\n",
       "       ...,\n",
       "       [0.151918, 0.500685, 0.557587],\n",
       "       [0.151918, 0.500685, 0.557587],\n",
       "       [0.151918, 0.500685, 0.557587]]), texture=None, triangles=array([[     0,  22516, 123820],\n",
       "       [  1135,  22517, 123821],\n",
       "       [  1135,  22518, 123822],\n",
       "       ...,\n",
       "       [ 22515, 123817, 225121],\n",
       "       [ 22515, 123818, 225122],\n",
       "       [ 22515, 123819, 225123]], dtype=uint32), x=array([-4.32526886e-02, -1.52367348e-01, -1.57695121e-04, ...,\n",
       "       -3.36821771e-01, -4.21345121e-01, -4.69251163e-01]), y=array([-1.51097744e-01, -3.84167772e-02,  1.57752447e-04, ...,\n",
       "       -8.10616686e-01, -7.69567969e-01, -8.57337248e-01]), z=array([-4.86225512, -4.86289463, -4.87294016, ...,  3.38258353,\n",
       "        3.38446703,  3.38571793]))], style={'axes': {'visible': False, 'label': {'color': 'white'}, 'ticklabel': {'color': 'white'}, 'color': 'white'}, 'box': {'visible': False}, 'background-color': 'black'}, tf=None, width=400, xlim=[-5.3604957019830675, 5.36059972102351], ylim=[-5.3604957019830675, 5.36059972102351], zlim=[-5.3604957019830675, 5.36059972102351]),))"
      ]
     },
     "metadata": {},
     "output_type": "display_data"
    }
   ],
   "source": [
    "ipv.clear()\n",
    "fig, mesh = sheet_view(eptm, mode='3D', face={\"visible\":True, \"color\":eptm.face_df.area})\n",
    "ipv.squarelim()\n",
    "ipv.show()"
   ]
  },
  {
   "cell_type": "code",
   "execution_count": 8,
   "metadata": {},
   "outputs": [
    {
     "name": "stderr",
     "output_type": "stream",
     "text": [
      "Reseting column contractility of the face dataset with new specs\n",
      "Reseting column ux of the edge dataset with new specs\n",
      "Reseting column uy of the edge dataset with new specs\n",
      "Reseting column uz of the edge dataset with new specs\n"
     ]
    },
    {
     "name": "stdout",
     "output_type": "stream",
     "text": [
      "Model energy (per cell):\n",
      "------------------------\n",
      "Lumen volume elasticity  : \t1.210e-05\n",
      "Volume elasticity        : \t3.226e-09\n",
      "Area elasticity          : \t2.242e-06\n",
      "Contractility            : \t7.139e-06\n"
     ]
    }
   ],
   "source": [
    "model = model_factory([effectors.LumenVolumeElasticity,\n",
    "                       effectors.CellVolumeElasticity,\n",
    "                       effectors.CellAreaElasticity,\n",
    "                       effectors.FaceContractility])\n",
    "\n",
    "## Initial model settings\n",
    "dyn_specs = {\n",
    "    \"settings\": {\n",
    "        \"lumen_prefered_vol\": eptm.settings[\"lumen_vol\"]*1.2,\n",
    "        \"lumen_vol_elasticity\": 10/eptm.Nc,\n",
    "        \"threshold_length\": 1e-2,\n",
    "    },\n",
    "    \"cell\": {\n",
    "        \"prefered_vol\": eptm.cell_df.vol.mean(),\n",
    "        \"prefered_area\": eptm.cell_df.area.mean(),        \n",
    "        \"vol_elasticity\": 1.0,\n",
    "        \"area_elasticity\": 1.0,\n",
    "    },\n",
    "    \"face\": {\n",
    "        \"contractility\": 1e-5,\n",
    "    },\n",
    "    \"edge\": {\n",
    "        \"ux\": 0.0,\n",
    "        \"uy\": 0.0,\n",
    "        \"uz\": 0.0,\n",
    "    }\n",
    "}\n",
    "## Those settings are set homogenously in the epithelium\n",
    "eptm.update_specs(dyn_specs, reset=True)\n",
    "\n",
    "print(\"Model energy (per cell):\")\n",
    "print(\"------------------------\")\n",
    "\n",
    "energies = model.compute_energy(eptm, full_output=True)\n",
    "print(*(f\"{label.ljust(25)}: \\t{np.sum(energy)/eptm.Nc:.3e}\"\n",
    "      for label, energy in zip(model.labels, energies)), sep='\\n')\n"
   ]
  },
  {
   "cell_type": "code",
   "execution_count": 9,
   "metadata": {},
   "outputs": [],
   "source": [
    "ClosedMonolayerGeometry.update_all(eptm)"
   ]
  },
  {
   "cell_type": "code",
   "execution_count": 10,
   "metadata": {
    "scrolled": true
   },
   "outputs": [],
   "source": [
    "solver = QSSolver(with_t1=False, with_t3=False)\n",
    "\n",
    "\n",
    "# This can be tuned to increase the gradient\n",
    "# descent precision (at a computation time cost)\n",
    "optimize_options = {'ftol': 1e-8, 'gtol':1e-8}\n",
    "\n",
    "res = solver.find_energy_min(\n",
    "    eptm,\n",
    "    ClosedMonolayerGeometry,\n",
    "    model,\n",
    "    options=optimize_options\n",
    ")\n"
   ]
  },
  {
   "cell_type": "code",
   "execution_count": 11,
   "metadata": {
    "scrolled": false
   },
   "outputs": [
    {
     "data": {
      "application/vnd.jupyter.widget-view+json": {
       "model_id": "4869c48c0322487ab4350babf114cfc8",
       "version_major": 2,
       "version_minor": 0
      },
      "text/html": [
       "<p>Failed to display Jupyter Widget of type <code>VBox</code>.</p>\n",
       "<p>\n",
       "  If you're reading this message in the Jupyter Notebook or JupyterLab Notebook, it may mean\n",
       "  that the widgets JavaScript is still loading. If this message persists, it\n",
       "  likely means that the widgets JavaScript library is either not installed or\n",
       "  not enabled. See the <a href=\"https://ipywidgets.readthedocs.io/en/stable/user_install.html\">Jupyter\n",
       "  Widgets Documentation</a> for setup instructions.\n",
       "</p>\n",
       "<p>\n",
       "  If you're reading this message in another frontend (for example, a static\n",
       "  rendering on GitHub or <a href=\"https://nbviewer.jupyter.org/\">NBViewer</a>),\n",
       "  it may mean that your frontend doesn't currently support widgets.\n",
       "</p>\n"
      ],
      "text/plain": [
       "VBox(children=(Figure(camera_center=[0.0, 0.0, 0.0], height=500, matrix_projection=[0.0, 0.0, 0.0, 0.0, 0.0, 0.0, 0.0, 0.0, 0.0, 0.0, 0.0, 0.0, 0.0, 0.0, 0.0, 0.0], matrix_world=[0.0, 0.0, 0.0, 0.0, 0.0, 0.0, 0.0, 0.0, 0.0, 0.0, 0.0, 0.0, 0.0, 0.0, 0.0, 0.0], meshes=[Mesh(color=array('#2b5d0a', dtype='<U7'), lines=array([[ 143,    0],\n",
       "       [1314, 1313],\n",
       "       [1312, 1314],\n",
       "       ...,\n",
       "       [4367, 9995],\n",
       "       [9995, 9993],\n",
       "       [9993, 4365]], dtype=uint32), texture=None, x=array([-0.06995495, -0.47343638, -1.02788523, ..., -0.0936005 ,\n",
       "       -0.04898248, -0.09360958]), y=array([-0.06765299, -0.61242638, -0.17887031, ...,  0.94860834,\n",
       "        0.9520026 ,  0.94873035]), z=array([-4.93728985,  4.69730014, -0.48432203, ...,  1.52687918,\n",
       "        1.60121117,  1.67569911])), Mesh(color=array([[0.404001, 0.800275, 0.362552],\n",
       "       [0.404001, 0.800275, 0.362552],\n",
       "       [0.404001, 0.800275, 0.362552],\n",
       "       ...,\n",
       "       [0.377779, 0.791781, 0.377939],\n",
       "       [0.386433, 0.794644, 0.372886],\n",
       "       [0.369214, 0.788888, 0.382914]]), texture=None, triangles=array([[    0,  2816, 19700],\n",
       "       [ 1135,  2817, 19701],\n",
       "       [ 1135,  2818, 19702],\n",
       "       ...,\n",
       "       [ 2505, 19697, 36581],\n",
       "       [ 2361, 19698, 36582],\n",
       "       [  779, 19699, 36583]], dtype=uint32), x=array([-4.28586170e-02, -1.52004119e-01, -8.07823291e-05, ...,\n",
       "        4.77842998e-02, -2.34217115e-01, -3.68870144e-01]), y=array([-1.50608259e-01, -3.84043836e-02,  3.64299480e-05, ...,\n",
       "        9.53661507e-01,  9.24616976e-01, -8.81824367e-01]), z=array([-4.84156325, -4.84193956, -4.8525797 , ..., -3.46037657,\n",
       "        2.19632879,  3.38536043]))], style={'axes': {'visible': False, 'label': {'color': 'white'}, 'ticklabel': {'color': 'white'}, 'color': 'white'}, 'box': {'visible': False}, 'background-color': 'black'}, tf=None, width=400, xlim=[-5.43103074481588, 5.431268972880242], ylim=[-5.43103074481588, 5.431268972880242], zlim=[-5.43103074481588, 5.431268972880242]),))"
      ]
     },
     "metadata": {},
     "output_type": "display_data"
    }
   ],
   "source": [
    "ipv.clear()\n",
    "\n",
    "eptm.face_df[\"visible\"] = (eptm.face_df[\"segment\"] == \"basal\")\n",
    "\n",
    "fig, mesh = sheet_view(\n",
    "    eptm,\n",
    "    mode='3D',\n",
    "    edge={\"visible\": True},\n",
    "    face={\n",
    "        \"visible\": True,\n",
    "        \"color\": eptm.face_df.area\n",
    "    }\n",
    ")\n",
    "\n",
    "ipv.show()"
   ]
  },
  {
   "cell_type": "code",
   "execution_count": 12,
   "metadata": {},
   "outputs": [],
   "source": [
    "from tyssue.io import hdf5"
   ]
  },
  {
   "cell_type": "code",
   "execution_count": 13,
   "metadata": {},
   "outputs": [
    {
     "name": "stderr",
     "output_type": "stream",
     "text": [
      "/home/admin-suz/anaconda3/lib/python3.6/site-packages/IPython/core/interactiveshell.py:2910: PerformanceWarning: \n",
      "your performance may suffer as PyTables will pickle object types that it cannot\n",
      "map directly to c-types [inferred_type->mixed-integer,key->block2_values] [items->['edge_o', 'srce_o', 'trgt_o', 'face_o', 'cell_o', 'is_valid', 'segment']]\n",
      "\n",
      "  exec(code_obj, self.user_global_ns, self.user_ns)\n",
      "/home/admin-suz/anaconda3/lib/python3.6/site-packages/IPython/core/interactiveshell.py:2910: PerformanceWarning: \n",
      "your performance may suffer as PyTables will pickle object types that it cannot\n",
      "map directly to c-types [inferred_type->mixed-integer,key->block2_values] [items->['face_o', 'opposite', 'height', 'rho', 'vol', 'phi', 'theta', 'area_elasticity', 'prefered_area', 'segment']]\n",
      "\n",
      "  exec(code_obj, self.user_global_ns, self.user_ns)\n"
     ]
    }
   ],
   "source": [
    "hdf5.save_datasets('rigged.hf5', eptm)"
   ]
  },
  {
   "cell_type": "code",
   "execution_count": 14,
   "metadata": {},
   "outputs": [
    {
     "data": {
      "text/plain": [
       "{'lumen_prefered_vol': 26.28623155275289,\n",
       " 'lumen_vol': 26.28300027169302,\n",
       " 'lumen_vol_elasticity': 0.0035511363636363635,\n",
       " 'threshold_length': 0.01}"
      ]
     },
     "execution_count": 14,
     "metadata": {},
     "output_type": "execute_result"
    }
   ],
   "source": [
    "eptm.settings"
   ]
  },
  {
   "cell_type": "code",
   "execution_count": null,
   "metadata": {},
   "outputs": [],
   "source": []
  },
  {
   "cell_type": "code",
   "execution_count": 23,
   "metadata": {},
   "outputs": [],
   "source": [
    "# Import \n",
    "import os\n",
    "import time\n",
    "import json\n",
    "import datetime\n",
    "import numpy as np\n",
    "import pandas as pd\n",
    "\n",
    "from IPython.display import display\n",
    "\n",
    "from pathlib import Path\n",
    "from tyssue import config\n",
    "from tyssue import Sheet#, SheetGeometry as geom\n",
    "from tyssue.geometry.sheet_geometry import ClosedSheetGeometry as geom\n",
    "from tyssue.io import hdf5\n",
    "from tyssue.io.hdf5 import load_datasets\n",
    "from tyssue.dynamics import SheetModel as basemodel\n",
    "from tyssue.dynamics.apoptosis_model import SheetApoptosisModel as model\n",
    "from tyssue.solvers.sheet_vertex_solver import Solver as solver\n",
    "from tyssue.draw import sheet_view\n",
    "from tyssue.draw.plt_draw import quick_edge_draw\n",
    "from tyssue.draw.ipv_draw import sheet_view as ipv_draw \n",
    "\n",
    "from tyssue.behaviors.event_manager import EventManager\n",
    "from tyssue.behaviors.sheet.apoptosis_events import apoptosis\n",
    "\n",
    "import matplotlib.pyplot as plt\n",
    "%matplotlib inline\n",
    "\n",
    "try:\n",
    "    import seaborn as sns\n",
    "except ImportError:\n",
    "    print('Seaborn not found')\n",
    "\n",
    "#from tyssue.solvers.quasistatic import QSSolver\n",
    "#solver = QSSolver(with_t1=False, with_t3=False, with_collisions=True)"
   ]
  },
  {
   "cell_type": "code",
   "execution_count": 30,
   "metadata": {},
   "outputs": [],
   "source": [
    "def load_before_apopto(anchor_tension=0):\n",
    "\n",
    "    h5store = '../examples/superegg.hf5'\n",
    "    #h5store = '../data/hf5/small_hexagonal.hf5'\n",
    "\n",
    "    datasets = load_datasets(h5store,\n",
    "                             data_names=['face', 'vert', 'edge'])\n",
    "    with open('../examples/superegg.json', 'r+') as fp:\n",
    "        specs = json.load(fp)\n",
    "\n",
    "    sheet = Sheet('fold', datasets, specs)\n",
    "    sheet.sanitize()\n",
    "    geom.update_all(sheet)\n",
    "    sheet.vert_df['radial_tension']=0\n",
    "    \"\"\"sheet.edge_df['opposite'] = sheet.get_opposite()\n",
    "    sheet.settings['lumen_vol'] = 837809.9534519882\n",
    "    sheet.settings[\"lumen_prefered_vol\"]= sheet.settings[\"lumen_vol\"]*1.1\n",
    "    sheet.settings[\"lumen_vol_elasticity\"]= 1e-1/sheet.Nf\n",
    "    sheet.settings[\"threshold_length\"]= 1e-2\n",
    "    sheet.face_df.contractility=1.12\"\"\"\n",
    "    return sheet\n",
    "\n",
    "sheet = load_before_apopto(0)\n",
    "\n",
    "geom.update_all(sheet)"
   ]
  },
  {
   "cell_type": "code",
   "execution_count": 31,
   "metadata": {},
   "outputs": [
    {
     "data": {
      "text/plain": [
       "{'geometry': 'cylindrical',\n",
       " 'height_axis': 'z',\n",
       " 'lumen_prefered_vol': 837810.3141130656,\n",
       " 'lumen_vol': 837809.9534519882,\n",
       " 'lumen_vol_elasticity': 3.551136363636364e-05,\n",
       " 'nrj_norm_factor': 784,\n",
       " 'threshold_length': 0.01}"
      ]
     },
     "execution_count": 31,
     "metadata": {},
     "output_type": "execute_result"
    }
   ],
   "source": [
    "sheet.settings"
   ]
  },
  {
   "cell_type": "code",
   "execution_count": null,
   "metadata": {},
   "outputs": [],
   "source": []
  },
  {
   "cell_type": "code",
   "execution_count": null,
   "metadata": {},
   "outputs": [],
   "source": []
  }
 ],
 "metadata": {
  "kernelspec": {
   "display_name": "Python 3",
   "language": "python",
   "name": "python3"
  },
  "language_info": {
   "codemirror_mode": {
    "name": "ipython",
    "version": 3
   },
   "file_extension": ".py",
   "mimetype": "text/x-python",
   "name": "python",
   "nbconvert_exporter": "python",
   "pygments_lexer": "ipython3",
   "version": "3.6.3"
  }
 },
 "nbformat": 4,
 "nbformat_minor": 2
}
