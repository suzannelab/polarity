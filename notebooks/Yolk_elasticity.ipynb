{
 "cells": [
  {
   "cell_type": "code",
   "execution_count": 1,
   "metadata": {},
   "outputs": [],
   "source": [
    "# Import \n",
    "import os\n",
    "import time\n",
    "import json\n",
    "import datetime\n",
    "import pandas as pd\n",
    "\n",
    "from pathlib import Path\n",
    "from tyssue import Sheet\n",
    "from tyssue.io import hdf5\n",
    "from tyssue.geometry.sheet_geometry import ClosedSheetGeometry as geom\n",
    "from tyssue.dynamics.sheet_gradients import height_grad\n",
    "from tyssue.dynamics import units, effectors, model_factory\n",
    "from tyssue.solvers.quasistatic import QSSolver\n",
    "\n",
    "import matplotlib.pyplot as plt\n",
    "%matplotlib inline"
   ]
  },
  {
   "cell_type": "code",
   "execution_count": 2,
   "metadata": {},
   "outputs": [],
   "source": [
    "SIM_DIR = Path('/home/admin-suz/Documents/Simulations/')\n",
    "today = datetime.date.today()\n",
    "\n",
    "sim_save_dir = SIM_DIR/f'{today.isoformat()}_YolkElasticityTest'\n",
    "\n",
    "try:\n",
    "    os.mkdir(sim_save_dir)\n",
    "except FileExistsError:\n",
    "    pass"
   ]
  },
  {
   "cell_type": "code",
   "execution_count": null,
   "metadata": {},
   "outputs": [],
   "source": []
  },
  {
   "cell_type": "code",
   "execution_count": 3,
   "metadata": {},
   "outputs": [],
   "source": [
    "smodel = model_factory([\n",
    "    effectors.LumenVolumeElasticity,\n",
    "    effectors.FaceAreaElasticity,\n",
    "    effectors.FaceContractility],\n",
    "effectors.FaceAreaElasticity)\n",
    "\n",
    "\n",
    "model = smodel"
   ]
  },
  {
   "cell_type": "code",
   "execution_count": 4,
   "metadata": {},
   "outputs": [],
   "source": [
    "def init():\n",
    "    dsets = hdf5.load_datasets('../examples/superegg_v3.hf5',\n",
    "                               data_names=['vert', 'edge', 'face'])\n",
    "\n",
    "    with open('../examples/superegg_v3.json', 'r+') as fp:\n",
    "        specs = json.load(fp)\n",
    "\n",
    "    sheet = Sheet('cylinder', dsets, specs)    \n",
    "    return sheet\n"
   ]
  },
  {
   "cell_type": "code",
   "execution_count": 5,
   "metadata": {},
   "outputs": [],
   "source": [
    "solver = QSSolver(with_t1=True, with_t3=True)"
   ]
  },
  {
   "cell_type": "code",
   "execution_count": null,
   "metadata": {},
   "outputs": [],
   "source": []
  },
  {
   "cell_type": "markdown",
   "metadata": {},
   "source": [
    "## Test several value of yolk volume elasticity"
   ]
  },
  {
   "cell_type": "code",
   "execution_count": 8,
   "metadata": {},
   "outputs": [
    {
     "name": "stdout",
     "output_type": "stream",
     "text": [
      "1e-11\n",
      "1e-10\n",
      "1e-09\n",
      "5e-09\n",
      "1e-08\n",
      "2e-08\n",
      "3e-08\n",
      "4e-08\n",
      "7e-08\n",
      "8e-08\n",
      "1e-07\n",
      "2e-07\n",
      "3e-07\n",
      "4e-07\n",
      "7e-07\n",
      "1e-06\n",
      "3e-06\n",
      "1e-05\n",
      "0.0001\n",
      "0.001\n",
      "0.01\n",
      "0.1\n"
     ]
    }
   ],
   "source": [
    "\n",
    "volume = [1.e-11, 1.e-10, 1.e-9, 5.e-9, 1.e-8, 2.e-8, 3.e-8,  4.e-8, 7.e-8, 8.e-8,\n",
    "          1.e-7,2.e-7, 3.e-7, 4.e-7, 7.e-7, 1.e-6, 3.e-6, 1.e-5, 1.e-4, 1.e-3, 1.e-2, 1.e-1]\n",
    "volume_dataframe = pd.DataFrame(columns=['compression'])\n",
    "for v in volume : \n",
    "    sheet=init()\n",
    "    print (v)\n",
    "    sheet.settings['lumen_vol_elasticity'] = v\n",
    "    \n",
    "    res = solver.find_energy_min(sheet, geom, model, options={\"gtol\": 1e-8})\n",
    "    \n",
    "    tp = (v, sheet.settings['lumen_vol']/sheet.settings['lumen_prefered_vol'])\n",
    "    volume_dataframe.loc[v, 'elasticity'] = tp[1]\n",
    "    volume_dataframe.to_csv('resultats_yolk.csv')"
   ]
  },
  {
   "cell_type": "code",
   "execution_count": 9,
   "metadata": {},
   "outputs": [
    {
     "name": "stderr",
     "output_type": "stream",
     "text": [
      "/home/admin-suz/anaconda3/lib/python3.6/site-packages/ipykernel_launcher.py:1: FutureWarning: from_csv is deprecated. Please use read_csv(...) instead. Note that some of the default arguments are different, so please refer to the documentation for from_csv when changing your function calls\n",
      "  \"\"\"Entry point for launching an IPython kernel.\n"
     ]
    },
    {
     "data": {
      "text/plain": [
       "Text(0,0.5,'Compression (%)')"
      ]
     },
     "execution_count": 9,
     "metadata": {},
     "output_type": "execute_result"
    },
    {
     "data": {
      "image/png": "[encoded data removed]",
      "text/plain": [
       "<matplotlib.figure.Figure at 0x7f12f2803e80>"
      ]
     },
     "metadata": {},
     "output_type": "display_data"
    }
   ],
   "source": [
    "volume_dataframe = pd.DataFrame.from_csv('resultats_yolk.csv')\n",
    "fig = plt.figure()\n",
    "ax = fig.add_subplot(111)\n",
    "volume_dataframe = volume_dataframe.drop(volume_dataframe[volume_dataframe.compression == 0].index)\n",
    "ax.plot(volume_dataframe.index, (volume_dataframe.compression)*100, '.', color = 'black')\n",
    "\n",
    "#ax.plot(3.e-6, (1-volume_dataframe.loc[3.e-6, 'elasticity'])*100, 'o',color = 'red')\n",
    "#ax.axvline(x=3.e-6,ymin=0, ymax=0.08, linewidth=1,linestyle='--', color='red')\n",
    "#ax.axhline(y=(1-volume_dataframe.loc[3.e-6, 'elasticity'])*100, xmin=0, xmax=0.55,\n",
    "#           linewidth=1,linestyle='--', color='red')\n",
    "\n",
    "\n",
    "ax.set_xscale(\"log\")\n",
    "ax.set_xlabel('Yolk elasticity', size=12, family='serif')\n",
    "ax.set_ylabel('Compression (%)', size=12, family='serif')\n",
    "\n",
    "\n",
    "#plt.savefig('../paper/yolkElasticity.svg', dpi = 300)\n",
    "\n"
   ]
  },
  {
   "cell_type": "code",
   "execution_count": null,
   "metadata": {},
   "outputs": [],
   "source": [
    "volume_dataframe"
   ]
  },
  {
   "cell_type": "code",
   "execution_count": 7,
   "metadata": {},
   "outputs": [
    {
     "data": {
      "text/plain": [
       "{'geometry': 'cylindrical',\n",
       " 'height_axis': 'z',\n",
       " 'lumen_prefered_vol': 1655117.8783696312,\n",
       " 'lumen_vol': 855681.7453258925,\n",
       " 'lumen_vol_elasticity': 1e-11,\n",
       " 'nrj_norm_factor': 784,\n",
       " 'threshold_length': 0.1}"
      ]
     },
     "execution_count": 7,
     "metadata": {},
     "output_type": "execute_result"
    }
   ],
   "source": [
    "sheet.settings"
   ]
  },
  {
   "cell_type": "code",
   "execution_count": null,
   "metadata": {},
   "outputs": [],
   "source": []
  },
  {
   "cell_type": "code",
   "execution_count": null,
   "metadata": {},
   "outputs": [],
   "source": []
  }
 ],
 "metadata": {
  "anaconda-cloud": {},
  "kernelspec": {
   "display_name": "Python 3",
   "language": "python",
   "name": "python3"
  },
  "language_info": {
   "codemirror_mode": {
    "name": "ipython",
    "version": 3
   },
   "file_extension": ".py",
   "mimetype": "text/x-python",
   "name": "python",
   "nbconvert_exporter": "python",
   "pygments_lexer": "ipython3",
   "version": "3.6.3"
  },
  "widgets": {
   "state": {
    "8183ffe4462f409db908350a706d48c5": {
     "views": [
      {
       "cell_index": 21
      }
     ]
    }
   },
   "version": "1.2.0"
  }
 },
 "nbformat": 4,
 "nbformat_minor": 1
}
