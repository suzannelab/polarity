{
 "cells": [
  {
   "cell_type": "markdown",
   "metadata": {
    "scrolled": false
   },
   "source": [
    "## Principe\n",
    "\n",
    "Informations données par Sophie\n",
    "\n",
    "\n",
    "<img src=\"./sophie1.png\" />\n",
    "\n",
    "<img src=\"./sophie2.png\" />\n",
    "\n",
    "L'énergie de la sheet serait donc donnée par:\n",
    "\n",
    "$$E_p=\\sum_{e} -\\frac{\\epsilon_0}{2}l_e C_e^2 - \\epsilon_1 l_e C_e C_{\\hat{e}} \n",
    "-\\frac{J}{2}\\left( (C_e - C_{v1})^2 + (C_{e} -C_{v2})^2     \\right)$$\n",
    "\n",
    "où $e$ parcourt les edges, $\\hat{e}$ est le edge complémentaire de $e$, $v1,v2$ sont les vertexs voisins de e.\n",
    "\n",
    "Quote Sophie:\n",
    "\n",
    "*Le premier terme est l’auto enrichissement de la protéine sur un edge. Le second terme est l’enrichissement sur le demi edge opposé (soit sur la cellule d’en face). Le troisième terme est la diminution des protéines sur les vertex voisins.*\n",
    "\n",
    "*Il y a aussi deux contraintes : - la quantité de protéine sur un edge est toujours positive - la quantité de protéine dans une cellule est constante*\n",
    "\n",
    "**mais** dans la définition de $E_p$ ci-dessus, il n'y a que des termes négatifs (favorable au min), et pas de termes contributifs (des pénalités), donc il n'y a pas de minimum et la solution va vers une explosion de la densité de protéine...\n",
    "\n",
    "Je remets la contrainte sur la limitation de l'augmentation en prot A de Sophie (P4):\n",
    "\n",
    "$$P4 = \\lambda_c \\sum_f \\left( \\sum_{e\\, in\\, f} l_e C_e - Q_f^*\\right)^2$$\n",
    "\n",
    "où $f$ parcourt les faces (les cellules), et $Q_f^*$ est la quantité \"cible\" de protéine pour la cellule $f$."
   ]
  },
  {
   "cell_type": "markdown",
   "metadata": {},
   "source": [
    "# Program"
   ]
  },
  {
   "cell_type": "code",
   "execution_count": 1,
   "metadata": {},
   "outputs": [],
   "source": [
    "import os\n",
    "import time\n",
    "import sys\n",
    "import json\n",
    "import copy\n",
    "import math\n",
    "import numpy as np\n",
    "import ipyvolume as ipv\n",
    "import pathlib\n",
    "import pandas as pd\n",
    "import random\n",
    "from datetime import datetime\n",
    "import matplotlib.pyplot as plt\n",
    "\n",
    "import tyssue\n",
    "import tyssue.dynamics\n",
    "import tyssue.dynamics.factory\n",
    "import tyssue.stores\n",
    "import tyssue.config.geometry\n",
    "import tyssue.io\n",
    "import tyssue.draw\n",
    "import tyssue.draw.plt_draw\n",
    "from tyssue import SheetGeometry as geom\n",
    "\n",
    "import scipy\n",
    "import scipy.optimize\n",
    "from scipy.spatial.distance import squareform, pdist, cdist\n",
    "\n",
    "Verbose = False\n",
    "\n",
    "%matplotlib inline\n",
    "\n",
    "SIM_DIR = pathlib.Path('.')\n",
    "\n",
    "#from polarity.solver import find_energy_min"
   ]
  },
  {
   "cell_type": "markdown",
   "metadata": {},
   "source": [
    "## Init "
   ]
  },
  {
   "cell_type": "markdown",
   "metadata": {},
   "source": [
    "### On charge une configuration à 15 cellules\n",
    "Définit sheet, une structure contenant : des vertex, des edges, des faces.\n",
    "On est en 2D, chaque face est une cellule.\n",
    "Les frontières entre deux cellules sont données par deux \"demi-\"edges, un par cellule."
   ]
  },
  {
   "cell_type": "code",
   "execution_count": 2,
   "metadata": {},
   "outputs": [
    {
     "data": {
      "image/png": "[encoded data removed]",
      "text/plain": [
       "<matplotlib.figure.Figure at 0x7f80d98593c8>"
      ]
     },
     "metadata": {},
     "output_type": "display_data"
    }
   ],
   "source": [
    "h5store = os.path.join(tyssue.stores.stores_dir, \"15_cells_patch.hf5\")\n",
    "\n",
    "datasets = tyssue.io.hdf5.load_datasets(\n",
    "    h5store, \n",
    "    data_names=[\"face\", \"vert\", \"edge\"])\n",
    "\n",
    "specs = tyssue.config.geometry.cylindrical_sheet()\n",
    "sheet = tyssue.Sheet(\"emin\", datasets, specs)\n",
    "\n",
    "# Modify some initial value\n",
    "sheet.settings['threshold_length'] = 1e-3\n",
    "sheet.vert_df['radial_tension'] = 0.\n",
    "\n",
    "fig, ax = tyssue.draw.plt_draw.quick_edge_draw(\n",
    "    sheet, \n",
    "    coords=list('xy'))"
   ]
  },
  {
   "cell_type": "markdown",
   "metadata": {},
   "source": [
    "### On ajoute une colone prefered_N_a aux faces, indique la qté totale de protein a dans la cellule"
   ]
  },
  {
   "cell_type": "code",
   "execution_count": 3,
   "metadata": {},
   "outputs": [],
   "source": [
    "## Add column 'C_a' to face_df, which contains the total \n",
    "## quantity of protein a in the cell\n",
    "sheet.face_df['prefered_N_a'] = 1\n"
   ]
  },
  {
   "cell_type": "markdown",
   "metadata": {},
   "source": [
    "### On ajoute à chaque edge : une colonne C_a, qté de protein a sur ce edge\n",
    "La quantité de a est donnée en densité par mètre, elle est randomisée par edge, et la somme totale sur chaque cell est son 'prefered_N_a'."
   ]
  },
  {
   "cell_type": "code",
   "execution_count": 4,
   "metadata": {},
   "outputs": [],
   "source": [
    "## rand entre 0 et 0.3 sur chaque edge\n",
    "sheet.edge_df['N_a'] = np.random.uniform(low=0.05, high=0.5, size=sheet.Ne) \n",
    "## on normalise par face\n",
    "faces_N_a = sheet.sum_face(sheet.edge_df['N_a'])\n",
    "sheet.edge_df['N_a'] = (sheet.edge_df['N_a'] \n",
    "    * sheet.upcast_face(sheet.face_df['prefered_N_a']/faces_N_a['N_a']))\n",
    "## en densité => qté par longueur de edge\n",
    "sheet.edge_df['C_a'] = sheet.edge_df['N_a'] / sheet.edge_df.length\n",
    "if Verbose: \n",
    "    print(\"qté prot par cell\")## check\n",
    "    print(sheet.sum_face(sheet.edge_df['N_a'])) ## ok\n",
    "geom.update_all(sheet)"
   ]
  },
  {
   "cell_type": "code",
   "execution_count": 5,
   "metadata": {},
   "outputs": [],
   "source": [
    "if Verbose:\n",
    "    print(\"sheet.datasets.items()\")\n",
    "    print(sheet.datasets.items())"
   ]
  },
  {
   "cell_type": "markdown",
   "metadata": {},
   "source": [
    "#### Keep a copy of the initial sheet\n",
    " so that we can try several times the bloc below with no need to run each time the whole thing from the start\n",
    " \n",
    " The copy is also used to make compared graphics in the end"
   ]
  },
  {
   "cell_type": "code",
   "execution_count": 6,
   "metadata": {},
   "outputs": [],
   "source": [
    "InitialSheet = copy.deepcopy(sheet)"
   ]
  },
  {
   "cell_type": "code",
   "execution_count": null,
   "metadata": {},
   "outputs": [],
   "source": []
  },
  {
   "cell_type": "markdown",
   "metadata": {
    "scrolled": false
   },
   "source": [
    "## RUN"
   ]
  },
  {
   "cell_type": "markdown",
   "metadata": {
    "scrolled": false
   },
   "source": [
    "**Procedure 'robuste' (JG)**\n",
    "\n",
    "Le minimizeur est SLSQP avec bounds $[0..\\infty]$ sur les $C_e$, mais sans utiliser le gradient (jacobian) ni linear constraints."
   ]
  },
  {
   "cell_type": "markdown",
   "metadata": {
    "scrolled": false
   },
   "source": [
    "**codes de Sophie**\n",
    "\n",
    "le chem_energy effectivement utilisé est redéfini plus bas: *chem_energyJG*\n",
    "\n",
    "*chem_energyJG* utilise tel quel *_calculate_diff_C_neighbors* \n",
    " non analysé par JG"
   ]
  },
  {
   "cell_type": "code",
   "execution_count": null,
   "metadata": {},
   "outputs": [],
   "source": []
  },
  {
   "cell_type": "code",
   "execution_count": null,
   "metadata": {
    "scrolled": false
   },
   "outputs": [],
   "source": []
  },
  {
   "cell_type": "code",
   "execution_count": 7,
   "metadata": {},
   "outputs": [],
   "source": [
    "keepEnergy=[]\n",
    "keepP1=[]\n",
    "keepP2=[]\n",
    "keepP3=[]\n",
    "keepP4=[]\n",
    "\n",
    "def _calculate_diff_C_neighbors(sheet):\n",
    "    C1_ij = sheet.edge_df.sort_values(['face', 'trgt'])['C_a']\n",
    "    C1_jm = sheet.edge_df.sort_values(['face', 'srce'])['C_a']\n",
    "    couple1 = pd.DataFrame(\n",
    "        {'ij': C1_ij.values, 'jm': C1_jm.values}, index=C1_ij.index)\n",
    "    diff_couple1 = couple1['ij'] - couple1['jm']\n",
    "    diff_couple1.sort_index(axis='index', inplace=True)\n",
    "\n",
    "    C2_ij = sheet.edge_df.sort_values(['face', 'srce'])['C_a']\n",
    "    C2_ni = sheet.edge_df.sort_values(['face', 'trgt'])['C_a']\n",
    "    couple2 = pd.DataFrame(\n",
    "        {'ij': C2_ij.values, 'ni': C2_ni.values}, index=C2_ij.index)\n",
    "    diff_couple2 = couple2['ij'] - couple2['ni']\n",
    "    diff_couple2.sort_index(axis='index', inplace=True)\n",
    "\n",
    "    return (diff_couple1, diff_couple2)\n",
    "\n",
    "\n",
    "\n",
    "def _calculate_dist_neighbors(sheet, edge): \n",
    "    e_x = sheet.edge_df.loc[edge,'dx']\n",
    "    e_y = sheet.edge_df.loc[edge,'dy']\n",
    "    e_z = sheet.edge_df.loc[edge,'dz']\n",
    "    \n",
    "    list_edge = list(sheet.edge_df[sheet.edge_df.face == sheet.edge_df.loc[edge, 'face']].index)\n",
    "    edge_distance = {}\n",
    "    for e in list_edge:\n",
    "        if e != edge :\n",
    "            x = sheet.edge_df.loc[e,'dx']\n",
    "            y = sheet.edge_df.loc[e,'dy']\n",
    "            z = sheet.edge_df.loc[e,'dz']\n",
    "\n",
    "            d = np.sqrt((x-e_x)**2+(y-e_y)**2+(z-e_z)**2)\n",
    "            edge_distance[e]=d\n",
    "\n",
    "    return edge_distance\n",
    "    \n",
    "def inhibition(edges):\n",
    "    x = (edges['sx']-edges['tx']).values\n",
    "    y = (edges['sy']-edges['ty']).values\n",
    "    pos = np.array([[x[i], y[i]] for i in range (0, len(x))] )\n",
    "    #pos = np.array([(edges['sx']-edges['tx']).values, (edges['sy']-edges['ty']).values])\n",
    "    \n",
    "    distance_matrix=squareform(pdist(pos, metric='euclidean'))\n",
    "    \n",
    "    c = np.array([[edges.loc[i,'C_a']] for i in (edges.index)] )\n",
    "    concentration_matrix = cdist(c,c, metric='sqeuclidean')\n",
    "    \n",
    "    return (sheet.settings['J']/2*(1-distance_matrix/distance_matrix.max())*concentration_matrix).sum()\n",
    "    \n",
    "\n",
    "def chem_energy(c, sheet): \n",
    "    \n",
    "    ## def set_concentration(sheet, c):    \n",
    "    sheet.edge_df['C_a'] = c\n",
    "    sheet.edge_df['N_a'] = sheet.edge_df['C_a'] * sheet.edge_df['length']\n",
    "    \n",
    "\n",
    "    # Auto enrichissement\n",
    "    P1 = (- sheet.settings['epsilon_0'] / 2 *\n",
    "          sheet.edge_df['length'] * sheet.edge_df['C_a']**2).values\n",
    "    P1s = P1.sum()\n",
    "\n",
    "    # Enrichissment in the edge of the opposite cell\n",
    "    sheet.get_opposite()\n",
    "    P2 = (- sheet.settings['epsilon_1'] * sheet.edge_df['length'] * sheet.edge_df[\n",
    "          'C_a'] * tyssue.utils.data_at_opposite(sheet, sheet.edge_df['C_a'], 0)).values\n",
    "    P2s = P2.sum()\n",
    "\n",
    "    # Depletion on next edge\n",
    "    #diff_couple1, diff_couple2 = _calculate_diff_C_neighbors(sheet)\n",
    "    #P3 = - sheet.settings['J'] / 2 * (diff_couple1**2 + diff_couple2**2)\n",
    "    #P3s = P3.sum()\n",
    "    P3 = sheet.edge_df.groupby('face').apply(inhibition)\n",
    "\n",
    "    \"\"\"sheet.edge_df.groupby('face').apply(inhibition)\n",
    "    for e in sheet.edge_df.index:\n",
    "        e_d = _calculate_dist_neighbors(sheet, e)\n",
    "        distance_min = min(e_d.values())\n",
    "        distance_max = max(e_d.values())\n",
    "        \n",
    "        for k, v  in e_d.items():\n",
    "            if v != distance_max : \n",
    "                P3.append(sheet.settings['J']/2*sheet.edge_df.loc[k, 'C_a']**2)\"\"\"\n",
    "                \n",
    "        \n",
    "        #equation droite\n",
    "        #a = (sheet.settings['J'])/(distance_min-distance_max)\n",
    "        #b = -a*distance_max\n",
    "        #for k, v in e_d.items():\n",
    "        #      P3.append(-(a*v+b)/2 * sheet.edge_df.loc[k, 'C_a']**2 )\n",
    "    P3s = sum(P3)\n",
    "        \n",
    "    \n",
    "    # Logarithmic term\n",
    "    P4 = []\n",
    "    \n",
    "    P4 = sheet.edge_df['length']*sheet.edge_df['C_a']*np.log(sheet.edge_df['C_a']) \n",
    "    P4s = sheet.settings['Te']*sum(P4)\n",
    "\n",
    "          \n",
    "    EnergyTotale = P1s + P2s + P3s + P4s\n",
    "    \n",
    "    ## keep track\n",
    "    keepEnergy.append(EnergyTotale)\n",
    "    keepP1.append(P1.sum())\n",
    "    keepP2.append(P2.sum())\n",
    "    keepP3.append(sum(P3))\n",
    "    keepP4.append(sheet.settings['Te']*sum(P4))\n",
    "    \n",
    "    return EnergyTotale"
   ]
  },
  {
   "cell_type": "code",
   "execution_count": null,
   "metadata": {},
   "outputs": [],
   "source": []
  },
  {
   "cell_type": "markdown",
   "metadata": {
    "scrolled": false
   },
   "source": [
    "#### Minimize"
   ]
  },
  {
   "cell_type": "code",
   "execution_count": 13,
   "metadata": {
    "scrolled": false
   },
   "outputs": [
    {
     "name": "stdout",
     "output_type": "stream",
     "text": [
      "Wait...\n",
      "succes :  True\n",
      "Edges final\n",
      "[0.05712065 0.04820219 0.0559292  0.07333697 0.06572374 0.04693121\n",
      " 0.06360087 0.06796962 0.07015209 0.07629351 0.08262385 0.09156595\n",
      " 0.05830087 0.04747975 0.0478153  0.05425032 0.05469841 0.07470526\n",
      " 0.08469878 0.05405464 0.05880629 0.05880088 0.04929248 0.04503746\n",
      " 0.05789848 0.08227722 0.09814844 0.05298034 0.08141293 0.0698989\n",
      " 0.07951287 0.07144282 0.05125966 0.05183786 0.07553019 0.06736608\n",
      " 0.06336901 0.06472996 0.06335566 0.06275719 0.06217543 0.06130595\n",
      " 0.0670626  0.07059181 0.07130682 0.06780128 0.06737776 0.06686384\n",
      " 0.06413222 0.06333974 0.06353083 0.06073298 0.06749703 0.0737428\n",
      " 0.06183336 0.05870874 0.07513481 0.06748834 0.07898831 0.06903827\n",
      " 0.07369299 0.06533704 0.06205598 0.06230197 0.07841504 0.08171932\n",
      " 0.04979555 0.07393924 0.0672976  0.04707236 0.08624655 0.07383914\n",
      " 0.0521388  0.0893373  0.08075244 0.04984641 0.04969867 0.0476379\n",
      " 0.06244822 0.06935404 0.05226232 0.05163434 0.05296193 0.05171793\n",
      " 0.04878813 0.04862413 0.04954233 0.04660935 0.07485346 0.07720225]\n",
      "quantité par cell\n",
      "[1. 1. 1. 1. 1. 1. 1. 1. 1. 1. 1. 1. 1. 1. 1.]\n",
      "somme totale\n",
      "15.000000001931792\n"
     ]
    }
   ],
   "source": [
    "## Restart from the initial config\n",
    "\n",
    "#sheet = copy.deepcopy(InitialSheet)\n",
    "## initial guess\n",
    "c0 = sheet.edge_df['C_a']\n",
    "## parametres\n",
    "sheet.settings ['epsilon_0'] = 30\n",
    "sheet.settings ['epsilon_1'] = 20\n",
    "sheet.settings ['J'] =  15\n",
    "#sheet.settings ['lambda_c'] = 3\n",
    "sheet.settings ['Te'] = 7\n",
    "\n",
    "print(\"Wait...\")\n",
    "\n",
    "from scipy import optimize\n",
    "from scipy.sparse import coo_matrix\n",
    "row = sheet.edge_df['face'].values\n",
    "col = sheet.edge_df.index.values\n",
    "matrix = coo_matrix((sheet.edge_df.length.values, (row, col)),\n",
    "                        shape=(sheet.Nf, sheet.Ne)).toarray()\n",
    "linear_constraint = optimize.LinearConstraint(\n",
    "        matrix, sheet.face_df['prefered_N_a'], sheet.face_df['prefered_N_a'])\n",
    "\n",
    "res = scipy.optimize.minimize(\n",
    "        fun=chem_energy, ## fonction à minimiser\n",
    "        x0=c0, ## initial guess\n",
    "        method='SLSQP', ##method='L-BFGS-B', ## method='Nelder-Mead',\n",
    "        bounds= scipy.optimize.Bounds(np.zeros(sheet.Ne)+1.e-4, np.full((sheet.Ne), np.inf)),\n",
    "        constraints=linear_constraint,\n",
    "        tol=1e-3,\n",
    "        options={'maxiter':100},\n",
    "        args=(sheet) ## args passed to chem_energy\n",
    "        ) \n",
    "\n",
    "print(\"succes : \",res['success'])\n",
    "\n",
    "## print(res)\n",
    "DiffCas = np.array(sheet.edge_df.C_a - InitialSheet.edge_df.C_a)\n",
    "print(\"Edges final\")\n",
    "print(np.array(sheet.edge_df.C_a))\n",
    "## print(\"Diff Final-Initial\")\n",
    "## print(DiffCas)\n",
    "print(\"quantité par cell\")\n",
    "print(np.array(sheet.sum_face(sheet.edge_df['N_a'])['N_a']))\n",
    "print(\"somme totale\")\n",
    "print(sheet.sum_face(sheet.edge_df['N_a'])['N_a'].sum())"
   ]
  },
  {
   "cell_type": "markdown",
   "metadata": {},
   "source": [
    "## Results"
   ]
  },
  {
   "cell_type": "markdown",
   "metadata": {},
   "source": [
    "### Evolutions des énergies\n",
    "Les plots montrent que la descente d'énergie converge.\n",
    "\n",
    "Avec le jeu de paramètres utilisés ($J=10^{-6}$), le composant P3 contribue très peu à l'énergie."
   ]
  },
  {
   "cell_type": "raw",
   "metadata": {},
   "source": [
    "fig, axs = plt.subplots(2, 2, figsize=[10, 10])\n",
    "axs[0,0].plot(keepP1)\n",
    "axs[0,0].set_title('P1')\n",
    "axs[1,0].plot(keepP2)\n",
    "axs[1,0].set_title('P2')\n",
    "axs[0,1].plot(keepP3)\n",
    "axs[0,1].set_title('P3')\n",
    "axs[1,1].plot(keepP4)\n",
    "axs[1,1].set_title('P4')\n",
    "## fig.tight_layout()\n",
    "plt.show()\n",
    "\n",
    "plt.plot(keepEnergy)\n",
    "plt.ylabel(\"Total energy\")\n",
    "plt.xlabel(\"Iterations\")\n",
    "plt.yscale(\"symlog\")\n",
    "plt.show()"
   ]
  },
  {
   "cell_type": "markdown",
   "metadata": {},
   "source": [
    "### Evolutions des C_a sur les edges"
   ]
  },
  {
   "cell_type": "code",
   "execution_count": 10,
   "metadata": {},
   "outputs": [
    {
     "data": {
      "image/png": "[encoded data removed]",
      "text/plain": [
       "<matplotlib.figure.Figure at 0x7f80d1172198>"
      ]
     },
     "metadata": {},
     "output_type": "display_data"
    },
    {
     "data": {
      "image/png": "[encoded data removed]",
      "text/plain": [
       "<matplotlib.figure.Figure at 0x7f80d144a3c8>"
      ]
     },
     "metadata": {},
     "output_type": "display_data"
    }
   ],
   "source": [
    "sheet2 = InitialSheet.extract_bounding_box(\n",
    "    y_boundary=[-100,100], \n",
    "    x_boundary = [-200,200], \n",
    "    z_boundary=[-400,400])\n",
    "fig, ax = tyssue.draw.sheet_view(sheet2, \n",
    "            edge={'color_range': [0,0.2],'color':sheet2.edge_df.C_a, 'width':1}, \n",
    "            vert={'visible':False}, coords = ['x','y'])\n",
    "ax.set_title('Initial')\n",
    "sheet2 = sheet.extract_bounding_box(y_boundary=[-100,100], x_boundary = [-20,20], z_boundary=[-40,40])\n",
    "fig, ax = tyssue.draw.sheet_view(sheet2, \n",
    "            edge={'color_range': [0.,0.2],'color':sheet2.edge_df.C_a, 'width':1}, \n",
    "            vert={'visible':False}, coords = ['x','y'])\n",
    "ax.set_title('Final')\n",
    "plt.show()"
   ]
  },
  {
   "cell_type": "code",
   "execution_count": 14,
   "metadata": {},
   "outputs": [
    {
     "data": {
      "image/png": "[encoded data removed]",
      "text/plain": [
       "<matplotlib.figure.Figure at 0x7f80d12d2ac8>"
      ]
     },
     "metadata": {},
     "output_type": "display_data"
    },
    {
     "data": {
      "image/png": "[encoded data removed]",
      "text/plain": [
       "<matplotlib.figure.Figure at 0x7f80d12d2630>"
      ]
     },
     "metadata": {},
     "output_type": "display_data"
    }
   ],
   "source": [
    "sheet2 = InitialSheet.extract_bounding_box(\n",
    "    y_boundary=[-100,100], \n",
    "    x_boundary = [-200,200], \n",
    "    z_boundary=[-400,400])\n",
    "fig, ax = tyssue.draw.sheet_view(sheet2, \n",
    "            edge={'color':sheet2.edge_df.C_a, 'width':1}, \n",
    "            vert={'visible':False}, coords = ['x','y'])\n",
    "ax.set_title('Initial')\n",
    "sheet2 = sheet.extract_bounding_box(y_boundary=[-100,100], x_boundary = [-20,20], z_boundary=[-40,40])\n",
    "fig, ax = tyssue.draw.sheet_view(sheet2, \n",
    "            edge={'color':sheet2.edge_df.C_a, 'width':1}, \n",
    "            vert={'visible':False}, coords = ['x','y'])\n",
    "ax.set_title('Final')\n",
    "plt.show()"
   ]
  },
  {
   "cell_type": "markdown",
   "metadata": {},
   "source": [
    "### Histogramme des concentrations\n",
    "Initial : random, Final : bimodal"
   ]
  },
  {
   "cell_type": "code",
   "execution_count": 11,
   "metadata": {
    "scrolled": false
   },
   "outputs": [
    {
     "data": {
      "image/png": "[encoded data removed]",
      "text/plain": [
       "<matplotlib.figure.Figure at 0x7f80d13d2e48>"
      ]
     },
     "metadata": {},
     "output_type": "display_data"
    },
    {
     "name": "stdout",
     "output_type": "stream",
     "text": [
      "initialsheet protein quantity : 14.999999999999998\n",
      "finalsheet protein quantity : 15.000000000504368\n"
     ]
    }
   ],
   "source": [
    "n_bins=25\n",
    "fig, axs = plt.subplots(1, 2, sharey=True, figsize=[10, 5])\n",
    "axs[0].hist(InitialSheet.edge_df.C_a*InitialSheet.edge_df.length, bins=n_bins)\n",
    "axs[0].set_title('Initial')\n",
    "axs[1].hist(sheet.edge_df.C_a*sheet.edge_df.length, bins=n_bins)\n",
    "axs[1].set_title('Final')\n",
    "plt.show()\n",
    "print('initialsheet protein quantity :', InitialSheet.edge_df.N_a.sum())\n",
    "print('finalsheet protein quantity :', sheet.edge_df.N_a.sum())\n"
   ]
  },
  {
   "cell_type": "code",
   "execution_count": 12,
   "metadata": {},
   "outputs": [],
   "source": [
    "from tyssue import SheetGeometry as geom\n",
    "sheet2 = copy.deepcopy(sheet)\n",
    "sheet.vert_df.x *= 0.6\n",
    "geom.update_all(sheet)"
   ]
  },
  {
   "cell_type": "code",
   "execution_count": null,
   "metadata": {},
   "outputs": [],
   "source": []
  },
  {
   "cell_type": "code",
   "execution_count": null,
   "metadata": {},
   "outputs": [],
   "source": []
  },
  {
   "cell_type": "code",
   "execution_count": null,
   "metadata": {},
   "outputs": [],
   "source": []
  },
  {
   "cell_type": "code",
   "execution_count": null,
   "metadata": {},
   "outputs": [],
   "source": []
  },
  {
   "cell_type": "code",
   "execution_count": null,
   "metadata": {},
   "outputs": [],
   "source": []
  },
  {
   "cell_type": "code",
   "execution_count": null,
   "metadata": {},
   "outputs": [],
   "source": []
  },
  {
   "cell_type": "code",
   "execution_count": null,
   "metadata": {},
   "outputs": [],
   "source": []
  },
  {
   "cell_type": "code",
   "execution_count": null,
   "metadata": {},
   "outputs": [],
   "source": []
  },
  {
   "cell_type": "code",
   "execution_count": null,
   "metadata": {},
   "outputs": [],
   "source": [
    "\n"
   ]
  }
 ],
 "metadata": {
  "kernelspec": {
   "display_name": "Python 3",
   "language": "python",
   "name": "python3"
  },
  "language_info": {
   "codemirror_mode": {
    "name": "ipython",
    "version": 3
   },
   "file_extension": ".py",
   "mimetype": "text/x-python",
   "name": "python",
   "nbconvert_exporter": "python",
   "pygments_lexer": "ipython3",
   "version": "3.6.3"
  }
 },
 "nbformat": 4,
 "nbformat_minor": 2
}
