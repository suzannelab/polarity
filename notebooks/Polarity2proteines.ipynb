{
 "cells": [
  {
   "cell_type": "code",
   "execution_count": 1,
   "metadata": {},
   "outputs": [],
   "source": [
    "import os\n",
    "import time\n",
    "import sys\n",
    "import json\n",
    "import numpy as np\n",
    "import ipyvolume as ipv\n",
    "from pathlib import Path\n",
    "import pandas as pd\n",
    "import random\n",
    "from datetime import datetime\n",
    "\n",
    "from tyssue import Sheet, config\n",
    "from tyssue.io import hdf5\n",
    "from tyssue.generation import ellipsoid_sheet\n",
    "from tyssue.draw import sheet_view\n",
    "from tyssue.draw.ipv_draw import view_ipv\n",
    "from tyssue.draw.plt_draw import quick_edge_draw\n",
    "from tyssue.dynamics import effectors, units\n",
    "from tyssue.dynamics.sheet_gradients import height_grad\n",
    "from tyssue.dynamics.factory import model_factory\n",
    "from tyssue.solvers.sheet_vertex_solver import Solver\n",
    "from tyssue.topology.sheet_topology import remove_face\n",
    "from tyssue.utils.decorators import do_undo\n",
    "from tyssue.utils import to_nd\n",
    "from tyssue.io import hdf5\n",
    "from tyssue import SheetGeometry as geom\n",
    "\n",
    "import matplotlib.pyplot as plt\n",
    "\n",
    "%matplotlib inline\n",
    "\n",
    "SIM_DIR = Path('/home/admin-suz/Documents/Simulations/')\n",
    "\n",
    "#from polarity.solver import find_energy_min"
   ]
  },
  {
   "cell_type": "code",
   "execution_count": 2,
   "metadata": {},
   "outputs": [],
   "source": [
    "import numpy as np\n",
    "import pandas as pd\n",
    "from tyssue import config\n",
    "from scipy import optimize\n",
    "from scipy.sparse import coo_matrix\n",
    "from tyssue.utils import data_at_opposite\n",
    "\n",
    "\n",
    "def find_energy_min(sheet, geom, model, pos_idx=None, **settings_kw):\n",
    "    #coords = ['x', 'y', 'z']\n",
    "    # Loads 'tyssue/config/solvers/minimize.json\n",
    "    settings = config.solvers.minimize_spec()\n",
    "    settings.update(**settings_kw)\n",
    "\n",
    "    c0 = sheet.edge_df['C_a']\n",
    "\n",
    "    row = sheet.edge_df['face'].values\n",
    "    col = sheet.edge_df.index.values\n",
    "    matrix = coo_matrix((sheet.edge_df.length.values, (row, col)),\n",
    "                        shape=(sheet.Nf, sheet.Ne)).toarray()\n",
    "    linear_constraint = optimize.LinearConstraint(\n",
    "        matrix, sheet.face_df['prefered_N_a'], sheet.face_df['prefered_N_a'])\n",
    "\n",
    "    bounds = optimize.Bounds(np.zeros(sheet.Ne), np.full((sheet.Ne), np.inf))\n",
    "\n",
    "    res = optimize.minimize(\n",
    "        chem_energy,\n",
    "        c0,\n",
    "        args=(sheet),\n",
    "        bounds=bounds,\n",
    "        constraints=linear_constraint,\n",
    "        jac=chem_grad,\n",
    "        **settings[\"minimize\"]\n",
    "    )\n",
    "    return res\n",
    "\n",
    "\n",
    "def set_concentration(sheet, c):\n",
    "    sheet.edge_df['C_a'] = c\n",
    "\n",
    "    sheet.edge_df['N_a'] = sheet.edge_df['C_a'] * sheet.edge_df['length']\n",
    "\n",
    "\n",
    "def chem_energy(c, sheet):\n",
    "\n",
    "    set_concentration(sheet, c)\n",
    "\n",
    "    # Auto enrichissement\n",
    "    P1 = (- sheet.settings['epsilon_0'] / 2 *\n",
    "          sheet.edge_df['length'] * sheet.edge_df['C_a']**2).values\n",
    "\n",
    "    # Enrichissment in the edge of the opposite cell\n",
    "    sheet.get_opposite()\n",
    "    P2 = (- sheet.settings['epsilon_1'] * sheet.edge_df['length'] * sheet.edge_df[\n",
    "          'C_a'] * data_at_opposite(sheet, sheet.edge_df['C_a'], 0)).values\n",
    "\n",
    "    # Part 3\n",
    "    diff_couple1, diff_couple2 = _calculate_diff_C_neighbors(sheet)\n",
    "    P3 = - sheet.settings['J'] / 2 * (diff_couple1**2 + diff_couple2**2)\n",
    "\n",
    "    # Constraint on concentration\n",
    "    #P4 = (sheet.settings['lambda_c'] * (sheet.sum_face(sheet.edge_df['C_a'])['C_a'] - sheet.face_df['prefered_C_a'])**2)\n",
    "\n",
    "    return (P1 + P2 + P3).sum()\n",
    "\n",
    "\n",
    "def chem_grad(c, sheet):\n",
    "    # Part1\n",
    "    P1 = (- sheet.settings['epsilon_0'] *\n",
    "          sheet.edge_df['length'] * sheet.edge_df['C_a']).values\n",
    "\n",
    "    # Part2\n",
    "    P2 = (- sheet.settings['epsilon_1'] * sheet.edge_df['length']\n",
    "          * data_at_opposite(sheet, sheet.edge_df['C_a'], 0)).values\n",
    "\n",
    "    # Part3\n",
    "    diff_couple1, diff_couple2 = _calculate_diff_C_neighbors(sheet)\n",
    "    P3 = - sheet.settings['J'] * (diff_couple1 + diff_couple2)\n",
    "\n",
    "    #P4 = 2 * sheet.settings['lambda_c'] * (sheet.sum_face(sheet.edge_df['C_a'])['C_a'] - sheet.face_df['prefered_C_a'])\n",
    "    #P4 = sheet.upcast_face(P4)\n",
    "\n",
    "    grad = (P1 + P2 + P3)\n",
    "\n",
    "    return grad.values.ravel()\n",
    "\n",
    "\n",
    "def _calculate_diff_C_neighbors(sheet):\n",
    "    C1_ij = sheet.edge_df.sort_values(['face', 'trgt'])['C_a']\n",
    "    C1_jm = sheet.edge_df.sort_values(['face', 'srce'])['C_a']\n",
    "    couple1 = pd.DataFrame(\n",
    "        {'ij': C1_ij.values, 'jm': C1_jm.values}, index=C1_ij.index)\n",
    "    diff_couple1 = couple1['ij'] - couple1['jm']\n",
    "    diff_couple1.sort_index(axis='index', inplace=True)\n",
    "\n",
    "    C2_ij = sheet.edge_df.sort_values(['face', 'srce'])['C_a']\n",
    "    C2_ni = sheet.edge_df.sort_values(['face', 'trgt'])['C_a']\n",
    "    couple2 = pd.DataFrame(\n",
    "        {'ij': C2_ij.values, 'ni': C2_ni.values}, index=C2_ij.index)\n",
    "    diff_couple2 = couple2['ij'] - couple2['ni']\n",
    "    diff_couple2.sort_index(axis='index', inplace=True)\n",
    "\n",
    "    return (diff_couple1, diff_couple2)\n"
   ]
  },
  {
   "cell_type": "code",
   "execution_count": 3,
   "metadata": {},
   "outputs": [],
   "source": [
    "class LineTensionPolarity(effectors.AbstractEffector):\n",
    "\n",
    "    dimensions = units.line_tension\n",
    "    magnitude = \"line_tension_polarity\"\n",
    "    label = \"Line tension with polarity\"\n",
    "    element = \"edge\"\n",
    "    specs = {\"edge\": {\"is_active\", \"line_tension\", \"C_a\"}}\n",
    "\n",
    "    spatial_ref = \"mean_length\", units.length\n",
    "\n",
    "    @staticmethod\n",
    "    def energy(eptm):\n",
    "        return eptm.edge_df.eval(\n",
    "            \"line_tension\" \"* is_active\" \"* length\" \"* C_a\"\n",
    "        )  # accounts for half edges\n",
    "\n",
    "    @staticmethod\n",
    "    def gradient(eptm):\n",
    "        grad_srce = -eptm.edge_df[eptm.ucoords] * to_nd(\n",
    "            eptm.edge_df.eval(\"line_tension * is_active/2 * C_a\"), len(eptm.coords)\n",
    "        )\n",
    "        grad_srce.columns = [\"g\" + u for u in eptm.coords]\n",
    "        grad_trgt = -grad_srce\n",
    "        return grad_srce, grad_trgt"
   ]
  },
  {
   "cell_type": "code",
   "execution_count": 4,
   "metadata": {},
   "outputs": [],
   "source": [
    "EllipsoidBModel = model_factory(\n",
    "    [\n",
    "    effectors.FaceContractility,\n",
    "    effectors.FaceVolumeElasticity,\n",
    "    ], effectors.FaceAreaElasticity)\n",
    "\n",
    "model = EllipsoidBModel\n"
   ]
  },
  {
   "cell_type": "code",
   "execution_count": null,
   "metadata": {},
   "outputs": [],
   "source": []
  },
  {
   "cell_type": "code",
   "execution_count": 5,
   "metadata": {},
   "outputs": [
    {
     "data": {
      "image/png": "[encoded data removed]",
      "text/plain": [
       "<matplotlib.figure.Figure at 0x7f4c8cb701d0>"
      ]
     },
     "metadata": {},
     "output_type": "display_data"
    }
   ],
   "source": [
    "from tyssue.stores import stores_dir\n",
    "from tyssue.config.geometry import cylindrical_sheet\n",
    "\n",
    "h5store = os.path.join(stores_dir, \"15_cells_patch.hf5\")\n",
    "\n",
    "datasets = hdf5.load_datasets(h5store, data_names=[\"face\", \"vert\", \"edge\"])\n",
    "specs = cylindrical_sheet()\n",
    "sheet = Sheet(\"emin\", datasets, specs)\n",
    "\n",
    "# Modify some initial value\n",
    "sheet.settings['threshold_length'] = 1e-3\n",
    "sheet.vert_df['radial_tension'] = 0.\n",
    "\n",
    "fig, ax = quick_edge_draw(sheet, coords=list('xy'))\n",
    "sheet.get_opposite()"
   ]
  },
  {
   "cell_type": "code",
   "execution_count": 37,
   "metadata": {},
   "outputs": [],
   "source": [
    "# Add column 'C_a' to face_df, which contains the total quantity of protein a in the cell\n",
    "sheet.face_df['prefered_N_a_myosin'] = 1\n",
    "sheet.face_df['prefered_N_a_bazooka'] = 1\n",
    "\n",
    "# Add column 'C_a' to edge_df, whoch contains the quantity of protein along one edge\n",
    "sheet.edge_df['C_a_bazooka'] = 0\n",
    "sheet.edge_df['N_a_bazooka'] = 1/sheet.upcast_face('num_sides')\n",
    "sheet.edge_df['N_a_bazooka'] = np.random.uniform(0,0.3, sheet.Ne)\n",
    "\n",
    "faces_N_a = sheet.sum_face(sheet.edge_df['N_a_bazooka'])\n",
    "sheet.edge_df['N_a_bazooka'] = (sheet.edge_df['N_a_bazooka'] \n",
    "                        * sheet.upcast_face(sheet.face_df['prefered_N_a_bazooka']/faces_N_a['N_a_bazooka']))\n",
    "\n",
    "sheet.edge_df['C_a_bazooka'] = sheet.edge_df['N_a_bazooka'] / sheet.edge_df.length\n",
    "    \n",
    "   \n",
    "  \n",
    "    \n",
    "sheet.settings ['epsilon_0'] = 0.02\n",
    "sheet.settings ['epsilon_1'] = 0.4\n",
    "sheet.settings ['J'] = 1e-6\n",
    "#sheet.settings ['lambda_c'] = 1"
   ]
  },
  {
   "cell_type": "code",
   "execution_count": null,
   "metadata": {},
   "outputs": [],
   "source": [
    "\"\"\"# Add column 'C_a' to face_df, which contains the total quantity of protein a in the cell\n",
    "sheet.face_df['prefered_C_a'] = 1\n",
    "\n",
    "# Add column 'C_a' to edge_df, whoch contains the quantity of protein along one edge\n",
    "sheet.edge_df['C_a'] = 0\n",
    "for e in sheet.edge_df.index :\n",
    "    #sheet.edge_df.loc[e, 'C_a'] = 1/sheet.face_df.loc[sheet.edge_df.loc[e,'face'], 'num_sides']  \n",
    "    sheet.edge_df.loc[e, 'C_a'] = random.uniform(0,0.3)\n",
    "    \n",
    "# Sum all edges prot concentration for all faces\n",
    "faces_C_a = sheet.sum_face(sheet.edge_df['C_a'])\n",
    "sheet.edge_df['C_a'] = sheet.edge_df['C_a'] * sheet.upcast_face(sheet.face_df['prefered_C_a']) / sheet.upcast_face(faces_C_a.values)\n",
    "    \n",
    "# Need to stock the quantity of protein information in edge_df and face_df\n",
    "sheet.edge_df['N_a'] = sheet.edge_df['C_a'] * sheet.edge_df['length']\n",
    "sheet.face_df['N_a'] = sheet.face_df['prefered_C_a'] * sheet.face_df['perimeter']\n",
    "\n",
    "   \n",
    "  \n",
    "    \n",
    "sheet.settings ['epsilon_0'] = 0.02\n",
    "sheet.settings ['epsilon_1'] = 0.4\n",
    "sheet.settings ['J'] = 1e-6\n",
    "#sheet.settings ['lambda_c'] = 1\"\"\""
   ]
  },
  {
   "cell_type": "code",
   "execution_count": 38,
   "metadata": {
    "scrolled": true
   },
   "outputs": [
    {
     "data": {
      "image/png": "[encoded data removed]",
      "text/plain": [
       "<matplotlib.figure.Figure at 0x7effc276b588>"
      ]
     },
     "metadata": {},
     "output_type": "display_data"
    }
   ],
   "source": [
    "# Forme du tissu au debut\n",
    "sheet2 = sheet.extract_bounding_box(y_boundary=[-100,100], x_boundary = [-200,200], z_boundary=[-400,400])\n",
    "fig, ax = sheet_view(sheet2, edge={'color_range': [0,0.1],'color':sheet2.edge_df.C_a, 'width':1}, \n",
    "                     vert={'visible':False}, coords = ['x','y'])"
   ]
  },
  {
   "cell_type": "code",
   "execution_count": 39,
   "metadata": {},
   "outputs": [
    {
     "data": {
      "text/plain": [
       "array([0.0018559 , 0.02046145, 0.04174588, 0.02070377, 0.04943432,\n",
       "       0.09157037, 0.0161489 , 0.08757387, 0.0904103 , 0.01953197,\n",
       "       0.04847274, 0.0026015 , 0.08104812, 0.0128908 , 0.03857487,\n",
       "       0.11375533, 0.08445568, 0.04331276, 0.00409576, 0.06255657,\n",
       "       0.00164219, 0.04574113, 0.01491893, 0.00189468, 0.07684994,\n",
       "       0.09625605, 0.10627254, 0.01341019, 0.06258584, 0.08230944,\n",
       "       0.09132144, 0.11083081, 0.09279974, 0.03321682, 0.00835133,\n",
       "       0.03020867, 0.04456833, 0.10701515, 0.00925468, 0.04709981,\n",
       "       0.03275538, 0.09633996, 0.00045972, 0.01480979, 0.11847448,\n",
       "       0.00807134, 0.05668604, 0.0551988 , 0.07488164, 0.08308407,\n",
       "       0.07484319, 0.02131845, 0.0427011 , 0.08979818, 0.08459562,\n",
       "       0.07333326, 0.01638284, 0.04455632, 0.00443507, 0.00153799,\n",
       "       0.07091615, 0.097225  , 0.0527486 , 0.07664127, 0.01024164,\n",
       "       0.02318804, 0.04773405, 0.01719125, 0.01254131, 0.09141188,\n",
       "       0.01778545, 0.01279172, 0.09817576, 0.06561219, 0.03332383,\n",
       "       0.03966152, 0.03189107, 0.06645585, 0.06198094, 0.08540352,\n",
       "       0.0573096 , 0.08186986, 0.08955535, 0.10908119, 0.10617377,\n",
       "       0.09224976, 0.06917755, 0.07019696, 0.00633499, 0.08091958])"
      ]
     },
     "execution_count": 39,
     "metadata": {},
     "output_type": "execute_result"
    }
   ],
   "source": [
    "sheet.edge_df.C_a.unique()"
   ]
  },
  {
   "cell_type": "code",
   "execution_count": 41,
   "metadata": {
    "scrolled": false
   },
   "outputs": [
    {
     "name": "stdout",
     "output_type": "stream",
     "text": [
      "     fun: -1.7449459632402204\n",
      "     jac: array([-0.00000000e+00,  3.05340668e-07,  3.05340668e-07, -0.00000000e+00,\n",
      "       -0.00000000e+00, -0.00000000e+00,  3.15244363e-07, -0.00000000e+00,\n",
      "        3.15244363e-07,  3.05340668e-07, -4.20000611e-01, -4.20000611e-01,\n",
      "        3.17156470e-07,  3.17156470e-07, -0.00000000e+00, -0.00000000e+00,\n",
      "       -0.00000000e+00, -0.00000000e+00,  3.05340668e-07, -0.00000000e+00,\n",
      "       -0.00000000e+00,  3.17156470e-07,  3.17156470e-07, -0.00000000e+00,\n",
      "       -0.00000000e+00, -4.20000634e-01, -4.20000634e-01, -0.00000000e+00,\n",
      "        3.12728901e-07, -0.00000000e+00, -4.20000626e-01, -4.20000626e-01,\n",
      "        3.12728901e-07, -0.00000000e+00,  3.12728901e-07, -0.00000000e+00,\n",
      "       -4.20000631e-01, -4.20000631e-01, -0.00000000e+00, -0.00000000e+00,\n",
      "       -0.00000000e+00,  3.15244363e-07, -0.00000000e+00, -0.00000000e+00,\n",
      "       -0.00000000e+00, -0.00000000e+00, -0.00000000e+00, -0.00000000e+00,\n",
      "        3.15244363e-07, -0.00000000e+00, -0.00000000e+00,  3.34923671e-07,\n",
      "        3.34923671e-07, -0.00000000e+00, -4.20000670e-01, -4.20000670e-01,\n",
      "       -0.00000000e+00, -0.00000000e+00,  2.66948732e-07,  2.76027177e-07,\n",
      "       -4.20000552e-01, -4.20000552e-01,  3.34923671e-07,  2.76027177e-07,\n",
      "       -2.95805647e-03, -5.91591971e-02, -0.00000000e+00,  2.76027177e-07,\n",
      "       -0.00000000e+00, -0.00000000e+00,  2.64401937e-07, -0.00000000e+00,\n",
      "       -0.00000000e+00, -4.20000529e-01, -4.20000529e-01, -0.00000000e+00,\n",
      "        2.64401937e-07,  2.64401937e-07,  3.34923671e-07,  2.64401937e-07,\n",
      "        4.14042291e-08, -0.00000000e+00, -0.00000000e+00, -0.00000000e+00,\n",
      "       -0.00000000e+00, -2.31050312e-03,  3.95870774e-08,  3.12728901e-07,\n",
      "       -2.94627537e-01, -1.47317884e-02])\n",
      " message: 'Optimization terminated successfully.'\n",
      "    nfev: 7\n",
      "     nit: 7\n",
      "    njev: 7\n",
      "  status: 0\n",
      " success: True\n",
      "       x: array([0.        , 0.        , 0.        , 0.        , 0.        ,\n",
      "       0.        , 0.        , 0.        , 0.        , 0.        ,\n",
      "       0.30534067, 0.30534067, 0.        , 0.        , 0.        ,\n",
      "       0.        , 0.        , 0.        , 0.        , 0.        ,\n",
      "       0.        , 0.        , 0.        , 0.        , 0.        ,\n",
      "       0.31715647, 0.31715647, 0.        , 0.        , 0.        ,\n",
      "       0.3127289 , 0.3127289 , 0.        , 0.        , 0.        ,\n",
      "       0.        , 0.31524436, 0.31524436, 0.        , 0.        ,\n",
      "       0.        , 0.        , 0.        , 0.        , 0.        ,\n",
      "       0.        , 0.        , 0.        , 0.        , 0.        ,\n",
      "       0.        , 0.        , 0.        , 0.        , 0.33492367,\n",
      "       0.33492367, 0.        , 0.        , 0.        , 0.        ,\n",
      "       0.27602718, 0.27602718, 0.        , 0.        , 0.04140423,\n",
      "       0.        , 0.        , 0.        , 0.        , 0.        ,\n",
      "       0.        , 0.        , 0.        , 0.26440194, 0.26440194,\n",
      "       0.        , 0.        , 0.        , 0.        , 0.        ,\n",
      "       0.        , 0.        , 0.        , 0.        , 0.        ,\n",
      "       0.03958708, 0.        , 0.        , 0.        , 0.2255445 ])\n"
     ]
    }
   ],
   "source": [
    "import time \n",
    "tmps1=time.time()\n",
    "solver_kw = {'minimize': {'method': 'SLSQP',\n",
    "                          'options': {'ftol': 1e-2,\n",
    "                                     'maxiter': 20}}}\n",
    "                                      #'gtol': 1e-8}}}\n",
    "res = find_energy_min(sheet, geom, model, **solver_kw)\n",
    "print(res)\n",
    "tmps2=time.time()-tmps1\n",
    "#print (tmps2)\n"
   ]
  },
  {
   "cell_type": "code",
   "execution_count": 14,
   "metadata": {},
   "outputs": [
    {
     "data": {
      "text/plain": [
       "17030.632348060608"
      ]
     },
     "execution_count": 14,
     "metadata": {},
     "output_type": "execute_result"
    }
   ],
   "source": [
    "tmps2"
   ]
  },
  {
   "cell_type": "code",
   "execution_count": 42,
   "metadata": {},
   "outputs": [
    {
     "data": {
      "image/png": "[encoded data removed]",
      "text/plain": [
       "<matplotlib.figure.Figure at 0x7effc4766780>"
      ]
     },
     "metadata": {},
     "output_type": "display_data"
    }
   ],
   "source": [
    "sheet2 = sheet.extract_bounding_box(y_boundary=[-100,100], x_boundary = [-20,20], z_boundary=[-40,40])\n",
    "fig, ax = sheet_view(sheet2, edge={'color_range': [0,0.3],'color':sheet2.edge_df.C_a, 'width':1, 'alpha':0.4}, \n",
    "                     vert={'visible':False}, coords = ['x','y'])"
   ]
  },
  {
   "cell_type": "code",
   "execution_count": 43,
   "metadata": {
    "scrolled": false
   },
   "outputs": [
    {
     "data": {
      "image/png": "[encoded data removed]",
      "text/plain": [
       "<matplotlib.figure.Figure at 0x7effc2619ba8>"
      ]
     },
     "metadata": {},
     "output_type": "display_data"
    }
   ],
   "source": [
    "H = plt.hist (sheet.edge_df.C_a*sheet.edge_df.length)"
   ]
  },
  {
   "cell_type": "code",
   "execution_count": null,
   "metadata": {},
   "outputs": [],
   "source": [
    "sheet.vert_df.z = sheet.vert_df.z *0.7\n",
    "geom.update_all(sheet)\n"
   ]
  },
  {
   "cell_type": "code",
   "execution_count": null,
   "metadata": {},
   "outputs": [],
   "source": [
    "fig, ax = sheet_view(sheet, edge={'color_range': [0,0.3],'color':sheet.edge_df.C_a, 'width':1}, \n",
    "                     vert={'visible':False}, coords = ['z','x'])"
   ]
  },
  {
   "cell_type": "code",
   "execution_count": null,
   "metadata": {},
   "outputs": [],
   "source": [
    "import time \n",
    "tmps1=time.time()\n",
    "solver_kw = {'minimize': {'method': 'SLSQP',\n",
    "                          'options': {'ftol': 1e-8}}}\n",
    "                                      #'gtol': 1e-8}}}\n",
    "res = find_energy_min(sheet, geom, model, **solver_kw)\n",
    "print(res)\n",
    "tmps2=time.time()-tmps1\n",
    "#print (tmps2)\n"
   ]
  },
  {
   "cell_type": "code",
   "execution_count": null,
   "metadata": {},
   "outputs": [],
   "source": [
    "fig, ax = sheet_view(sheet, edge={'color_range': [0,0.3],'color':sheet.edge_df.C_a, 'width':1},\n",
    "                     vert={'visible':False}, coords = ['z','x'])"
   ]
  },
  {
   "cell_type": "code",
   "execution_count": null,
   "metadata": {},
   "outputs": [],
   "source": [
    "import time \n",
    "tmps1=time.time()\n",
    "solver_kw = {'minimize': {'method': 'SLSQP',\n",
    "                          'options': {'ftol': 1e-8}}}\n",
    "                                      #'gtol': 1e-8}}}\n",
    "res = find_energy_min(sheet, geom, model, **solver_kw)\n",
    "print(res)\n",
    "tmps2=time.time()-tmps1\n",
    "#print (tmps2)\n"
   ]
  },
  {
   "cell_type": "code",
   "execution_count": null,
   "metadata": {},
   "outputs": [],
   "source": [
    "fig, ax = sheet_view(sheet, edge={'color_range': [0,0.3],'color':sheet.edge_df.C_a, 'width':1},\n",
    "                     vert={'visible':False}, coords = ['z','x'])"
   ]
  },
  {
   "cell_type": "code",
   "execution_count": null,
   "metadata": {},
   "outputs": [],
   "source": [
    "import time \n",
    "tmps1=time.time()\n",
    "solver_kw = {'minimize': {'method': 'SLSQP',\n",
    "                          'options': {'ftol': 1e-8}}}\n",
    "                                      #'gtol': 1e-8}}}\n",
    "res = find_energy_min(sheet, geom, model, **solver_kw)\n",
    "print(res)\n",
    "tmps2=time.time()-tmps1\n",
    "#print (tmps2)\n"
   ]
  },
  {
   "cell_type": "code",
   "execution_count": null,
   "metadata": {},
   "outputs": [],
   "source": [
    "sheet2 = sheet.extract_bounding_box(y_boundary=[0,50], x_boundary = [-20,20], z_boundary=[-40,40])\n",
    "fig, ax = sheet_view(sheet2, edge={'color_range': [0,0.3],'color':sheet2.edge_df.C_a, 'width':1}, \n",
    "                     vert={'visible':False}, coords = ['z','x'])"
   ]
  },
  {
   "cell_type": "code",
   "execution_count": null,
   "metadata": {},
   "outputs": [],
   "source": []
  },
  {
   "cell_type": "code",
   "execution_count": null,
   "metadata": {},
   "outputs": [],
   "source": [
    "print(sheet.edge_df.C_a.head(10)"
   ]
  },
  {
   "cell_type": "code",
   "execution_count": null,
   "metadata": {},
   "outputs": [],
   "source": [
    "print(sheet.edge_df.C_a.min())"
   ]
  },
  {
   "cell_type": "code",
   "execution_count": null,
   "metadata": {},
   "outputs": [],
   "source": []
  },
  {
   "cell_type": "code",
   "execution_count": null,
   "metadata": {},
   "outputs": [],
   "source": []
  },
  {
   "cell_type": "code",
   "execution_count": 13,
   "metadata": {},
   "outputs": [],
   "source": [
    "sheet.get_opposite()"
   ]
  },
  {
   "cell_type": "code",
   "execution_count": 14,
   "metadata": {},
   "outputs": [
    {
     "data": {
      "text/plain": [
       "5.269632677118945"
      ]
     },
     "execution_count": 14,
     "metadata": {},
     "output_type": "execute_result"
    }
   ],
   "source": [
    "from scipy import optimize\n",
    "from polarity.solver import chem_energy, chem_grad\n",
    "\n",
    "optimize.check_grad(chem_energy, chem_grad, sheet.edge_df['C_a'], sheet)"
   ]
  },
  {
   "cell_type": "code",
   "execution_count": 15,
   "metadata": {
    "scrolled": false
   },
   "outputs": [
    {
     "data": {
      "text/plain": [
       "272"
      ]
     },
     "execution_count": 15,
     "metadata": {},
     "output_type": "execute_result"
    }
   ],
   "source": [
    "sheet.Ne"
   ]
  },
  {
   "cell_type": "code",
   "execution_count": null,
   "metadata": {},
   "outputs": [],
   "source": [
    "r = optimize.approx_fprime(sheet.edge_df['C_a'], chem_energy, 1e-6, sheet)\n",
    "r"
   ]
  },
  {
   "cell_type": "code",
   "execution_count": null,
   "metadata": {},
   "outputs": [],
   "source": []
  },
  {
   "cell_type": "code",
   "execution_count": 41,
   "metadata": {},
   "outputs": [],
   "source": [
    "faces_C_a = sheet.sum_face(sheet.edge_df['C_a'])"
   ]
  },
  {
   "cell_type": "code",
   "execution_count": 42,
   "metadata": {},
   "outputs": [
    {
     "data": {
      "text/html": [
       "<div>\n",
       "<style scoped>\n",
       "    .dataframe tbody tr th:only-of-type {\n",
       "        vertical-align: middle;\n",
       "    }\n",
       "\n",
       "    .dataframe tbody tr th {\n",
       "        vertical-align: top;\n",
       "    }\n",
       "\n",
       "    .dataframe thead th {\n",
       "        text-align: right;\n",
       "    }\n",
       "</style>\n",
       "<table border=\"1\" class=\"dataframe\">\n",
       "  <thead>\n",
       "    <tr style=\"text-align: right;\">\n",
       "      <th></th>\n",
       "      <th>C_a</th>\n",
       "    </tr>\n",
       "    <tr>\n",
       "      <th>face</th>\n",
       "      <th></th>\n",
       "    </tr>\n",
       "  </thead>\n",
       "  <tbody>\n",
       "    <tr>\n",
       "      <th>0</th>\n",
       "      <td>1.0</td>\n",
       "    </tr>\n",
       "    <tr>\n",
       "      <th>1</th>\n",
       "      <td>1.0</td>\n",
       "    </tr>\n",
       "    <tr>\n",
       "      <th>2</th>\n",
       "      <td>1.0</td>\n",
       "    </tr>\n",
       "    <tr>\n",
       "      <th>3</th>\n",
       "      <td>1.0</td>\n",
       "    </tr>\n",
       "    <tr>\n",
       "      <th>4</th>\n",
       "      <td>1.0</td>\n",
       "    </tr>\n",
       "    <tr>\n",
       "      <th>5</th>\n",
       "      <td>1.0</td>\n",
       "    </tr>\n",
       "    <tr>\n",
       "      <th>6</th>\n",
       "      <td>1.0</td>\n",
       "    </tr>\n",
       "    <tr>\n",
       "      <th>7</th>\n",
       "      <td>1.0</td>\n",
       "    </tr>\n",
       "    <tr>\n",
       "      <th>8</th>\n",
       "      <td>1.0</td>\n",
       "    </tr>\n",
       "    <tr>\n",
       "      <th>9</th>\n",
       "      <td>1.0</td>\n",
       "    </tr>\n",
       "    <tr>\n",
       "      <th>10</th>\n",
       "      <td>1.0</td>\n",
       "    </tr>\n",
       "    <tr>\n",
       "      <th>11</th>\n",
       "      <td>1.0</td>\n",
       "    </tr>\n",
       "    <tr>\n",
       "      <th>12</th>\n",
       "      <td>1.0</td>\n",
       "    </tr>\n",
       "    <tr>\n",
       "      <th>13</th>\n",
       "      <td>1.0</td>\n",
       "    </tr>\n",
       "    <tr>\n",
       "      <th>14</th>\n",
       "      <td>1.0</td>\n",
       "    </tr>\n",
       "  </tbody>\n",
       "</table>\n",
       "</div>"
      ],
      "text/plain": [
       "      C_a\n",
       "face     \n",
       "0     1.0\n",
       "1     1.0\n",
       "2     1.0\n",
       "3     1.0\n",
       "4     1.0\n",
       "5     1.0\n",
       "6     1.0\n",
       "7     1.0\n",
       "8     1.0\n",
       "9     1.0\n",
       "10    1.0\n",
       "11    1.0\n",
       "12    1.0\n",
       "13    1.0\n",
       "14    1.0"
      ]
     },
     "execution_count": 42,
     "metadata": {},
     "output_type": "execute_result"
    }
   ],
   "source": [
    "faces_C_a"
   ]
  },
  {
   "cell_type": "code",
   "execution_count": null,
   "metadata": {
    "scrolled": true
   },
   "outputs": [],
   "source": []
  },
  {
   "cell_type": "code",
   "execution_count": null,
   "metadata": {},
   "outputs": [],
   "source": []
  },
  {
   "cell_type": "code",
   "execution_count": null,
   "metadata": {
    "scrolled": false
   },
   "outputs": [],
   "source": [
    "C1_ij.head(10)"
   ]
  },
  {
   "cell_type": "code",
   "execution_count": null,
   "metadata": {
    "scrolled": true
   },
   "outputs": [],
   "source": [
    "C1_jm.head(10)"
   ]
  },
  {
   "cell_type": "code",
   "execution_count": null,
   "metadata": {
    "scrolled": true
   },
   "outputs": [],
   "source": []
  },
  {
   "cell_type": "code",
   "execution_count": null,
   "metadata": {},
   "outputs": [],
   "source": []
  },
  {
   "cell_type": "code",
   "execution_count": null,
   "metadata": {},
   "outputs": [],
   "source": []
  },
  {
   "cell_type": "code",
   "execution_count": null,
   "metadata": {},
   "outputs": [],
   "source": []
  },
  {
   "cell_type": "code",
   "execution_count": null,
   "metadata": {},
   "outputs": [],
   "source": []
  },
  {
   "cell_type": "code",
   "execution_count": null,
   "metadata": {},
   "outputs": [],
   "source": []
  }
 ],
 "metadata": {
  "kernelspec": {
   "display_name": "Python 3",
   "language": "python",
   "name": "python3"
  },
  "language_info": {
   "codemirror_mode": {
    "name": "ipython",
    "version": 3
   },
   "file_extension": ".py",
   "mimetype": "text/x-python",
   "name": "python",
   "nbconvert_exporter": "python",
   "pygments_lexer": "ipython3",
   "version": "3.6.3"
  }
 },
 "nbformat": 4,
 "nbformat_minor": 2
}
