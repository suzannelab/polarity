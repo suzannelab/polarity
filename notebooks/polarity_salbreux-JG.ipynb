{
 "cells": [
  {
   "cell_type": "code",
   "execution_count": 26,
   "metadata": {},
   "outputs": [],
   "source": [
    "import os\n",
    "import time\n",
    "import sys\n",
    "import json\n",
    "import numpy as np\n",
    "import ipyvolume as ipv\n",
    "from pathlib import Path\n",
    "import pandas as pd\n",
    "import random\n",
    "from datetime import datetime\n",
    "\n",
    "from tyssue import Sheet, config\n",
    "from tyssue.io import hdf5\n",
    "from tyssue.generation import ellipsoid_sheet\n",
    "from tyssue.draw import sheet_view\n",
    "from tyssue.draw.ipv_draw import view_ipv\n",
    "from tyssue.draw.plt_draw import quick_edge_draw\n",
    "from tyssue.dynamics import effectors, units\n",
    "from tyssue.dynamics.sheet_gradients import height_grad\n",
    "from tyssue.dynamics.factory import model_factory\n",
    "from tyssue.solvers.sheet_vertex_solver import Solver\n",
    "from tyssue.topology.sheet_topology import remove_face\n",
    "from tyssue.utils.decorators import do_undo\n",
    "from tyssue.utils import to_nd\n",
    "from tyssue.io import hdf5\n",
    "from tyssue import SheetGeometry as geom\n",
    "\n",
    "import matplotlib.pyplot as plt\n",
    "\n",
    "%matplotlib inline\n",
    "\n",
    "SIM_DIR = Path('.')\n",
    "\n",
    "#from polarity.solver import find_energy_min"
   ]
  },
  {
   "cell_type": "code",
   "execution_count": 27,
   "metadata": {},
   "outputs": [],
   "source": [
    "import numpy as np\n",
    "import pandas as pd\n",
    "from tyssue import config\n",
    "from scipy import optimize\n",
    "from scipy.sparse import coo_matrix\n",
    "from tyssue.utils import data_at_opposite\n",
    "\n",
    "\n",
    "def find_energy_min(sheet, geom, model, pos_idx=None, **settings_kw):\n",
    "    #coords = ['x', 'y', 'z']\n",
    "    # Loads 'tyssue/config/solvers/minimize.json\n",
    "    settings = config.solvers.minimize_spec()\n",
    "    settings.update(**settings_kw)\n",
    "\n",
    "    c0 = sheet.edge_df['C_a']\n",
    "\n",
    "    row = sheet.edge_df['face'].values\n",
    "    col = sheet.edge_df.index.values\n",
    "    matrix = coo_matrix((sheet.edge_df.length.values, (row, col)),\n",
    "                        shape=(sheet.Nf, sheet.Ne)).toarray()\n",
    "    linear_constraint = optimize.LinearConstraint(\n",
    "        matrix, sheet.face_df['prefered_N_a'], sheet.face_df['prefered_N_a'])\n",
    "\n",
    "    bounds = optimize.Bounds(np.zeros(sheet.Ne), np.full((sheet.Ne), np.inf))\n",
    "\n",
    "    res = optimize.minimize(\n",
    "        chem_energy,\n",
    "        c0,\n",
    "        args=(sheet),\n",
    "        bounds=bounds,\n",
    "        constraints=linear_constraint,\n",
    "        jac=chem_grad,\n",
    "        **settings[\"minimize\"]\n",
    "    )\n",
    "    return res\n",
    "\n",
    "\n",
    "def set_concentration(sheet, c):\n",
    "    sheet.edge_df['C_a'] = c\n",
    "\n",
    "    sheet.edge_df['N_a'] = sheet.edge_df['C_a'] * sheet.edge_df['length']\n",
    "\n",
    "\n",
    "def chem_energy(c, sheet):\n",
    "\n",
    "    set_concentration(sheet, c)\n",
    "\n",
    "    # Auto enrichissement\n",
    "    P1 = (- sheet.settings['epsilon_0'] / 2 *\n",
    "          sheet.edge_df['length'] * sheet.edge_df['C_a']**2).values\n",
    "\n",
    "    # Enrichissment in the edge of the opposite cell\n",
    "    sheet.get_opposite()\n",
    "    P2 = (- sheet.settings['epsilon_1'] * sheet.edge_df['length'] * sheet.edge_df[\n",
    "          'C_a'] * data_at_opposite(sheet, sheet.edge_df['C_a'], 0)).values\n",
    "\n",
    "    # Part 3\n",
    "    diff_couple1, diff_couple2 = _calculate_diff_C_neighbors(sheet)\n",
    "    P3 = - sheet.settings['J'] / 2 * (diff_couple1**2 + diff_couple2**2)\n",
    "\n",
    "    # Constraint on concentration\n",
    "    #P4 = (sheet.settings['lambda_c'] * (sheet.sum_face(sheet.edge_df['C_a'])['C_a'] - sheet.face_df['prefered_C_a'])**2)\n",
    "\n",
    "    return (P1 + P2 + P3).sum()\n",
    "\n",
    "\n",
    "def chem_grad(c, sheet):\n",
    "    # Part1\n",
    "    P1 = (- sheet.settings['epsilon_0'] *\n",
    "          sheet.edge_df['length'] * sheet.edge_df['C_a']).values\n",
    "\n",
    "    # Part2\n",
    "    P2 = (- sheet.settings['epsilon_1'] * sheet.edge_df['length']\n",
    "          * data_at_opposite(sheet, sheet.edge_df['C_a'], 0)).values\n",
    "\n",
    "    # Part3\n",
    "    diff_couple1, diff_couple2 = _calculate_diff_C_neighbors(sheet)\n",
    "    P3 = - sheet.settings['J'] * (diff_couple1 + diff_couple2)\n",
    "\n",
    "    #P4 = 2 * sheet.settings['lambda_c'] * (sheet.sum_face(sheet.edge_df['C_a'])['C_a'] - sheet.face_df['prefered_C_a'])\n",
    "    #P4 = sheet.upcast_face(P4)\n",
    "\n",
    "    grad = (P1 + P2 + P3)\n",
    "\n",
    "    return grad.values.ravel()\n",
    "\n",
    "\n",
    "def _calculate_diff_C_neighbors(sheet):\n",
    "    C1_ij = sheet.edge_df.sort_values(['face', 'trgt'])['C_a']\n",
    "    C1_jm = sheet.edge_df.sort_values(['face', 'srce'])['C_a']\n",
    "    couple1 = pd.DataFrame(\n",
    "        {'ij': C1_ij.values, 'jm': C1_jm.values}, index=C1_ij.index)\n",
    "    diff_couple1 = couple1['ij'] - couple1['jm']\n",
    "    diff_couple1.sort_index(axis='index', inplace=True)\n",
    "\n",
    "    C2_ij = sheet.edge_df.sort_values(['face', 'srce'])['C_a']\n",
    "    C2_ni = sheet.edge_df.sort_values(['face', 'trgt'])['C_a']\n",
    "    couple2 = pd.DataFrame(\n",
    "        {'ij': C2_ij.values, 'ni': C2_ni.values}, index=C2_ij.index)\n",
    "    diff_couple2 = couple2['ij'] - couple2['ni']\n",
    "    diff_couple2.sort_index(axis='index', inplace=True)\n",
    "\n",
    "    return (diff_couple1, diff_couple2)\n"
   ]
  },
  {
   "cell_type": "code",
   "execution_count": 28,
   "metadata": {},
   "outputs": [],
   "source": [
    "class LineTensionPolarity(effectors.AbstractEffector):\n",
    "\n",
    "    dimensions = units.line_tension\n",
    "    magnitude = \"line_tension_polarity\"\n",
    "    label = \"Line tension with polarity\"\n",
    "    element = \"edge\"\n",
    "    specs = {\"edge\": {\"is_active\", \"line_tension\", \"C_a\"}}\n",
    "\n",
    "    spatial_ref = \"mean_length\", units.length\n",
    "\n",
    "    @staticmethod\n",
    "    def energy(eptm):\n",
    "        return eptm.edge_df.eval(\n",
    "            \"line_tension\" \"* is_active\" \"* length\" \"* C_a\"\n",
    "        )  # accounts for half edges\n",
    "\n",
    "    @staticmethod\n",
    "    def gradient(eptm):\n",
    "        grad_srce = -eptm.edge_df[eptm.ucoords] * to_nd(\n",
    "            eptm.edge_df.eval(\"line_tension * is_active/2 * C_a\"), len(eptm.coords)\n",
    "        )\n",
    "        grad_srce.columns = [\"g\" + u for u in eptm.coords]\n",
    "        grad_trgt = -grad_srce\n",
    "        return grad_srce, grad_trgt"
   ]
  },
  {
   "cell_type": "code",
   "execution_count": 29,
   "metadata": {},
   "outputs": [],
   "source": [
    "EllipsoidBModel = model_factory(\n",
    "    [\n",
    "    effectors.FaceContractility,\n",
    "    effectors.FaceVolumeElasticity,\n",
    "    ], effectors.FaceAreaElasticity)\n",
    "\n",
    "model = EllipsoidBModel\n"
   ]
  },
  {
   "cell_type": "code",
   "execution_count": 31,
   "metadata": {},
   "outputs": [
    {
     "data": {
      "image/png": "[encoded data removed]",
      "text/plain": [
       "<Figure size 432x288 with 1 Axes>"
      ]
     },
     "metadata": {
      "needs_background": "light"
     },
     "output_type": "display_data"
    }
   ],
   "source": [
    "from tyssue.stores import stores_dir\n",
    "from tyssue.config.geometry import cylindrical_sheet\n",
    "\n",
    "h5store = os.path.join(stores_dir, \"15_cells_patch.hf5\")\n",
    "\n",
    "datasets = hdf5.load_datasets(h5store, data_names=[\"face\", \"vert\", \"edge\"])\n",
    "specs = cylindrical_sheet()\n",
    "sheet = Sheet(\"emin\", datasets, specs)\n",
    "\n",
    "# Modify some initial value\n",
    "sheet.settings['threshold_length'] = 1e-3\n",
    "sheet.vert_df['radial_tension'] = 0.\n",
    "\n",
    "fig, ax = quick_edge_draw(sheet, coords=list('xy'))\n",
    "sheet.get_opposite()"
   ]
  },
  {
   "cell_type": "code",
   "execution_count": 32,
   "metadata": {},
   "outputs": [],
   "source": [
    "# Add column 'C_a' to face_df, which contains the total quantity of protein a in the cell\n",
    "sheet.face_df['prefered_N_a'] = 1\n",
    "\n",
    "# Add column 'C_a' to edge_df, whoch contains the quantity of protein along one edge\n",
    "sheet.edge_df['C_a'] = 0\n",
    "sheet.edge_df['N_a'] = 1/sheet.upcast_face('num_sides')\n",
    "sheet.edge_df['N_a'] = np.random.uniform(0,0.3, sheet.Ne)\n",
    "\n",
    "faces_N_a = sheet.sum_face(sheet.edge_df['N_a'])\n",
    "sheet.edge_df['N_a'] = (sheet.edge_df['N_a'] \n",
    "                        * sheet.upcast_face(sheet.face_df['prefered_N_a']/faces_N_a['N_a']))\n",
    "\n",
    "sheet.edge_df['C_a'] = sheet.edge_df['N_a'] / sheet.edge_df.length\n",
    "    \n",
    "   \n",
    "  \n",
    "    \n",
    "sheet.settings ['epsilon_0'] = 0.02\n",
    "sheet.settings ['epsilon_1'] = 0.4\n",
    "sheet.settings ['J'] = 1e-6\n",
    "#sheet.settings ['lambda_c'] = 1"
   ]
  },
  {
   "cell_type": "code",
   "execution_count": null,
   "metadata": {},
   "outputs": [],
   "source": []
  },
  {
   "cell_type": "code",
   "execution_count": 33,
   "metadata": {
    "scrolled": true
   },
   "outputs": [
    {
     "data": {
      "image/png": "[encoded data removed]",
      "text/plain": [
       "<Figure size 432x288 with 1 Axes>"
      ]
     },
     "metadata": {
      "needs_background": "light"
     },
     "output_type": "display_data"
    }
   ],
   "source": [
    "# Forme du tissu au debut\n",
    "sheet2 = sheet.extract_bounding_box(y_boundary=[-100,100], x_boundary = [-200,200], z_boundary=[-400,400])\n",
    "fig, ax = sheet_view(sheet2, edge={'color_range': [0,0.1],'color':sheet2.edge_df.C_a, 'width':1}, \n",
    "                     vert={'visible':False}, coords = ['x','y'])"
   ]
  },
  {
   "cell_type": "code",
   "execution_count": 34,
   "metadata": {},
   "outputs": [
    {
     "data": {
      "text/plain": [
       "array([7.35570976e-02, 7.18395091e-02, 1.00062687e-01, 1.36807706e-02,\n",
       "       2.42622262e-03, 1.72025528e-02, 1.20285678e-02, 8.33986018e-02,\n",
       "       6.11442552e-02, 4.35194664e-02, 9.48870699e-02, 3.07236046e-02,\n",
       "       4.25764552e-02, 6.96372394e-02, 6.39321144e-02, 4.28651017e-02,\n",
       "       1.09536758e-01, 4.65247122e-02, 4.03759955e-02, 3.25376947e-04,\n",
       "       6.87460183e-04, 7.38638484e-02, 6.34164028e-02, 9.35131135e-02,\n",
       "       6.08344027e-02, 8.03990142e-02, 6.34071507e-02, 2.99621428e-02,\n",
       "       9.24061685e-02, 7.76743205e-02, 7.28210298e-02, 7.60393553e-02,\n",
       "       7.28534564e-02, 3.40702690e-02, 6.17954123e-02, 7.09811876e-02,\n",
       "       9.18012059e-02, 6.86633736e-02, 4.36671718e-02, 2.15612138e-02,\n",
       "       1.13668470e-01, 4.35373213e-02, 1.34574931e-02, 3.61914917e-02,\n",
       "       4.49862216e-02, 6.85518666e-02, 1.96758725e-02, 2.21136285e-02,\n",
       "       3.17257628e-02, 4.24234252e-02, 1.82570612e-03, 1.44206820e-02,\n",
       "       6.57973240e-02, 5.37125828e-02, 5.52522668e-02, 5.28684029e-02,\n",
       "       4.06558057e-02, 1.48051096e-05, 6.08770201e-02, 4.81231598e-02,\n",
       "       3.56468743e-02, 1.38723473e-01, 5.09223379e-02, 7.59417416e-02,\n",
       "       4.80619904e-02, 5.23158454e-02, 4.80076125e-02, 4.98812594e-02,\n",
       "       5.44119791e-02, 7.18372090e-02, 8.16359471e-02, 2.02931214e-02,\n",
       "       8.82596716e-02, 3.05329876e-02, 2.43961018e-02, 2.40270924e-02,\n",
       "       3.93077248e-02, 2.46793775e-02, 5.21095370e-02, 8.65319057e-02,\n",
       "       4.40152521e-02, 7.39086008e-02, 3.29994366e-02, 1.25281176e-01,\n",
       "       5.08743616e-02, 7.13876692e-02, 3.23924249e-02, 5.86004008e-02,\n",
       "       2.91243592e-02, 6.06960281e-02])"
      ]
     },
     "execution_count": 34,
     "metadata": {},
     "output_type": "execute_result"
    }
   ],
   "source": [
    "sheet.edge_df.C_a.unique()"
   ]
  },
  {
   "cell_type": "code",
   "execution_count": 35,
   "metadata": {
    "scrolled": false
   },
   "outputs": [
    {
     "name": "stdout",
     "output_type": "stream",
     "text": [
      "      fun: -inf\n",
      " hess_inv: <90x90 LbfgsInvHessProduct with dtype=float64>\n",
      "      jac: array([-1.66865572e+130,  4.23794703e+149,  4.23794928e+149,\n",
      "       -3.85802774e+154, -3.85802566e+154,  2.89271611e+148,\n",
      "       -2.55761194e+155, -2.55761424e+155, -2.06798757e+155,\n",
      "       -2.06798633e+155, -5.82936030e+155, -5.82935782e+155,\n",
      "        2.23455504e+149,  6.08285641e+149,  3.84829658e+149,\n",
      "       -5.12495295e+130, -4.22238859e+130, -1.63480531e+155,\n",
      "       -1.63480383e+155,  1.23968259e+149, -1.68084721e+128,\n",
      "        2.23455504e+149,  3.75260193e+149,  2.75773096e+149,\n",
      "       -1.11761294e+130, -2.95915305e+155, -2.95915293e+155,\n",
      "        2.89271574e+148, -2.26242344e+155, -2.26242322e+155,\n",
      "       -4.13843534e+155, -4.13843533e+155,  3.08144519e+149,\n",
      "       -6.49258772e+129, -2.41826794e+155, -2.41826850e+155,\n",
      "       -3.75795360e+155, -3.75795469e+155, -2.06120711e+155,\n",
      "       -2.06120522e+155, -3.93975467e+155, -3.93975249e+155,\n",
      "       -2.07806636e+155, -2.07806740e+155, -5.29458175e+155,\n",
      "       -5.29457680e+155, -3.67281196e+154, -3.67277375e+154,\n",
      "       -1.08903638e+155, -1.08903701e+155, -1.08067780e+155,\n",
      "       -1.08067804e+155, -1.63640550e+156, -1.63640490e+156,\n",
      "       -6.94874792e+154, -6.94881319e+154, -1.51508611e+155,\n",
      "       -1.51508666e+155, -1.30860534e+154, -1.30845707e+154,\n",
      "       -7.10762552e+156, -7.10765467e+156, -3.54859109e+154,\n",
      "       -3.54834094e+154, -3.01675338e+156, -3.01675158e+156,\n",
      "        2.01080666e+150, -5.76389122e+155, -5.76391694e+155,\n",
      "        4.15638670e+149, -3.84959553e+155, -3.84961396e+155,\n",
      "        2.82568662e+149, -5.68088757e+156, -5.68087945e+156,\n",
      "       -3.89458287e+131,  3.57627030e+150,  3.57627613e+150,\n",
      "       -2.00149977e+154, -2.00123865e+154,  2.01080877e+150,\n",
      "       -5.45211575e+124,  4.15640319e+149,  2.82570054e+149,\n",
      "        2.85934375e+149,  2.85934321e+149, -1.28056404e+130,\n",
      "        3.08144513e+149, -3.92190607e+155, -3.92190774e+155])\n",
      "  message: b'CONVERGENCE: REL_REDUCTION_OF_F_<=_FACTR*EPSMCH'\n",
      "     nfev: 284\n",
      "      nit: 23\n",
      "   status: 0\n",
      "  success: True\n",
      "        x: array([2.66694697e+131, 0.00000000e+000, 0.00000000e+000, 2.89271574e+154,\n",
      "       2.89271611e+154, 0.00000000e+000, 1.90763535e+155, 1.90763569e+155,\n",
      "       1.56457485e+155, 1.56457415e+155, 4.23794703e+155, 4.23794928e+155,\n",
      "       0.00000000e+000, 0.00000000e+000, 0.00000000e+000, 7.43707489e+131,\n",
      "       6.54352537e+131, 1.23968359e+155, 1.23968259e+155, 0.00000000e+000,\n",
      "       2.67347749e+129, 0.00000000e+000, 0.00000000e+000, 0.00000000e+000,\n",
      "       1.80832517e+131, 2.23455495e+155, 2.23455504e+155, 0.00000000e+000,\n",
      "       1.74365993e+155, 1.74365981e+155, 3.08144519e+155, 3.08144513e+155,\n",
      "       0.00000000e+000, 1.04826643e+131, 1.83656656e+155, 1.83656688e+155,\n",
      "       2.82064997e+155, 2.82065110e+155, 1.52560669e+155, 1.52560587e+155,\n",
      "       2.94775890e+155, 2.94775844e+155, 1.51804738e+155, 1.51804698e+155,\n",
      "       3.84830146e+155, 3.84829658e+155, 2.88619036e+154, 2.88616465e+154,\n",
      "       8.35443014e+154, 8.35443416e+154, 7.72584949e+154, 7.72583428e+154,\n",
      "       1.13125271e+156, 1.13125292e+156, 5.54123564e+154, 5.54128052e+154,\n",
      "       1.11281388e+155, 1.11281591e+155, 1.12952446e+154, 1.12942879e+154,\n",
      "       4.67119923e+156, 4.67117979e+156, 2.94277876e+154, 2.94261599e+154,\n",
      "       2.01080877e+156, 2.01080666e+156, 0.00000000e+000, 4.15638670e+155,\n",
      "       4.15640319e+155, 0.00000000e+000, 2.82568662e+155, 2.82570054e+155,\n",
      "       0.00000000e+000, 3.57627030e+156, 3.57627613e+156, 4.86199151e+132,\n",
      "       0.00000000e+000, 0.00000000e+000, 1.71242607e+154, 1.71225982e+154,\n",
      "       0.00000000e+000, 1.84039073e+126, 0.00000000e+000, 0.00000000e+000,\n",
      "       0.00000000e+000, 0.00000000e+000, 1.98158027e+131, 0.00000000e+000,\n",
      "       2.85934375e+155, 2.85934321e+155])\n"
     ]
    },
    {
     "name": "stderr",
     "output_type": "stream",
     "text": [
      "/Users/jack/anaconda3/lib/python3.7/site-packages/ipykernel_launcher.py:64: RuntimeWarning: overflow encountered in add\n"
     ]
    }
   ],
   "source": [
    "import time \n",
    "tmps1=time.time()\n",
    "#solver_kw = {'method': 'SLSQP',\n",
    "#             'options': {'ftol': 1e-2,\n",
    "#                         'maxiter': 20}} ## not accepted by SLSQP\n",
    "                                      #'gtol': 1e-8}\n",
    "solver_kw = {'method': 'SLSQP',\n",
    "             'options': {'ftol': 1e-2}}\n",
    "res = find_energy_min(sheet, geom, model, **solver_kw)\n",
    "print(res)\n",
    "tmps2=time.time()-tmps1\n",
    "#print (tmps2)\n"
   ]
  },
  {
   "cell_type": "code",
   "execution_count": 36,
   "metadata": {},
   "outputs": [
    {
     "data": {
      "text/plain": [
       "7.018709897994995"
      ]
     },
     "execution_count": 36,
     "metadata": {},
     "output_type": "execute_result"
    }
   ],
   "source": [
    "tmps2"
   ]
  },
  {
   "cell_type": "code",
   "execution_count": 37,
   "metadata": {},
   "outputs": [
    {
     "data": {
      "image/png": "[encoded data removed]",
      "text/plain": [
       "<Figure size 432x288 with 1 Axes>"
      ]
     },
     "metadata": {
      "needs_background": "light"
     },
     "output_type": "display_data"
    }
   ],
   "source": [
    "sheet2 = sheet.extract_bounding_box(y_boundary=[-100,100], x_boundary = [-20,20], z_boundary=[-40,40])\n",
    "fig, ax = sheet_view(sheet2, edge={'color_range': [0,0.3],'color':sheet2.edge_df.C_a, 'width':1, 'alpha':0.4}, \n",
    "                     vert={'visible':False}, coords = ['x','y'])"
   ]
  },
  {
   "cell_type": "code",
   "execution_count": 38,
   "metadata": {
    "scrolled": false
   },
   "outputs": [
    {
     "data": {
      "image/png": "[encoded data removed]",
      "text/plain": [
       "<Figure size 432x288 with 1 Axes>"
      ]
     },
     "metadata": {
      "needs_background": "light"
     },
     "output_type": "display_data"
    }
   ],
   "source": [
    "H = plt.hist (sheet.edge_df.C_a*sheet.edge_df.length)"
   ]
  }
 ],
 "metadata": {
  "kernelspec": {
   "display_name": "Python 3",
   "language": "python",
   "name": "python3"
  },
  "language_info": {
   "codemirror_mode": {
    "name": "ipython",
    "version": 3
   },
   "file_extension": ".py",
   "mimetype": "text/x-python",
   "name": "python",
   "nbconvert_exporter": "python",
   "pygments_lexer": "ipython3",
   "version": "3.6.3"
  }
 },
 "nbformat": 4,
 "nbformat_minor": 2
}
