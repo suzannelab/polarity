{
 "cells": [
  {
   "cell_type": "code",
   "execution_count": 8,
   "metadata": {},
   "outputs": [],
   "source": [
    "# Import \n",
    "import os\n",
    "import time\n",
    "import json\n",
    "import datetime\n",
    "import pandas as pd\n",
    "import numpy as np\n",
    "\n",
    "from pathlib import Path\n",
    "from tyssue import Sheet\n",
    "from tyssue.io import hdf5\n",
    "from tyssue.geometry.sheet_geometry import ClosedSheetGeometry as geom\n",
    "from tyssue.dynamics.sheet_gradients import height_grad\n",
    "from tyssue.dynamics import units, effectors, model_factory\n",
    "from tyssue.solvers.quasistatic import QSSolver\n",
    "\n",
    "import matplotlib.pyplot as plt\n",
    "%matplotlib inline"
   ]
  },
  {
   "cell_type": "code",
   "execution_count": 2,
   "metadata": {},
   "outputs": [],
   "source": [
    "SIM_DIR = Path('/home/admin-suz/Documents/Simulations/')\n",
    "today = datetime.date.today()\n",
    "\n",
    "sim_save_dir = SIM_DIR/f'{today.isoformat()}_YolkElasticity'\n",
    "\n",
    "try:\n",
    "    os.mkdir(sim_save_dir)\n",
    "except FileExistsError:\n",
    "    pass"
   ]
  },
  {
   "cell_type": "code",
   "execution_count": null,
   "metadata": {},
   "outputs": [],
   "source": []
  },
  {
   "cell_type": "code",
   "execution_count": 3,
   "metadata": {},
   "outputs": [],
   "source": [
    "from polarity.dynamics import RadialTension, BarrierElasticity, PerimeterElasticity\n",
    "smodel = model_factory(\n",
    "    [\n",
    "        BarrierElasticity,\n",
    "        RadialTension,\n",
    "        PerimeterElasticity,\n",
    "        effectors.FaceAreaElasticity,\n",
    "        effectors.LumenVolumeElasticity,\n",
    "    ], effectors.FaceAreaElasticity)\n",
    "\n",
    "\n",
    "model = smodel"
   ]
  },
  {
   "cell_type": "code",
   "execution_count": 9,
   "metadata": {},
   "outputs": [],
   "source": [
    "def init():\n",
    "    dsets = hdf5.load_datasets('../examples/superegg_final.hf5',\n",
    "                               data_names=['vert', 'edge', 'face'])\n",
    "\n",
    "    with open('../examples/superegg_final.json', 'r+') as fp:\n",
    "        specs = json.load(fp)\n",
    "\n",
    "    sheet = Sheet('spherical', dsets, specs)    \n",
    "    \n",
    "    sheet.settings['geometry'] = \"spherical\"\n",
    "    sheet.settings['barrier_ray'] = 100\n",
    "\n",
    "    sheet.vert_df['barrier_elasticity'] = 280.0\n",
    "    sheet.vert_df['delta_rho'] = 0\n",
    "    \n",
    "    # A définir en fonction de l'angle de la jonction\n",
    "    sheet.edge_df['weighted'] = 1.\n",
    "    sheet.edge_df['weighted_length'] = sheet.edge_df.weighted * sheet.edge_df.length\n",
    "    \n",
    "    sheet.face_df['radial_tension'] = 0.0\n",
    "    sheet.face_df['prefered_perimeter'] = 2*np.sqrt(sheet.face_df['prefered_area'])\n",
    "    sheet.face_df['perimeter_elasticity'] = 5.\n",
    "    sheet.face_df['area_elasticity'] = 1.\n",
    "    \n",
    "    sheet.settings['lumen_prefered_vol'] = 1655117.87836963126\n",
    "    \n",
    "    return sheet\n",
    "sheet=init()"
   ]
  },
  {
   "cell_type": "code",
   "execution_count": 10,
   "metadata": {},
   "outputs": [],
   "source": [
    "solver = QSSolver(with_t1=False, with_t3=False)"
   ]
  },
  {
   "cell_type": "code",
   "execution_count": 11,
   "metadata": {},
   "outputs": [
    {
     "data": {
      "text/plain": [
       "1655117.8783696312"
      ]
     },
     "execution_count": 11,
     "metadata": {},
     "output_type": "execute_result"
    }
   ],
   "source": [
    "sheet.settings['lumen_prefered_vol']"
   ]
  },
  {
   "cell_type": "markdown",
   "metadata": {},
   "source": [
    "## Test several value of yolk volume elasticity"
   ]
  },
  {
   "cell_type": "code",
   "execution_count": null,
   "metadata": {
    "scrolled": false
   },
   "outputs": [
    {
     "name": "stdout",
     "output_type": "stream",
     "text": [
      "1e-11\n",
      "1e-10\n",
      "1e-09\n",
      "1e-08\n",
      "1e-07\n",
      "1e-06\n"
     ]
    }
   ],
   "source": [
    "\n",
    "\"\"\"volume = [1.e-11, 1.e-10, 1.e-9, 5.e-9, 1.e-8, 2.e-8, 3.e-8,  4.e-8, 7.e-8, 8.e-8,\n",
    "          1.e-7,2.e-7, 3.e-7, 4.e-7, 7.e-7,8.e-7,9.e-7, 1.e-6, 3.e-6, 4.e-6, 7.e-6, 8.e-6,\n",
    "          1.e-5,2.e-5, 3.e-5, 5.e-5, 7.e-5, 1.e-4, 1.e-3, 1.e-2, 1.e-1]\n",
    "\"\"\"\n",
    "volume = [1.e-11, 1.e-10, 1.e-9, 1.e-8, 1.e-7, 1.e-6, 1.e-5, 1.e-4, 1.e-3, 1.e-2, 1.e-1]\n",
    "volume_dataframe = pd.DataFrame(columns=['compression'])\n",
    "for v in volume : \n",
    "    sheet=init()\n",
    "    print (v)\n",
    "    sheet.settings['lumen_vol_elasticity'] = v\n",
    "    \n",
    "    res = solver.find_energy_min(sheet, geom, model, options={\"gtol\": 1e-8})\n",
    "    \n",
    "    tp = (v, sheet.settings['lumen_vol']/sheet.settings['lumen_prefered_vol'])\n",
    "    volume_dataframe.loc[v, 'elasticity'] = tp[1]\n",
    "\n",
    "volume_dataframe[\"compression\"] = 100-volume_dataframe[\"elasticity\"]*100\n",
    "volume_dataframe.to_csv('resultats_yolk.csv')\n"
   ]
  },
  {
   "cell_type": "code",
   "execution_count": null,
   "metadata": {},
   "outputs": [],
   "source": [
    "volume_dataframe = pd.DataFrame.from_csv('resultats_yolk.csv')\n",
    "fig = plt.figure()\n",
    "ax = fig.add_subplot(111)\n",
    "volume_dataframe = volume_dataframe.drop(volume_dataframe[volume_dataframe.elasticity == 0].index)\n",
    "ax.plot(volume_dataframe.index, (1-volume_dataframe.elasticity)*100, '.', color = 'black')\n",
    "\n",
    "#ax.plot(3.e-6, (1-volume_dataframe.loc[3.e-6, 'elasticity'])*100, 'o',color = 'red')\n",
    "#ax.axvline(x=3.e-6,ymin=0, ymax=0.08, linewidth=1,linestyle='--', color='red')\n",
    "#ax.axhline(y=(1-volume_dataframe.loc[3.e-6, 'elasticity'])*100, xmin=0, xmax=0.55,\n",
    "#           linewidth=1,linestyle='--', color='red')\n",
    "\n",
    "\n",
    "ax.set_xscale(\"log\")\n",
    "ax.set_xlabel('Yolk elasticity', size=12, family='serif')\n",
    "ax.set_ylabel('Compression (%)', size=12, family='serif')\n",
    "#ax.vlines(3e-6, 0, 50)\n",
    "\n",
    "plt.savefig('yolkElasticity.svg', dpi = 300, transparent=True)\n",
    "plt.savefig(\"yolkElasticity.pdf\", dpi = 300, transparent=True)\n"
   ]
  },
  {
   "cell_type": "code",
   "execution_count": null,
   "metadata": {},
   "outputs": [],
   "source": []
  },
  {
   "cell_type": "code",
   "execution_count": null,
   "metadata": {},
   "outputs": [],
   "source": []
  },
  {
   "cell_type": "code",
   "execution_count": null,
   "metadata": {},
   "outputs": [],
   "source": []
  },
  {
   "cell_type": "code",
   "execution_count": null,
   "metadata": {},
   "outputs": [],
   "source": []
  },
  {
   "cell_type": "code",
   "execution_count": null,
   "metadata": {},
   "outputs": [],
   "source": []
  },
  {
   "cell_type": "code",
   "execution_count": null,
   "metadata": {},
   "outputs": [],
   "source": []
  },
  {
   "cell_type": "code",
   "execution_count": null,
   "metadata": {},
   "outputs": [],
   "source": []
  }
 ],
 "metadata": {
  "anaconda-cloud": {},
  "kernelspec": {
   "display_name": "Python 3",
   "language": "python",
   "name": "python3"
  },
  "language_info": {
   "codemirror_mode": {
    "name": "ipython",
    "version": 3
   },
   "file_extension": ".py",
   "mimetype": "text/x-python",
   "name": "python",
   "nbconvert_exporter": "python",
   "pygments_lexer": "ipython3",
   "version": "3.7.3"
  },
  "widgets": {
   "state": {
    "8183ffe4462f409db908350a706d48c5": {
     "views": [
      {
       "cell_index": 21
      }
     ]
    }
   },
   "version": "1.2.0"
  }
 },
 "nbformat": 4,
 "nbformat_minor": 1
}
