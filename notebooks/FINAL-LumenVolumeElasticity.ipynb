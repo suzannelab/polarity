{
 "cells": [
  {
   "cell_type": "code",
   "execution_count": 1,
   "metadata": {},
   "outputs": [],
   "source": [
    "# Import \n",
    "import os\n",
    "import time\n",
    "import json\n",
    "import datetime\n",
    "import pandas as pd\n",
    "\n",
    "from pathlib import Path\n",
    "from tyssue import Sheet\n",
    "from tyssue.io import hdf5\n",
    "from tyssue.geometry.sheet_geometry import ClosedSheetGeometry as geom\n",
    "from tyssue.dynamics.sheet_gradients import height_grad\n",
    "from tyssue.dynamics import units, effectors, model_factory\n",
    "from tyssue.solvers.quasistatic import QSSolver\n",
    "\n",
    "import matplotlib.pyplot as plt\n",
    "%matplotlib inline"
   ]
  },
  {
   "cell_type": "code",
   "execution_count": 2,
   "metadata": {},
   "outputs": [],
   "source": [
    "SIM_DIR = Path('/home/admin-suz/Documents/Simulations/')\n",
    "today = datetime.date.today()\n",
    "\n",
    "sim_save_dir = SIM_DIR/f'{today.isoformat()}_YolkElasticityTest'\n",
    "\n",
    "try:\n",
    "    os.mkdir(sim_save_dir)\n",
    "except FileExistsError:\n",
    "    pass"
   ]
  },
  {
   "cell_type": "code",
   "execution_count": null,
   "metadata": {},
   "outputs": [],
   "source": []
  },
  {
   "cell_type": "code",
   "execution_count": 4,
   "metadata": {},
   "outputs": [],
   "source": [
    "from polarity.dynamics import RadialTension, BarrierElasticity\n",
    "smodel = model_factory(\n",
    "    [\n",
    "        BarrierElasticity,\n",
    "        RadialTension,\n",
    "        effectors.LineTension,\n",
    "        effectors.FaceAreaElasticity,\n",
    "        effectors.LumenVolumeElasticity,\n",
    "    ], effectors.FaceAreaElasticity)\n",
    "\n",
    "\n",
    "model = smodel"
   ]
  },
  {
   "cell_type": "code",
   "execution_count": 32,
   "metadata": {},
   "outputs": [],
   "source": [
    "def init():\n",
    "    dsets = hdf5.load_datasets('../examples/superegg_final.hf5',\n",
    "                               data_names=['vert', 'edge', 'face'])\n",
    "\n",
    "    with open('../examples/superegg_final.json', 'r+') as fp:\n",
    "        specs = json.load(fp)\n",
    "\n",
    "    sheet = Sheet('spherical', dsets, specs)    \n",
    "    \n",
    "    sheet.settings['geometry'] = \"spherical\"\n",
    "    sheet.settings['barrier_ray'] = 100\n",
    "\n",
    "    sheet.vert_df['barrier_elasticity'] = 280.0\n",
    "    sheet.vert_df['delta_rho'] = 0\n",
    "    \n",
    "    sheet.face_df['radial_tension'] = 0.0\n",
    "    sheet.settings['lumen_prefered_vol'] = 1900663.555421825\n",
    "    \n",
    "    return sheet\n"
   ]
  },
  {
   "cell_type": "code",
   "execution_count": 33,
   "metadata": {},
   "outputs": [],
   "source": [
    "solver = QSSolver(with_t1=False, with_t3=False)"
   ]
  },
  {
   "cell_type": "code",
   "execution_count": 34,
   "metadata": {},
   "outputs": [
    {
     "data": {
      "text/plain": [
       "1570796.3267948967"
      ]
     },
     "execution_count": 34,
     "metadata": {},
     "output_type": "execute_result"
    }
   ],
   "source": [
    "sheet.settings['lumen_prefered_vol']"
   ]
  },
  {
   "cell_type": "markdown",
   "metadata": {},
   "source": [
    "## Test several value of yolk volume elasticity"
   ]
  },
  {
   "cell_type": "code",
   "execution_count": 35,
   "metadata": {
    "scrolled": false
   },
   "outputs": [
    {
     "name": "stdout",
     "output_type": "stream",
     "text": [
      "1e-11\n",
      "1e-10\n",
      "1e-09\n",
      "5e-09\n",
      "1e-08\n",
      "2e-08\n",
      "3e-08\n",
      "4e-08\n",
      "7e-08\n",
      "8e-08\n",
      "1e-07\n",
      "2e-07\n",
      "3e-07\n",
      "4e-07\n",
      "7e-07\n",
      "8e-07\n",
      "9e-07\n",
      "1e-06\n",
      "3e-06\n",
      "4e-06\n",
      "7e-06\n",
      "8e-06\n",
      "1e-05\n",
      "2e-05\n",
      "3e-05\n",
      "5e-05\n",
      "7e-05\n",
      "0.0001\n",
      "0.001\n",
      "0.01\n",
      "0.1\n"
     ]
    }
   ],
   "source": [
    "\n",
    "volume = [1.e-11, 1.e-10, 1.e-9, 5.e-9, 1.e-8, 2.e-8, 3.e-8,  4.e-8, 7.e-8, 8.e-8,\n",
    "          1.e-7,2.e-7, 3.e-7, 4.e-7, 7.e-7,8.e-7,9.e-7, 1.e-6, 3.e-6, 4.e-6, 7.e-6, 8.e-6,\n",
    "          1.e-5,2.e-5, 3.e-5, 5.e-5, 7.e-5, 1.e-4, 1.e-3, 1.e-2, 1.e-1]\n",
    "volume_dataframe = pd.DataFrame(columns=['compression'])\n",
    "for v in volume : \n",
    "    sheet=init()\n",
    "    print (v)\n",
    "    sheet.settings['lumen_vol_elasticity'] = v\n",
    "    \n",
    "    res = solver.find_energy_min(sheet, geom, model, options={\"gtol\": 1e-8})\n",
    "    \n",
    "    tp = (v, sheet.settings['lumen_vol']/sheet.settings['lumen_prefered_vol'])\n",
    "    volume_dataframe.loc[v, 'elasticity'] = tp[1]\n",
    "\n",
    "volume_dataframe[\"compression\"] = 100-volume_dataframe[\"elasticity\"]*100\n",
    "volume_dataframe.to_csv('resultats_yolk.csv')\n"
   ]
  },
  {
   "cell_type": "code",
   "execution_count": 24,
   "metadata": {},
   "outputs": [
    {
     "name": "stderr",
     "output_type": "stream",
     "text": [
      "/home/admin-suz/anaconda3/lib/python3.7/site-packages/ipykernel_launcher.py:1: FutureWarning: from_csv is deprecated. Please use read_csv(...) instead. Note that some of the default arguments are different, so please refer to the documentation for from_csv when changing your function calls\n",
      "  \"\"\"Entry point for launching an IPython kernel.\n"
     ]
    },
    {
     "data": {
      "image/png": "[encoded data removed]",
      "text/plain": [
       "<Figure size 432x288 with 1 Axes>"
      ]
     },
     "metadata": {
      "needs_background": "light"
     },
     "output_type": "display_data"
    }
   ],
   "source": [
    "volume_dataframe = pd.DataFrame.from_csv('resultats_yolk.csv')\n",
    "fig = plt.figure()\n",
    "ax = fig.add_subplot(111)\n",
    "volume_dataframe = volume_dataframe.drop(volume_dataframe[volume_dataframe.elasticity == 0].index)\n",
    "ax.plot(volume_dataframe.index, (1-volume_dataframe.elasticity)*100, '.', color = 'black')\n",
    "\n",
    "#ax.plot(3.e-6, (1-volume_dataframe.loc[3.e-6, 'elasticity'])*100, 'o',color = 'red')\n",
    "#ax.axvline(x=3.e-6,ymin=0, ymax=0.08, linewidth=1,linestyle='--', color='red')\n",
    "#ax.axhline(y=(1-volume_dataframe.loc[3.e-6, 'elasticity'])*100, xmin=0, xmax=0.55,\n",
    "#           linewidth=1,linestyle='--', color='red')\n",
    "\n",
    "\n",
    "ax.set_xscale(\"log\")\n",
    "ax.set_xlabel('Yolk elasticity', size=12, family='serif')\n",
    "ax.set_ylabel('Compression (%)', size=12, family='serif')\n",
    "#ax.vlines(3e-6, 0, 50)\n",
    "\n",
    "plt.savefig('yolkElasticity.svg', dpi = 300, transparent=True)\n",
    "plt.savefig(\"yolkElasticity.pdf\", dpi = 300, transparent=True)\n"
   ]
  },
  {
   "cell_type": "code",
   "execution_count": 25,
   "metadata": {},
   "outputs": [
    {
     "data": {
      "text/html": [
       "<div>\n",
       "<style scoped>\n",
       "    .dataframe tbody tr th:only-of-type {\n",
       "        vertical-align: middle;\n",
       "    }\n",
       "\n",
       "    .dataframe tbody tr th {\n",
       "        vertical-align: top;\n",
       "    }\n",
       "\n",
       "    .dataframe thead th {\n",
       "        text-align: right;\n",
       "    }\n",
       "</style>\n",
       "<table border=\"1\" class=\"dataframe\">\n",
       "  <thead>\n",
       "    <tr style=\"text-align: right;\">\n",
       "      <th></th>\n",
       "      <th>compression</th>\n",
       "      <th>elasticity</th>\n",
       "    </tr>\n",
       "  </thead>\n",
       "  <tbody>\n",
       "    <tr>\n",
       "      <th>1.000000e-11</th>\n",
       "      <td>-5.183921e+00</td>\n",
       "      <td>1.051839</td>\n",
       "    </tr>\n",
       "    <tr>\n",
       "      <th>1.000000e-10</th>\n",
       "      <td>-2.026746e-01</td>\n",
       "      <td>1.002027</td>\n",
       "    </tr>\n",
       "    <tr>\n",
       "      <th>1.000000e-09</th>\n",
       "      <td>-3.050032e-03</td>\n",
       "      <td>1.000031</td>\n",
       "    </tr>\n",
       "    <tr>\n",
       "      <th>5.000000e-09</th>\n",
       "      <td>2.213091e-04</td>\n",
       "      <td>0.999998</td>\n",
       "    </tr>\n",
       "    <tr>\n",
       "      <th>1.000000e-08</th>\n",
       "      <td>-8.109553e-04</td>\n",
       "      <td>1.000008</td>\n",
       "    </tr>\n",
       "    <tr>\n",
       "      <th>2.000000e-08</th>\n",
       "      <td>2.328686e-03</td>\n",
       "      <td>0.999977</td>\n",
       "    </tr>\n",
       "    <tr>\n",
       "      <th>3.000000e-08</th>\n",
       "      <td>1.457422e-03</td>\n",
       "      <td>0.999985</td>\n",
       "    </tr>\n",
       "    <tr>\n",
       "      <th>4.000000e-08</th>\n",
       "      <td>8.765600e-04</td>\n",
       "      <td>0.999991</td>\n",
       "    </tr>\n",
       "    <tr>\n",
       "      <th>7.000000e-08</th>\n",
       "      <td>-8.164173e-04</td>\n",
       "      <td>1.000008</td>\n",
       "    </tr>\n",
       "    <tr>\n",
       "      <th>8.000000e-08</th>\n",
       "      <td>-1.697734e-04</td>\n",
       "      <td>1.000002</td>\n",
       "    </tr>\n",
       "    <tr>\n",
       "      <th>1.000000e-07</th>\n",
       "      <td>-5.899694e-04</td>\n",
       "      <td>1.000006</td>\n",
       "    </tr>\n",
       "    <tr>\n",
       "      <th>2.000000e-07</th>\n",
       "      <td>-5.224947e-04</td>\n",
       "      <td>1.000005</td>\n",
       "    </tr>\n",
       "    <tr>\n",
       "      <th>3.000000e-07</th>\n",
       "      <td>-6.883682e-05</td>\n",
       "      <td>1.000001</td>\n",
       "    </tr>\n",
       "    <tr>\n",
       "      <th>4.000000e-07</th>\n",
       "      <td>-7.595654e-05</td>\n",
       "      <td>1.000001</td>\n",
       "    </tr>\n",
       "    <tr>\n",
       "      <th>7.000000e-07</th>\n",
       "      <td>-7.723465e-06</td>\n",
       "      <td>1.000000</td>\n",
       "    </tr>\n",
       "    <tr>\n",
       "      <th>8.000000e-07</th>\n",
       "      <td>-4.077264e-05</td>\n",
       "      <td>1.000000</td>\n",
       "    </tr>\n",
       "    <tr>\n",
       "      <th>9.000000e-07</th>\n",
       "      <td>-4.396041e-05</td>\n",
       "      <td>1.000000</td>\n",
       "    </tr>\n",
       "    <tr>\n",
       "      <th>1.000000e-06</th>\n",
       "      <td>-1.453867e-05</td>\n",
       "      <td>1.000000</td>\n",
       "    </tr>\n",
       "    <tr>\n",
       "      <th>3.000000e-06</th>\n",
       "      <td>4.771693e-07</td>\n",
       "      <td>1.000000</td>\n",
       "    </tr>\n",
       "    <tr>\n",
       "      <th>4.000000e-06</th>\n",
       "      <td>-1.155182e-05</td>\n",
       "      <td>1.000000</td>\n",
       "    </tr>\n",
       "    <tr>\n",
       "      <th>7.000000e-06</th>\n",
       "      <td>-8.573259e-07</td>\n",
       "      <td>1.000000</td>\n",
       "    </tr>\n",
       "    <tr>\n",
       "      <th>8.000000e-06</th>\n",
       "      <td>-1.873270e-06</td>\n",
       "      <td>1.000000</td>\n",
       "    </tr>\n",
       "    <tr>\n",
       "      <th>1.000000e-05</th>\n",
       "      <td>7.845975e-07</td>\n",
       "      <td>1.000000</td>\n",
       "    </tr>\n",
       "    <tr>\n",
       "      <th>2.000000e-05</th>\n",
       "      <td>-1.232445e-06</td>\n",
       "      <td>1.000000</td>\n",
       "    </tr>\n",
       "    <tr>\n",
       "      <th>3.000000e-05</th>\n",
       "      <td>1.218572e-06</td>\n",
       "      <td>1.000000</td>\n",
       "    </tr>\n",
       "    <tr>\n",
       "      <th>5.000000e-05</th>\n",
       "      <td>2.305856e-07</td>\n",
       "      <td>1.000000</td>\n",
       "    </tr>\n",
       "    <tr>\n",
       "      <th>7.000000e-05</th>\n",
       "      <td>1.805514e-07</td>\n",
       "      <td>1.000000</td>\n",
       "    </tr>\n",
       "    <tr>\n",
       "      <th>1.000000e-04</th>\n",
       "      <td>2.036620e-08</td>\n",
       "      <td>1.000000</td>\n",
       "    </tr>\n",
       "    <tr>\n",
       "      <th>1.000000e-03</th>\n",
       "      <td>3.456222e-08</td>\n",
       "      <td>1.000000</td>\n",
       "    </tr>\n",
       "    <tr>\n",
       "      <th>1.000000e-02</th>\n",
       "      <td>-3.652987e-07</td>\n",
       "      <td>1.000000</td>\n",
       "    </tr>\n",
       "    <tr>\n",
       "      <th>1.000000e-01</th>\n",
       "      <td>2.557753e-07</td>\n",
       "      <td>1.000000</td>\n",
       "    </tr>\n",
       "  </tbody>\n",
       "</table>\n",
       "</div>"
      ],
      "text/plain": [
       "               compression  elasticity\n",
       "1.000000e-11 -5.183921e+00    1.051839\n",
       "1.000000e-10 -2.026746e-01    1.002027\n",
       "1.000000e-09 -3.050032e-03    1.000031\n",
       "5.000000e-09  2.213091e-04    0.999998\n",
       "1.000000e-08 -8.109553e-04    1.000008\n",
       "2.000000e-08  2.328686e-03    0.999977\n",
       "3.000000e-08  1.457422e-03    0.999985\n",
       "4.000000e-08  8.765600e-04    0.999991\n",
       "7.000000e-08 -8.164173e-04    1.000008\n",
       "8.000000e-08 -1.697734e-04    1.000002\n",
       "1.000000e-07 -5.899694e-04    1.000006\n",
       "2.000000e-07 -5.224947e-04    1.000005\n",
       "3.000000e-07 -6.883682e-05    1.000001\n",
       "4.000000e-07 -7.595654e-05    1.000001\n",
       "7.000000e-07 -7.723465e-06    1.000000\n",
       "8.000000e-07 -4.077264e-05    1.000000\n",
       "9.000000e-07 -4.396041e-05    1.000000\n",
       "1.000000e-06 -1.453867e-05    1.000000\n",
       "3.000000e-06  4.771693e-07    1.000000\n",
       "4.000000e-06 -1.155182e-05    1.000000\n",
       "7.000000e-06 -8.573259e-07    1.000000\n",
       "8.000000e-06 -1.873270e-06    1.000000\n",
       "1.000000e-05  7.845975e-07    1.000000\n",
       "2.000000e-05 -1.232445e-06    1.000000\n",
       "3.000000e-05  1.218572e-06    1.000000\n",
       "5.000000e-05  2.305856e-07    1.000000\n",
       "7.000000e-05  1.805514e-07    1.000000\n",
       "1.000000e-04  2.036620e-08    1.000000\n",
       "1.000000e-03  3.456222e-08    1.000000\n",
       "1.000000e-02 -3.652987e-07    1.000000\n",
       "1.000000e-01  2.557753e-07    1.000000"
      ]
     },
     "execution_count": 25,
     "metadata": {},
     "output_type": "execute_result"
    }
   ],
   "source": [
    "volume_dataframe"
   ]
  },
  {
   "cell_type": "code",
   "execution_count": 7,
   "metadata": {},
   "outputs": [
    {
     "data": {
      "text/plain": [
       "{'geometry': 'cylindrical',\n",
       " 'height_axis': 'z',\n",
       " 'lumen_prefered_vol': 1655117.8783696312,\n",
       " 'lumen_vol': 855681.7453258925,\n",
       " 'lumen_vol_elasticity': 1e-11,\n",
       " 'nrj_norm_factor': 784,\n",
       " 'threshold_length': 0.1}"
      ]
     },
     "execution_count": 7,
     "metadata": {},
     "output_type": "execute_result"
    }
   ],
   "source": [
    "sheet.settings"
   ]
  },
  {
   "cell_type": "code",
   "execution_count": null,
   "metadata": {},
   "outputs": [],
   "source": []
  },
  {
   "cell_type": "code",
   "execution_count": null,
   "metadata": {},
   "outputs": [],
   "source": []
  },
  {
   "cell_type": "code",
   "execution_count": null,
   "metadata": {},
   "outputs": [],
   "source": []
  },
  {
   "cell_type": "code",
   "execution_count": null,
   "metadata": {},
   "outputs": [],
   "source": []
  },
  {
   "cell_type": "code",
   "execution_count": null,
   "metadata": {},
   "outputs": [],
   "source": []
  }
 ],
 "metadata": {
  "anaconda-cloud": {},
  "kernelspec": {
   "display_name": "Python 3",
   "language": "python",
   "name": "python3"
  },
  "language_info": {
   "codemirror_mode": {
    "name": "ipython",
    "version": 3
   },
   "file_extension": ".py",
   "mimetype": "text/x-python",
   "name": "python",
   "nbconvert_exporter": "python",
   "pygments_lexer": "ipython3",
   "version": "3.7.3"
  },
  "widgets": {
   "state": {
    "8183ffe4462f409db908350a706d48c5": {
     "views": [
      {
       "cell_index": 21
      }
     ]
    }
   },
   "version": "1.2.0"
  }
 },
 "nbformat": 4,
 "nbformat_minor": 1
}
