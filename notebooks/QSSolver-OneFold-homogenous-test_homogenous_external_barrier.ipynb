{
 "cells": [
  {
   "cell_type": "markdown",
   "metadata": {},
   "source": [
    "# Import"
   ]
  },
  {
   "cell_type": "code",
   "execution_count": 1,
   "metadata": {},
   "outputs": [],
   "source": [
    "import os\n",
    "import time\n",
    "import json\n",
    "import random\n",
    "import datetime\n",
    "import numpy as np\n",
    "import pandas as pd\n",
    "\n",
    "from IPython.display import display\n",
    "\n",
    "from pathlib import Path\n",
    "from tyssue import config\n",
    "from tyssue import Sheet\n",
    "from tyssue.io import hdf5\n",
    "from tyssue.io.hdf5 import load_datasets\n",
    "from tyssue.topology import all_rearangements\n",
    "from tyssue.core.history import HistoryHdf5\n",
    "from tyssue.dynamics import SheetModel as basemodel\n",
    "from tyssue.solvers.quasistatic import QSSolver\n",
    "from tyssue.draw import sheet_view\n",
    "from tyssue.draw.plt_draw import quick_edge_draw\n",
    "from tyssue.draw.ipv_draw import sheet_view as ipv_draw \n",
    "\n",
    "from tyssue.behaviors.event_manager import EventManager\n",
    "from tyssue.behaviors.sheet.apoptosis_events import apoptosis\n",
    "from tyssue.behaviors.sheet.basic_events import reconnect\n",
    "\n",
    "from tyssue.utils import to_nd\n",
    "\n",
    "import matplotlib.pyplot as plt\n",
    "%matplotlib inline\n",
    "\n",
    "try:\n",
    "    import seaborn as sns\n",
    "except ImportError:\n",
    "    print('Seaborn not found')\n",
    "\n",
    "import ipyvolume as ipv"
   ]
  },
  {
   "cell_type": "code",
   "execution_count": 2,
   "metadata": {},
   "outputs": [],
   "source": [
    "from polarity.dynamics import model\n",
    "from polarity.apoptosis import apoptosis, apoptosis_patterning\n",
    "from polarity.dynamics import EllipsoidLameGeometry as geom\n",
    "from polarity.toolbox import (init,\n",
    "                              define_fold_position,\n",
    "                              apoptosis_ventral,\n",
    "                              apoptosis_lateral,\n",
    "                              apoptosis_dorsal,\n",
    "                              define_polarity\n",
    "                             )\n",
    "from tyssue.dynamics import units, effectors, model_factory\n",
    "from polarity.dynamics import RadialTension, BarrierElasticity, PerimeterElasticity\n",
    "\n",
    "from polarity.delamination import delamination"
   ]
  },
  {
   "cell_type": "markdown",
   "metadata": {},
   "source": [
    "# Working directory"
   ]
  },
  {
   "cell_type": "code",
   "execution_count": 3,
   "metadata": {},
   "outputs": [],
   "source": [
    "SIM_DIR = Path('/home/admin-suz/Documents/Simulations/')\n",
    "\n",
    "today = datetime.date.today().strftime('%Y%m%d')\n",
    "sim_save_dir = SIM_DIR/f'{today}-homogenous_test_homogenous_external_barrier'\n",
    "\n",
    "try:\n",
    "    os.mkdir(sim_save_dir)\n",
    "except FileExistsError:\n",
    "    pass"
   ]
  },
  {
   "cell_type": "markdown",
   "metadata": {},
   "source": [
    "# Define solver, model and process settings"
   ]
  },
  {
   "cell_type": "code",
   "execution_count": null,
   "metadata": {},
   "outputs": [],
   "source": []
  },
  {
   "cell_type": "code",
   "execution_count": 4,
   "metadata": {},
   "outputs": [],
   "source": [
    "solver = QSSolver(with_t1=False, with_t3=False, with_collisions=False)\n",
    "\n",
    "model = model_factory(\n",
    "    [\n",
    "        BarrierElasticity,\n",
    "        RadialTension,\n",
    "        PerimeterElasticity,\n",
    "        effectors.FaceAreaElasticity,\n",
    "        effectors.LumenVolumeElasticity,\n",
    "    ], effectors.FaceAreaElasticity)"
   ]
  },
  {
   "cell_type": "code",
   "execution_count": 5,
   "metadata": {},
   "outputs": [],
   "source": [
    "apopto_pattern_kwargs = {'t':0.,\n",
    "                      'dt':1.,\n",
    "                     'time_of_last_apoptosis':30.}\n",
    "# apoptose\n",
    "apoptosis_settings = {\n",
    "        \"critical_area_pulling\":10,\n",
    "        \"critical_area\": 0.5,\n",
    "        \"contract_rate\": 1.08,\n",
    "        \"basal_contract_rate\": 1.01,\n",
    "        \"contract_neighbors\": True,\n",
    "        \"contract_span\": 3,\n",
    "        \"radial_tension\": 30.,\n",
    "        \"max_traction\": 30.,\n",
    "        \"current_traction\":0.,\n",
    "        \"geom\": geom,\n",
    "    }\n",
    "\n",
    "# pour la propagation aux voisins\n",
    "contraction_lt_kwargs = {\n",
    "    'face_id':-1,\n",
    "    'face':-1,\n",
    "    'shrink_rate':1.05,\n",
    "    'critical_area': 5.,\n",
    "    \"contraction_column\": \"line_tension\",\n",
    "    \"model\":model,\n",
    "    }\n",
    "\n",
    " # Add events to limit rosette \n",
    "rosette_kwargs={\n",
    "    'threshold_length':1e-6,\n",
    "    'p_4':0.9,\n",
    "    'p_5p':0.9}\n",
    "\n",
    "# clone perturbateur\n",
    "delaminate_settings = {\n",
    "        'radial_tension':30,\n",
    "        \"contract_rate\": 1.08,\n",
    "        \"critical_area_pulling\":15,\n",
    "        \"critical_area\": 1e-2,\n",
    "        'current_traction': 0,\n",
    "        'max_traction': 150,\n",
    "        'contract_neighbors': True,\n",
    "        'contract_span': 3,\n",
    "        'basal_contract_rate': 1.01,\n",
    "        'geom': geom,\n",
    "        'model':model}"
   ]
  },
  {
   "cell_type": "code",
   "execution_count": null,
   "metadata": {},
   "outputs": [],
   "source": []
  },
  {
   "cell_type": "code",
   "execution_count": null,
   "metadata": {},
   "outputs": [],
   "source": []
  },
  {
   "cell_type": "code",
   "execution_count": null,
   "metadata": {},
   "outputs": [],
   "source": []
  },
  {
   "cell_type": "markdown",
   "metadata": {},
   "source": [
    "# Initiate Tissue"
   ]
  },
  {
   "cell_type": "code",
   "execution_count": 6,
   "metadata": {},
   "outputs": [],
   "source": [
    "def init_tissue(barrier_ray):\n",
    "\n",
    "    sheet = init(hf5_filename='super_egg.hf5',\n",
    "             json_filename = 'superegg_final.json')\n",
    "\n",
    "    sheet.settings['geometry'] = \"spherical\"\n",
    "    sheet.settings['lumen_vol_elasticity'] = 1.e-5\n",
    "    sheet.settings['barrier_ray'] = barrier_ray\n",
    "\n",
    "    sheet.vert_df['barrier_elasticity'] = 280.0\n",
    "\n",
    "    # A définir en fonction de l'angle de la jonction\n",
    "    sheet.edge_df['weighted'] = 1.\n",
    "    sheet.edge_df['weighted_length'] = sheet.edge_df.weighted * sheet.edge_df.length\n",
    "\n",
    "    sheet.face_df['apoptosis'] = 0\n",
    "    sheet.face_df['current_traction'] = 0.0\n",
    "    sheet.face_df['radial_tension'] = 0.0\n",
    "    sheet.face_df['prefered_perimeter'] = 2.*np.sqrt(sheet.face_df['prefered_area'])\n",
    "    sheet.face_df['perimeter_elasticity'] = 10.\n",
    "    sheet.face_df['area_elasticity'] = 1.\n",
    "\n",
    "\n",
    "    sheet.settings['apopto_pattern_kwargs'] = apopto_pattern_kwargs\n",
    "    sheet.settings['apoptosis'] = apoptosis_settings\n",
    "    sheet.settings['rosette_kwargs'] = rosette_kwargs\n",
    "    sheet.settings['contraction_lt_kwargs'] = contraction_lt_kwargs\n",
    "    sheet.settings['delaminate_setting'] = delaminate_settings\n",
    "\n",
    "    geom.update_all(sheet)\n",
    "\n",
    "    define_fold_position(sheet, fold_number = 1, position=[-8, 8])\n",
    "    sheet.face_df.apoptosis = 0\n",
    "\n",
    "    l = [   5, 37,   71,   72, 95,  241,  384,  502,\n",
    "         559,  653,  696,  706,  776, 848,  958,  985, 1008, 1075,\n",
    "        1135, 1215, 1264, 1312, 1330, 1393, 1416, 1424, 1429, 1435, 1452,\n",
    "        1466, 1491, 1543, 1544, 1583]\n",
    "    for i in l :\n",
    "        sheet.face_df.loc[i, 'apoptosis']=1\n",
    "\n",
    "    define_polarity(sheet, 1., 1.)\n",
    "    print(sheet.edge_df.weighted.unique())\n",
    "    geom.normalize_weights(sheet)\n",
    "\n",
    "    res = solver.find_energy_min(sheet, geom, model, options={\"gtol\": 1e-8})\n",
    "    print(res)\n",
    "\n",
    "    return sheet "
   ]
  },
  {
   "cell_type": "code",
   "execution_count": null,
   "metadata": {},
   "outputs": [],
   "source": []
  },
  {
   "cell_type": "code",
   "execution_count": null,
   "metadata": {},
   "outputs": [],
   "source": []
  },
  {
   "cell_type": "code",
   "execution_count": null,
   "metadata": {},
   "outputs": [],
   "source": []
  },
  {
   "cell_type": "code",
   "execution_count": null,
   "metadata": {},
   "outputs": [],
   "source": []
  },
  {
   "cell_type": "code",
   "execution_count": null,
   "metadata": {},
   "outputs": [],
   "source": []
  },
  {
   "cell_type": "code",
   "execution_count": null,
   "metadata": {},
   "outputs": [],
   "source": []
  },
  {
   "cell_type": "code",
   "execution_count": null,
   "metadata": {},
   "outputs": [],
   "source": []
  },
  {
   "cell_type": "code",
   "execution_count": null,
   "metadata": {},
   "outputs": [],
   "source": []
  },
  {
   "cell_type": "code",
   "execution_count": null,
   "metadata": {},
   "outputs": [],
   "source": []
  },
  {
   "cell_type": "code",
   "execution_count": null,
   "metadata": {
    "scrolled": false
   },
   "outputs": [],
   "source": []
  },
  {
   "cell_type": "code",
   "execution_count": null,
   "metadata": {},
   "outputs": [],
   "source": []
  },
  {
   "cell_type": "code",
   "execution_count": 8,
   "metadata": {},
   "outputs": [],
   "source": [
    "def run_sim(sim_save_dir, barrier_ray, iteration=0):\n",
    "    time.sleep(np.random.rand())\n",
    "    sheet2 = init_tissue(barrier_ray)\n",
    "    # without copy, dataframe is on read only... \n",
    "    sheet = sheet2.copy()\n",
    "    \n",
    "    dirname = '{}_barrierray{}'.format(\n",
    "        barrier_ray, iteration)\n",
    "    dirname = os.path.join(sim_save_dir, dirname)\n",
    "    \n",
    "    print('starting {}'.format(dirname))\n",
    "    try:\n",
    "        os.mkdir(dirname)\n",
    "    except IOError:\n",
    "        pass\n",
    "    \n",
    "    # Add some information to the sheet and copy initial sheet\n",
    "    sheet.face_df['id'] = sheet.face_df.index.values\n",
    "\n",
    "    # Initiate history\n",
    "    history = HistoryHdf5(sheet, \n",
    "                          extra_cols={\"face\": sheet.face_df.columns,\n",
    "                                      \"edge\": list(sheet.edge_df.columns),\n",
    "                                      \"vert\": list(sheet.vert_df.columns)},\n",
    "                         hf5file=os.path.join(dirname, 'out.hf5'))\n",
    "    \n",
    "    # Initiate manager\n",
    "    manager = EventManager('face')\n",
    "    \n",
    "    # Update kwargs...\n",
    "    sheet.settings['apoptosis'].update(\n",
    "                    {\n",
    "                    'contract_rate':1.08,\n",
    "                    'radial_tension' : 50,\n",
    "                    })\n",
    "    \n",
    "    #save settings\n",
    "    pd.Series(sheet.settings).to_csv(os.path.join(dirname, 'settings.csv'))\n",
    "   \n",
    "    \n",
    "    manager.append(reconnect, **sheet.settings['rosette_kwargs'])\n",
    "    manager.append(apoptosis_patterning, **sheet.settings['apopto_pattern_kwargs'])\n",
    "\n",
    "    t = 0.\n",
    "    stop = 150.\n",
    "    # Run simulation\n",
    "    while t < stop:        \n",
    "        \n",
    "        # Reset radial tension at each time step\n",
    "        sheet.vert_df.radial_tension = 0.\n",
    "\n",
    "        manager.execute(sheet)\n",
    "        res = solver.find_energy_min(sheet, geom, model, options={\"gtol\": 1e-8})\n",
    "\n",
    "        # add noise on vertex position to avoid local minimal.\n",
    "        sheet.vert_df[\n",
    "            ['x', 'y']] += np.random.normal(scale=1e-3, size=(sheet.Nv, 2))\n",
    "        geom.update_all(sheet)\n",
    "        \n",
    "        \n",
    "        # Save result in each time step.\n",
    "        figname = os.path.join(\n",
    "            dirname, 'invagination_{:04.0f}.png'.format(t))\n",
    "        hdfname = figname[:-3] + 'hf5'        \n",
    "        hdf5.save_datasets(hdfname, sheet)\n",
    "\n",
    "        history.record(time_stamp=float(t))\n",
    "\n",
    "        manager.update()\n",
    "        t += 1.\n",
    "    \n",
    "    \n",
    "    \n",
    "    print('{} done'.format(dirname))\n",
    "    print('~~~~~~~~~~~~~~~~~~~~~\\n')"
   ]
  },
  {
   "cell_type": "code",
   "execution_count": null,
   "metadata": {},
   "outputs": [],
   "source": []
  },
  {
   "cell_type": "code",
   "execution_count": null,
   "metadata": {},
   "outputs": [],
   "source": []
  },
  {
   "cell_type": "code",
   "execution_count": null,
   "metadata": {},
   "outputs": [],
   "source": []
  },
  {
   "cell_type": "code",
   "execution_count": 9,
   "metadata": {
    "scrolled": false
   },
   "outputs": [
    {
     "name": "stdout",
     "output_type": "stream",
     "text": [
      "start : 2019-11-08 18:26:59.068270\n",
      "end : 2019-11-09 05:48:45.072800\n",
      "Duree totale d execution : \n",
      "\t\t\n",
      "11:21:46.004530\n"
     ]
    }
   ],
   "source": [
    "from joblib import Parallel, delayed\n",
    "import multiprocessing\n",
    "from datetime import datetime\n",
    "\n",
    "global_start=datetime.now()\n",
    "print (\"start : \" + str(global_start))\n",
    "num_cores = multiprocessing.cpu_count()\n",
    "#\"\"\" Initiale find minimal energy\n",
    "# To be sure we are at the equilibrium before executing simulation \n",
    "# (it will be done only once if multiprocessing...)\n",
    "#res = solver.find_energy_min(sheet, geom, model, options={\"gtol\": 1e-8})\n",
    "\n",
    "#perpen\n",
    "barrier_ray = [100., 95., 90., 85., 80., 75.]\n",
    "\n",
    "\n",
    "results = Parallel(n_jobs=2)(delayed(run_sim)(\n",
    "    sim_save_dir, br, 0) \n",
    "                 for  br in barrier_ray)\n",
    "\n",
    "global_end = datetime.now()\n",
    "print (\"end : \" + str(global_end))\n",
    "print ('Duree totale d execution : \\n\\t\\t')\n",
    "print (global_end-global_start)"
   ]
  },
  {
   "cell_type": "code",
   "execution_count": null,
   "metadata": {},
   "outputs": [],
   "source": []
  },
  {
   "cell_type": "code",
   "execution_count": 14,
   "metadata": {},
   "outputs": [],
   "source": [
    "def panel_sagittal_view(directory, t= None, ax=None):\n",
    "    print(directory)\n",
    "    if ax is None:\n",
    "        fig, ax = plt.subplots()\n",
    "    else:\n",
    "        fig = ax.get_figure()\n",
    "        \n",
    "    if t is None:\n",
    "        depths = all_depth_calculation(directory)\n",
    "        t = np.argmin(depths)\n",
    "        print('temps: ' + str(np.argmin(depths))+ '\\tdepth: '+ str(min(depths)))\n",
    "    sheet = open_sheet(directory, t)\n",
    "\n",
    "    def draw_specs(sheet):\n",
    "        specs = {\n",
    "            'face': {\n",
    "                'visible': True,\n",
    "                'color':sheet.face_df.apoptosis + sheet.face_df.fold+ sheet.face_df.is_mesoderm,\n",
    "                'colormap':'Blues',\n",
    "            },\n",
    "            'edge': {\n",
    "                'visible': True,\n",
    "                'color':'black',\n",
    "            },\n",
    "            'vert':{\n",
    "                'visible':False,\n",
    "                's':100,\n",
    "                'alpha': 0.3,\n",
    "                'zorder': 2,\n",
    "                'color': sheet.vert_df.radial_tension\n",
    "\n",
    "            }\n",
    "\n",
    "        }\n",
    "        return specs\n",
    "    \n",
    "    sheet = sheet.extract_bounding_box(y_boundary=(0,100))\n",
    "    fig, ax = sheet_view(sheet, coords=['z', 'x'], \n",
    "                         ax= ax, **draw_specs(sheet))\n",
    "    ax.grid(False)\n",
    "    ax.set_xlabel('')\n",
    "    ax.set_ylabel('')\n",
    "    ax.set_yticks([])\n",
    "    ax.set_xticks([])\n",
    "    ax.set_xticklabels([])\n",
    "    ax.set_yticklabels([])\n",
    "\n",
    "    #ax.text(1, 2, round(r, 3), horizontalalignment='center',\n",
    "    #        verticalalignment='center')"
   ]
  },
  {
   "cell_type": "code",
   "execution_count": 15,
   "metadata": {
    "scrolled": false
   },
   "outputs": [
    {
     "name": "stdout",
     "output_type": "stream",
     "text": [
      "/home/admin-suz/Documents/Simulations/20191108-homogenous_test_homogenous_external_barrier/100.0_barrierray0\n",
      "temps: 65\tdepth: 0.8529234080021473\n"
     ]
    },
    {
     "ename": "AttributeError",
     "evalue": "'DataFrame' object has no attribute 'is_mesoderm'",
     "output_type": "error",
     "traceback": [
      "\u001b[0;31m---------------------------------------------------------------------------\u001b[0m",
      "\u001b[0;31mAttributeError\u001b[0m                            Traceback (most recent call last)",
      "\u001b[0;32m<ipython-input-15-082994d116d9>\u001b[0m in \u001b[0;36m<module>\u001b[0;34m\u001b[0m\n\u001b[1;32m     27\u001b[0m \u001b[0;34m\u001b[0m\u001b[0m\n\u001b[1;32m     28\u001b[0m \u001b[0;34m\u001b[0m\u001b[0m\n\u001b[0;32m---> 29\u001b[0;31m \u001b[0mpanel_sagittal_view\u001b[0m\u001b[0;34m(\u001b[0m\u001b[0mdirname\u001b[0m\u001b[0;34m/\u001b[0m\u001b[0;34m'100.0_barrierray0/'\u001b[0m\u001b[0;34m,\u001b[0m \u001b[0max\u001b[0m\u001b[0;34m=\u001b[0m\u001b[0maxes_0_0\u001b[0m\u001b[0;34m)\u001b[0m\u001b[0;34m\u001b[0m\u001b[0;34m\u001b[0m\u001b[0m\n\u001b[0m\u001b[1;32m     30\u001b[0m \u001b[0mpanel_sagittal_view\u001b[0m\u001b[0;34m(\u001b[0m\u001b[0mdirname\u001b[0m\u001b[0;34m/\u001b[0m\u001b[0;34m'95.0_barrierray0/'\u001b[0m\u001b[0;34m,\u001b[0m \u001b[0max\u001b[0m\u001b[0;34m=\u001b[0m\u001b[0maxes_0_1\u001b[0m\u001b[0;34m)\u001b[0m\u001b[0;34m\u001b[0m\u001b[0;34m\u001b[0m\u001b[0m\n\u001b[1;32m     31\u001b[0m \u001b[0mpanel_sagittal_view\u001b[0m\u001b[0;34m(\u001b[0m\u001b[0mdirname\u001b[0m\u001b[0;34m/\u001b[0m\u001b[0;34m'90.0_barrierray0/'\u001b[0m\u001b[0;34m,\u001b[0m \u001b[0max\u001b[0m\u001b[0;34m=\u001b[0m\u001b[0maxes_0_2\u001b[0m\u001b[0;34m)\u001b[0m\u001b[0;34m\u001b[0m\u001b[0;34m\u001b[0m\u001b[0m\n",
      "\u001b[0;32m<ipython-input-14-cbf9f6df1019>\u001b[0m in \u001b[0;36mpanel_sagittal_view\u001b[0;34m(directory, t, ax)\u001b[0m\n\u001b[1;32m     37\u001b[0m     \u001b[0msheet\u001b[0m \u001b[0;34m=\u001b[0m \u001b[0msheet\u001b[0m\u001b[0;34m.\u001b[0m\u001b[0mextract_bounding_box\u001b[0m\u001b[0;34m(\u001b[0m\u001b[0my_boundary\u001b[0m\u001b[0;34m=\u001b[0m\u001b[0;34m(\u001b[0m\u001b[0;36m0\u001b[0m\u001b[0;34m,\u001b[0m\u001b[0;36m100\u001b[0m\u001b[0;34m)\u001b[0m\u001b[0;34m)\u001b[0m\u001b[0;34m\u001b[0m\u001b[0;34m\u001b[0m\u001b[0m\n\u001b[1;32m     38\u001b[0m     fig, ax = sheet_view(sheet, coords=['z', 'x'], \n\u001b[0;32m---> 39\u001b[0;31m                          ax= ax, **draw_specs(sheet))\n\u001b[0m\u001b[1;32m     40\u001b[0m     \u001b[0max\u001b[0m\u001b[0;34m.\u001b[0m\u001b[0mgrid\u001b[0m\u001b[0;34m(\u001b[0m\u001b[0;32mFalse\u001b[0m\u001b[0;34m)\u001b[0m\u001b[0;34m\u001b[0m\u001b[0;34m\u001b[0m\u001b[0m\n\u001b[1;32m     41\u001b[0m     \u001b[0max\u001b[0m\u001b[0;34m.\u001b[0m\u001b[0mset_xlabel\u001b[0m\u001b[0;34m(\u001b[0m\u001b[0;34m''\u001b[0m\u001b[0;34m)\u001b[0m\u001b[0;34m\u001b[0m\u001b[0;34m\u001b[0m\u001b[0m\n",
      "\u001b[0;32m<ipython-input-14-cbf9f6df1019>\u001b[0m in \u001b[0;36mdraw_specs\u001b[0;34m(sheet)\u001b[0m\n\u001b[1;32m     16\u001b[0m             'face': {\n\u001b[1;32m     17\u001b[0m                 \u001b[0;34m'visible'\u001b[0m\u001b[0;34m:\u001b[0m \u001b[0;32mTrue\u001b[0m\u001b[0;34m,\u001b[0m\u001b[0;34m\u001b[0m\u001b[0;34m\u001b[0m\u001b[0m\n\u001b[0;32m---> 18\u001b[0;31m                 \u001b[0;34m'color'\u001b[0m\u001b[0;34m:\u001b[0m\u001b[0msheet\u001b[0m\u001b[0;34m.\u001b[0m\u001b[0mface_df\u001b[0m\u001b[0;34m.\u001b[0m\u001b[0mapoptosis\u001b[0m \u001b[0;34m+\u001b[0m \u001b[0msheet\u001b[0m\u001b[0;34m.\u001b[0m\u001b[0mface_df\u001b[0m\u001b[0;34m.\u001b[0m\u001b[0mfold\u001b[0m\u001b[0;34m+\u001b[0m \u001b[0msheet\u001b[0m\u001b[0;34m.\u001b[0m\u001b[0mface_df\u001b[0m\u001b[0;34m.\u001b[0m\u001b[0mis_mesoderm\u001b[0m\u001b[0;34m,\u001b[0m\u001b[0;34m\u001b[0m\u001b[0;34m\u001b[0m\u001b[0m\n\u001b[0m\u001b[1;32m     19\u001b[0m                 \u001b[0;34m'colormap'\u001b[0m\u001b[0;34m:\u001b[0m\u001b[0;34m'Blues'\u001b[0m\u001b[0;34m,\u001b[0m\u001b[0;34m\u001b[0m\u001b[0;34m\u001b[0m\u001b[0m\n\u001b[1;32m     20\u001b[0m             },\n",
      "\u001b[0;32m~/anaconda3/lib/python3.7/site-packages/pandas/core/generic.py\u001b[0m in \u001b[0;36m__getattr__\u001b[0;34m(self, name)\u001b[0m\n\u001b[1;32m   5065\u001b[0m             \u001b[0;32mif\u001b[0m \u001b[0mself\u001b[0m\u001b[0;34m.\u001b[0m\u001b[0m_info_axis\u001b[0m\u001b[0;34m.\u001b[0m\u001b[0m_can_hold_identifiers_and_holds_name\u001b[0m\u001b[0;34m(\u001b[0m\u001b[0mname\u001b[0m\u001b[0;34m)\u001b[0m\u001b[0;34m:\u001b[0m\u001b[0;34m\u001b[0m\u001b[0;34m\u001b[0m\u001b[0m\n\u001b[1;32m   5066\u001b[0m                 \u001b[0;32mreturn\u001b[0m \u001b[0mself\u001b[0m\u001b[0;34m[\u001b[0m\u001b[0mname\u001b[0m\u001b[0;34m]\u001b[0m\u001b[0;34m\u001b[0m\u001b[0;34m\u001b[0m\u001b[0m\n\u001b[0;32m-> 5067\u001b[0;31m             \u001b[0;32mreturn\u001b[0m \u001b[0mobject\u001b[0m\u001b[0;34m.\u001b[0m\u001b[0m__getattribute__\u001b[0m\u001b[0;34m(\u001b[0m\u001b[0mself\u001b[0m\u001b[0;34m,\u001b[0m \u001b[0mname\u001b[0m\u001b[0;34m)\u001b[0m\u001b[0;34m\u001b[0m\u001b[0;34m\u001b[0m\u001b[0m\n\u001b[0m\u001b[1;32m   5068\u001b[0m \u001b[0;34m\u001b[0m\u001b[0m\n\u001b[1;32m   5069\u001b[0m     \u001b[0;32mdef\u001b[0m \u001b[0m__setattr__\u001b[0m\u001b[0;34m(\u001b[0m\u001b[0mself\u001b[0m\u001b[0;34m,\u001b[0m \u001b[0mname\u001b[0m\u001b[0;34m,\u001b[0m \u001b[0mvalue\u001b[0m\u001b[0;34m)\u001b[0m\u001b[0;34m:\u001b[0m\u001b[0;34m\u001b[0m\u001b[0;34m\u001b[0m\u001b[0m\n",
      "\u001b[0;31mAttributeError\u001b[0m: 'DataFrame' object has no attribute 'is_mesoderm'"
     ]
    },
    {
     "data": {
      "image/png": "[encoded data removed]",
      "text/plain": [
       "<Figure size 1800x1440 with 6 Axes>"
      ]
     },
     "metadata": {
      "needs_background": "light"
     },
     "output_type": "display_data"
    }
   ],
   "source": [
    "\n",
    "dirname = sim_save_dir\n",
    "list_dir = os.listdir(sim_save_dir)\n",
    "import matplotlib\n",
    "import matplotlib.gridspec as gridspec\n",
    "from polarity.toolbox import open_sheet,depth_calculation, all_depth_calculation\n",
    "\n",
    "\n",
    "matplotlib.rc('axes', edgecolor='white')\n",
    "\n",
    "result_dataframe = pd.DataFrame(index = list_dir, columns = ('time', 'depth', 'Fab/Fc'))\n",
    "\n",
    "\n",
    "\n",
    "\n",
    "fig = plt.figure(figsize=(25, 20))\n",
    "grid = gridspec.GridSpec(1, 6, wspace=0.0, hspace=0.0)\n",
    "\n",
    "\n",
    "axes_0_0 = fig.add_subplot(grid[0, 0])\n",
    "axes_0_1 = fig.add_subplot(grid[0, 1])\n",
    "axes_0_2 = fig.add_subplot(grid[0, 2])\n",
    "axes_0_3 = fig.add_subplot(grid[0, 3])\n",
    "axes_0_4 = fig.add_subplot(grid[0, 4])\n",
    "axes_0_5 = fig.add_subplot(grid[0, 5])\n",
    "\n",
    "\n",
    "\n",
    "\n",
    "panel_sagittal_view(dirname/'100.0_barrierray0/', ax=axes_0_0)\n",
    "panel_sagittal_view(dirname/'95.0_barrierray0/', ax=axes_0_1)\n",
    "panel_sagittal_view(dirname/'90.0_barrierray0/', ax=axes_0_2)\n",
    "panel_sagittal_view(dirname/'85.0_barrierray0/', ax=axes_0_3)\n",
    "panel_sagittal_view(dirname/'80.0_barrierray0/', ax=axes_0_4)\n",
    "panel_sagittal_view(dirname/'75.0_barrierray0/', ax=axes_0_5)\n",
    "\n",
    "\n",
    "\n",
    "\n",
    "#result_dataframe.to_csv('result_principal_result.csv')\n",
    "plt.savefig('external_barrier_effect.eps', dpi = 300, transparent=True)\n",
    "plt.savefig('external_barrier_effect.png', dpi = 300, transparent=True)"
   ]
  },
  {
   "cell_type": "code",
   "execution_count": null,
   "metadata": {},
   "outputs": [],
   "source": []
  },
  {
   "cell_type": "code",
   "execution_count": null,
   "metadata": {},
   "outputs": [],
   "source": []
  },
  {
   "cell_type": "code",
   "execution_count": null,
   "metadata": {},
   "outputs": [],
   "source": []
  },
  {
   "cell_type": "code",
   "execution_count": null,
   "metadata": {},
   "outputs": [],
   "source": []
  },
  {
   "cell_type": "code",
   "execution_count": null,
   "metadata": {},
   "outputs": [],
   "source": []
  },
  {
   "cell_type": "code",
   "execution_count": null,
   "metadata": {},
   "outputs": [],
   "source": []
  },
  {
   "cell_type": "code",
   "execution_count": null,
   "metadata": {},
   "outputs": [],
   "source": []
  },
  {
   "cell_type": "code",
   "execution_count": null,
   "metadata": {},
   "outputs": [],
   "source": []
  },
  {
   "cell_type": "code",
   "execution_count": null,
   "metadata": {},
   "outputs": [],
   "source": []
  }
 ],
 "metadata": {
  "kernelspec": {
   "display_name": "Python 3",
   "language": "python",
   "name": "python3"
  },
  "language_info": {
   "codemirror_mode": {
    "name": "ipython",
    "version": 3
   },
   "file_extension": ".py",
   "mimetype": "text/x-python",
   "name": "python",
   "nbconvert_exporter": "python",
   "pygments_lexer": "ipython3",
   "version": "3.7.3"
  }
 },
 "nbformat": 4,
 "nbformat_minor": 4
}
