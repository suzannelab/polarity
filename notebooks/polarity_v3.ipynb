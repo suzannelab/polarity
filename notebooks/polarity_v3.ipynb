{
 "cells": [
  {
   "cell_type": "markdown",
   "metadata": {
    "scrolled": false
   },
   "source": [
    "## Principe\n",
    "\n",
    "Informations données par Sophie\n",
    "\n",
    "\n",
    "<img src=\"./sophie1.png\" />\n",
    "\n",
    "<img src=\"./sophie2.png\" />\n",
    "\n",
    "L'énergie de la sheet serait donc donnée par:\n",
    "\n",
    "$$E_p=\\sum_{e} -\\frac{\\epsilon_0}{2}l_e C_e^2 - \\epsilon_1 l_e C_e C_{\\hat{e}} \n",
    "-\\frac{J}{2}\\left( (C_e - C_{v1})^2 + (C_{e} -C_{v2})^2     \\right)$$\n",
    "\n",
    "où $e$ parcourt les edges, $\\hat{e}$ est le edge complémentaire de $e$, $v1,v2$ sont les vertexs voisins de e.\n",
    "\n",
    "Quote Sophie:\n",
    "\n",
    "*Le premier terme est l’auto enrichissement de la protéine sur un edge. Le second terme est l’enrichissement sur le demi edge opposé (soit sur la cellule d’en face). Le troisième terme est la diminution des protéines sur les vertex voisins.*\n",
    "\n",
    "*Il y a aussi deux contraintes : - la quantité de protéine sur un edge est toujours positive - la quantité de protéine dans une cellule est constante*\n",
    "\n",
    "**mais** dans la définition de $E_p$ ci-dessus, il n'y a que des termes négatifs (favorable au min), et pas de termes contributifs (des pénalités), donc il n'y a pas de minimum et la solution va vers une explosion de la densité de protéine...\n",
    "\n",
    "Je remets la contrainte sur la limitation de l'augmentation en prot A de Sophie (P4):\n",
    "\n",
    "$$P4 = \\lambda_c \\sum_f \\left( \\sum_{e\\, in\\, f} l_e C_e - Q_f^*\\right)^2$$\n",
    "\n",
    "où $f$ parcourt les faces (les cellules), et $Q_f^*$ est la quantité \"cible\" de protéine pour la cellule $f$."
   ]
  },
  {
   "cell_type": "markdown",
   "metadata": {},
   "source": [
    "# Program"
   ]
  },
  {
   "cell_type": "code",
   "execution_count": 1,
   "metadata": {},
   "outputs": [],
   "source": [
    "import os\n",
    "import time\n",
    "import sys\n",
    "import json\n",
    "import copy\n",
    "import math\n",
    "import numpy as np\n",
    "import ipyvolume as ipv\n",
    "import pathlib\n",
    "import pandas as pd\n",
    "import random\n",
    "from datetime import datetime\n",
    "import matplotlib.pyplot as plt\n",
    "\n",
    "import tyssue\n",
    "import tyssue.dynamics\n",
    "import tyssue.dynamics.factory\n",
    "import tyssue.stores\n",
    "import tyssue.config.geometry\n",
    "import tyssue.io\n",
    "import tyssue.draw\n",
    "import tyssue.draw.plt_draw\n",
    "from tyssue import SheetGeometry as geom\n",
    "from tyssue.dynamics import effectors, units\n",
    "from tyssue.dynamics.factory import model_factory\n",
    "from tyssue.solvers.sheet_vertex_solver import Solver\n",
    "from tyssue.utils import to_nd\n",
    "\n",
    "import scipy\n",
    "import scipy.optimize\n",
    "from scipy.spatial.distance import squareform, pdist, cdist\n",
    "\n",
    "Verbose = False\n",
    "\n",
    "%matplotlib inline\n",
    "\n",
    "SIM_DIR = pathlib.Path('.')\n",
    "\n",
    "#from polarity.solver import find_energy_min"
   ]
  },
  {
   "cell_type": "markdown",
   "metadata": {},
   "source": [
    "## Init "
   ]
  },
  {
   "cell_type": "markdown",
   "metadata": {},
   "source": [
    "### On charge une configuration à 15 cellules\n",
    "Définit sheet, une structure contenant : des vertex, des edges, des faces.\n",
    "On est en 2D, chaque face est une cellule.\n",
    "Les frontières entre deux cellules sont données par deux \"demi-\"edges, un par cellule."
   ]
  },
  {
   "cell_type": "code",
   "execution_count": 2,
   "metadata": {},
   "outputs": [
    {
     "data": {
      "image/png": "[encoded data removed]",
      "text/plain": [
       "<matplotlib.figure.Figure at 0x7f378e92c6d8>"
      ]
     },
     "metadata": {},
     "output_type": "display_data"
    }
   ],
   "source": [
    "h5store = os.path.join(tyssue.stores.stores_dir, \"15_cells_patch.hf5\")\n",
    "\n",
    "datasets = tyssue.io.hdf5.load_datasets(\n",
    "    h5store, \n",
    "    data_names=[\"face\", \"vert\", \"edge\"])\n",
    "\n",
    "specs = tyssue.config.geometry.cylindrical_sheet()\n",
    "sheet = tyssue.Sheet(\"emin\", datasets, specs)\n",
    "\n",
    "# Modify some initial value\n",
    "sheet.settings['threshold_length'] = 1e-3\n",
    "sheet.vert_df['radial_tension'] = 0.\n",
    "\n",
    "fig, ax = tyssue.draw.plt_draw.quick_edge_draw(\n",
    "    sheet, \n",
    "    coords=list('xy'))"
   ]
  },
  {
   "cell_type": "markdown",
   "metadata": {},
   "source": [
    "### On ajoute une colone prefered_N_a aux faces, indique la qté totale de protein a dans la cellule"
   ]
  },
  {
   "cell_type": "code",
   "execution_count": 3,
   "metadata": {},
   "outputs": [],
   "source": [
    "## Add column 'C_a' to face_df, which contains the total \n",
    "## quantity of protein a in the cell\n",
    "sheet.face_df['prefered_N_a'] = 1\n"
   ]
  },
  {
   "cell_type": "markdown",
   "metadata": {},
   "source": [
    "### On ajoute à chaque edge : une colonne C_a, qté de protein a sur ce edge\n",
    "La quantité de a est donnée en densité par mètre, elle est randomisée par edge, et la somme totale sur chaque cell est son 'prefered_N_a'."
   ]
  },
  {
   "cell_type": "code",
   "execution_count": 4,
   "metadata": {},
   "outputs": [],
   "source": [
    "## rand entre 0 et 0.3 sur chaque edge\n",
    "sheet.edge_df['N_a'] = np.random.uniform(low=0.05, high=0.5, size=sheet.Ne) \n",
    "## on normalise par face\n",
    "faces_N_a = sheet.sum_face(sheet.edge_df['N_a'])\n",
    "sheet.edge_df['N_a'] = (sheet.edge_df['N_a'] \n",
    "    * sheet.upcast_face(sheet.face_df['prefered_N_a']/faces_N_a['N_a']))\n",
    "## en densité => qté par longueur de edge\n",
    "sheet.edge_df['C_a'] = sheet.edge_df['N_a'] / sheet.edge_df.length\n",
    "if Verbose: \n",
    "    print(\"qté prot par cell\")## check\n",
    "    print(sheet.sum_face(sheet.edge_df['N_a'])) ## ok\n",
    "\n",
    "sheet.edge_df['line_tension'] = 1 + sheet.edge_df.C_a * sheet.edge_df.length\n",
    "geom.update_all(sheet)"
   ]
  },
  {
   "cell_type": "code",
   "execution_count": 5,
   "metadata": {},
   "outputs": [],
   "source": [
    "if Verbose:\n",
    "    print(\"sheet.datasets.items()\")\n",
    "    print(sheet.datasets.items())"
   ]
  },
  {
   "cell_type": "markdown",
   "metadata": {},
   "source": [
    "#### Keep a copy of the initial sheet\n",
    " so that we can try several times the bloc below with no need to run each time the whole thing from the start\n",
    " \n",
    " The copy is also used to make compared graphics in the end"
   ]
  },
  {
   "cell_type": "code",
   "execution_count": 6,
   "metadata": {},
   "outputs": [],
   "source": [
    "InitialSheet = copy.deepcopy(sheet)"
   ]
  },
  {
   "cell_type": "code",
   "execution_count": null,
   "metadata": {},
   "outputs": [],
   "source": []
  },
  {
   "cell_type": "code",
   "execution_count": 7,
   "metadata": {},
   "outputs": [],
   "source": [
    "class LineTensionPolarity(effectors.AbstractEffector):\n",
    "\n",
    "    dimensions = units.line_tension\n",
    "    magnitude = \"line_tension_polarity\"\n",
    "    label = \"Line tension with polarity\"\n",
    "    element = \"edge\"\n",
    "    specs = {\"edge\": {\"is_active\", \"line_tension\", \"C_a\"}}\n",
    "\n",
    "    spatial_ref = \"mean_length\", units.length\n",
    "\n",
    "    @staticmethod\n",
    "    def energy(eptm):\n",
    "        return eptm.edge_df.eval(\n",
    "            \"line_tension\" \"* is_active\" \"* length\" \"* C_a\"\n",
    "        )  # accounts for half edges\n",
    "\n",
    "    @staticmethod\n",
    "    def gradient(eptm):\n",
    "        grad_srce = -eptm.edge_df[eptm.ucoords] * to_nd(\n",
    "            eptm.edge_df.eval(\"line_tension * is_active/2 * C_a\"), len(eptm.coords)\n",
    "        )\n",
    "        grad_srce.columns = [\"g\" + u for u in eptm.coords]\n",
    "        grad_trgt = -grad_srce\n",
    "        return grad_srce, grad_trgt"
   ]
  },
  {
   "cell_type": "code",
   "execution_count": 8,
   "metadata": {},
   "outputs": [],
   "source": [
    "EllipsoidBModel = model_factory(\n",
    "    [\n",
    "    LineTensionPolarity,\n",
    "    effectors.FaceAreaElasticity\n",
    "    ], effectors.FaceAreaElasticity)\n",
    "\n",
    "model = EllipsoidBModel"
   ]
  },
  {
   "cell_type": "code",
   "execution_count": 9,
   "metadata": {},
   "outputs": [
    {
     "name": "stderr",
     "output_type": "stream",
     "text": [
      "/home/admin-suz/anaconda3/lib/python3.6/site-packages/pandas/core/computation/expressions.py:180: UserWarning: evaluating in Python space because the '*' operator is not supported by numexpr for the bool dtype, use '&' instead\n",
      "  .format(op=op_str, alt_op=unsupported[op_str]))\n"
     ]
    }
   ],
   "source": [
    "\n",
    "solver_kw = {'minimize': {'method': 'SLSQP',\n",
    "                          'options': {'ftol': 1e-6,\n",
    "                                     'maxiter': 20}}}\n",
    "                                      #'gtol': 1e-8}}}\n",
    "res = Solver.find_energy_min(sheet, geom, model, **solver_kw)"
   ]
  },
  {
   "cell_type": "code",
   "execution_count": 10,
   "metadata": {},
   "outputs": [
    {
     "data": {
      "text/plain": [
       "Text(0.5,1,'Initial')"
      ]
     },
     "execution_count": 10,
     "metadata": {},
     "output_type": "execute_result"
    },
    {
     "data": {
      "image/png": "[encoded data removed]",
      "text/plain": [
       "<matplotlib.figure.Figure at 0x7f378649d6d8>"
      ]
     },
     "metadata": {},
     "output_type": "display_data"
    }
   ],
   "source": [
    "sheet2 = InitialSheet.extract_bounding_box(\n",
    "    y_boundary=[-100,100], \n",
    "    x_boundary = [-200,200], \n",
    "    z_boundary=[-400,400])\n",
    "fig, ax = tyssue.draw.sheet_view(sheet2, \n",
    "            edge={'color_range': [0,0.4],'color':sheet2.edge_df.C_a, 'width':1}, \n",
    "            vert={'visible':False}, coords = ['x','y'])\n",
    "ax.set_title('Initial')"
   ]
  },
  {
   "cell_type": "code",
   "execution_count": 11,
   "metadata": {},
   "outputs": [],
   "source": [
    "InitialSheet = copy.deepcopy(sheet)"
   ]
  },
  {
   "cell_type": "markdown",
   "metadata": {
    "scrolled": false
   },
   "source": [
    "## RUN"
   ]
  },
  {
   "cell_type": "markdown",
   "metadata": {
    "scrolled": false
   },
   "source": [
    "**Procedure 'robuste' (JG)**\n",
    "\n",
    "Le minimizeur est SLSQP avec bounds $[0..\\infty]$ sur les $C_e$, mais sans utiliser le gradient (jacobian) ni linear constraints."
   ]
  },
  {
   "cell_type": "markdown",
   "metadata": {
    "scrolled": false
   },
   "source": [
    "**codes de Sophie**\n",
    "\n",
    "le chem_energy effectivement utilisé est redéfini plus bas: *chem_energyJG*\n",
    "\n",
    "*chem_energyJG* utilise tel quel *_calculate_diff_C_neighbors* \n",
    " non analysé par JG"
   ]
  },
  {
   "cell_type": "code",
   "execution_count": null,
   "metadata": {},
   "outputs": [],
   "source": []
  },
  {
   "cell_type": "code",
   "execution_count": null,
   "metadata": {
    "scrolled": false
   },
   "outputs": [],
   "source": []
  },
  {
   "cell_type": "code",
   "execution_count": 12,
   "metadata": {},
   "outputs": [],
   "source": [
    "keepEnergy=[]\n",
    "keepP1=[]\n",
    "keepP2=[]\n",
    "keepP3=[]\n",
    "keepP4=[]\n",
    "\n",
    "def _calculate_diff_C_neighbors(sheet):\n",
    "    C1_ij = sheet.edge_df.sort_values(['face', 'trgt'])['C_a']\n",
    "    C1_jm = sheet.edge_df.sort_values(['face', 'srce'])['C_a']\n",
    "    couple1 = pd.DataFrame(\n",
    "        {'ij': C1_ij.values, 'jm': C1_jm.values}, index=C1_ij.index)\n",
    "    diff_couple1 = couple1['ij'] - couple1['jm']\n",
    "    diff_couple1.sort_index(axis='index', inplace=True)\n",
    "\n",
    "    C2_ij = sheet.edge_df.sort_values(['face', 'srce'])['C_a']\n",
    "    C2_ni = sheet.edge_df.sort_values(['face', 'trgt'])['C_a']\n",
    "    couple2 = pd.DataFrame(\n",
    "        {'ij': C2_ij.values, 'ni': C2_ni.values}, index=C2_ij.index)\n",
    "    diff_couple2 = couple2['ij'] - couple2['ni']\n",
    "    diff_couple2.sort_index(axis='index', inplace=True)\n",
    "\n",
    "    return (diff_couple1, diff_couple2)\n",
    "\n",
    "\n",
    "\n",
    "def _calculate_dist_neighbors(sheet, edge): \n",
    "    e_x = sheet.edge_df.loc[edge,'dx']\n",
    "    e_y = sheet.edge_df.loc[edge,'dy']\n",
    "    e_z = sheet.edge_df.loc[edge,'dz']\n",
    "    \n",
    "    list_edge = list(sheet.edge_df[sheet.edge_df.face == sheet.edge_df.loc[edge, 'face']].index)\n",
    "    edge_distance = {}\n",
    "    for e in list_edge:\n",
    "        if e != edge :\n",
    "            x = sheet.edge_df.loc[e,'dx']\n",
    "            y = sheet.edge_df.loc[e,'dy']\n",
    "            z = sheet.edge_df.loc[e,'dz']\n",
    "\n",
    "            d = np.sqrt((x-e_x)**2+(y-e_y)**2+(z-e_z)**2)\n",
    "            edge_distance[e]=d\n",
    "\n",
    "    return edge_distance\n",
    "    \n",
    "def inhibition(edges):\n",
    "    x = (edges['sx']-edges['tx']).values\n",
    "    y = (edges['sy']-edges['ty']).values\n",
    "    pos = np.array([[x[i], y[i]] for i in range (0, len(x))] )\n",
    "    #pos = np.array([(edges['sx']-edges['tx']).values, (edges['sy']-edges['ty']).values])\n",
    "    \n",
    "    distance_matrix=squareform(pdist(pos, metric='euclidean'))\n",
    "    \n",
    "    c = np.array([[edges.loc[i,'C_a']] for i in (edges.index)] )\n",
    "    concentration_matrix = cdist(c,c, metric='sqeuclidean')\n",
    "    \n",
    "    return (sheet.settings['J']/2*(1-distance_matrix/distance_matrix.max())*concentration_matrix).sum()\n",
    "    \n",
    "\n",
    "def chem_energy(c, sheet): \n",
    "    \n",
    "    ## def set_concentration(sheet, c):    \n",
    "    sheet.edge_df['C_a'] = c\n",
    "    sheet.edge_df['N_a'] = sheet.edge_df['C_a'] * sheet.edge_df['length']\n",
    "    \n",
    "\n",
    "    # Auto enrichissement\n",
    "    P1 = (- sheet.settings['epsilon_0'] / 2 *\n",
    "          sheet.edge_df['length'] * sheet.edge_df['C_a']**2).values\n",
    "    P1s = P1.sum()\n",
    "\n",
    "    # Enrichissment in the edge of the opposite cell\n",
    "    sheet.get_opposite()\n",
    "    P2 = (- sheet.settings['epsilon_1'] * sheet.edge_df['length'] * sheet.edge_df[\n",
    "          'C_a'] * tyssue.utils.data_at_opposite(sheet, sheet.edge_df['C_a'], 0)).values\n",
    "    P2s = P2.sum()\n",
    "\n",
    "    # Depletion on next edge\n",
    "    P3 = sheet.edge_df.groupby('face').apply(inhibition)\n",
    "    P3s = sum(P3)\n",
    "        \n",
    "    \n",
    "    # Logarithmic term\n",
    "    P4 = []\n",
    "    \n",
    "    P4 = sheet.edge_df['length']*sheet.edge_df['C_a']*np.log(sheet.edge_df['C_a']) \n",
    "    P4s = sheet.settings['Te']*sum(P4)\n",
    "\n",
    "          \n",
    "    EnergyTotale = P1s + P2s + P3s + P4s\n",
    "    \n",
    "    ## keep track\n",
    "    keepEnergy.append(EnergyTotale)\n",
    "    keepP1.append(P1.sum())\n",
    "    keepP2.append(P2.sum())\n",
    "    keepP3.append(sum(P3))\n",
    "    keepP4.append(sheet.settings['Te']*sum(P4))\n",
    "    \n",
    "    return EnergyTotale"
   ]
  },
  {
   "cell_type": "code",
   "execution_count": null,
   "metadata": {},
   "outputs": [],
   "source": []
  },
  {
   "cell_type": "markdown",
   "metadata": {
    "scrolled": false
   },
   "source": [
    "#### Minimize"
   ]
  },
  {
   "cell_type": "code",
   "execution_count": 13,
   "metadata": {
    "scrolled": false
   },
   "outputs": [
    {
     "name": "stdout",
     "output_type": "stream",
     "text": [
      "Wait...\n",
      "succes :  True\n",
      "Edges final\n",
      "[0.03161671 0.02795705 0.03325153 0.05833482 0.05535727 0.0289956\n",
      " 0.04585158 0.04821902 0.04396448 0.04629052 0.05356245 0.05705445\n",
      " 0.03490293 0.02840805 0.02999281 0.03014821 0.03001922 0.0544345\n",
      " 0.06126323 0.0328678  0.03186316 0.03501138 0.0277279  0.02911235\n",
      " 0.03211357 0.06409159 0.07643421 0.03249842 0.05180357 0.04741671\n",
      " 0.05649835 0.05359784 0.03279892 0.02844155 0.04814426 0.04575791\n",
      " 0.04280354 0.04241065 0.04184199 0.04230062 0.0446156  0.04359955\n",
      " 0.04030157 0.03927977 0.04085268 0.0433754  0.04010962 0.0429147\n",
      " 0.04275356 0.04417203 0.04278075 0.04426555 0.04629782 0.04660228\n",
      " 0.04489281 0.04386366 0.04737366 0.04487303 0.05331772 0.04832478\n",
      " 0.05349223 0.04821726 0.04289501 0.04245032 0.06086235 0.06142498\n",
      " 0.02834779 0.05416508 0.04907398 0.02897635 0.0593241  0.05043972\n",
      " 0.03151213 0.07137024 0.06329802 0.02999612 0.03210279 0.02721941\n",
      " 0.04431208 0.0460418  0.02900083 0.03175157 0.0370847  0.03371957\n",
      " 0.02958015 0.03046659 0.02989117 0.02761322 0.05465033 0.05689621]\n",
      "quantité par cell\n",
      "[1.         1.         1.         1.         1.         1.\n",
      " 1.00000007 1.         1.         1.         1.         1.\n",
      " 1.         1.         1.        ]\n",
      "somme totale\n",
      "15.000000065789386\n"
     ]
    }
   ],
   "source": [
    "## Restart from the initial config\n",
    "\n",
    "#sheet = copy.deepcopy(InitialSheet)\n",
    "## initial guess\n",
    "c0 = sheet.edge_df['C_a']\n",
    "## parametres\n",
    "sheet.settings ['epsilon_0'] = 30\n",
    "sheet.settings ['epsilon_1'] = 20\n",
    "sheet.settings ['J'] =  17\n",
    "#sheet.settings ['lambda_c'] = 3\n",
    "sheet.settings ['Te'] = 4\n",
    "\n",
    "print(\"Wait...\")\n",
    "\n",
    "from scipy import optimize\n",
    "from scipy.sparse import coo_matrix\n",
    "row = sheet.edge_df['face'].values\n",
    "col = sheet.edge_df.index.values\n",
    "matrix = coo_matrix((sheet.edge_df.length.values, (row, col)),\n",
    "                        shape=(sheet.Nf, sheet.Ne)).toarray()\n",
    "linear_constraint = optimize.LinearConstraint(\n",
    "        matrix, sheet.face_df['prefered_N_a'], sheet.face_df['prefered_N_a'])\n",
    "\n",
    "res = scipy.optimize.minimize(\n",
    "        fun=chem_energy, ## fonction à minimiser\n",
    "        x0=c0, ## initial guess\n",
    "        method='SLSQP', ##method='L-BFGS-B', ## method='Nelder-Mead',\n",
    "        bounds= scipy.optimize.Bounds(np.zeros(sheet.Ne)+1.e-4, np.full((sheet.Ne), np.inf)),\n",
    "        constraints=linear_constraint,\n",
    "        tol=1e-3,\n",
    "        options={'maxiter':100},\n",
    "        args=(sheet) ## args passed to chem_energy\n",
    "        ) \n",
    "\n",
    "print(\"succes : \",res['success'])\n",
    "\n",
    "## print(res)\n",
    "DiffCas = np.array(sheet.edge_df.C_a - InitialSheet.edge_df.C_a)\n",
    "print(\"Edges final\")\n",
    "print(np.array(sheet.edge_df.C_a))\n",
    "## print(\"Diff Final-Initial\")\n",
    "## print(DiffCas)\n",
    "print(\"quantité par cell\")\n",
    "print(np.array(sheet.sum_face(sheet.edge_df['N_a'])['N_a']))\n",
    "print(\"somme totale\")\n",
    "print(sheet.sum_face(sheet.edge_df['N_a'])['N_a'].sum())"
   ]
  },
  {
   "cell_type": "markdown",
   "metadata": {},
   "source": [
    "## Results"
   ]
  },
  {
   "cell_type": "markdown",
   "metadata": {},
   "source": [
    "### Evolutions des C_a sur les edges"
   ]
  },
  {
   "cell_type": "code",
   "execution_count": 14,
   "metadata": {},
   "outputs": [
    {
     "data": {
      "image/png": "[encoded data removed]",
      "text/plain": [
       "<matplotlib.figure.Figure at 0x7f378649d0b8>"
      ]
     },
     "metadata": {},
     "output_type": "display_data"
    }
   ],
   "source": [
    "sheet2 = sheet.extract_bounding_box(y_boundary=[-100,100], x_boundary = [-20,20], z_boundary=[-40,40])\n",
    "fig, ax = tyssue.draw.sheet_view(sheet2, \n",
    "            edge={'color_range': [0.,0.4],'color':sheet2.edge_df.C_a, 'width':1}, \n",
    "            vert={'visible':False}, coords = ['x','y'])\n",
    "ax.set_title('after proteine')\n",
    "plt.show()"
   ]
  },
  {
   "cell_type": "code",
   "execution_count": 15,
   "metadata": {},
   "outputs": [
    {
     "name": "stderr",
     "output_type": "stream",
     "text": [
      "/home/admin-suz/anaconda3/lib/python3.6/site-packages/pandas/core/computation/expressions.py:180: UserWarning: evaluating in Python space because the '*' operator is not supported by numexpr for the bool dtype, use '&' instead\n",
      "  .format(op=op_str, alt_op=unsupported[op_str]))\n"
     ]
    }
   ],
   "source": [
    "sheet.vert_df.x *= 0.8\n",
    "geom.update_all(sheet)\n",
    "solver_kw = {'minimize': {'method': 'SLSQP',\n",
    "                          'options': {'ftol': 1e-2,\n",
    "                                     'maxiter': 20}}}\n",
    "                                      #'gtol': 1e-8}}}\n",
    "res = Solver.find_energy_min(sheet, geom, model, **solver_kw)"
   ]
  },
  {
   "cell_type": "code",
   "execution_count": 16,
   "metadata": {},
   "outputs": [
    {
     "data": {
      "image/png": "[encoded data removed]",
      "text/plain": [
       "<matplotlib.figure.Figure at 0x7f3786497518>"
      ]
     },
     "metadata": {},
     "output_type": "display_data"
    }
   ],
   "source": [
    "sheet2 = sheet.extract_bounding_box(y_boundary=[-100,100], x_boundary = [-20,20], z_boundary=[-40,40])\n",
    "fig, ax = tyssue.draw.sheet_view(sheet2, \n",
    "            edge={'color_range': [0.,0.4],'color':sheet2.edge_df.C_a, 'width':1}, \n",
    "            vert={'visible':False}, coords = ['x','y'])\n",
    "ax.set_title('after mechanics')\n",
    "plt.show()"
   ]
  },
  {
   "cell_type": "code",
   "execution_count": 18,
   "metadata": {},
   "outputs": [
    {
     "name": "stdout",
     "output_type": "stream",
     "text": [
      "Wait...\n",
      "succes :  True\n",
      "Edges final\n",
      "[0.03165283 0.02842476 0.03360391 0.05604538 0.05413763 0.0285487\n",
      " 0.04554754 0.04848171 0.04342078 0.04691386 0.0546203  0.05720364\n",
      " 0.0344894  0.02877309 0.03000896 0.0302854  0.0301841  0.05160443\n",
      " 0.05904649 0.03307982 0.03210472 0.03421205 0.02926383 0.03024754\n",
      " 0.03219107 0.05394205 0.06382357 0.0333375  0.05110897 0.04694824\n",
      " 0.0541357  0.05202089 0.03361517 0.02811    0.04844093 0.0455788\n",
      " 0.0416338  0.04117375 0.04198905 0.04190746 0.04404848 0.04271567\n",
      " 0.04004343 0.03989434 0.0413254  0.04347271 0.04082872 0.04315448\n",
      " 0.04161814 0.04352677 0.04282504 0.04412906 0.04572642 0.04591831\n",
      " 0.04322362 0.04080632 0.04832581 0.04554694 0.05335501 0.04849483\n",
      " 0.05253053 0.04747641 0.04053332 0.04119253 0.06461155 0.06473711\n",
      " 0.02842603 0.05185017 0.04592923 0.02887888 0.05560108 0.04712736\n",
      " 0.03125317 0.06517715 0.0585377  0.02957395 0.03204619 0.02677638\n",
      " 0.04099849 0.0436999  0.02874943 0.02852893 0.03118036 0.03220667\n",
      " 0.02946277 0.02940959 0.02811329 0.02722818 0.05383996 0.0551337 ]\n",
      "quantité par cell\n",
      "[1. 1. 1. 1. 1. 1. 1. 1. 1. 1. 1. 1. 1. 1. 1.]\n",
      "somme totale\n",
      "15.0\n"
     ]
    }
   ],
   "source": [
    "## Restart from the initial config\n",
    "\n",
    "#sheet = copy.deepcopy(InitialSheet)\n",
    "## initial guess\n",
    "c0 = sheet.edge_df['C_a']\n",
    "## parametres\n",
    "sheet.settings ['epsilon_0'] = 30\n",
    "sheet.settings ['epsilon_1'] = 20\n",
    "sheet.settings ['J'] =  17\n",
    "#sheet.settings ['lambda_c'] = 3\n",
    "sheet.settings ['Te'] = 4\n",
    "\n",
    "print(\"Wait...\")\n",
    "\n",
    "from scipy import optimize\n",
    "from scipy.sparse import coo_matrix\n",
    "row = sheet.edge_df['face'].values\n",
    "col = sheet.edge_df.index.values\n",
    "matrix = coo_matrix((sheet.edge_df.length.values, (row, col)),\n",
    "                        shape=(sheet.Nf, sheet.Ne)).toarray()\n",
    "linear_constraint = optimize.LinearConstraint(\n",
    "        matrix, sheet.face_df['prefered_N_a'], sheet.face_df['prefered_N_a'])\n",
    "\n",
    "res = scipy.optimize.minimize(\n",
    "        fun=chem_energy, ## fonction à minimiser\n",
    "        x0=c0, ## initial guess\n",
    "        method='SLSQP', ##method='L-BFGS-B', ## method='Nelder-Mead',\n",
    "        bounds= scipy.optimize.Bounds(np.zeros(sheet.Ne)+1.e-4, np.full((sheet.Ne), np.inf)),\n",
    "        constraints=linear_constraint,\n",
    "        tol=1e-3,\n",
    "        options={'maxiter':100},\n",
    "        args=(sheet) ## args passed to chem_energy\n",
    "        ) \n",
    "\n",
    "print(\"succes : \",res['success'])\n",
    "\n",
    "## print(res)\n",
    "DiffCas = np.array(sheet.edge_df.C_a - InitialSheet.edge_df.C_a)\n",
    "print(\"Edges final\")\n",
    "print(np.array(sheet.edge_df.C_a))\n",
    "## print(\"Diff Final-Initial\")\n",
    "## print(DiffCas)\n",
    "print(\"quantité par cell\")\n",
    "print(np.array(sheet.sum_face(sheet.edge_df['N_a'])['N_a']))\n",
    "print(\"somme totale\")\n",
    "print(sheet.sum_face(sheet.edge_df['N_a'])['N_a'].sum())"
   ]
  },
  {
   "cell_type": "code",
   "execution_count": 20,
   "metadata": {},
   "outputs": [
    {
     "data": {
      "image/png": "[encoded data removed]",
      "text/plain": [
       "<matplotlib.figure.Figure at 0x7f37ba274e80>"
      ]
     },
     "metadata": {},
     "output_type": "display_data"
    }
   ],
   "source": [
    "sheet2 = sheet.extract_bounding_box(y_boundary=[-100,100], x_boundary = [-20,20], z_boundary=[-40,40])\n",
    "fig, ax = tyssue.draw.sheet_view(sheet2, \n",
    "            edge={'color_range': [0.,0.4],'color':sheet2.edge_df.C_a, 'width':1}, \n",
    "            vert={'visible':False}, coords = ['x','y'])\n",
    "ax.set_title('after proteine')\n",
    "plt.show()"
   ]
  },
  {
   "cell_type": "code",
   "execution_count": null,
   "metadata": {},
   "outputs": [],
   "source": []
  },
  {
   "cell_type": "code",
   "execution_count": 21,
   "metadata": {},
   "outputs": [
    {
     "name": "stderr",
     "output_type": "stream",
     "text": [
      "/home/admin-suz/anaconda3/lib/python3.6/site-packages/pandas/core/computation/expressions.py:180: UserWarning: evaluating in Python space because the '*' operator is not supported by numexpr for the bool dtype, use '&' instead\n",
      "  .format(op=op_str, alt_op=unsupported[op_str]))\n"
     ]
    }
   ],
   "source": [
    "solver_kw = {'minimize': {'method': 'SLSQP',\n",
    "                          'options': {'ftol': 1e-2,\n",
    "                                     'maxiter': 20}}}\n",
    "                                      #'gtol': 1e-8}}}\n",
    "res = Solver.find_energy_min(sheet, geom, model, **solver_kw)"
   ]
  },
  {
   "cell_type": "code",
   "execution_count": 22,
   "metadata": {},
   "outputs": [
    {
     "data": {
      "image/png": "[encoded data removed]",
      "text/plain": [
       "<matplotlib.figure.Figure at 0x7f37ba207128>"
      ]
     },
     "metadata": {},
     "output_type": "display_data"
    }
   ],
   "source": [
    "sheet2 = sheet.extract_bounding_box(y_boundary=[-100,100], x_boundary = [-20,20], z_boundary=[-40,40])\n",
    "fig, ax = tyssue.draw.sheet_view(sheet2, \n",
    "            edge={'color_range': [0.,0.4],'color':sheet2.edge_df.C_a, 'width':1}, \n",
    "            vert={'visible':False}, coords = ['x','y'])\n",
    "ax.set_title('after mechanics')\n",
    "plt.show()"
   ]
  },
  {
   "cell_type": "code",
   "execution_count": null,
   "metadata": {},
   "outputs": [],
   "source": [
    "## Restart from the initial config\n",
    "\n",
    "#sheet = copy.deepcopy(InitialSheet)\n",
    "## initial guess\n",
    "c0 = sheet.edge_df['C_a']\n",
    "## parametres\n",
    "sheet.settings ['epsilon_0'] = 30\n",
    "sheet.settings ['epsilon_1'] = 20\n",
    "sheet.settings ['J'] =  17\n",
    "#sheet.settings ['lambda_c'] = 3\n",
    "sheet.settings ['Te'] = 4\n",
    "\n",
    "print(\"Wait...\")\n",
    "\n",
    "from scipy import optimize\n",
    "from scipy.sparse import coo_matrix\n",
    "row = sheet.edge_df['face'].values\n",
    "col = sheet.edge_df.index.values\n",
    "matrix = coo_matrix((sheet.edge_df.length.values, (row, col)),\n",
    "                        shape=(sheet.Nf, sheet.Ne)).toarray()\n",
    "linear_constraint = optimize.LinearConstraint(\n",
    "        matrix, sheet.face_df['prefered_N_a'], sheet.face_df['prefered_N_a'])\n",
    "\n",
    "res = scipy.optimize.minimize(\n",
    "        fun=chem_energy, ## fonction à minimiser\n",
    "        x0=c0, ## initial guess\n",
    "        method='SLSQP', ##method='L-BFGS-B', ## method='Nelder-Mead',\n",
    "        bounds= scipy.optimize.Bounds(np.zeros(sheet.Ne)+1.e-4, np.full((sheet.Ne), np.inf)),\n",
    "        constraints=linear_constraint,\n",
    "        tol=1e-3,\n",
    "        options={'maxiter':100},\n",
    "        args=(sheet) ## args passed to chem_energy\n",
    "        ) \n",
    "\n",
    "print(\"succes : \",res['success'])\n",
    "\n",
    "## print(res)\n",
    "DiffCas = np.array(sheet.edge_df.C_a - InitialSheet.edge_df.C_a)\n",
    "print(\"Edges final\")\n",
    "print(np.array(sheet.edge_df.C_a))\n",
    "## print(\"Diff Final-Initial\")\n",
    "## print(DiffCas)\n",
    "print(\"quantité par cell\")\n",
    "print(np.array(sheet.sum_face(sheet.edge_df['N_a'])['N_a']))\n",
    "print(\"somme totale\")\n",
    "print(sheet.sum_face(sheet.edge_df['N_a'])['N_a'].sum())"
   ]
  },
  {
   "cell_type": "code",
   "execution_count": null,
   "metadata": {},
   "outputs": [],
   "source": [
    "sheet2 = sheet.extract_bounding_box(y_boundary=[-100,100], x_boundary = [-20,20], z_boundary=[-40,40])\n",
    "fig, ax = tyssue.draw.sheet_view(sheet2, \n",
    "            edge={'color_range': [0.,0.4],'color':sheet2.edge_df.C_a, 'width':1}, \n",
    "            vert={'visible':False}, coords = ['x','y'])\n",
    "ax.set_title('after proteine')\n",
    "plt.show()"
   ]
  },
  {
   "cell_type": "code",
   "execution_count": null,
   "metadata": {},
   "outputs": [],
   "source": [
    "solver_kw = {'minimize': {'method': 'SLSQP',\n",
    "                          'options': {'ftol': 1e-2,\n",
    "                                     'maxiter': 20}}}\n",
    "                                      #'gtol': 1e-8}}}\n",
    "res = Solver.find_energy_min(sheet, geom, model, **solver_kw)"
   ]
  },
  {
   "cell_type": "code",
   "execution_count": null,
   "metadata": {},
   "outputs": [],
   "source": [
    "sheet2 = sheet.extract_bounding_box(y_boundary=[-100,100], x_boundary = [-20,20], z_boundary=[-40,40])\n",
    "fig, ax = tyssue.draw.sheet_view(sheet2, \n",
    "            edge={'color_range': [0.,0.4],'color':sheet2.edge_df.C_a, 'width':1}, \n",
    "            vert={'visible':False}, coords = ['x','y'])\n",
    "ax.set_title('after proteine')\n",
    "plt.show()"
   ]
  },
  {
   "cell_type": "code",
   "execution_count": null,
   "metadata": {},
   "outputs": [],
   "source": [
    "## Restart from the initial config\n",
    "\n",
    "#sheet = copy.deepcopy(InitialSheet)\n",
    "## initial guess\n",
    "c0 = sheet.edge_df['C_a']\n",
    "## parametres\n",
    "sheet.settings ['epsilon_0'] = 30\n",
    "sheet.settings ['epsilon_1'] = 30\n",
    "sheet.settings ['J'] =  25\n",
    "#sheet.settings ['lambda_c'] = 3\n",
    "sheet.settings ['Te'] = 4\n",
    "\n",
    "print(\"Wait...\")\n",
    "\n",
    "from scipy import optimize\n",
    "from scipy.sparse import coo_matrix\n",
    "row = sheet.edge_df['face'].values\n",
    "col = sheet.edge_df.index.values\n",
    "matrix = coo_matrix((sheet.edge_df.length.values, (row, col)),\n",
    "                        shape=(sheet.Nf, sheet.Ne)).toarray()\n",
    "linear_constraint = optimize.LinearConstraint(\n",
    "        matrix, sheet.face_df['prefered_N_a'], sheet.face_df['prefered_N_a'])\n",
    "\n",
    "res = scipy.optimize.minimize(\n",
    "        fun=chem_energy, ## fonction à minimiser\n",
    "        x0=c0, ## initial guess\n",
    "        method='SLSQP', ##method='L-BFGS-B', ## method='Nelder-Mead',\n",
    "        bounds= scipy.optimize.Bounds(np.zeros(sheet.Ne)+1.e-4, np.full((sheet.Ne), np.inf)),\n",
    "        constraints=linear_constraint,\n",
    "        tol=1e-3,\n",
    "        options={'maxiter':100},\n",
    "        args=(sheet) ## args passed to chem_energy\n",
    "        ) \n",
    "\n",
    "print(\"succes : \",res['success'])\n",
    "\n",
    "## print(res)\n",
    "DiffCas = np.array(sheet.edge_df.C_a - InitialSheet.edge_df.C_a)\n",
    "print(\"Edges final\")\n",
    "print(np.array(sheet.edge_df.C_a))\n",
    "## print(\"Diff Final-Initial\")\n",
    "## print(DiffCas)\n",
    "print(\"quantité par cell\")\n",
    "print(np.array(sheet.sum_face(sheet.edge_df['N_a'])['N_a']))\n",
    "print(\"somme totale\")\n",
    "print(sheet.sum_face(sheet.edge_df['N_a'])['N_a'].sum())"
   ]
  },
  {
   "cell_type": "code",
   "execution_count": null,
   "metadata": {},
   "outputs": [],
   "source": [
    "sheet2 = sheet.extract_bounding_box(y_boundary=[-100,100], x_boundary = [-20,20], z_boundary=[-40,40])\n",
    "fig, ax = tyssue.draw.sheet_view(sheet2, \n",
    "            edge={'color_range': [0.,0.4],'color':sheet2.edge_df.C_a, 'width':1}, \n",
    "            vert={'visible':False}, coords = ['x','y'])\n",
    "ax.set_title('after proteine')\n",
    "plt.show()"
   ]
  },
  {
   "cell_type": "markdown",
   "metadata": {},
   "source": [
    "### Histogramme des concentrations\n",
    "Initial : random, Final : bimodal"
   ]
  },
  {
   "cell_type": "code",
   "execution_count": null,
   "metadata": {
    "scrolled": false
   },
   "outputs": [],
   "source": [
    "n_bins=25\n",
    "fig, axs = plt.subplots(1, 2, sharey=True, figsize=[10, 5])\n",
    "axs[0].hist(InitialSheet.edge_df.C_a*InitialSheet.edge_df.length, bins=n_bins)\n",
    "axs[0].set_title('Initial')\n",
    "axs[1].hist(sheet.edge_df.C_a*sheet.edge_df.length, bins=n_bins)\n",
    "axs[1].set_title('Final')\n",
    "plt.show()\n",
    "print('initialsheet protein quantity :', InitialSheet.edge_df.N_a.sum())\n",
    "print('finalsheet protein quantity :', sheet.edge_df.N_a.sum())\n"
   ]
  },
  {
   "cell_type": "code",
   "execution_count": null,
   "metadata": {},
   "outputs": [],
   "source": []
  },
  {
   "cell_type": "code",
   "execution_count": null,
   "metadata": {},
   "outputs": [],
   "source": []
  },
  {
   "cell_type": "code",
   "execution_count": null,
   "metadata": {},
   "outputs": [],
   "source": []
  },
  {
   "cell_type": "code",
   "execution_count": null,
   "metadata": {},
   "outputs": [],
   "source": []
  },
  {
   "cell_type": "code",
   "execution_count": null,
   "metadata": {},
   "outputs": [],
   "source": []
  },
  {
   "cell_type": "code",
   "execution_count": null,
   "metadata": {},
   "outputs": [],
   "source": []
  },
  {
   "cell_type": "code",
   "execution_count": null,
   "metadata": {},
   "outputs": [],
   "source": []
  },
  {
   "cell_type": "code",
   "execution_count": null,
   "metadata": {},
   "outputs": [],
   "source": []
  },
  {
   "cell_type": "code",
   "execution_count": null,
   "metadata": {},
   "outputs": [],
   "source": []
  },
  {
   "cell_type": "code",
   "execution_count": null,
   "metadata": {},
   "outputs": [],
   "source": [
    "\n"
   ]
  }
 ],
 "metadata": {
  "kernelspec": {
   "display_name": "Python 3",
   "language": "python",
   "name": "python3"
  },
  "language_info": {
   "codemirror_mode": {
    "name": "ipython",
    "version": 3
   },
   "file_extension": ".py",
   "mimetype": "text/x-python",
   "name": "python",
   "nbconvert_exporter": "python",
   "pygments_lexer": "ipython3",
   "version": "3.6.3"
  }
 },
 "nbformat": 4,
 "nbformat_minor": 2
}
