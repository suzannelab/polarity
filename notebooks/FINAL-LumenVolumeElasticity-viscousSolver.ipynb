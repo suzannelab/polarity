{
 "cells": [
  {
   "cell_type": "code",
   "execution_count": 2,
   "metadata": {},
   "outputs": [
    {
     "data": {
      "text/plain": [
       "'\\nfrom tyssue import Sheet\\nfrom tyssue.draw import sheet_view\\nfrom tyssue.geometry.sheet_geometry import ClosedSheetGeometry as geom\\nfrom tyssue.io import hdf5\\nfrom tyssue.dynamics import model_factory, effectors\\n\\nfrom tyssue.behaviors import EventManager\\nfrom tyssue.behaviors.sheet import actions, basic_events\\nfrom tyssue.solvers.viscous import EulerSolver\\n\\nfrom tyssue.topology import type1_transition, remove_face\\n\\nfrom tyssue.utils import data_at_opposite\\nfrom tyssue.utils.decorators import face_lookup\\n\\n\\nfrom tyssue.draw import highlight_faces, create_gif\\nfrom tyssue.solvers.quasistatic import QSSolver\\n\\nfrom tyssue.dynamics.sheet_gradients import height_grad\\nfrom tyssue.dynamics import units\\nfrom tyssue.utils import to_nd\\n'"
      ]
     },
     "execution_count": 2,
     "metadata": {},
     "output_type": "execute_result"
    }
   ],
   "source": [
    "# Import \n",
    "import os\n",
    "import time\n",
    "import json\n",
    "import datetime\n",
    "import pandas as pd\n",
    "\n",
    "from pathlib import Path\n",
    "\n",
    "\n",
    "from tyssue import Sheet\n",
    "from tyssue.io import hdf5\n",
    "\n",
    "from tyssue.geometry.sheet_geometry import ClosedSheetGeometry as geom\n",
    "\n",
    "from tyssue.dynamics.sheet_gradients import height_grad\n",
    "from tyssue.dynamics import units, effectors, model_factory\n",
    "\n",
    "from tyssue.solvers.quasistatic import QSSolver\n",
    "from tyssue.solvers.viscous import EulerSolver\n",
    "\n",
    "from polarity.dynamics import RadialTension\n",
    "\n",
    "import matplotlib.pyplot as plt\n",
    "%matplotlib inline\n",
    "\n",
    "\"\"\"\n",
    "from tyssue import Sheet\n",
    "from tyssue.draw import sheet_view\n",
    "from tyssue.geometry.sheet_geometry import ClosedSheetGeometry as geom\n",
    "from tyssue.io import hdf5\n",
    "from tyssue.dynamics import model_factory, effectors\n",
    "\n",
    "from tyssue.behaviors import EventManager\n",
    "from tyssue.behaviors.sheet import actions, basic_events\n",
    "from tyssue.solvers.viscous import EulerSolver\n",
    "\n",
    "from tyssue.topology import type1_transition, remove_face\n",
    "\n",
    "from tyssue.utils import data_at_opposite\n",
    "from tyssue.utils.decorators import face_lookup\n",
    "\n",
    "\n",
    "from tyssue.draw import highlight_faces, create_gif\n",
    "from tyssue.solvers.quasistatic import QSSolver\n",
    "\n",
    "from tyssue.dynamics.sheet_gradients import height_grad\n",
    "from tyssue.dynamics import units\n",
    "from tyssue.utils import to_nd\n",
    "\"\"\""
   ]
  },
  {
   "cell_type": "code",
   "execution_count": 3,
   "metadata": {},
   "outputs": [],
   "source": [
    "SIM_DIR = Path('/home/admin-suz/Documents/Simulations/')\n",
    "today = datetime.date.today()\n",
    "\n",
    "sim_save_dir = SIM_DIR/f'{today.isoformat()}_YolkElasticityTest'\n",
    "\n",
    "try:\n",
    "    os.mkdir(sim_save_dir)\n",
    "except FileExistsError:\n",
    "    pass"
   ]
  },
  {
   "cell_type": "code",
   "execution_count": null,
   "metadata": {},
   "outputs": [],
   "source": []
  },
  {
   "cell_type": "code",
   "execution_count": 4,
   "metadata": {},
   "outputs": [],
   "source": [
    "smodel = model_factory([\n",
    "    RadialTension,\n",
    "    effectors.LumenVolumeElasticity,\n",
    "    effectors.FaceAreaElasticity,\n",
    "    effectors.FaceContractility],\n",
    "effectors.FaceAreaElasticity)\n",
    "\n",
    "\n",
    "model = smodel"
   ]
  },
  {
   "cell_type": "markdown",
   "metadata": {},
   "source": [
    "# Initialisation of the tissue"
   ]
  },
  {
   "cell_type": "code",
   "execution_count": 9,
   "metadata": {},
   "outputs": [],
   "source": [
    "def init():\n",
    "    dsets = hdf5.load_datasets('../examples/superegg_final.hf5',\n",
    "                               data_names=['vert', 'edge', 'face'])\n",
    "\n",
    "    with open('../examples/superegg_final.json', 'r+') as fp:\n",
    "        specs = json.load(fp)\n",
    "\n",
    "    sheet = Sheet('cylinder', dsets, specs)    \n",
    "    return sheet\n",
    "\n",
    "sheet = init()"
   ]
  },
  {
   "cell_type": "markdown",
   "metadata": {},
   "source": [
    "### We first use quasistatic gradient descent to do a first return to equilibrium"
   ]
  },
  {
   "cell_type": "code",
   "execution_count": 10,
   "metadata": {},
   "outputs": [],
   "source": [
    "solver = QSSolver(with_t1=True, with_t3=True)\n",
    "res = QSSolver().find_energy_min(sheet, geom, model)\n",
    "backupSheet = sheet.copy()"
   ]
  },
  {
   "cell_type": "markdown",
   "metadata": {},
   "source": [
    "### Starting the viscous solver"
   ]
  },
  {
   "cell_type": "code",
   "execution_count": 1,
   "metadata": {},
   "outputs": [],
   "source": [
    "sheet =  backupSheet.copy()"
   ]
  },
  {
   "cell_type": "code",
   "execution_count": null,
   "metadata": {},
   "outputs": [],
   "source": []
  },
  {
   "cell_type": "markdown",
   "metadata": {},
   "source": [
    "## Test several value of yolk volume elasticity"
   ]
  },
  {
   "cell_type": "code",
   "execution_count": 21,
   "metadata": {},
   "outputs": [
    {
     "name": "stdout",
     "output_type": "stream",
     "text": [
      "1e-11\n",
      "1e-10\n",
      "1e-09\n",
      "5e-09\n",
      "1e-08\n",
      "2e-08\n",
      "3e-08\n",
      "4e-08\n",
      "7e-08\n",
      "8e-08\n",
      "1e-07\n",
      "2e-07\n",
      "3e-07\n",
      "4e-07\n",
      "7e-07\n",
      "8e-07\n",
      "9e-07\n",
      "1e-06\n",
      "3e-06\n",
      "4e-06\n",
      "7e-06\n",
      "8e-06\n",
      "1e-05\n",
      "2e-05\n",
      "3e-05\n",
      "5e-05\n",
      "7e-05\n",
      "0.0001\n",
      "0.001\n",
      "0.01\n",
      "0.1\n"
     ]
    }
   ],
   "source": [
    "\n",
    "volume = [1.e-11, 1.e-10, 1.e-9, 5.e-9, 1.e-8, 2.e-8, 3.e-8,  4.e-8, 7.e-8, 8.e-8,\n",
    "          1.e-7,2.e-7, 3.e-7, 4.e-7, 7.e-7,8.e-7,9.e-7, 1.e-6, 3.e-6, 4.e-6, 7.e-6, 8.e-6,\n",
    "          1.e-5,2.e-5, 3.e-5, 5.e-5, 7.e-5, 1.e-4, 1.e-3, 1.e-2, 1.e-1]\n",
    "volume_dataframe = pd.DataFrame(columns=['compression'])\n",
    "for v in volume : \n",
    "    sheet=init()\n",
    "    print (v)\n",
    "    sheet.settings['lumen_vol_elasticity'] = v\n",
    "    \n",
    "    res = solver.find_energy_min(sheet, geom, model, options={\"gtol\": 1e-8})\n",
    "    \n",
    "    tp = (v, sheet.settings['lumen_vol']/sheet.settings['lumen_prefered_vol'])\n",
    "    volume_dataframe.loc[v, 'elasticity'] = tp[1]\n",
    "\n",
    "volume_dataframe[\"compression\"] = 100-volume_dataframe[\"elasticity\"]*100\n",
    "volume_dataframe.to_csv('resultats_yolk.csv')\n"
   ]
  },
  {
   "cell_type": "code",
   "execution_count": 22,
   "metadata": {},
   "outputs": [
    {
     "name": "stderr",
     "output_type": "stream",
     "text": [
      "/home/admin-suz/anaconda3/lib/python3.6/site-packages/ipykernel_launcher.py:1: FutureWarning: from_csv is deprecated. Please use read_csv(...) instead. Note that some of the default arguments are different, so please refer to the documentation for from_csv when changing your function calls\n",
      "  \"\"\"Entry point for launching an IPython kernel.\n"
     ]
    },
    {
     "data": {
      "image/png": "[encoded data removed]",
      "text/plain": [
       "<matplotlib.figure.Figure at 0x7f75c43df940>"
      ]
     },
     "metadata": {},
     "output_type": "display_data"
    }
   ],
   "source": [
    "volume_dataframe = pd.DataFrame.from_csv('resultats_yolk.csv')\n",
    "fig = plt.figure()\n",
    "ax = fig.add_subplot(111)\n",
    "volume_dataframe = volume_dataframe.drop(volume_dataframe[volume_dataframe.elasticity == 0].index)\n",
    "ax.plot(volume_dataframe.index, (1-volume_dataframe.elasticity)*100, '.', color = 'black')\n",
    "\n",
    "#ax.plot(3.e-6, (1-volume_dataframe.loc[3.e-6, 'elasticity'])*100, 'o',color = 'red')\n",
    "#ax.axvline(x=3.e-6,ymin=0, ymax=0.08, linewidth=1,linestyle='--', color='red')\n",
    "#ax.axhline(y=(1-volume_dataframe.loc[3.e-6, 'elasticity'])*100, xmin=0, xmax=0.55,\n",
    "#           linewidth=1,linestyle='--', color='red')\n",
    "\n",
    "\n",
    "ax.set_xscale(\"log\")\n",
    "ax.set_xlabel('Yolk elasticity', size=12, family='serif')\n",
    "ax.set_ylabel('Compression (%)', size=12, family='serif')\n",
    "\n",
    "\n",
    "plt.savefig('yolkElasticity.svg', dpi = 300, transparent=True)\n",
    "plt.savefig(\"yolkElasticity.pdf\", dpi = 300, transparent=True)\n"
   ]
  },
  {
   "cell_type": "code",
   "execution_count": 14,
   "metadata": {},
   "outputs": [
    {
     "data": {
      "text/html": [
       "<div>\n",
       "<style scoped>\n",
       "    .dataframe tbody tr th:only-of-type {\n",
       "        vertical-align: middle;\n",
       "    }\n",
       "\n",
       "    .dataframe tbody tr th {\n",
       "        vertical-align: top;\n",
       "    }\n",
       "\n",
       "    .dataframe thead th {\n",
       "        text-align: right;\n",
       "    }\n",
       "</style>\n",
       "<table border=\"1\" class=\"dataframe\">\n",
       "  <thead>\n",
       "    <tr style=\"text-align: right;\">\n",
       "      <th></th>\n",
       "      <th>compression</th>\n",
       "      <th>elasticity</th>\n",
       "    </tr>\n",
       "  </thead>\n",
       "  <tbody>\n",
       "    <tr>\n",
       "      <th>1.000000e-11</th>\n",
       "      <td>51.699142</td>\n",
       "      <td>0.516991</td>\n",
       "    </tr>\n",
       "    <tr>\n",
       "      <th>1.000000e-10</th>\n",
       "      <td>52.540983</td>\n",
       "      <td>0.525410</td>\n",
       "    </tr>\n",
       "    <tr>\n",
       "      <th>1.000000e-09</th>\n",
       "      <td>53.029797</td>\n",
       "      <td>0.530298</td>\n",
       "    </tr>\n",
       "    <tr>\n",
       "      <th>5.000000e-09</th>\n",
       "      <td>50.902521</td>\n",
       "      <td>0.509025</td>\n",
       "    </tr>\n",
       "    <tr>\n",
       "      <th>1.000000e-08</th>\n",
       "      <td>51.893923</td>\n",
       "      <td>0.518939</td>\n",
       "    </tr>\n",
       "    <tr>\n",
       "      <th>2.000000e-08</th>\n",
       "      <td>53.607112</td>\n",
       "      <td>0.536071</td>\n",
       "    </tr>\n",
       "    <tr>\n",
       "      <th>3.000000e-08</th>\n",
       "      <td>54.577510</td>\n",
       "      <td>0.545775</td>\n",
       "    </tr>\n",
       "    <tr>\n",
       "      <th>4.000000e-08</th>\n",
       "      <td>56.724537</td>\n",
       "      <td>0.567245</td>\n",
       "    </tr>\n",
       "    <tr>\n",
       "      <th>7.000000e-08</th>\n",
       "      <td>60.737311</td>\n",
       "      <td>0.607373</td>\n",
       "    </tr>\n",
       "    <tr>\n",
       "      <th>8.000000e-08</th>\n",
       "      <td>61.397206</td>\n",
       "      <td>0.613972</td>\n",
       "    </tr>\n",
       "    <tr>\n",
       "      <th>1.000000e-07</th>\n",
       "      <td>63.342176</td>\n",
       "      <td>0.633422</td>\n",
       "    </tr>\n",
       "    <tr>\n",
       "      <th>2.000000e-07</th>\n",
       "      <td>69.265582</td>\n",
       "      <td>0.692656</td>\n",
       "    </tr>\n",
       "    <tr>\n",
       "      <th>3.000000e-07</th>\n",
       "      <td>73.957955</td>\n",
       "      <td>0.739580</td>\n",
       "    </tr>\n",
       "    <tr>\n",
       "      <th>4.000000e-07</th>\n",
       "      <td>76.996990</td>\n",
       "      <td>0.769970</td>\n",
       "    </tr>\n",
       "    <tr>\n",
       "      <th>7.000000e-07</th>\n",
       "      <td>83.385529</td>\n",
       "      <td>0.833855</td>\n",
       "    </tr>\n",
       "    <tr>\n",
       "      <th>1.000000e-06</th>\n",
       "      <td>87.102214</td>\n",
       "      <td>0.871022</td>\n",
       "    </tr>\n",
       "    <tr>\n",
       "      <th>3.000000e-06</th>\n",
       "      <td>94.687048</td>\n",
       "      <td>0.946870</td>\n",
       "    </tr>\n",
       "    <tr>\n",
       "      <th>4.000000e-06</th>\n",
       "      <td>95.814953</td>\n",
       "      <td>0.958150</td>\n",
       "    </tr>\n",
       "    <tr>\n",
       "      <th>7.000000e-06</th>\n",
       "      <td>97.531723</td>\n",
       "      <td>0.975317</td>\n",
       "    </tr>\n",
       "    <tr>\n",
       "      <th>8.000000e-06</th>\n",
       "      <td>97.813913</td>\n",
       "      <td>0.978139</td>\n",
       "    </tr>\n",
       "    <tr>\n",
       "      <th>1.000000e-05</th>\n",
       "      <td>98.244886</td>\n",
       "      <td>0.982449</td>\n",
       "    </tr>\n",
       "    <tr>\n",
       "      <th>3.000000e-05</th>\n",
       "      <td>99.390730</td>\n",
       "      <td>0.993907</td>\n",
       "    </tr>\n",
       "    <tr>\n",
       "      <th>5.000000e-05</th>\n",
       "      <td>99.635005</td>\n",
       "      <td>0.996350</td>\n",
       "    </tr>\n",
       "    <tr>\n",
       "      <th>7.000000e-05</th>\n",
       "      <td>99.740505</td>\n",
       "      <td>0.997405</td>\n",
       "    </tr>\n",
       "    <tr>\n",
       "      <th>1.000000e-04</th>\n",
       "      <td>99.817062</td>\n",
       "      <td>0.998171</td>\n",
       "    </tr>\n",
       "    <tr>\n",
       "      <th>1.000000e-03</th>\n",
       "      <td>99.984837</td>\n",
       "      <td>0.999848</td>\n",
       "    </tr>\n",
       "    <tr>\n",
       "      <th>1.000000e-02</th>\n",
       "      <td>99.996875</td>\n",
       "      <td>0.999969</td>\n",
       "    </tr>\n",
       "    <tr>\n",
       "      <th>1.000000e-01</th>\n",
       "      <td>100.000046</td>\n",
       "      <td>1.000000</td>\n",
       "    </tr>\n",
       "    <tr>\n",
       "      <th>8.000000e-07</th>\n",
       "      <td>84.876249</td>\n",
       "      <td>0.848762</td>\n",
       "    </tr>\n",
       "    <tr>\n",
       "      <th>9.000000e-07</th>\n",
       "      <td>86.075165</td>\n",
       "      <td>0.860752</td>\n",
       "    </tr>\n",
       "  </tbody>\n",
       "</table>\n",
       "</div>"
      ],
      "text/plain": [
       "              compression  elasticity\n",
       "1.000000e-11    51.699142    0.516991\n",
       "1.000000e-10    52.540983    0.525410\n",
       "1.000000e-09    53.029797    0.530298\n",
       "5.000000e-09    50.902521    0.509025\n",
       "1.000000e-08    51.893923    0.518939\n",
       "2.000000e-08    53.607112    0.536071\n",
       "3.000000e-08    54.577510    0.545775\n",
       "4.000000e-08    56.724537    0.567245\n",
       "7.000000e-08    60.737311    0.607373\n",
       "8.000000e-08    61.397206    0.613972\n",
       "1.000000e-07    63.342176    0.633422\n",
       "2.000000e-07    69.265582    0.692656\n",
       "3.000000e-07    73.957955    0.739580\n",
       "4.000000e-07    76.996990    0.769970\n",
       "7.000000e-07    83.385529    0.833855\n",
       "1.000000e-06    87.102214    0.871022\n",
       "3.000000e-06    94.687048    0.946870\n",
       "4.000000e-06    95.814953    0.958150\n",
       "7.000000e-06    97.531723    0.975317\n",
       "8.000000e-06    97.813913    0.978139\n",
       "1.000000e-05    98.244886    0.982449\n",
       "3.000000e-05    99.390730    0.993907\n",
       "5.000000e-05    99.635005    0.996350\n",
       "7.000000e-05    99.740505    0.997405\n",
       "1.000000e-04    99.817062    0.998171\n",
       "1.000000e-03    99.984837    0.999848\n",
       "1.000000e-02    99.996875    0.999969\n",
       "1.000000e-01   100.000046    1.000000\n",
       "8.000000e-07    84.876249    0.848762\n",
       "9.000000e-07    86.075165    0.860752"
      ]
     },
     "execution_count": 14,
     "metadata": {},
     "output_type": "execute_result"
    }
   ],
   "source": [
    "volume_dataframe"
   ]
  },
  {
   "cell_type": "code",
   "execution_count": 7,
   "metadata": {},
   "outputs": [
    {
     "data": {
      "text/plain": [
       "{'geometry': 'cylindrical',\n",
       " 'height_axis': 'z',\n",
       " 'lumen_prefered_vol': 1655117.8783696312,\n",
       " 'lumen_vol': 855681.7453258925,\n",
       " 'lumen_vol_elasticity': 1e-11,\n",
       " 'nrj_norm_factor': 784,\n",
       " 'threshold_length': 0.1}"
      ]
     },
     "execution_count": 7,
     "metadata": {},
     "output_type": "execute_result"
    }
   ],
   "source": [
    "sheet.settings"
   ]
  },
  {
   "cell_type": "code",
   "execution_count": 15,
   "metadata": {},
   "outputs": [],
   "source": [
    "volume_dataframe.to_csv('resultats_yolk.csv')"
   ]
  },
  {
   "cell_type": "code",
   "execution_count": null,
   "metadata": {},
   "outputs": [],
   "source": []
  }
 ],
 "metadata": {
  "anaconda-cloud": {},
  "kernelspec": {
   "display_name": "Python 3",
   "language": "python",
   "name": "python3"
  },
  "language_info": {
   "codemirror_mode": {
    "name": "ipython",
    "version": 3
   },
   "file_extension": ".py",
   "mimetype": "text/x-python",
   "name": "python",
   "nbconvert_exporter": "python",
   "pygments_lexer": "ipython3",
   "version": "3.6.4"
  },
  "widgets": {
   "state": {
    "8183ffe4462f409db908350a706d48c5": {
     "views": [
      {
       "cell_index": 21
      }
     ]
    }
   },
   "version": "1.2.0"
  }
 },
 "nbformat": 4,
 "nbformat_minor": 1
}
