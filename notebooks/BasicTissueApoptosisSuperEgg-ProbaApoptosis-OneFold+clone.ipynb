{
 "cells": [
  {
   "cell_type": "code",
   "execution_count": 1,
   "metadata": {},
   "outputs": [],
   "source": [
    "# Import \n",
    "import os\n",
    "import time\n",
    "import json\n",
    "import random\n",
    "import datetime\n",
    "import numpy as np\n",
    "import pandas as pd\n",
    "\n",
    "from IPython.display import display\n",
    "\n",
    "from pathlib import Path\n",
    "from tyssue import config\n",
    "from tyssue import Sheet\n",
    "from tyssue.io import hdf5\n",
    "from tyssue.io.hdf5 import load_datasets\n",
    "from tyssue.dynamics import SheetModel as basemodel\n",
    "from tyssue.solvers.quasistatic import QSSolver\n",
    "from tyssue.draw import sheet_view\n",
    "from tyssue.draw.plt_draw import quick_edge_draw\n",
    "from tyssue.draw.ipv_draw import sheet_view as ipv_draw \n",
    "\n",
    "from tyssue.behaviors.event_manager import EventManager\n",
    "from tyssue.behaviors.sheet.apoptosis_events import apoptosis\n",
    "\n",
    "import matplotlib.pyplot as plt\n",
    "%matplotlib inline\n",
    "\n",
    "try:\n",
    "    import seaborn as sns\n",
    "except ImportError:\n",
    "    print('Seaborn not found')\n",
    "\n"
   ]
  },
  {
   "cell_type": "code",
   "execution_count": 2,
   "metadata": {},
   "outputs": [],
   "source": [
    "from polarity.dynamics import model\n",
    "from polarity.apoptosis import apoptosis\n",
    "from polarity.dynamics import EllipsoidLameGeometry as geom\n",
    "#from tyssue.geometry.sheet_geometry import ClosedSheetGeometry as geom\n"
   ]
  },
  {
   "cell_type": "code",
   "execution_count": 3,
   "metadata": {},
   "outputs": [],
   "source": [
    "SIM_DIR = Path('/home/admin-suz/Documents/Simulations/test_apoptosis_20190620_one_fold_clone')\n",
    "\n",
    "sim_save_dir = SIM_DIR\n",
    "\n",
    "try:\n",
    "    os.mkdir(sim_save_dir)\n",
    "except FileExistsError:\n",
    "    pass"
   ]
  },
  {
   "cell_type": "code",
   "execution_count": 4,
   "metadata": {},
   "outputs": [],
   "source": [
    "solver = QSSolver(with_t1=False, with_t3=False, with_collisions=False)"
   ]
  },
  {
   "cell_type": "code",
   "execution_count": 5,
   "metadata": {},
   "outputs": [],
   "source": [
    "from tyssue.dynamics import units, effectors, model_factory\n",
    "from polarity.dynamics import RadialTension\n",
    "model = model_factory(\n",
    "    [\n",
    "        RadialTension,\n",
    "        effectors.FaceContractility,\n",
    "        effectors.FaceAreaElasticity,\n",
    "        effectors.LumenVolumeElasticity,\n",
    "    ], effectors.FaceAreaElasticity)"
   ]
  },
  {
   "cell_type": "code",
   "execution_count": 6,
   "metadata": {},
   "outputs": [],
   "source": [
    "\"\"\"\n",
    "Mesoderm invagination event module\n",
    "=======================\n",
    "\n",
    "\n",
    "\"\"\"\n",
    "\n",
    "import random\n",
    "import numpy as np\n",
    "\n",
    "from tyssue.utils.decorators import face_lookup\n",
    "from tyssue.behaviors.sheet.actions import relax, contract, ab_pull\n",
    "from tyssue.behaviors.sheet.basic_events import contraction\n",
    "\n",
    "\n",
    "default_constriction_spec = {\n",
    "    \"face_id\": -1,\n",
    "    \"face\": -1,\n",
    "    \"contract_rate\": 2,\n",
    "    \"critical_area\": 1e-2,\n",
    "    \"radial_tension\": 1.0,\n",
    "    \"contract_neighbors\": True,\n",
    "    \"critical_area_neighbors\": 10,\n",
    "    \"contract_span\": 2,\n",
    "    \"basal_contract_rate\": 1.001,\n",
    "    \"current_traction\": 0,\n",
    "    \"max_traction\": 30,\n",
    "    \"contraction_column\": \"contractility\",\n",
    "}\n",
    "\n",
    "\n",
    "@face_lookup\n",
    "def delamination(sheet, manager, **kwargs):\n",
    "    \"\"\"Constriction process\n",
    "    This function corresponds to the process called \"apical constriction\"\n",
    "    in the manuscript\n",
    "    The cell undergoing delamination first contracts its apical\n",
    "    area until it reaches a critical area. A probability\n",
    "    dependent to the apical area allow an apico-basal\n",
    "    traction of the cell. The cell can pull during max_traction\n",
    "    time step, not necessarily consecutively.\n",
    "    Parameters\n",
    "    ----------\n",
    "    sheet : a :class:`tyssue.sheet` object\n",
    "    manager : a :class:`tyssue.events.EventManager` object\n",
    "    face_id : int\n",
    "       the Id of the face undergoing delamination.\n",
    "    contract_rate : float, default 2\n",
    "       rate of increase of the face contractility.\n",
    "    critical_area : float, default 1e-2\n",
    "       face's area under which the cell starts loosing sides.\n",
    "    radial_tension : float, default 1.\n",
    "       tension applied on the face vertices along the\n",
    "       apical-basal axis.\n",
    "    contract_neighbors : bool, default `False`\n",
    "       if True, the face contraction triggers contraction of the neighbor\n",
    "       faces.\n",
    "    contract_span : int, default 2\n",
    "       rank of neighbors contracting if contract_neighbor is True. Contraction\n",
    "       rate for the neighbors is equal to `contract_rate` devided by\n",
    "       the rank.\n",
    "    \"\"\"\n",
    "    constriction_spec = default_constriction_spec\n",
    "    constriction_spec.update(**kwargs)\n",
    "\n",
    "    # initialiser une variable face\n",
    "    # aller chercher la valeur dans le dictionnaire à chaque fois ?\n",
    "    face = constriction_spec[\"face\"]\n",
    "    contract_rate = constriction_spec[\"contract_rate\"]\n",
    "    current_traction = constriction_spec[\"current_traction\"]\n",
    "\n",
    "    \n",
    "    \n",
    "    face_area = sheet.face_df.loc[face, \"area\"]\n",
    "\n",
    "    if face_area > constriction_spec[\"critical_area\"]:\n",
    "        contract(\n",
    "            sheet,\n",
    "            face,\n",
    "            contract_rate,\n",
    "            True,\n",
    "            constriction_spec[\"contraction_column\"],\n",
    "        )\n",
    "        # if sheet.face_df.loc[face, 'prefered_area'] > 6:\n",
    "        #    sheet.face_df.loc[face, 'prefered_area'] -= 0.5\n",
    "        # increase_linear_tension(sheet, face, contract_rate)\n",
    "\n",
    "        if (constriction_spec[\"contract_neighbors\"]) & (\n",
    "            face_area < constriction_spec[\"critical_area_neighbors\"]\n",
    "        ):\n",
    "            neighbors = sheet.get_neighborhood(\n",
    "                face, constriction_spec[\"contract_span\"]\n",
    "            ).dropna()\n",
    "            neighbors[\"id\"] = sheet.face_df.loc[neighbors.face, \"id\"].values\n",
    "\n",
    "            manager.extend(\n",
    "                [\n",
    "                    (\n",
    "                        contraction,\n",
    "                        _neighbor_contractile_increase_delamination(neighbor, constriction_spec),\n",
    "                    )  # TODO: check this\n",
    "                    for _, neighbor in neighbors.iterrows()\n",
    "                ]\n",
    "            )\n",
    "\n",
    "    proba_tension = np.exp(-face_area / constriction_spec[\"critical_area\"])\n",
    "    aleatory_number = random.uniform(0, 1)\n",
    "    if current_traction < constriction_spec[\"max_traction\"]:\n",
    "        if aleatory_number < proba_tension:\n",
    "            current_traction = current_traction + 1\n",
    "            ab_pull(sheet, face, constriction_spec[\"radial_tension\"], True)\n",
    "            constriction_spec.update({\"current_traction\": current_traction})\n",
    "\n",
    "    manager.append(delamination, **constriction_spec)\n",
    "\n",
    "\n",
    "def _neighbor_contractile_increase_delamination(neighbor, constriction_spec):\n",
    "\n",
    "    contract = constriction_spec[\"contract_rate\"]\n",
    "    basal_contract = constriction_spec[\"basal_contract_rate\"]\n",
    "\n",
    "    increase = (\n",
    "        -(contract - basal_contract) / constriction_spec[\"contract_span\"]\n",
    "    ) * neighbor[\"order\"] + contract\n",
    "\n",
    "    specs = {\n",
    "        \"face_id\": neighbor[\"id\"],\n",
    "        \"contractile_increase\": increase,\n",
    "        \"critical_area\": constriction_spec[\"critical_area\"],\n",
    "        \"max_contractility\": 50,\n",
    "        \"contraction_column\": constriction_spec[\"contraction_column\"],\n",
    "        \"multiple\": True,\n",
    "        \"unique\": False,\n",
    "    }\n",
    "\n",
    "    return specs\n"
   ]
  },
  {
   "cell_type": "code",
   "execution_count": 7,
   "metadata": {},
   "outputs": [],
   "source": [
    "# Create tissue tissue \n",
    "\n",
    "def load_before_apopto(anchor_tension=0):\n",
    "\n",
    "    h5store = '../examples/superegg_final.hf5'\n",
    "\n",
    "    datasets = load_datasets(h5store,\n",
    "                             data_names=['face', 'vert', 'edge'])\n",
    "    \n",
    "    with open('../examples/superegg_final.json', 'r+') as fp:\n",
    "        specs = json.load(fp)\n",
    "    \n",
    "    sheet = Sheet('spherical', datasets, specs)\n",
    "    sheet.settings['geometry'] = \"spherical\"\n",
    "    sheet.settings['lumen_volume_elasticity'] = 3.e-6\n",
    "    #sheet.settings['lumen_prefered_vol'] = sheet.settings['lumen_prefered_vol'] - sheet.settings['lumen_prefered_vol']*10/100\n",
    "\n",
    "    return sheet\n",
    "\n",
    "sheet = load_before_apopto(0)\n",
    "\n",
    "geom.update_all(sheet)\n",
    "\n"
   ]
  },
  {
   "cell_type": "code",
   "execution_count": 8,
   "metadata": {},
   "outputs": [
    {
     "ename": "KeyError",
     "evalue": "'barrier_ray'",
     "output_type": "error",
     "traceback": [
      "\u001b[0;31m---------------------------------------------------------------------------\u001b[0m",
      "\u001b[0;31mKeyError\u001b[0m                                  Traceback (most recent call last)",
      "\u001b[0;32m<ipython-input-8-e6239354612c>\u001b[0m in \u001b[0;36m<module>\u001b[0;34m()\u001b[0m\n\u001b[1;32m      3\u001b[0m \u001b[0mtheta\u001b[0m \u001b[0;34m=\u001b[0m \u001b[0mnp\u001b[0m\u001b[0;34m.\u001b[0m\u001b[0mlinspace\u001b[0m\u001b[0;34m(\u001b[0m\u001b[0;36m0\u001b[0m\u001b[0;34m,\u001b[0m \u001b[0;36m2\u001b[0m\u001b[0;34m*\u001b[0m\u001b[0mnp\u001b[0m\u001b[0;34m.\u001b[0m\u001b[0mpi\u001b[0m\u001b[0;34m,\u001b[0m \u001b[0;36m100\u001b[0m\u001b[0;34m)\u001b[0m\u001b[0;34m\u001b[0m\u001b[0m\n\u001b[1;32m      4\u001b[0m \u001b[0;34m\u001b[0m\u001b[0m\n\u001b[0;32m----> 5\u001b[0;31m \u001b[0mx\u001b[0m \u001b[0;34m=\u001b[0m \u001b[0mnp\u001b[0m\u001b[0;34m.\u001b[0m\u001b[0mcos\u001b[0m\u001b[0;34m(\u001b[0m\u001b[0mtheta\u001b[0m\u001b[0;34m)\u001b[0m\u001b[0;34m*\u001b[0m\u001b[0msheet\u001b[0m\u001b[0;34m.\u001b[0m\u001b[0msettings\u001b[0m\u001b[0;34m[\u001b[0m\u001b[0;34m'barrier_ray'\u001b[0m\u001b[0;34m]\u001b[0m\u001b[0;34m\u001b[0m\u001b[0m\n\u001b[0m\u001b[1;32m      6\u001b[0m \u001b[0my\u001b[0m \u001b[0;34m=\u001b[0m \u001b[0mnp\u001b[0m\u001b[0;34m.\u001b[0m\u001b[0msin\u001b[0m\u001b[0;34m(\u001b[0m\u001b[0mtheta\u001b[0m\u001b[0;34m)\u001b[0m\u001b[0;34m*\u001b[0m\u001b[0msheet\u001b[0m\u001b[0;34m.\u001b[0m\u001b[0msettings\u001b[0m\u001b[0;34m[\u001b[0m\u001b[0;34m'barrier_ray'\u001b[0m\u001b[0;34m]\u001b[0m\u001b[0;34m\u001b[0m\u001b[0m\n\u001b[1;32m      7\u001b[0m \u001b[0max\u001b[0m\u001b[0;34m.\u001b[0m\u001b[0mplot\u001b[0m\u001b[0;34m(\u001b[0m\u001b[0mx\u001b[0m\u001b[0;34m,\u001b[0m\u001b[0my\u001b[0m\u001b[0;34m)\u001b[0m\u001b[0;34m\u001b[0m\u001b[0m\n",
      "\u001b[0;31mKeyError\u001b[0m: 'barrier_ray'"
     ]
    },
    {
     "data": {
      "image/png": "[encoded data removed]",
      "text/plain": [
       "<matplotlib.figure.Figure at 0x7f906d587b70>"
      ]
     },
     "metadata": {},
     "output_type": "display_data"
    }
   ],
   "source": [
    "fig, ax = quick_edge_draw(sheet, ['z', 'x'],\n",
    "                              alpha=0.7)\n",
    "theta = np.linspace(0, 2*np.pi, 100)\n",
    "\n",
    "x = np.cos(theta)*sheet.settings['barrier_ray']\n",
    "y = np.sin(theta)*sheet.settings['barrier_ray']\n",
    "ax.plot(x,y)\n",
    "#ax.axhline(55, color='r')\n",
    "#ax.axhline(-55, color='r')\n",
    "fig.set_size_inches(18.5, 10.5, forward=True)"
   ]
  },
  {
   "cell_type": "code",
   "execution_count": 9,
   "metadata": {},
   "outputs": [
    {
     "ename": "KeyError",
     "evalue": "'barrier_ray'",
     "output_type": "error",
     "traceback": [
      "\u001b[0;31m---------------------------------------------------------------------------\u001b[0m",
      "\u001b[0;31mKeyError\u001b[0m                                  Traceback (most recent call last)",
      "\u001b[0;32m<ipython-input-9-89b44ff3d556>\u001b[0m in \u001b[0;36m<module>\u001b[0;34m()\u001b[0m\n\u001b[1;32m      5\u001b[0m \u001b[0mtheta\u001b[0m \u001b[0;34m=\u001b[0m \u001b[0mnp\u001b[0m\u001b[0;34m.\u001b[0m\u001b[0mlinspace\u001b[0m\u001b[0;34m(\u001b[0m\u001b[0;36m0\u001b[0m\u001b[0;34m,\u001b[0m \u001b[0;36m2\u001b[0m\u001b[0;34m*\u001b[0m\u001b[0mnp\u001b[0m\u001b[0;34m.\u001b[0m\u001b[0mpi\u001b[0m\u001b[0;34m,\u001b[0m \u001b[0;36m100\u001b[0m\u001b[0;34m)\u001b[0m\u001b[0;34m\u001b[0m\u001b[0m\n\u001b[1;32m      6\u001b[0m \u001b[0;34m\u001b[0m\u001b[0m\n\u001b[0;32m----> 7\u001b[0;31m \u001b[0mx\u001b[0m \u001b[0;34m=\u001b[0m \u001b[0mnp\u001b[0m\u001b[0;34m.\u001b[0m\u001b[0mcos\u001b[0m\u001b[0;34m(\u001b[0m\u001b[0mtheta\u001b[0m\u001b[0;34m)\u001b[0m\u001b[0;34m*\u001b[0m\u001b[0msheet\u001b[0m\u001b[0;34m.\u001b[0m\u001b[0msettings\u001b[0m\u001b[0;34m[\u001b[0m\u001b[0;34m'barrier_ray'\u001b[0m\u001b[0;34m]\u001b[0m\u001b[0;34m\u001b[0m\u001b[0m\n\u001b[0m\u001b[1;32m      8\u001b[0m \u001b[0my\u001b[0m \u001b[0;34m=\u001b[0m \u001b[0mnp\u001b[0m\u001b[0;34m.\u001b[0m\u001b[0msin\u001b[0m\u001b[0;34m(\u001b[0m\u001b[0mtheta\u001b[0m\u001b[0;34m)\u001b[0m\u001b[0;34m*\u001b[0m\u001b[0msheet\u001b[0m\u001b[0;34m.\u001b[0m\u001b[0msettings\u001b[0m\u001b[0;34m[\u001b[0m\u001b[0;34m'barrier_ray'\u001b[0m\u001b[0;34m]\u001b[0m\u001b[0;34m\u001b[0m\u001b[0m\n\u001b[1;32m      9\u001b[0m \u001b[0max\u001b[0m\u001b[0;34m.\u001b[0m\u001b[0mplot\u001b[0m\u001b[0;34m(\u001b[0m\u001b[0mx\u001b[0m\u001b[0;34m,\u001b[0m\u001b[0my\u001b[0m\u001b[0;34m)\u001b[0m\u001b[0;34m\u001b[0m\u001b[0m\n",
      "\u001b[0;31mKeyError\u001b[0m: 'barrier_ray'"
     ]
    },
    {
     "data": {
      "image/png": "[encoded data removed]",
      "text/plain": [
       "<matplotlib.figure.Figure at 0x7f9052bfa198>"
      ]
     },
     "metadata": {},
     "output_type": "display_data"
    }
   ],
   "source": [
    "res = solver.find_energy_min(sheet, geom, model, options={\"gtol\": 1e-8})\n",
    "\n",
    "fig, ax = quick_edge_draw(sheet, ['z', 'x'],\n",
    "                              alpha=0.7)\n",
    "theta = np.linspace(0, 2*np.pi, 100)\n",
    "\n",
    "x = np.cos(theta)*sheet.settings['barrier_ray']\n",
    "y = np.sin(theta)*sheet.settings['barrier_ray']\n",
    "ax.plot(x,y)\n",
    "fig.set_size_inches(18.5, 10.5, forward=True)"
   ]
  },
  {
   "cell_type": "code",
   "execution_count": 10,
   "metadata": {},
   "outputs": [
    {
     "data": {
      "application/vnd.jupyter.widget-view+json": {
       "model_id": "0b3dd653b6ac45b6b46de310480dd1d4",
       "version_major": 2,
       "version_minor": 0
      },
      "text/html": [
       "<p>Failed to display Jupyter Widget of type <code>Figure</code>.</p>\n",
       "<p>\n",
       "  If you're reading this message in the Jupyter Notebook or JupyterLab Notebook, it may mean\n",
       "  that the widgets JavaScript is still loading. If this message persists, it\n",
       "  likely means that the widgets JavaScript library is either not installed or\n",
       "  not enabled. See the <a href=\"https://ipywidgets.readthedocs.io/en/stable/user_install.html\">Jupyter\n",
       "  Widgets Documentation</a> for setup instructions.\n",
       "</p>\n",
       "<p>\n",
       "  If you're reading this message in another frontend (for example, a static\n",
       "  rendering on GitHub or <a href=\"https://nbviewer.jupyter.org/\">NBViewer</a>),\n",
       "  it may mean that your frontend doesn't currently support widgets.\n",
       "</p>\n"
      ],
      "text/plain": [
       "Figure(camera_center=[0.0, 0.0, 0.0], height=500, matrix_projection=[0.0, 0.0, 0.0, 0.0, 0.0, 0.0, 0.0, 0.0, 0.0, 0.0, 0.0, 0.0, 0.0, 0.0, 0.0, 0.0], matrix_world=[0.0, 0.0, 0.0, 0.0, 0.0, 0.0, 0.0, 0.0, 0.0, 0.0, 0.0, 0.0, 0.0, 0.0, 0.0, 0.0], meshes=[Mesh(color=array('white', dtype='<U5'), lines=array([[2454, 1907],\n",
       "       [ 713,  529],\n",
       "       [ 359, 2845],\n",
       "       ...,\n",
       "       [1479, 3299],\n",
       "       [3299,  127],\n",
       "       [ 127, 3299]], dtype=uint32), texture=None, x=array([-16.24229665,  -6.36545131,  -5.35211801, ...,  61.21090859,\n",
       "        60.97425386,  52.80559743]), y=array([ -7.91526583,   7.21032949, -11.45101628, ...,  33.25593943,\n",
       "       -48.48026853, -50.80571962]), z=array([ 57.14715693,  57.64845669,  56.84259524, ..., -38.85622957,\n",
       "        -3.3444838 ,  -6.57379168])), Mesh(color=array('black', dtype='<U5'), texture=None, triangles=array([[    0,  1652, 11552],\n",
       "       [ 1632,  1653, 11553],\n",
       "       [  178,  1654, 11554],\n",
       "       ...,\n",
       "       [ 1396, 11549, 21449],\n",
       "       [  728, 11550, 21450],\n",
       "       [ 1651, 11551, 21451]], dtype=uint32), x=array([-15.56336958, -13.87037085, -25.20547551, ...,  52.83935532,\n",
       "        58.0996793 ,  52.83935532]), y=array([ -3.98872782, -10.53230642, -14.25317465, ..., -50.74933131,\n",
       "       -48.93464919, -50.74933131]), z=array([57.40989852, 56.79386021, 54.76213058, ..., -6.55220353,\n",
       "       -7.33862   , -6.55220353]))], style={'axes': {'visible': False, 'label': {'color': 'white'}, 'ticklabel': {'color': 'white'}, 'color': 'white'}, 'box': {'visible': False}, 'background-color': 'black'}, tf=None, width=400, xlim=[-113.94562206950678, 120.34243446335152], ylim=[-113.94562206950678, 120.34243446335152], zlim=[-113.94562206950678, 120.34243446335152])"
      ]
     },
     "metadata": {},
     "output_type": "display_data"
    }
   ],
   "source": [
    "\"\"\"import ipyvolume as ipv\n",
    "ipv.clear()\n",
    "# code couleur profondeur du tissu\n",
    "fig, mesh = sheet_view(sheet, mode=\"3D\", coords=['z', 'x', 'y'],\n",
    "                   edge={'color':sheet.vert_df.y*(sheet.vert_df.y>0),\n",
    "                         'colormap':'viridis'})\n",
    "fig\"\"\"\n",
    "import ipyvolume as ipv\n",
    "ipv.clear()\n",
    "# code couleur profondeur du tissu\n",
    "fig, mesh = sheet_view(sheet, mode=\"3D\", coords=['z', 'x', 'y'],\n",
    "                   edge={'color':'white'},\n",
    "                      face={'color':'black', 'visible':True})\n",
    "fig\n",
    "\n"
   ]
  },
  {
   "cell_type": "code",
   "execution_count": null,
   "metadata": {
    "scrolled": false
   },
   "outputs": [],
   "source": []
  },
  {
   "cell_type": "code",
   "execution_count": null,
   "metadata": {
    "scrolled": false
   },
   "outputs": [],
   "source": []
  },
  {
   "cell_type": "code",
   "execution_count": 11,
   "metadata": {},
   "outputs": [
    {
     "name": "stdout",
     "output_type": "stream",
     "text": [
      "113\n"
     ]
    },
    {
     "data": {
      "application/vnd.jupyter.widget-view+json": {
       "model_id": "9c38647f0b5648a28d4845fb94e6ef18",
       "version_major": 2,
       "version_minor": 0
      },
      "text/html": [
       "<p>Failed to display Jupyter Widget of type <code>Figure</code>.</p>\n",
       "<p>\n",
       "  If you're reading this message in the Jupyter Notebook or JupyterLab Notebook, it may mean\n",
       "  that the widgets JavaScript is still loading. If this message persists, it\n",
       "  likely means that the widgets JavaScript library is either not installed or\n",
       "  not enabled. See the <a href=\"https://ipywidgets.readthedocs.io/en/stable/user_install.html\">Jupyter\n",
       "  Widgets Documentation</a> for setup instructions.\n",
       "</p>\n",
       "<p>\n",
       "  If you're reading this message in another frontend (for example, a static\n",
       "  rendering on GitHub or <a href=\"https://nbviewer.jupyter.org/\">NBViewer</a>),\n",
       "  it may mean that your frontend doesn't currently support widgets.\n",
       "</p>\n"
      ],
      "text/plain": [
       "Figure(camera_center=[0.0, 0.0, 0.0], height=500, matrix_projection=[0.0, 0.0, 0.0, 0.0, 0.0, 0.0, 0.0, 0.0, 0.0, 0.0, 0.0, 0.0, 0.0, 0.0, 0.0, 0.0], matrix_world=[0.0, 0.0, 0.0, 0.0, 0.0, 0.0, 0.0, 0.0, 0.0, 0.0, 0.0, 0.0, 0.0, 0.0, 0.0, 0.0], meshes=[Mesh(color=array('lightslategrey', dtype='<U14'), lines=array([[2454, 1907],\n",
       "       [ 713,  529],\n",
       "       [ 359, 2845],\n",
       "       ...,\n",
       "       [1479, 3299],\n",
       "       [3299,  127],\n",
       "       [ 127, 3299]], dtype=uint32), texture=None, x=array([-16.24229665,  -6.36545131,  -5.35211801, ...,  61.21090859,\n",
       "        60.97425386,  52.80559743]), y=array([ -7.91526583,   7.21032949, -11.45101628, ...,  33.25593943,\n",
       "       -48.48026853, -50.80571962]), z=array([ 57.14715693,  57.64845669,  56.84259524, ..., -38.85622957,\n",
       "        -3.3444838 ,  -6.57379168])), Mesh(color=array([[1.        , 0.96078431, 0.94117647],\n",
       "       [1.        , 0.96078431, 0.94117647],\n",
       "       [1.        , 0.96078431, 0.94117647],\n",
       "       ...,\n",
       "       [1.        , 0.96078431, 0.94117647],\n",
       "       [1.        , 0.96078431, 0.94117647],\n",
       "       [1.        , 0.96078431, 0.94117647]]), texture=None, triangles=array([[    0,  1652, 11552],\n",
       "       [ 1632,  1653, 11553],\n",
       "       [  178,  1654, 11554],\n",
       "       ...,\n",
       "       [ 1396, 11549, 21449],\n",
       "       [  728, 11550, 21450],\n",
       "       [ 1651, 11551, 21451]], dtype=uint32), x=array([-15.56336958, -13.87037085, -25.20547551, ...,  52.83935532,\n",
       "        58.0996793 ,  52.83935532]), y=array([ -3.98872782, -10.53230642, -14.25317465, ..., -50.74933131,\n",
       "       -48.93464919, -50.74933131]), z=array([57.40989852, 56.79386021, 54.76213058, ..., -6.55220353,\n",
       "       -7.33862   , -6.55220353]))], style={'axes': {'visible': False, 'label': {'color': 'white'}, 'ticklabel': {'color': 'white'}, 'color': 'white'}, 'box': {'visible': False}, 'background-color': 'black'}, tf=None, width=400, xlim=[-113.94562206950678, 120.34243446335152], ylim=[-113.94562206950678, 120.34243446335152], zlim=[-113.94562206950678, 120.34243446335152])"
      ]
     },
     "metadata": {},
     "output_type": "display_data"
    }
   ],
   "source": [
    "def define_fold_position(sheet, fold_number = 2, position=[-36, -22, 22, 36]):\n",
    "    #position = [min, max, min, max]\n",
    "    sheet.face_df['fold'] = 0\n",
    "    for i in range(fold_number):\n",
    "        i=i*2\n",
    "        sheet.face_df.loc[sheet.face_df[(sheet.face_df.z>position[i]) \n",
    "                                        & (sheet.face_df.z<position[i+1])].index, 'fold'] = i+1\n",
    "        \n",
    "        \n",
    "        \n",
    "define_fold_position(sheet, fold_number = 1, position=[-7, 7])\n",
    "print(len(sheet.face_df[sheet.face_df.fold==1]))\n",
    "ipv.clear()\n",
    "# code couleur profondeur du tissu\n",
    "fig, mesh = sheet_view(sheet, mode=\"3D\", coords=['z', 'x', 'y'],\n",
    "                   edge={'color':'lightslategrey',\n",
    "                         'visible':True},\n",
    "                   face={'color': sheet.face_df.fold,\n",
    "                        'colormap':'Reds',\n",
    "                        'visible':True})\n",
    "fig\n"
   ]
  },
  {
   "cell_type": "code",
   "execution_count": 36,
   "metadata": {},
   "outputs": [
    {
     "data": {
      "application/vnd.jupyter.widget-view+json": {
       "model_id": "1051ba1cb8b8454080b71e4b0a81a549",
       "version_major": 2,
       "version_minor": 0
      },
      "text/html": [
       "<p>Failed to display Jupyter Widget of type <code>Figure</code>.</p>\n",
       "<p>\n",
       "  If you're reading this message in the Jupyter Notebook or JupyterLab Notebook, it may mean\n",
       "  that the widgets JavaScript is still loading. If this message persists, it\n",
       "  likely means that the widgets JavaScript library is either not installed or\n",
       "  not enabled. See the <a href=\"https://ipywidgets.readthedocs.io/en/stable/user_install.html\">Jupyter\n",
       "  Widgets Documentation</a> for setup instructions.\n",
       "</p>\n",
       "<p>\n",
       "  If you're reading this message in another frontend (for example, a static\n",
       "  rendering on GitHub or <a href=\"https://nbviewer.jupyter.org/\">NBViewer</a>),\n",
       "  it may mean that your frontend doesn't currently support widgets.\n",
       "</p>\n"
      ],
      "text/plain": [
       "Figure(camera_center=[0.0, 0.0, 0.0], height=500, matrix_projection=[0.0, 0.0, 0.0, 0.0, 0.0, 0.0, 0.0, 0.0, 0.0, 0.0, 0.0, 0.0, 0.0, 0.0, 0.0, 0.0], matrix_world=[0.0, 0.0, 0.0, 0.0, 0.0, 0.0, 0.0, 0.0, 0.0, 0.0, 0.0, 0.0, 0.0, 0.0, 0.0, 0.0], meshes=[Mesh(color=array('lightslategrey', dtype='<U14'), lines=array([[2454, 1907],\n",
       "       [ 713,  529],\n",
       "       [ 359, 2845],\n",
       "       ...,\n",
       "       [1479, 3299],\n",
       "       [3299,  127],\n",
       "       [ 127, 3299]], dtype=uint32), texture=None, x=array([-16.24229665,  -6.36545131,  -5.35211801, ...,  61.21090859,\n",
       "        60.97425386,  52.80559743]), y=array([ -7.91526583,   7.21032949, -11.45101628, ...,  33.25593943,\n",
       "       -48.48026853, -50.80571962]), z=array([ 57.14715693,  57.64845669,  56.84259524, ..., -38.85622957,\n",
       "        -3.3444838 ,  -6.57379168])), Mesh(color=array([[1.        , 0.96078431, 0.94117647],\n",
       "       [1.        , 0.96078431, 0.94117647],\n",
       "       [1.        , 0.96078431, 0.94117647],\n",
       "       ...,\n",
       "       [1.        , 0.96078431, 0.94117647],\n",
       "       [1.        , 0.96078431, 0.94117647],\n",
       "       [1.        , 0.96078431, 0.94117647]]), texture=None, triangles=array([[    0,  1652, 11552],\n",
       "       [ 1632,  1653, 11553],\n",
       "       [  178,  1654, 11554],\n",
       "       ...,\n",
       "       [ 1396, 11549, 21449],\n",
       "       [  728, 11550, 21450],\n",
       "       [ 1651, 11551, 21451]], dtype=uint32), x=array([-15.56336958, -13.87037085, -25.20547551, ...,  52.83935532,\n",
       "        58.0996793 ,  52.83935532]), y=array([ -3.98872782, -10.53230642, -14.25317465, ..., -50.74933131,\n",
       "       -48.93464919, -50.74933131]), z=array([57.40989852, 56.79386021, 54.76213058, ..., -6.55220353,\n",
       "       -7.33862   , -6.55220353]))], style={'axes': {'visible': False, 'label': {'color': 'white'}, 'ticklabel': {'color': 'white'}, 'color': 'white'}, 'box': {'visible': False}, 'background-color': 'black'}, tf=None, width=400, xlim=[-113.94562206950678, 120.34243446335152], ylim=[-113.94562206950678, 120.34243446335152], zlim=[-113.94562206950678, 120.34243446335152])"
      ]
     },
     "metadata": {},
     "output_type": "display_data"
    }
   ],
   "source": [
    "#Add clone cell\n",
    "#clone of 4 cells\n",
    "\n",
    "sheet.face_df['is_mesoderm']=0\n",
    "index_clone_cells = sheet.face_df[(sheet.face_df.z>20) & (sheet.face_df.z<33) \n",
    "              & (sheet.face_df.y>41)&(sheet.face_df.y<51)\n",
    "                    & (sheet.face_df.x>0)].index\n",
    "sheet.face_df.loc[index_clone_cells, 'is_mesoderm']=1\n",
    "ipv.clear()\n",
    "# code couleur profondeur du tissu\n",
    "fig, mesh = sheet_view(sheet, mode=\"3D\", coords=['z', 'x', 'y'],\n",
    "                   edge={'color':'lightslategrey',\n",
    "                         'visible':True},\n",
    "                   face={'color': sheet.face_df.fold+sheet.face_df.is_mesoderm,\n",
    "                        'colormap':'Reds',\n",
    "                        'visible':True})\n",
    "fig"
   ]
  },
  {
   "cell_type": "code",
   "execution_count": 25,
   "metadata": {},
   "outputs": [
    {
     "data": {
      "application/vnd.jupyter.widget-view+json": {
       "model_id": "76eced4e2c4c4462bc32fa830e1e414d",
       "version_major": 2,
       "version_minor": 0
      },
      "text/html": [
       "<p>Failed to display Jupyter Widget of type <code>Figure</code>.</p>\n",
       "<p>\n",
       "  If you're reading this message in the Jupyter Notebook or JupyterLab Notebook, it may mean\n",
       "  that the widgets JavaScript is still loading. If this message persists, it\n",
       "  likely means that the widgets JavaScript library is either not installed or\n",
       "  not enabled. See the <a href=\"https://ipywidgets.readthedocs.io/en/stable/user_install.html\">Jupyter\n",
       "  Widgets Documentation</a> for setup instructions.\n",
       "</p>\n",
       "<p>\n",
       "  If you're reading this message in another frontend (for example, a static\n",
       "  rendering on GitHub or <a href=\"https://nbviewer.jupyter.org/\">NBViewer</a>),\n",
       "  it may mean that your frontend doesn't currently support widgets.\n",
       "</p>\n"
      ],
      "text/plain": [
       "Figure(camera_center=[0.0, 0.0, 0.0], height=500, matrix_projection=[0.0, 0.0, 0.0, 0.0, 0.0, 0.0, 0.0, 0.0, 0.0, 0.0, 0.0, 0.0, 0.0, 0.0, 0.0, 0.0], matrix_world=[0.0, 0.0, 0.0, 0.0, 0.0, 0.0, 0.0, 0.0, 0.0, 0.0, 0.0, 0.0, 0.0, 0.0, 0.0, 0.0], meshes=[Mesh(color=array('lightslategrey', dtype='<U14'), lines=array([[2454, 1907],\n",
       "       [ 713,  529],\n",
       "       [ 359, 2845],\n",
       "       ...,\n",
       "       [1479, 3299],\n",
       "       [3299,  127],\n",
       "       [ 127, 3299]], dtype=uint32), texture=None, x=array([-16.24229665,  -6.36545131,  -5.35211801, ...,  61.21090859,\n",
       "        60.97425386,  52.80559743]), y=array([ -7.91526583,   7.21032949, -11.45101628, ...,  33.25593943,\n",
       "       -48.48026853, -50.80571962]), z=array([ 57.14715693,  57.64845669,  56.84259524, ..., -38.85622957,\n",
       "        -3.3444838 ,  -6.57379168])), Mesh(color=array([[1.        , 0.96078431, 0.94117647],\n",
       "       [1.        , 0.96078431, 0.94117647],\n",
       "       [1.        , 0.96078431, 0.94117647],\n",
       "       ...,\n",
       "       [1.        , 0.96078431, 0.94117647],\n",
       "       [1.        , 0.96078431, 0.94117647],\n",
       "       [1.        , 0.96078431, 0.94117647]]), texture=None, triangles=array([[    0,  1652, 11552],\n",
       "       [ 1632,  1653, 11553],\n",
       "       [  178,  1654, 11554],\n",
       "       ...,\n",
       "       [ 1396, 11549, 21449],\n",
       "       [  728, 11550, 21450],\n",
       "       [ 1651, 11551, 21451]], dtype=uint32), x=array([-15.56336958, -13.87037085, -25.20547551, ...,  52.83935532,\n",
       "        58.0996793 ,  52.83935532]), y=array([ -3.98872782, -10.53230642, -14.25317465, ..., -50.74933131,\n",
       "       -48.93464919, -50.74933131]), z=array([57.40989852, 56.79386021, 54.76213058, ..., -6.55220353,\n",
       "       -7.33862   , -6.55220353]))], style={'axes': {'visible': False, 'label': {'color': 'white'}, 'ticklabel': {'color': 'white'}, 'color': 'white'}, 'box': {'visible': False}, 'background-color': 'black'}, tf=None, width=400, xlim=[-113.94562206950678, 120.34243446335152], ylim=[-113.94562206950678, 120.34243446335152], zlim=[-113.94562206950678, 120.34243446335152])"
      ]
     },
     "metadata": {},
     "output_type": "display_data"
    }
   ],
   "source": [
    "sheet.face_df['apoptosis'] = 0\n",
    "\n",
    "\n",
    "def apoptosis_ventral (sheet, code_fold = 1):\n",
    "    \n",
    "    fold_cell= sheet.face_df[sheet.face_df.fold == code_fold]\n",
    "    \n",
    "    for i in fold_cell.itertuples(): \n",
    "        proba = 0.6*np.exp(-(i.phi+3)**2/0.7**2) + 0.6*np.exp(-(i.phi-3)**2/0.7**2)\n",
    "        aleatory_number = random.uniform(0,1)\n",
    "        if aleatory_number < proba:\n",
    "            sheet.face_df.loc[i.Index, \"apoptosis\"] = 1\n",
    "        \n",
    "\n",
    "\n",
    "apoptosis_ventral(sheet, 1)\n",
    "\n",
    "ipv.clear()\n",
    "# code couleur profondeur du tissu\n",
    "fig, mesh = sheet_view(sheet, mode=\"3D\", coords=['z', 'x', 'y'],\n",
    "                   edge={'color':'lightslategrey',\n",
    "                         'visible':True},\n",
    "                   face={'color': sheet.face_df.apoptosis,\n",
    "                        'colormap':'Reds',\n",
    "                        'visible':True})\n",
    "fig"
   ]
  },
  {
   "cell_type": "code",
   "execution_count": 26,
   "metadata": {},
   "outputs": [
    {
     "data": {
      "application/vnd.jupyter.widget-view+json": {
       "model_id": "92e85e56791640189a47c7f3f21bf93c",
       "version_major": 2,
       "version_minor": 0
      },
      "text/html": [
       "<p>Failed to display Jupyter Widget of type <code>Figure</code>.</p>\n",
       "<p>\n",
       "  If you're reading this message in the Jupyter Notebook or JupyterLab Notebook, it may mean\n",
       "  that the widgets JavaScript is still loading. If this message persists, it\n",
       "  likely means that the widgets JavaScript library is either not installed or\n",
       "  not enabled. See the <a href=\"https://ipywidgets.readthedocs.io/en/stable/user_install.html\">Jupyter\n",
       "  Widgets Documentation</a> for setup instructions.\n",
       "</p>\n",
       "<p>\n",
       "  If you're reading this message in another frontend (for example, a static\n",
       "  rendering on GitHub or <a href=\"https://nbviewer.jupyter.org/\">NBViewer</a>),\n",
       "  it may mean that your frontend doesn't currently support widgets.\n",
       "</p>\n"
      ],
      "text/plain": [
       "Figure(camera_center=[0.0, 0.0, 0.0], height=500, matrix_projection=[0.0, 0.0, 0.0, 0.0, 0.0, 0.0, 0.0, 0.0, 0.0, 0.0, 0.0, 0.0, 0.0, 0.0, 0.0, 0.0], matrix_world=[0.0, 0.0, 0.0, 0.0, 0.0, 0.0, 0.0, 0.0, 0.0, 0.0, 0.0, 0.0, 0.0, 0.0, 0.0, 0.0], meshes=[Mesh(color=array('lightslategrey', dtype='<U14'), lines=array([[2454, 1907],\n",
       "       [ 713,  529],\n",
       "       [ 359, 2845],\n",
       "       ...,\n",
       "       [1479, 3299],\n",
       "       [3299,  127],\n",
       "       [ 127, 3299]], dtype=uint32), texture=None, x=array([-16.24229665,  -6.36545131,  -5.35211801, ...,  61.21090859,\n",
       "        60.97425386,  52.80559743]), y=array([ -7.91526583,   7.21032949, -11.45101628, ...,  33.25593943,\n",
       "       -48.48026853, -50.80571962]), z=array([ 57.14715693,  57.64845669,  56.84259524, ..., -38.85622957,\n",
       "        -3.3444838 ,  -6.57379168])), Mesh(color=array([[1.        , 0.96078431, 0.94117647],\n",
       "       [1.        , 0.96078431, 0.94117647],\n",
       "       [1.        , 0.96078431, 0.94117647],\n",
       "       ...,\n",
       "       [1.        , 0.96078431, 0.94117647],\n",
       "       [1.        , 0.96078431, 0.94117647],\n",
       "       [1.        , 0.96078431, 0.94117647]]), texture=None, triangles=array([[    0,  1652, 11552],\n",
       "       [ 1632,  1653, 11553],\n",
       "       [  178,  1654, 11554],\n",
       "       ...,\n",
       "       [ 1396, 11549, 21449],\n",
       "       [  728, 11550, 21450],\n",
       "       [ 1651, 11551, 21451]], dtype=uint32), x=array([-15.56336958, -13.87037085, -25.20547551, ...,  52.83935532,\n",
       "        58.0996793 ,  52.83935532]), y=array([ -3.98872782, -10.53230642, -14.25317465, ..., -50.74933131,\n",
       "       -48.93464919, -50.74933131]), z=array([57.40989852, 56.79386021, 54.76213058, ..., -6.55220353,\n",
       "       -7.33862   , -6.55220353]))], style={'axes': {'visible': False, 'label': {'color': 'white'}, 'ticklabel': {'color': 'white'}, 'color': 'white'}, 'box': {'visible': False}, 'background-color': 'black'}, tf=None, width=400, xlim=[-113.94562206950678, 120.34243446335152], ylim=[-113.94562206950678, 120.34243446335152], zlim=[-113.94562206950678, 120.34243446335152])"
      ]
     },
     "metadata": {},
     "output_type": "display_data"
    }
   ],
   "source": [
    "def apoptosis_lateral (sheet, code_fold = 1):\n",
    "    \n",
    "    fold_cell= sheet.face_df[sheet.face_df.fold == code_fold]\n",
    "    \n",
    "    for i in fold_cell.itertuples(): \n",
    "        proba = 0.3*np.exp(-(i.phi+1.5)**2/0.8**2) + 0.3*np.exp(-(i.phi-1.5)**2/0.8**2)\n",
    "        aleatory_number = random.uniform(0,1)\n",
    "        if aleatory_number < proba:\n",
    "            sheet.face_df.loc[i.Index, \"apoptosis\"] = 2\n",
    "        \n",
    "\n",
    "\n",
    "apoptosis_lateral(sheet, 1)\n",
    "\n",
    "ipv.clear()\n",
    "# code couleur profondeur du tissu\n",
    "fig, mesh = sheet_view(sheet, mode=\"3D\", coords=['z', 'x', 'y'],\n",
    "                   edge={'color':'lightslategrey',\n",
    "                         'visible':True},\n",
    "                   face={'color': sheet.face_df.apoptosis,\n",
    "                        'colormap':'Reds',\n",
    "                        'visible':True})\n",
    "fig"
   ]
  },
  {
   "cell_type": "code",
   "execution_count": 33,
   "metadata": {},
   "outputs": [
    {
     "data": {
      "application/vnd.jupyter.widget-view+json": {
       "model_id": "ef34469368d643378e5c5bb94df10f1c",
       "version_major": 2,
       "version_minor": 0
      },
      "text/html": [
       "<p>Failed to display Jupyter Widget of type <code>Figure</code>.</p>\n",
       "<p>\n",
       "  If you're reading this message in the Jupyter Notebook or JupyterLab Notebook, it may mean\n",
       "  that the widgets JavaScript is still loading. If this message persists, it\n",
       "  likely means that the widgets JavaScript library is either not installed or\n",
       "  not enabled. See the <a href=\"https://ipywidgets.readthedocs.io/en/stable/user_install.html\">Jupyter\n",
       "  Widgets Documentation</a> for setup instructions.\n",
       "</p>\n",
       "<p>\n",
       "  If you're reading this message in another frontend (for example, a static\n",
       "  rendering on GitHub or <a href=\"https://nbviewer.jupyter.org/\">NBViewer</a>),\n",
       "  it may mean that your frontend doesn't currently support widgets.\n",
       "</p>\n"
      ],
      "text/plain": [
       "Figure(camera_center=[0.0, 0.0, 0.0], height=500, matrix_projection=[0.0, 0.0, 0.0, 0.0, 0.0, 0.0, 0.0, 0.0, 0.0, 0.0, 0.0, 0.0, 0.0, 0.0, 0.0, 0.0], matrix_world=[0.0, 0.0, 0.0, 0.0, 0.0, 0.0, 0.0, 0.0, 0.0, 0.0, 0.0, 0.0, 0.0, 0.0, 0.0, 0.0], meshes=[Mesh(color=array('lightslategrey', dtype='<U14'), lines=array([[2454, 1907],\n",
       "       [ 713,  529],\n",
       "       [ 359, 2845],\n",
       "       ...,\n",
       "       [1479, 3299],\n",
       "       [3299,  127],\n",
       "       [ 127, 3299]], dtype=uint32), texture=None, x=array([-16.24229665,  -6.36545131,  -5.35211801, ...,  61.21090859,\n",
       "        60.97425386,  52.80559743]), y=array([ -7.91526583,   7.21032949, -11.45101628, ...,  33.25593943,\n",
       "       -48.48026853, -50.80571962]), z=array([ 57.14715693,  57.64845669,  56.84259524, ..., -38.85622957,\n",
       "        -3.3444838 ,  -6.57379168])), Mesh(color=array([[1.        , 0.96078431, 0.94117647],\n",
       "       [1.        , 0.96078431, 0.94117647],\n",
       "       [1.        , 0.96078431, 0.94117647],\n",
       "       ...,\n",
       "       [1.        , 0.96078431, 0.94117647],\n",
       "       [1.        , 0.96078431, 0.94117647],\n",
       "       [1.        , 0.96078431, 0.94117647]]), texture=None, triangles=array([[    0,  1652, 11552],\n",
       "       [ 1632,  1653, 11553],\n",
       "       [  178,  1654, 11554],\n",
       "       ...,\n",
       "       [ 1396, 11549, 21449],\n",
       "       [  728, 11550, 21450],\n",
       "       [ 1651, 11551, 21451]], dtype=uint32), x=array([-15.56336958, -13.87037085, -25.20547551, ...,  52.83935532,\n",
       "        58.0996793 ,  52.83935532]), y=array([ -3.98872782, -10.53230642, -14.25317465, ..., -50.74933131,\n",
       "       -48.93464919, -50.74933131]), z=array([57.40989852, 56.79386021, 54.76213058, ..., -6.55220353,\n",
       "       -7.33862   , -6.55220353]))], style={'axes': {'visible': False, 'label': {'color': 'white'}, 'ticklabel': {'color': 'white'}, 'color': 'white'}, 'box': {'visible': False}, 'background-color': 'black'}, tf=None, width=400, xlim=[-113.94562206950678, 120.34243446335152], ylim=[-113.94562206950678, 120.34243446335152], zlim=[-113.94562206950678, 120.34243446335152])"
      ]
     },
     "metadata": {},
     "output_type": "display_data"
    }
   ],
   "source": [
    "def apoptosis_dorsal (sheet, code_fold = 1):\n",
    "    \n",
    "    fold_cell= sheet.face_df[sheet.face_df.fold == code_fold]\n",
    "    \n",
    "    for i in fold_cell.itertuples(): \n",
    "        proba = 0.2*np.exp(-(i.phi)**2/0.4*2)\n",
    "        aleatory_number = random.uniform(0,1)\n",
    "        if aleatory_number < proba:\n",
    "            sheet.face_df.loc[i.Index, \"apoptosis\"] = 3\n",
    "        \n",
    "\n",
    "\n",
    "apoptosis_dorsal(sheet, 1)\n",
    "\n",
    "ipv.clear()\n",
    "# code couleur profondeur du tissu\n",
    "fig, mesh = sheet_view(sheet, mode=\"3D\", coords=['z', 'x', 'y'],\n",
    "                   edge={'color':'lightslategrey',\n",
    "                         'visible':True},\n",
    "                   face={'color': sheet.face_df.apoptosis,\n",
    "                        'colormap':'Reds',\n",
    "                        'visible':True})\n",
    "fig"
   ]
  },
  {
   "cell_type": "code",
   "execution_count": 34,
   "metadata": {},
   "outputs": [
    {
     "data": {
      "text/plain": [
       "34"
      ]
     },
     "execution_count": 34,
     "metadata": {},
     "output_type": "execute_result"
    }
   ],
   "source": [
    "len(sheet.face_df[sheet.face_df.apoptosis>0])"
   ]
  },
  {
   "cell_type": "code",
   "execution_count": 35,
   "metadata": {},
   "outputs": [
    {
     "data": {
      "text/plain": [
       "113"
      ]
     },
     "execution_count": 35,
     "metadata": {},
     "output_type": "execute_result"
    }
   ],
   "source": [
    "len(sheet.face_df[sheet.face_df.fold>0])"
   ]
  },
  {
   "cell_type": "code",
   "execution_count": 36,
   "metadata": {},
   "outputs": [
    {
     "data": {
      "text/plain": [
       "14"
      ]
     },
     "execution_count": 36,
     "metadata": {},
     "output_type": "execute_result"
    }
   ],
   "source": [
    "len(sheet.face_df[sheet.face_df.apoptosis==1])"
   ]
  },
  {
   "cell_type": "code",
   "execution_count": 37,
   "metadata": {
    "scrolled": true
   },
   "outputs": [
    {
     "data": {
      "text/plain": [
       "16"
      ]
     },
     "execution_count": 37,
     "metadata": {},
     "output_type": "execute_result"
    }
   ],
   "source": [
    "len(sheet.face_df[sheet.face_df.apoptosis==2])"
   ]
  },
  {
   "cell_type": "code",
   "execution_count": 38,
   "metadata": {},
   "outputs": [
    {
     "data": {
      "text/plain": [
       "4"
      ]
     },
     "execution_count": 38,
     "metadata": {},
     "output_type": "execute_result"
    }
   ],
   "source": [
    "len(sheet.face_df[sheet.face_df.apoptosis==3])"
   ]
  },
  {
   "cell_type": "code",
   "execution_count": null,
   "metadata": {},
   "outputs": [],
   "source": []
  },
  {
   "cell_type": "code",
   "execution_count": null,
   "metadata": {
    "scrolled": false
   },
   "outputs": [],
   "source": []
  },
  {
   "cell_type": "code",
   "execution_count": null,
   "metadata": {},
   "outputs": [],
   "source": []
  },
  {
   "cell_type": "code",
   "execution_count": 39,
   "metadata": {},
   "outputs": [],
   "source": [
    "def run_sim(sim_save_dir, sheet, constriction, radial_tension, iteration=0):\n",
    "    \n",
    "    dirname = '{}_constriction_{}_radialtension{}'.format(\n",
    "        constriction,radial_tension, iteration)\n",
    "    dirname = os.path.join(sim_save_dir, dirname)\n",
    "    \n",
    "    print('starting {}'.format(dirname))\n",
    "    try:\n",
    "        os.mkdir(dirname)\n",
    "    except IOError:\n",
    "        pass\n",
    "\n",
    "    \n",
    "    apoptosis_settings = {\n",
    "        \"critical_area\": 5,\n",
    "        \"contract_rate\": constriction,\n",
    "        \"basal_contract_rate\": 1.01,\n",
    "        \"shrink_span\": 2,\n",
    "        \"radial_tension\": radial_tension,\n",
    "        \"max_traction\":30,\n",
    "        \"current_traction\":0,\n",
    "        \"geom\": geom,\n",
    "    }\n",
    "    \n",
    "    delaminate_settings = {'critical_area': 1e-2,\n",
    "                'radial_tension': radial_tension*150/100,\n",
    "                'nb_iteration': 0,\n",
    "                'nb_iteration_max': 200,\n",
    "                'contract_neighbors': True,\n",
    "                'critical_area_neighbors': 12,\n",
    "                'contract_span': 2,\n",
    "                'basal_contract_rate': 1.001,\n",
    "                'geom': geom,\n",
    "                'contraction_column': 'contractility'}\n",
    "    \n",
    "    \n",
    "    # Add some information to the sheet and copy initial sheet\n",
    "    sheet2 = sheet.copy(deep_copy=True)\n",
    "    sheet2.face_df['id'] = sheet2.face_df.index.values\n",
    "    sheet2.settings['apoptosis'] = apoptosis_settings\n",
    "    sheet2.settings['delamination'] = delaminate_settings\n",
    "    \n",
    "    #\"\"\" Initiale find minimal energy\n",
    "    # To be sure we are at the equilibrium\n",
    "    res = solver.find_energy_min(sheet2, geom, model, options={\"gtol\": 1e-8})\n",
    "\n",
    "\n",
    "    sheet2 = apoptosis_process(dirname, solver, sheet2, geom, model)\n",
    "\n",
    "    print('{} done'.format(dirname))\n",
    "    print('~~~~~~~~~~~~~~~~~~~~~\\n')"
   ]
  },
  {
   "cell_type": "code",
   "execution_count": 40,
   "metadata": {},
   "outputs": [],
   "source": [
    "def apoptosis_process(dirname, solver, sheet, geom, model):\n",
    "    \n",
    "    # Initiate manager\n",
    "    manager = EventManager('face')\n",
    "    \n",
    "    t = 0\n",
    "    stop = 150\n",
    "    \n",
    "    \n",
    "    \n",
    "    # Run simulation\n",
    "    while t < stop:\n",
    "        \n",
    "        \n",
    "        if t == 7 : \n",
    "            for i in index_clone_cells:\n",
    "                delamination_kwargs = sheet.settings['delamination'].copy()\n",
    "                delamination_kwargs.update(\n",
    "                        {\n",
    "                            'face_id': i,\n",
    "                        }\n",
    "                    )\n",
    "                manager.append(delamination, **delamination_kwargs)\n",
    "        \n",
    "        \n",
    "        if t%10 == 0:\n",
    "            sheet.settings['lumen_prefered_vol'] *= 0.99        \n",
    "        \n",
    "        # Reset radial tension at each time step\n",
    "        sheet.vert_df.radial_tension = 0\n",
    "        \n",
    "        # Add face in apoptosis according to the \n",
    "        # spatio-temporal patterning define previously\n",
    "        if t == 1 :\n",
    "            apopto_cell = sheet.face_df[sheet.face_df.apoptosis == 1].id\n",
    "            for c in apopto_cell : \n",
    "                apopto_kwargs = sheet.settings['apoptosis'].copy()\n",
    "                apopto_kwargs.update(\n",
    "                {\n",
    "                    'face_id': c,\n",
    "                }\n",
    "                )\n",
    "                manager.append(apoptosis, **apopto_kwargs)\n",
    "        \n",
    "        if t == 11 : \n",
    "            apopto_cell = sheet.face_df[sheet.face_df.apoptosis == 2].id\n",
    "            for c in apopto_cell : \n",
    "                apopto_kwargs = sheet.settings['apoptosis'].copy()\n",
    "                apopto_kwargs.update(\n",
    "                {\n",
    "                    'face_id': c,\n",
    "                    \"max_traction\":30,\n",
    "                    \"current_traction\":0,\n",
    "                }\n",
    "                )\n",
    "                manager.append(apoptosis, **apopto_kwargs)\n",
    "                \n",
    "        if t == 21:\n",
    "            apopto_cell = sheet.face_df[sheet.face_df.apoptosis == 3].id\n",
    "            for c in apopto_cell : \n",
    "                apopto_kwargs = sheet.settings['apoptosis'].copy()\n",
    "                apopto_kwargs.update(\n",
    "                {\n",
    "                    'face_id': c,\n",
    "                    \"max_traction\":30,\n",
    "                    \"current_traction\":0,\n",
    "                }\n",
    "                )\n",
    "                manager.append(apoptosis, **apopto_kwargs)\n",
    "        \n",
    "        manager.execute(sheet)\n",
    "        \n",
    "        res = solver.find_energy_min(sheet, geom, model, options={\"gtol\": 1e-8})\n",
    "\n",
    "        # add noise on vertex position to avoid local minimal.\n",
    "        sheet.vert_df[\n",
    "            ['x', 'y']] += np.random.normal(scale=1e-3, size=(sheet.Nv, 2))\n",
    "        geom.update_all(sheet)\n",
    "        \n",
    "    \n",
    "        \n",
    "        # Save result in each time step.\n",
    "        figname = os.path.join(\n",
    "            dirname, 'invagination_{:04d}.png'.format(t))\n",
    "        hdfname = figname[:-3] + 'hf5'\n",
    "        \n",
    "        \n",
    "        with pd.HDFStore(hdfname) as test:\n",
    "            test.put(\"settings\", pd.Series(sheet.settings))\n",
    "\n",
    "        with pd.HDFStore(hdfname) as store:\n",
    "            settings = store['settings']\n",
    "        \n",
    "        hdf5.save_datasets(hdfname, sheet)\n",
    "\n",
    "\n",
    "\n",
    "        manager.update()\n",
    "        t += 1\n",
    "\n",
    "    return sheet\n"
   ]
  },
  {
   "cell_type": "code",
   "execution_count": null,
   "metadata": {},
   "outputs": [],
   "source": []
  },
  {
   "cell_type": "code",
   "execution_count": null,
   "metadata": {
    "scrolled": false
   },
   "outputs": [],
   "source": [
    "# Sequential Execution\n",
    "\n",
    "from datetime import datetime\n",
    "\n",
    "global_start=datetime.now()\n",
    "print (\"start : \" + str(global_start))\n",
    "\n",
    "radial_tension = [30]\n",
    "\n",
    "#for rd in radial_tension:\n",
    "contractility_percent = [8]\n",
    "contractility_rate = [1+c/100 for c in contractility_percent]\n",
    "\n",
    "for lt in line_tension:\n",
    "    for c in contractility_rate:\n",
    "        for rd in radial_tension:\n",
    "            for iteration in range (0, 1):\n",
    "                run_sim(sim_save_dir, sheet, c, rd, iteration)\n",
    "        \n",
    "        \n",
    "        \n",
    "global_end = datetime.now()\n",
    "print (\"end : \" + str(global_end))\n",
    "print ('Duree totale d execution : \\n\\t\\t')\n",
    "print (global_end-global_start)"
   ]
  },
  {
   "cell_type": "code",
   "execution_count": null,
   "metadata": {
    "scrolled": true
   },
   "outputs": [
    {
     "name": "stdout",
     "output_type": "stream",
     "text": [
      "start : 2019-06-20 11:35:55.947787\n",
      "starting /home/admin-suz/Documents/Simulations/test_apoptosis_20190618_one_fold/1.32_constriction_0_radialtension0\n",
      "starting /home/admin-suz/Documents/Simulations/test_apoptosis_20190618_one_fold/1.32_constriction_10_radialtension0\n"
     ]
    },
    {
     "name": "stderr",
     "output_type": "stream",
     "text": [
      "/home/admin-suz/anaconda3/lib/python3.6/site-packages/joblib/parallel.py:131: PerformanceWarning: \n",
      "your performance may suffer as PyTables will pickle object types that it cannot\n",
      "map directly to c-types [inferred_type->mixed-integer,key->values] [items->None]\n",
      "\n",
      "  return [func(*args, **kwargs) for func, args, kwargs in self.items]\n",
      "/home/admin-suz/anaconda3/lib/python3.6/site-packages/joblib/parallel.py:131: PerformanceWarning: \n",
      "your performance may suffer as PyTables will pickle object types that it cannot\n",
      "map directly to c-types [inferred_type->mixed-integer,key->values] [items->None]\n",
      "\n",
      "  return [func(*args, **kwargs) for func, args, kwargs in self.items]\n"
     ]
    },
    {
     "name": "stdout",
     "output_type": "stream",
     "text": [
      "/home/admin-suz/Documents/Simulations/test_apoptosis_20190618_one_fold/1.32_constriction_10_radialtension0 done\n",
      "~~~~~~~~~~~~~~~~~~~~~\n",
      "\n",
      "starting /home/admin-suz/Documents/Simulations/test_apoptosis_20190618_one_fold/1.32_constriction_20_radialtension0\n",
      "/home/admin-suz/Documents/Simulations/test_apoptosis_20190618_one_fold/1.32_constriction_0_radialtension0 done\n",
      "~~~~~~~~~~~~~~~~~~~~~\n",
      "\n",
      "starting /home/admin-suz/Documents/Simulations/test_apoptosis_20190618_one_fold/1.32_constriction_30_radialtension0\n",
      "/home/admin-suz/Documents/Simulations/test_apoptosis_20190618_one_fold/1.32_constriction_20_radialtension0 done\n",
      "~~~~~~~~~~~~~~~~~~~~~\n",
      "\n",
      "starting /home/admin-suz/Documents/Simulations/test_apoptosis_20190618_one_fold/1.32_constriction_40_radialtension0\n"
     ]
    }
   ],
   "source": [
    "from joblib import Parallel, delayed\n",
    "import multiprocessing\n",
    "from datetime import datetime\n",
    "\n",
    "global_start=datetime.now()\n",
    "print (\"start : \" + str(global_start))\n",
    "num_cores = multiprocessing.cpu_count()\n",
    "\n",
    "radial_tension = [0,10,20,30,40]\n",
    "\n",
    "#for rd in radial_tension:\n",
    "#contractility_percent = [2, 4, 8, 16, 32]\n",
    "contractility_percent = [32]\n",
    "contractility_rate = [1+c/100 for c in contractility_percent]\n",
    "\n",
    "\n",
    "contractility_rate, radial_tension = np.meshgrid(contractility_rate, radial_tension)\n",
    "\n",
    "results = Parallel(n_jobs=2)(delayed(run_sim)(\n",
    "    sim_save_dir, sheet, c, rd, 0) \n",
    "                             for c, rd in zip(contractility_rate.ravel(), radial_tension.ravel()))\n",
    "\n",
    "global_end = datetime.now()\n",
    "print (\"end : \" + str(global_end))\n",
    "print ('Duree totale d execution : \\n\\t\\t')\n",
    "print (global_end-global_start)"
   ]
  },
  {
   "cell_type": "code",
   "execution_count": null,
   "metadata": {},
   "outputs": [],
   "source": []
  },
  {
   "cell_type": "code",
   "execution_count": null,
   "metadata": {},
   "outputs": [],
   "source": [
    "sheet.settings2 = pd.DataFrame.from_dict(sheet.settings, orient='index')"
   ]
  },
  {
   "cell_type": "code",
   "execution_count": null,
   "metadata": {},
   "outputs": [],
   "source": []
  },
  {
   "cell_type": "code",
   "execution_count": null,
   "metadata": {},
   "outputs": [],
   "source": []
  },
  {
   "cell_type": "code",
   "execution_count": null,
   "metadata": {},
   "outputs": [],
   "source": []
  },
  {
   "cell_type": "code",
   "execution_count": null,
   "metadata": {},
   "outputs": [],
   "source": []
  },
  {
   "cell_type": "code",
   "execution_count": null,
   "metadata": {},
   "outputs": [],
   "source": []
  },
  {
   "cell_type": "code",
   "execution_count": null,
   "metadata": {
    "scrolled": false
   },
   "outputs": [],
   "source": [
    "SIM_DIR = Path('/home/admin-suz/Documents/Simulations/test_apoptosis')\n",
    "dirname = SIM_DIR/'1.08_constriction_50_radialtension0_line_tension100/'\n",
    "from tyssue.draw import sheet_view\n",
    "\n",
    "import ipyvolume.pylab as p3\n",
    "hfs = [f  for f in os.listdir(dirname)\n",
    "       if f.endswith('hf5')]\n",
    "hfs.sort(key=lambda x: os.path.getctime(os.path.join(dirname, x)))\n",
    "\n",
    "current = 'invagination_0145.hf5'\n",
    "ipv.clear()\n",
    "ipv.style.use('dark')\n",
    "\n",
    "\n",
    "dsets = hdf5.load_datasets(os.path.join(dirname, current),\n",
    "                               data_names=['vert', 'edge', 'face', 'cell'])\n",
    "\n",
    "specs = config.geometry.cylindrical_sheet()\n",
    "sheet = Sheet('ellipse', dsets, specs)\n",
    "\"\"\"sheet.face_df['test']=0\n",
    "index =sheet.face_df[(sheet.face_df.z>6) & (sheet.face_df.z<15) \n",
    "              & (sheet.face_df.y>25) & (sheet.face_df.y<35) \n",
    "                    & (sheet.face_df.x>0)].index\n",
    "sheet.face_df.loc[index, 'test']=1\"\"\"\n",
    "\n",
    "#sheet = sheet.extract_bounding_box(z_boundary=[-200,50])\n",
    "def draw_specs(sheet):\n",
    "    specs = {\n",
    "        'edge': {\n",
    "            'visible': True,\n",
    "            'color': sheet.vert_df.y,\n",
    "            #'colormap': 'Reds'\n",
    "        },\n",
    "        'face': {\n",
    "            'visible': True,\n",
    "            'color': sheet.face_df.fold,\n",
    "            'colormap': 'Blues'\n",
    "        },\n",
    "        'vert':{\n",
    "            'visible':True,\n",
    "            's':100,\n",
    "            'alpha': 0.3,\n",
    "            'zorder': 2,\n",
    "            'color': sheet.vert_df.radial_tension\n",
    "            \n",
    "        }\n",
    "        \n",
    "    }\n",
    "    return specs\n",
    "\n",
    "ipv.clear()\n",
    "ipv_fig, meshes = sheet_view(sheet, coords=list('zxy'),\n",
    "                             mode='3D', **draw_specs(sheet))\n",
    "ipv_fig"
   ]
  },
  {
   "cell_type": "code",
   "execution_count": null,
   "metadata": {},
   "outputs": [],
   "source": [
    "sheet.settings['geometry'] = \"spherical\"\n",
    "sheet.settings['lumen_vol_elasticity'] = 3.e-6\n",
    "#sheet.settings['lumen_prefered_vol'] = sheet.settings['lumen_prefered_vol'] - sheet.settings['lumen_prefered_vol']*10/100\n",
    "sheet.settings['barrier_ray'] = int(max(np.abs(sheet.face_df.z.min()), sheet.face_df.z.max())+20)\n",
    "sheet.vert_df['barrier_elasticity'] = 280.0\n",
    "#sheet.settings['barrier_ray_cylinder'] = 55\n",
    "sheet.edge_df['line_tension'] = 3\n",
    "sheet.settings['lumen_prefered_vol']=1655117.87836963126/2"
   ]
  },
  {
   "cell_type": "code",
   "execution_count": null,
   "metadata": {},
   "outputs": [],
   "source": [
    "res = solver.find_energy_min(sheet, geom, model, options={\"gtol\": 1e-8})"
   ]
  },
  {
   "cell_type": "code",
   "execution_count": null,
   "metadata": {},
   "outputs": [],
   "source": [
    "#sheet = sheet.extract_bounding_box(z_boundary=[-200,50])\n",
    "def draw_specs(sheet):\n",
    "    specs = {\n",
    "        'edge': {\n",
    "            'visible': True,\n",
    "            'color': sheet.vert_df.y,\n",
    "            #'colormap': 'Reds'\n",
    "        },\n",
    "        'face': {\n",
    "            'visible': True,\n",
    "            'color': sheet.face_df.fold,\n",
    "            'colormap': 'Blues'\n",
    "        },\n",
    "        'vert':{\n",
    "            'visible':True,\n",
    "            's':100,\n",
    "            'alpha': 0.3,\n",
    "            'zorder': 2,\n",
    "            'color': sheet.vert_df.radial_tension\n",
    "            \n",
    "        }\n",
    "        \n",
    "    }\n",
    "    return specs\n",
    "\n",
    "ipv.clear()\n",
    "ipv_fig, meshes = sheet_view(sheet, coords=list('zxy'),\n",
    "                             mode='3D', **draw_specs(sheet))\n",
    "ipv_fig"
   ]
  },
  {
   "cell_type": "code",
   "execution_count": null,
   "metadata": {},
   "outputs": [],
   "source": []
  },
  {
   "cell_type": "code",
   "execution_count": null,
   "metadata": {
    "scrolled": false
   },
   "outputs": [],
   "source": []
  },
  {
   "cell_type": "code",
   "execution_count": null,
   "metadata": {},
   "outputs": [],
   "source": []
  },
  {
   "cell_type": "code",
   "execution_count": null,
   "metadata": {},
   "outputs": [],
   "source": []
  }
 ],
 "metadata": {
  "kernelspec": {
   "display_name": "Python 3",
   "language": "python",
   "name": "python3"
  },
  "language_info": {
   "codemirror_mode": {
    "name": "ipython",
    "version": 3
   },
   "file_extension": ".py",
   "mimetype": "text/x-python",
   "name": "python",
   "nbconvert_exporter": "python",
   "pygments_lexer": "ipython3",
   "version": "3.6.3"
  }
 },
 "nbformat": 4,
 "nbformat_minor": 2
}
