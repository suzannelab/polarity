{
 "cells": [
  {
   "cell_type": "code",
   "execution_count": 1,
   "metadata": {},
   "outputs": [],
   "source": [
    "# Import \n",
    "import os\n",
    "import time\n",
    "import json\n",
    "import random\n",
    "import datetime\n",
    "import numpy as np\n",
    "import pandas as pd\n",
    "\n",
    "from IPython.display import display\n",
    "\n",
    "from pathlib import Path\n",
    "from tyssue import config\n",
    "from tyssue import Sheet\n",
    "from tyssue.io import hdf5\n",
    "from tyssue.io.hdf5 import load_datasets\n",
    "from tyssue.dynamics import SheetModel as basemodel\n",
    "from tyssue.solvers.quasistatic import QSSolver\n",
    "from tyssue.draw import sheet_view\n",
    "from tyssue.draw.plt_draw import quick_edge_draw\n",
    "from tyssue.draw.ipv_draw import sheet_view as ipv_draw \n",
    "\n",
    "from tyssue.behaviors.event_manager import EventManager\n",
    "from tyssue.behaviors.sheet.apoptosis_events import apoptosis\n",
    "\n",
    "import matplotlib.pyplot as plt\n",
    "%matplotlib inline\n",
    "\n",
    "try:\n",
    "    import seaborn as sns\n",
    "except ImportError:\n",
    "    print('Seaborn not found')\n",
    "\n"
   ]
  },
  {
   "cell_type": "code",
   "execution_count": 2,
   "metadata": {},
   "outputs": [],
   "source": [
    "from polarity.dynamics import model\n",
    "from polarity.apoptosis import apoptosis\n",
    "from polarity.dynamics import EllipsoidLameGeometry as geom\n",
    "#from tyssue.geometry.sheet_geometry import ClosedSheetGeometry as geom\n"
   ]
  },
  {
   "cell_type": "code",
   "execution_count": 3,
   "metadata": {},
   "outputs": [],
   "source": [
    "SIM_DIR = Path('/home/admin-suz/Documents/Simulations/20190827-QSSolver-Prepolarized_test_ratio')\n",
    "\n",
    "sim_save_dir = SIM_DIR\n",
    "\n",
    "try:\n",
    "    os.mkdir(sim_save_dir)\n",
    "except FileExistsError:\n",
    "    pass"
   ]
  },
  {
   "cell_type": "code",
   "execution_count": 4,
   "metadata": {},
   "outputs": [],
   "source": [
    "solver = QSSolver(with_t1=False, with_t3=False, with_collisions=False)"
   ]
  },
  {
   "cell_type": "code",
   "execution_count": 5,
   "metadata": {},
   "outputs": [],
   "source": [
    "from tyssue.dynamics import units, effectors, model_factory\n",
    "from polarity.dynamics import RadialTension\n",
    "model = model_factory(\n",
    "    [\n",
    "        RadialTension,\n",
    "        effectors.LineTension,\n",
    "        #effectors.FaceContractility,\n",
    "        effectors.FaceAreaElasticity,\n",
    "        effectors.LumenVolumeElasticity,\n",
    "    ], effectors.FaceAreaElasticity)"
   ]
  },
  {
   "cell_type": "code",
   "execution_count": 6,
   "metadata": {},
   "outputs": [],
   "source": [
    "# Create tissue tissue \n",
    "\n",
    "def load_before_apopto(anchor_tension=0):\n",
    "\n",
    "    #h5store = '../examples/superegg_final.hf5'\n",
    "    h5store = '../examples/tissue_prepolarized.hf5'\n",
    "\n",
    "    datasets = load_datasets(h5store,\n",
    "                             data_names=['face', 'vert', 'edge'])\n",
    "    \n",
    "    with open('../examples/superegg_final.json', 'r+') as fp:\n",
    "        specs = json.load(fp)\n",
    "    \n",
    "    sheet = Sheet('spherical', datasets, specs)\n",
    "    sheet.settings['geometry'] = \"spherical\"\n",
    "    sheet.settings['lumen_volume_elasticity'] = 3.e-6\n",
    "    #sheet.settings['lumen_prefered_vol'] = sheet.settings['lumen_prefered_vol'] - sheet.settings['lumen_prefered_vol']*10/100\n",
    "\n",
    "    return sheet\n",
    "\n",
    "sheet = load_before_apopto(0)\n",
    "\n",
    "geom.update_all(sheet)\n",
    "\n"
   ]
  },
  {
   "cell_type": "code",
   "execution_count": 7,
   "metadata": {},
   "outputs": [
    {
     "data": {
      "text/plain": [
       "array([40., 48., 24.])"
      ]
     },
     "execution_count": 7,
     "metadata": {},
     "output_type": "execute_result"
    }
   ],
   "source": [
    "sheet.edge_df.line_tension *= 40\n",
    "sheet.edge_df.line_tension.unique()"
   ]
  },
  {
   "cell_type": "code",
   "execution_count": 8,
   "metadata": {},
   "outputs": [
    {
     "data": {
      "text/plain": [
       "\"fig, ax = quick_edge_draw(sheet, ['z', 'x'],\\n                              alpha=0.7)\\nfig.set_size_inches(18.5, 10.5, forward=True)\""
      ]
     },
     "execution_count": 8,
     "metadata": {},
     "output_type": "execute_result"
    }
   ],
   "source": [
    "res = solver.find_energy_min(sheet, geom, model, options={\"gtol\": 1e-8})\n",
    "\n",
    "\"\"\"fig, ax = quick_edge_draw(sheet, ['z', 'x'],\n",
    "                              alpha=0.7)\n",
    "fig.set_size_inches(18.5, 10.5, forward=True)\"\"\""
   ]
  },
  {
   "cell_type": "code",
   "execution_count": 9,
   "metadata": {},
   "outputs": [
    {
     "data": {
      "application/vnd.jupyter.widget-view+json": {
       "model_id": "66aa853a1cad42ceb5be30a8415c5062",
       "version_major": 2,
       "version_minor": 0
      },
      "text/plain": [
       "Figure(camera_center=[0.0, 0.0, 0.0], height=500, matrix_projection=[0.0, 0.0, 0.0, 0.0, 0.0, 0.0, 0.0, 0.0, 0…"
      ]
     },
     "metadata": {},
     "output_type": "display_data"
    }
   ],
   "source": [
    "\"\"\"import ipyvolume as ipv\n",
    "ipv.clear()\n",
    "# code couleur profondeur du tissu\n",
    "fig, mesh = sheet_view(sheet, mode=\"3D\", coords=['z', 'x', 'y'],\n",
    "                   edge={'color':sheet.vert_df.y*(sheet.vert_df.y>0),\n",
    "                         'colormap':'viridis'})\n",
    "fig\"\"\"\n",
    "import ipyvolume as ipv\n",
    "ipv.clear()\n",
    "# code couleur profondeur du tissu\n",
    "fig, mesh = sheet_view(sheet, mode=\"3D\", coords=['z', 'x', 'y'],\n",
    "                   edge={'color':'white'},\n",
    "                      face={'color':'black', 'visible':True})\n",
    "fig\n",
    "\n"
   ]
  },
  {
   "cell_type": "code",
   "execution_count": null,
   "metadata": {
    "scrolled": false
   },
   "outputs": [],
   "source": []
  },
  {
   "cell_type": "code",
   "execution_count": null,
   "metadata": {
    "scrolled": false
   },
   "outputs": [],
   "source": []
  },
  {
   "cell_type": "code",
   "execution_count": 10,
   "metadata": {},
   "outputs": [
    {
     "name": "stdout",
     "output_type": "stream",
     "text": [
      "101\n"
     ]
    },
    {
     "data": {
      "application/vnd.jupyter.widget-view+json": {
       "model_id": "254fe07fdcab458ab428f3fb2253e816",
       "version_major": 2,
       "version_minor": 0
      },
      "text/plain": [
       "Figure(camera_center=[0.0, 0.0, 0.0], height=500, matrix_projection=[0.0, 0.0, 0.0, 0.0, 0.0, 0.0, 0.0, 0.0, 0…"
      ]
     },
     "metadata": {},
     "output_type": "display_data"
    }
   ],
   "source": [
    "def define_fold_position(sheet, fold_number = 2, position=[-36, -22, 22, 36]):\n",
    "    #position = [min, max, min, max]\n",
    "    sheet.face_df['fold'] = 0\n",
    "    for i in range(fold_number):\n",
    "        i=i*2\n",
    "        sheet.face_df.loc[sheet.face_df[(sheet.face_df.z>position[i]) \n",
    "                                        & (sheet.face_df.z<position[i+1])].index, 'fold'] = i+1\n",
    "        \n",
    "        \n",
    "        \n",
    "define_fold_position(sheet, fold_number = 1, position=[-7, 7])\n",
    "print(len(sheet.face_df[sheet.face_df.fold==1]))\n",
    "ipv.clear()\n",
    "# code couleur profondeur du tissu\n",
    "fig, mesh = sheet_view(sheet, mode=\"3D\", coords=['z', 'x', 'y'],\n",
    "                   edge={'color':'lightslategrey',\n",
    "                         'visible':True},\n",
    "                   face={'color': sheet.face_df.fold,\n",
    "                        'colormap':'Reds',\n",
    "                        'visible':True})\n",
    "fig\n"
   ]
  },
  {
   "cell_type": "code",
   "execution_count": 11,
   "metadata": {},
   "outputs": [
    {
     "data": {
      "application/vnd.jupyter.widget-view+json": {
       "model_id": "36aa8f37a2c54059a3c8cb3202984998",
       "version_major": 2,
       "version_minor": 0
      },
      "text/plain": [
       "Figure(camera_center=[0.0, 0.0, 0.0], height=500, matrix_projection=[0.0, 0.0, 0.0, 0.0, 0.0, 0.0, 0.0, 0.0, 0…"
      ]
     },
     "metadata": {},
     "output_type": "display_data"
    }
   ],
   "source": [
    "sheet.face_df['apoptosis'] = 0\n",
    "\n",
    "\n",
    "def apoptosis_ventral (sheet, code_fold = 1):\n",
    "    \n",
    "    fold_cell= sheet.face_df[sheet.face_df.fold == code_fold]\n",
    "    \n",
    "    for i in fold_cell.itertuples(): \n",
    "        proba = 0.6*np.exp(-(i.phi+3)**2/0.7**2) + 0.6*np.exp(-(i.phi-3)**2/0.7**2)\n",
    "        aleatory_number = random.uniform(0,1)\n",
    "        if aleatory_number < proba:\n",
    "            sheet.face_df.loc[i.Index, \"apoptosis\"] = 1\n",
    "        \n",
    "\n",
    "\n",
    "apoptosis_ventral(sheet, 1)\n",
    "\n",
    "ipv.clear()\n",
    "# code couleur profondeur du tissu\n",
    "fig, mesh = sheet_view(sheet, mode=\"3D\", coords=['z', 'x', 'y'],\n",
    "                   edge={'color':'lightslategrey',\n",
    "                         'visible':True},\n",
    "                   face={'color': sheet.face_df.apoptosis,\n",
    "                        'colormap':'Reds',\n",
    "                        'visible':True})\n",
    "fig"
   ]
  },
  {
   "cell_type": "code",
   "execution_count": 12,
   "metadata": {},
   "outputs": [
    {
     "data": {
      "application/vnd.jupyter.widget-view+json": {
       "model_id": "faebbc8048154a53bca8392324810311",
       "version_major": 2,
       "version_minor": 0
      },
      "text/plain": [
       "Figure(camera_center=[0.0, 0.0, 0.0], height=500, matrix_projection=[0.0, 0.0, 0.0, 0.0, 0.0, 0.0, 0.0, 0.0, 0…"
      ]
     },
     "metadata": {},
     "output_type": "display_data"
    }
   ],
   "source": [
    "def apoptosis_lateral (sheet, code_fold = 1):\n",
    "    \n",
    "    fold_cell= sheet.face_df[sheet.face_df.fold == code_fold]\n",
    "    \n",
    "    for i in fold_cell.itertuples(): \n",
    "        proba = 0.3*np.exp(-(i.phi+1.5)**2/0.8**2) + 0.3*np.exp(-(i.phi-1.5)**2/0.8**2)\n",
    "        aleatory_number = random.uniform(0,1)\n",
    "        if aleatory_number < proba:\n",
    "            sheet.face_df.loc[i.Index, \"apoptosis\"] = 2\n",
    "        \n",
    "\n",
    "\n",
    "apoptosis_lateral(sheet, 1)\n",
    "\n",
    "ipv.clear()\n",
    "# code couleur profondeur du tissu\n",
    "fig, mesh = sheet_view(sheet, mode=\"3D\", coords=['z', 'x', 'y'],\n",
    "                   edge={'color':'lightslategrey',\n",
    "                         'visible':True},\n",
    "                   face={'color': sheet.face_df.apoptosis,\n",
    "                        'colormap':'Reds',\n",
    "                        'visible':True})\n",
    "fig"
   ]
  },
  {
   "cell_type": "code",
   "execution_count": 13,
   "metadata": {},
   "outputs": [
    {
     "data": {
      "application/vnd.jupyter.widget-view+json": {
       "model_id": "0cb93f2463104c27b1649ddca44b44b1",
       "version_major": 2,
       "version_minor": 0
      },
      "text/plain": [
       "Figure(camera_center=[0.0, 0.0, 0.0], height=500, matrix_projection=[0.0, 0.0, 0.0, 0.0, 0.0, 0.0, 0.0, 0.0, 0…"
      ]
     },
     "metadata": {},
     "output_type": "display_data"
    }
   ],
   "source": [
    "def apoptosis_dorsal (sheet, code_fold = 1):\n",
    "    \n",
    "    fold_cell= sheet.face_df[sheet.face_df.fold == code_fold]\n",
    "    \n",
    "    for i in fold_cell.itertuples(): \n",
    "        proba = 0.2*np.exp(-(i.phi)**2/0.4*2)\n",
    "        aleatory_number = random.uniform(0,1)\n",
    "        if aleatory_number < proba:\n",
    "            sheet.face_df.loc[i.Index, \"apoptosis\"] = 3\n",
    "        \n",
    "\n",
    "\n",
    "apoptosis_dorsal(sheet, 1)\n",
    "\n",
    "ipv.clear()\n",
    "# code couleur profondeur du tissu\n",
    "fig, mesh = sheet_view(sheet, mode=\"3D\", coords=['z', 'x', 'y'],\n",
    "                   edge={'color':'lightslategrey',\n",
    "                         'visible':True},\n",
    "                   face={'color': sheet.face_df.apoptosis,\n",
    "                        'colormap':'Reds',\n",
    "                        'visible':True})\n",
    "fig"
   ]
  },
  {
   "cell_type": "code",
   "execution_count": 14,
   "metadata": {},
   "outputs": [
    {
     "name": "stdout",
     "output_type": "stream",
     "text": [
      "101\n",
      "30\n",
      "13\n",
      "14\n",
      "3\n"
     ]
    }
   ],
   "source": [
    "print(len(sheet.face_df[sheet.face_df.fold>0]))\n",
    "print(len(sheet.face_df[sheet.face_df.apoptosis>0]))\n",
    "print(len(sheet.face_df[sheet.face_df.apoptosis==1]))\n",
    "print(len(sheet.face_df[sheet.face_df.apoptosis==2]))\n",
    "print(len(sheet.face_df[sheet.face_df.apoptosis==3]))"
   ]
  },
  {
   "cell_type": "code",
   "execution_count": null,
   "metadata": {},
   "outputs": [],
   "source": []
  },
  {
   "cell_type": "code",
   "execution_count": 15,
   "metadata": {},
   "outputs": [],
   "source": [
    "def run_sim(sim_save_dir, sheet, constriction, radial_tension, iteration=0):\n",
    "    \n",
    "    dirname = '{}_constriction_{}_radialtension{}'.format(\n",
    "        constriction,radial_tension, iteration)\n",
    "    dirname = os.path.join(sim_save_dir, dirname)\n",
    "    \n",
    "    print('starting {}'.format(dirname))\n",
    "    try:\n",
    "        os.mkdir(dirname)\n",
    "    except IOError:\n",
    "        pass\n",
    "\n",
    "    \n",
    "    apoptosis_settings = {\n",
    "        \"critical_area\": 5,\n",
    "        \"contract_rate\": constriction,\n",
    "        \"basal_contract_rate\": 1.01,\n",
    "        \"shrink_span\": 2,\n",
    "        \"radial_tension\": radial_tension,\n",
    "        \"max_traction\":30,\n",
    "        \"current_traction\":0,\n",
    "        \"geom\": geom,\n",
    "    }\n",
    "    \n",
    "    \n",
    "    # Add some information to the sheet and copy initial sheet\n",
    "    sheet2 = sheet.copy(deep_copy=True)\n",
    "    sheet2.face_df['id'] = sheet2.face_df.index.values\n",
    "    sheet2.settings['apoptosis'] = apoptosis_settings\n",
    "    \n",
    "    #\"\"\" Initiale find minimal energy\n",
    "    # To be sure we are at the equilibrium\n",
    "    res = solver.find_energy_min(sheet2, geom, model, options={\"gtol\": 1e-8})\n",
    "\n",
    "\n",
    "    sheet2 = apoptosis_process(dirname, solver, sheet2, geom, model)\n",
    "\n",
    "    print('{} done'.format(dirname))\n",
    "    print('~~~~~~~~~~~~~~~~~~~~~\\n')"
   ]
  },
  {
   "cell_type": "code",
   "execution_count": 16,
   "metadata": {},
   "outputs": [],
   "source": [
    "def apoptosis_process(dirname, solver, sheet, geom, model):\n",
    "    \n",
    "    # Initiate manager\n",
    "    manager = EventManager('face')\n",
    "    \n",
    "    t = 0\n",
    "    stop = 150\n",
    "\n",
    "        \n",
    "    # Run simulation\n",
    "    while t < stop:\n",
    "        if t%10 == 0:\n",
    "            sheet.settings['lumen_prefered_vol'] *= 0.99        \n",
    "        \n",
    "        # Reset radial tension at each time step\n",
    "        sheet.vert_df.radial_tension = 0\n",
    "        \n",
    "        # Add face in apoptosis according to the \n",
    "        # spatio-temporal patterning define previously\n",
    "        if t == 1 :\n",
    "            apopto_cell = sheet.face_df[sheet.face_df.apoptosis == 1].id\n",
    "            for c in apopto_cell : \n",
    "                apopto_kwargs = sheet.settings['apoptosis'].copy()\n",
    "                apopto_kwargs.update(\n",
    "                {\n",
    "                    'face_id': c,\n",
    "                }\n",
    "                )\n",
    "                manager.append(apoptosis, **apopto_kwargs)\n",
    "        \n",
    "        if t == 11 : \n",
    "            apopto_cell = sheet.face_df[sheet.face_df.apoptosis == 2].id\n",
    "            for c in apopto_cell : \n",
    "                apopto_kwargs = sheet.settings['apoptosis'].copy()\n",
    "                apopto_kwargs.update(\n",
    "                {\n",
    "                    'face_id': c,\n",
    "                    \"max_traction\":30,\n",
    "                    \"current_traction\":0,\n",
    "                }\n",
    "                )\n",
    "                manager.append(apoptosis, **apopto_kwargs)\n",
    "                \n",
    "        if t == 21:\n",
    "            apopto_cell = sheet.face_df[sheet.face_df.apoptosis == 3].id\n",
    "            for c in apopto_cell : \n",
    "                apopto_kwargs = sheet.settings['apoptosis'].copy()\n",
    "                apopto_kwargs.update(\n",
    "                {\n",
    "                    'face_id': c,\n",
    "                    \"max_traction\":30,\n",
    "                    \"current_traction\":0,\n",
    "                }\n",
    "                )\n",
    "                manager.append(apoptosis, **apopto_kwargs)\n",
    "        \n",
    "        manager.execute(sheet)\n",
    "        \n",
    "        res = solver.find_energy_min(sheet, geom, model, options={\"gtol\": 1e-8})\n",
    "\n",
    "        # add noise on vertex position to avoid local minimal.\n",
    "        sheet.vert_df[\n",
    "            ['x', 'y']] += np.random.normal(scale=1e-3, size=(sheet.Nv, 2))\n",
    "        geom.update_all(sheet)\n",
    "        \n",
    "    \n",
    "        \n",
    "        # Save result in each time step.\n",
    "        figname = os.path.join(\n",
    "            dirname, 'invagination_{:04d}.png'.format(t))\n",
    "        hdfname = figname[:-3] + 'hf5'\n",
    "        \n",
    "        \n",
    "        with pd.HDFStore(hdfname) as test:\n",
    "            test.put(\"settings\", pd.Series(sheet.settings))\n",
    "\n",
    "        with pd.HDFStore(hdfname) as store:\n",
    "            settings = store['settings']\n",
    "        \n",
    "        hdf5.save_datasets(hdfname, sheet)\n",
    "\n",
    "\n",
    "\n",
    "        manager.update()\n",
    "        t += 1\n",
    "\n",
    "    return sheet\n"
   ]
  },
  {
   "cell_type": "code",
   "execution_count": null,
   "metadata": {},
   "outputs": [],
   "source": []
  },
  {
   "cell_type": "code",
   "execution_count": null,
   "metadata": {
    "scrolled": true
   },
   "outputs": [],
   "source": []
  },
  {
   "cell_type": "code",
   "execution_count": 17,
   "metadata": {
    "scrolled": false
   },
   "outputs": [
    {
     "name": "stdout",
     "output_type": "stream",
     "text": [
      "start : 2019-08-27 18:22:54.099769\n",
      "end : 2019-08-27 22:57:53.115172\n",
      "Duree totale d execution : \n",
      "\t\t\n",
      "4:34:59.015403\n"
     ]
    }
   ],
   "source": [
    "from joblib import Parallel, delayed\n",
    "import multiprocessing\n",
    "from datetime import datetime\n",
    "\n",
    "global_start=datetime.now()\n",
    "print (\"start : \" + str(global_start))\n",
    "num_cores = multiprocessing.cpu_count()\n",
    "\n",
    "radial_tension = [10, 20, 30]\n",
    "\n",
    "contractility_percent = [8, 16]\n",
    "contractility_rate = [1+c/100 for c in contractility_percent]\n",
    "\n",
    "\n",
    "contractility_rate, radial_tension = np.meshgrid(contractility_rate, radial_tension)\n",
    "\n",
    "results = Parallel(n_jobs=2)(delayed(run_sim)(\n",
    "    sim_save_dir, sheet, c, rd, 0) \n",
    "                             for c, rd in zip(contractility_rate.ravel(), radial_tension.ravel()))\n",
    "\n",
    "global_end = datetime.now()\n",
    "print (\"end : \" + str(global_end))\n",
    "print ('Duree totale d execution : \\n\\t\\t')\n",
    "print (global_end-global_start)"
   ]
  },
  {
   "cell_type": "code",
   "execution_count": null,
   "metadata": {},
   "outputs": [],
   "source": []
  },
  {
   "cell_type": "code",
   "execution_count": null,
   "metadata": {},
   "outputs": [],
   "source": []
  },
  {
   "cell_type": "code",
   "execution_count": 18,
   "metadata": {
    "scrolled": false
   },
   "outputs": [
    {
     "name": "stdout",
     "output_type": "stream",
     "text": [
      "start : 2019-08-27 22:57:53.122987\n",
      "starting /home/admin-suz/Documents/Simulations/20190827-QSSolver-Prepolarized_test_ratio/1.08_constriction_20_radialtension0\n"
     ]
    },
    {
     "name": "stderr",
     "output_type": "stream",
     "text": [
      "/home/admin-suz/anaconda3/lib/python3.6/site-packages/ipykernel_launcher.py:16: PerformanceWarning: \n",
      "your performance may suffer as PyTables will pickle object types that it cannot\n",
      "map directly to c-types [inferred_type->mixed-integer,key->values] [items->None]\n",
      "\n",
      "  app.launch_new_instance()\n",
      "/home/admin-suz/anaconda3/lib/python3.6/site-packages/tyssue-0.5.0-py3.6-linux-x86_64.egg/tyssue/topology/sheet_topology.py:29: UserWarning: The epsilon argument is deprecated and will be removed in a future version. The length of the new edge should be set by `sheet.settings['threshold_length]*multiplier` \n",
      "  \"The epsilon argument is deprecated and will be removed in a future version. \"\n"
     ]
    },
    {
     "name": "stdout",
     "output_type": "stream",
     "text": [
      "/home/admin-suz/Documents/Simulations/20190827-QSSolver-Prepolarized_test_ratio/1.08_constriction_20_radialtension0 done\n",
      "~~~~~~~~~~~~~~~~~~~~~\n",
      "\n",
      "starting /home/admin-suz/Documents/Simulations/20190827-QSSolver-Prepolarized_test_ratio/1.16_constriction_20_radialtension0\n",
      "/home/admin-suz/Documents/Simulations/20190827-QSSolver-Prepolarized_test_ratio/1.16_constriction_20_radialtension0 done\n",
      "~~~~~~~~~~~~~~~~~~~~~\n",
      "\n",
      "end : 2019-08-28 01:57:10.214701\n",
      "Duree totale d execution : \n",
      "\t\t\n",
      "2:59:17.091714\n"
     ]
    }
   ],
   "source": [
    "# Sequential Execution\n",
    "\n",
    "from datetime import datetime\n",
    "\n",
    "global_start=datetime.now()\n",
    "print (\"start : \" + str(global_start))\n",
    "\n",
    "radial_tension = [20]\n",
    "#for rd in radial_tension:\n",
    "contractility_percent = [8, 16]\n",
    "contractility_rate = [1+c/100 for c in contractility_percent]\n",
    "\n",
    "for c in contractility_rate:\n",
    "    for rd in radial_tension:\n",
    "        for iteration in range (0, 1):\n",
    "            run_sim(sim_save_dir, sheet, c, rd, iteration)\n",
    "        \n",
    "        \n",
    "        \n",
    "global_end = datetime.now()\n",
    "print (\"end : \" + str(global_end))\n",
    "print ('Duree totale d execution : \\n\\t\\t')\n",
    "print (global_end-global_start)"
   ]
  },
  {
   "cell_type": "code",
   "execution_count": null,
   "metadata": {},
   "outputs": [],
   "source": []
  },
  {
   "cell_type": "code",
   "execution_count": null,
   "metadata": {},
   "outputs": [],
   "source": []
  },
  {
   "cell_type": "code",
   "execution_count": null,
   "metadata": {},
   "outputs": [],
   "source": []
  },
  {
   "cell_type": "code",
   "execution_count": null,
   "metadata": {},
   "outputs": [],
   "source": []
  },
  {
   "cell_type": "code",
   "execution_count": 19,
   "metadata": {
    "scrolled": false
   },
   "outputs": [
    {
     "ename": "FileNotFoundError",
     "evalue": "[Errno 2] No such file or directory: '/home/admin-suz/Documents/Simulations/test_apoptosis/1.08_constriction_50_radialtension0_line_tension100'",
     "output_type": "error",
     "traceback": [
      "\u001b[0;31m---------------------------------------------------------------------------\u001b[0m",
      "\u001b[0;31mFileNotFoundError\u001b[0m                         Traceback (most recent call last)",
      "\u001b[0;32m<ipython-input-19-9f7b42927053>\u001b[0m in \u001b[0;36m<module>\u001b[0;34m\u001b[0m\n\u001b[1;32m      4\u001b[0m \u001b[0;34m\u001b[0m\u001b[0m\n\u001b[1;32m      5\u001b[0m \u001b[0;32mimport\u001b[0m \u001b[0mipyvolume\u001b[0m\u001b[0;34m.\u001b[0m\u001b[0mpylab\u001b[0m \u001b[0;32mas\u001b[0m \u001b[0mp3\u001b[0m\u001b[0;34m\u001b[0m\u001b[0m\n\u001b[0;32m----> 6\u001b[0;31m hfs = [f  for f in os.listdir(dirname)\n\u001b[0m\u001b[1;32m      7\u001b[0m        if f.endswith('hf5')]\n\u001b[1;32m      8\u001b[0m \u001b[0mhfs\u001b[0m\u001b[0;34m.\u001b[0m\u001b[0msort\u001b[0m\u001b[0;34m(\u001b[0m\u001b[0mkey\u001b[0m\u001b[0;34m=\u001b[0m\u001b[0;32mlambda\u001b[0m \u001b[0mx\u001b[0m\u001b[0;34m:\u001b[0m \u001b[0mos\u001b[0m\u001b[0;34m.\u001b[0m\u001b[0mpath\u001b[0m\u001b[0;34m.\u001b[0m\u001b[0mgetctime\u001b[0m\u001b[0;34m(\u001b[0m\u001b[0mos\u001b[0m\u001b[0;34m.\u001b[0m\u001b[0mpath\u001b[0m\u001b[0;34m.\u001b[0m\u001b[0mjoin\u001b[0m\u001b[0;34m(\u001b[0m\u001b[0mdirname\u001b[0m\u001b[0;34m,\u001b[0m \u001b[0mx\u001b[0m\u001b[0;34m)\u001b[0m\u001b[0;34m)\u001b[0m\u001b[0;34m)\u001b[0m\u001b[0;34m\u001b[0m\u001b[0m\n",
      "\u001b[0;31mFileNotFoundError\u001b[0m: [Errno 2] No such file or directory: '/home/admin-suz/Documents/Simulations/test_apoptosis/1.08_constriction_50_radialtension0_line_tension100'"
     ]
    }
   ],
   "source": [
    "SIM_DIR = Path('/home/admin-suz/Documents/Simulations/test_apoptosis')\n",
    "dirname = SIM_DIR/'1.08_constriction_50_radialtension0_line_tension100/'\n",
    "from tyssue.draw import sheet_view\n",
    "\n",
    "import ipyvolume.pylab as p3\n",
    "hfs = [f  for f in os.listdir(dirname)\n",
    "       if f.endswith('hf5')]\n",
    "hfs.sort(key=lambda x: os.path.getctime(os.path.join(dirname, x)))\n",
    "\n",
    "current = 'invagination_0145.hf5'\n",
    "ipv.clear()\n",
    "ipv.style.use('dark')\n",
    "\n",
    "\n",
    "dsets = hdf5.load_datasets(os.path.join(dirname, current),\n",
    "                               data_names=['vert', 'edge', 'face', 'cell'])\n",
    "\n",
    "specs = config.geometry.cylindrical_sheet()\n",
    "sheet = Sheet('ellipse', dsets, specs)\n",
    "\"\"\"sheet.face_df['test']=0\n",
    "index =sheet.face_df[(sheet.face_df.z>6) & (sheet.face_df.z<15) \n",
    "              & (sheet.face_df.y>25) & (sheet.face_df.y<35) \n",
    "                    & (sheet.face_df.x>0)].index\n",
    "sheet.face_df.loc[index, 'test']=1\"\"\"\n",
    "\n",
    "#sheet = sheet.extract_bounding_box(z_boundary=[-200,50])\n",
    "def draw_specs(sheet):\n",
    "    specs = {\n",
    "        'edge': {\n",
    "            'visible': True,\n",
    "            'color': sheet.vert_df.y,\n",
    "            #'colormap': 'Reds'\n",
    "        },\n",
    "        'face': {\n",
    "            'visible': True,\n",
    "            'color': sheet.face_df.fold,\n",
    "            'colormap': 'Blues'\n",
    "        },\n",
    "        'vert':{\n",
    "            'visible':True,\n",
    "            's':100,\n",
    "            'alpha': 0.3,\n",
    "            'zorder': 2,\n",
    "            'color': sheet.vert_df.radial_tension\n",
    "            \n",
    "        }\n",
    "        \n",
    "    }\n",
    "    return specs\n",
    "\n",
    "ipv.clear()\n",
    "ipv_fig, meshes = sheet_view(sheet, coords=list('zxy'),\n",
    "                             mode='3D', **draw_specs(sheet))\n",
    "ipv_fig"
   ]
  },
  {
   "cell_type": "code",
   "execution_count": null,
   "metadata": {},
   "outputs": [],
   "source": [
    "sheet.settings['geometry'] = \"spherical\"\n",
    "sheet.settings['lumen_vol_elasticity'] = 3.e-6\n",
    "#sheet.settings['lumen_prefered_vol'] = sheet.settings['lumen_prefered_vol'] - sheet.settings['lumen_prefered_vol']*10/100\n",
    "sheet.settings['barrier_ray'] = int(max(np.abs(sheet.face_df.z.min()), sheet.face_df.z.max())+20)\n",
    "sheet.vert_df['barrier_elasticity'] = 280.0\n",
    "#sheet.settings['barrier_ray_cylinder'] = 55\n",
    "sheet.edge_df['line_tension'] = 3\n",
    "sheet.settings['lumen_prefered_vol']=1655117.87836963126/2"
   ]
  },
  {
   "cell_type": "code",
   "execution_count": null,
   "metadata": {},
   "outputs": [],
   "source": [
    "res = solver.find_energy_min(sheet, geom, model, options={\"gtol\": 1e-8})"
   ]
  },
  {
   "cell_type": "code",
   "execution_count": null,
   "metadata": {},
   "outputs": [],
   "source": [
    "#sheet = sheet.extract_bounding_box(z_boundary=[-200,50])\n",
    "def draw_specs(sheet):\n",
    "    specs = {\n",
    "        'edge': {\n",
    "            'visible': True,\n",
    "            'color': sheet.vert_df.y,\n",
    "            #'colormap': 'Reds'\n",
    "        },\n",
    "        'face': {\n",
    "            'visible': True,\n",
    "            'color': sheet.face_df.fold,\n",
    "            'colormap': 'Blues'\n",
    "        },\n",
    "        'vert':{\n",
    "            'visible':True,\n",
    "            's':100,\n",
    "            'alpha': 0.3,\n",
    "            'zorder': 2,\n",
    "            'color': sheet.vert_df.radial_tension\n",
    "            \n",
    "        }\n",
    "        \n",
    "    }\n",
    "    return specs\n",
    "\n",
    "ipv.clear()\n",
    "ipv_fig, meshes = sheet_view(sheet, coords=list('zxy'),\n",
    "                             mode='3D', **draw_specs(sheet))\n",
    "ipv_fig"
   ]
  },
  {
   "cell_type": "code",
   "execution_count": null,
   "metadata": {},
   "outputs": [],
   "source": []
  },
  {
   "cell_type": "code",
   "execution_count": null,
   "metadata": {
    "scrolled": false
   },
   "outputs": [],
   "source": []
  },
  {
   "cell_type": "code",
   "execution_count": null,
   "metadata": {},
   "outputs": [],
   "source": []
  },
  {
   "cell_type": "code",
   "execution_count": null,
   "metadata": {},
   "outputs": [],
   "source": []
  }
 ],
 "metadata": {
  "kernelspec": {
   "display_name": "Python 3",
   "language": "python",
   "name": "python3"
  },
  "language_info": {
   "codemirror_mode": {
    "name": "ipython",
    "version": 3
   },
   "file_extension": ".py",
   "mimetype": "text/x-python",
   "name": "python",
   "nbconvert_exporter": "python",
   "pygments_lexer": "ipython3",
   "version": "3.7.3"
  }
 },
 "nbformat": 4,
 "nbformat_minor": 2
}
