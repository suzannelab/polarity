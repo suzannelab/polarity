{
 "cells": [
  {
   "cell_type": "code",
   "execution_count": null,
   "metadata": {},
   "outputs": [],
   "source": [
    "# import\n",
    "import os\n",
    "import time\n",
    "import random\n",
    "\n",
    "from pathlib import Path\n",
    "\n",
    "from polarity.toolbox import (init_tissue,\n",
    "                              define_fold_position,\n",
    "                              define_apoptotic_pattern)\n",
    "from polarity.polarity import model\n",
    "\n",
    "import matplotlib.pyplot as plt"
   ]
  },
  {
   "cell_type": "code",
   "execution_count": null,
   "metadata": {},
   "outputs": [],
   "source": [
    "SIM_DIR = Path('')\n",
    "\n",
    "today = datetime.date.today().strftime('%Y%m%d')\n",
    "sim_save_dir = SIM_DIR / f'{today}-variability'\n",
    "\n",
    "try:\n",
    "    os.mkdir(sim_save_dir)\n",
    "except FileExistsError:\n",
    "    pass"
   ]
  },
  {
   "cell_type": "code",
   "execution_count": null,
   "metadata": {},
   "outputs": [],
   "source": []
  },
  {
   "cell_type": "code",
   "execution_count": null,
   "metadata": {},
   "outputs": [],
   "source": [
    "# Create initial tissue\n",
    "sheet = init_tissue()\n",
    "\n",
    "define_fold_position(sheet, fold_number=1, position=[-8, 8])\n"
   ]
  },
  {
   "cell_type": "code",
   "execution_count": null,
   "metadata": {},
   "outputs": [],
   "source": []
  },
  {
   "cell_type": "markdown",
   "metadata": {},
   "source": [
    "# Sequential execution"
   ]
  },
  {
   "cell_type": "code",
   "execution_count": null,
   "metadata": {},
   "outputs": [],
   "source": [
    "from datetime import datetime\n",
    "\n",
    "global_start = datetime.now()\n",
    "print('strat: ' + str(global_start))\n",
    "\n",
    "potential_perturbator_cells = sheet.face_df[\n",
    "                                    (sheet.face_df.z > -45) &\n",
    "                                    (sheet.face_df.z < 45)].index.to_numpy()\n",
    "\n",
    "position_perturbation = []\n",
    "define_apoptotic_pattern(sheet)\n",
    "\n",
    "# Number of perturbation that we want\n",
    "for i in range(3):\n",
    "    cell_perturb = potential_perturbator_cells[\n",
    "                                random.randint(0, len(potential_perturbator_cells))\n",
    "                                                    ]\n",
    "    position_perturbation.append(cell_perturb)\n",
    "\n",
    "polarity = [1, 0.9, 0.8, 0.7, 0.6, 0.5]\n",
    "perturbation = [-1, position_perturbation]\n",
    "\n",
    "for pola in polarity:\n",
    "    for perturb in perturbation : \n",
    "        sheet_ = polarity_process(sim_save_dir, \n",
    "                         sheet,\n",
    "                         pola,\n",
    "                         perturb\n",
    "                        )\n",
    "        \n",
    "global_end = datetime.now()\n",
    "print('end : '+ str(global_end))\n",
    "print('Durée totale d execution : \\n' + str(global_end-global_start))"
   ]
  },
  {
   "cell_type": "code",
   "execution_count": null,
   "metadata": {},
   "outputs": [],
   "source": []
  },
  {
   "cell_type": "code",
   "execution_count": null,
   "metadata": {},
   "outputs": [],
   "source": []
  }
 ],
 "metadata": {
  "kernelspec": {
   "display_name": "Python 3",
   "language": "python",
   "name": "python3"
  },
  "language_info": {
   "codemirror_mode": {
    "name": "ipython",
    "version": 3
   },
   "file_extension": ".py",
   "mimetype": "text/x-python",
   "name": "python",
   "nbconvert_exporter": "python",
   "pygments_lexer": "ipython3",
   "version": "3.7.6"
  }
 },
 "nbformat": 4,
 "nbformat_minor": 2
}
