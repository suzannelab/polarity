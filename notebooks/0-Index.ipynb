{
 "cells": [
  {
   "cell_type": "markdown",
   "metadata": {},
   "source": [
    "\n",
    "## Notebooks from Mechanical control of morphogenesis robustness in an inherently challenging environment\n",
    " \n",
    " \n",
    "Emmanuel Martin<sup>1</sup> , Sophie Theis<sup>1,2</sup> , Guillaume Gay<sup> * 2</sup> , Bruno Monier<sup>* 1</sup> , and Magali Suzanne<sup> * 1</sup>\n",
    " \n",
    " <sup>1</sup> LBCMCP, Centre de Biologie Intégrative (CBI), Université de Toulouse, CNRS, UPS, France \n",
    " \n",
    " <sup>2</sup> Morphogénie Logiciels, 32110 St Martin d’Armagnac, France\n",
    " \n",
    " \\* co-corresponding authors\n",
    " \n",
    "### Toy model demo\n",
    " \n",
    " [SmallEllipsoidInvagination](SmallEllipsoidInvagination.ipynb) contains a small ellipsoid to run simulation in a small number of cells. \n",
    " \n",
    " \n",
    "### Simulations\n",
    "\n",
    " [1-Simulations_LumenElasticity](1-Simulations_LumenElasticity.ipynb) contains simulations in Supplementary figure S3 pannel b. It tests different values of yolk compression. \n",
    " \n",
    " [2-Simulations_InitialPolarisation](2-Simulations_InitialPolarisation.ipynb) contains simulations in Supplementary figure S6 pannel cde. \n",
    " \n",
    " [3-Simulations_FiguresPrincipal](3-Simulations_FiguresPrincipal.ipynb) contains simulations in figure 3 and 4.\n",
    "  \n",
    " "
   ]
  },
  {
   "cell_type": "code",
   "execution_count": null,
   "metadata": {},
   "outputs": [],
   "source": []
  }
 ],
 "metadata": {
  "kernelspec": {
   "display_name": "Python 3",
   "language": "python",
   "name": "python3"
  },
  "language_info": {
   "codemirror_mode": {
    "name": "ipython",
    "version": 3
   },
   "file_extension": ".py",
   "mimetype": "text/x-python",
   "name": "python",
   "nbconvert_exporter": "python",
   "pygments_lexer": "ipython3",
   "version": "3.7.6"
  }
 },
 "nbformat": 4,
 "nbformat_minor": 2
}
