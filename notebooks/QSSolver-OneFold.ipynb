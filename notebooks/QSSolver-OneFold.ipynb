{
 "cells": [
  {
   "cell_type": "code",
   "execution_count": 1,
   "metadata": {},
   "outputs": [],
   "source": [
    "# Import \n",
    "import os\n",
    "import time\n",
    "import json\n",
    "import random\n",
    "import datetime\n",
    "import numpy as np\n",
    "import pandas as pd\n",
    "\n",
    "from IPython.display import display\n",
    "\n",
    "from pathlib import Path\n",
    "from tyssue import config\n",
    "from tyssue import Sheet\n",
    "from tyssue.io import hdf5\n",
    "from tyssue.io.hdf5 import load_datasets\n",
    "from tyssue.dynamics import SheetModel as basemodel\n",
    "from tyssue.solvers.quasistatic import QSSolver\n",
    "from tyssue.draw import sheet_view\n",
    "from tyssue.draw.plt_draw import quick_edge_draw\n",
    "from tyssue.draw.ipv_draw import sheet_view as ipv_draw \n",
    "\n",
    "from tyssue.behaviors.event_manager import EventManager\n",
    "from tyssue.behaviors.sheet.apoptosis_events import apoptosis\n",
    "\n",
    "import matplotlib.pyplot as plt\n",
    "%matplotlib inline\n",
    "\n",
    "try:\n",
    "    import seaborn as sns\n",
    "except ImportError:\n",
    "    print('Seaborn not found')\n",
    "\n"
   ]
  },
  {
   "cell_type": "code",
   "execution_count": 2,
   "metadata": {},
   "outputs": [],
   "source": [
    "from polarity.dynamics import model\n",
    "from polarity.apoptosis import apoptosis\n",
    "from polarity.dynamics import EllipsoidLameGeometry as geom\n",
    "#from tyssue.geometry.sheet_geometry import ClosedSheetGeometry as geom\n"
   ]
  },
  {
   "cell_type": "code",
   "execution_count": 3,
   "metadata": {},
   "outputs": [],
   "source": [
    "SIM_DIR = Path('/home/admin-suz/Documents/Simulations/20190827-QSSolver-Prepolarized')\n",
    "\n",
    "sim_save_dir = SIM_DIR\n",
    "\n",
    "try:\n",
    "    os.mkdir(sim_save_dir)\n",
    "except FileExistsError:\n",
    "    pass"
   ]
  },
  {
   "cell_type": "code",
   "execution_count": 4,
   "metadata": {},
   "outputs": [],
   "source": [
    "solver = QSSolver(with_t1=False, with_t3=False, with_collisions=False)"
   ]
  },
  {
   "cell_type": "code",
   "execution_count": 5,
   "metadata": {},
   "outputs": [],
   "source": [
    "from tyssue.dynamics import units, effectors, model_factory\n",
    "from polarity.dynamics import RadialTension\n",
    "model = model_factory(\n",
    "    [\n",
    "        RadialTension,\n",
    "        effectors.LineTension,\n",
    "        #effectors.FaceContractility,\n",
    "        effectors.FaceAreaElasticity,\n",
    "        effectors.LumenVolumeElasticity,\n",
    "    ], effectors.FaceAreaElasticity)"
   ]
  },
  {
   "cell_type": "code",
   "execution_count": 6,
   "metadata": {},
   "outputs": [],
   "source": [
    "# Create tissue tissue \n",
    "\n",
    "def load_before_apopto(anchor_tension=0):\n",
    "\n",
    "    #h5store = '../examples/superegg_final.hf5'\n",
    "    h5store = '../examples/tissue_prepolarized.hf5'\n",
    "\n",
    "    datasets = load_datasets(h5store,\n",
    "                             data_names=['face', 'vert', 'edge'])\n",
    "    \n",
    "    with open('../examples/superegg_final.json', 'r+') as fp:\n",
    "        specs = json.load(fp)\n",
    "    \n",
    "    sheet = Sheet('spherical', datasets, specs)\n",
    "    sheet.settings['geometry'] = \"spherical\"\n",
    "    sheet.settings['lumen_volume_elasticity'] = 3.e-6\n",
    "    #sheet.settings['lumen_prefered_vol'] = sheet.settings['lumen_prefered_vol'] - sheet.settings['lumen_prefered_vol']*10/100\n",
    "\n",
    "    return sheet\n",
    "\n",
    "sheet = load_before_apopto(0)\n",
    "\n",
    "geom.update_all(sheet)\n",
    "\n"
   ]
  },
  {
   "cell_type": "code",
   "execution_count": null,
   "metadata": {},
   "outputs": [],
   "source": []
  },
  {
   "cell_type": "code",
   "execution_count": 7,
   "metadata": {},
   "outputs": [
    {
     "data": {
      "text/plain": [
       "\"fig, ax = quick_edge_draw(sheet, ['z', 'x'],\\n                              alpha=0.7)\\nfig.set_size_inches(18.5, 10.5, forward=True)\""
      ]
     },
     "execution_count": 7,
     "metadata": {},
     "output_type": "execute_result"
    }
   ],
   "source": [
    "res = solver.find_energy_min(sheet, geom, model, options={\"gtol\": 1e-8})\n",
    "\n",
    "\"\"\"fig, ax = quick_edge_draw(sheet, ['z', 'x'],\n",
    "                              alpha=0.7)\n",
    "fig.set_size_inches(18.5, 10.5, forward=True)\"\"\""
   ]
  },
  {
   "cell_type": "code",
   "execution_count": 8,
   "metadata": {},
   "outputs": [
    {
     "data": {
      "application/vnd.jupyter.widget-view+json": {
       "model_id": "579f9cd02e5d4da8a8af341ab33a1daf",
       "version_major": 2,
       "version_minor": 0
      },
      "text/plain": [
       "Figure(camera_center=[0.0, 0.0, 0.0], height=500, matrix_projection=[0.0, 0.0, 0.0, 0.0, 0.0, 0.0, 0.0, 0.0, 0…"
      ]
     },
     "metadata": {},
     "output_type": "display_data"
    }
   ],
   "source": [
    "\"\"\"import ipyvolume as ipv\n",
    "ipv.clear()\n",
    "# code couleur profondeur du tissu\n",
    "fig, mesh = sheet_view(sheet, mode=\"3D\", coords=['z', 'x', 'y'],\n",
    "                   edge={'color':sheet.vert_df.y*(sheet.vert_df.y>0),\n",
    "                         'colormap':'viridis'})\n",
    "fig\"\"\"\n",
    "import ipyvolume as ipv\n",
    "ipv.clear()\n",
    "# code couleur profondeur du tissu\n",
    "fig, mesh = sheet_view(sheet, mode=\"3D\", coords=['z', 'x', 'y'],\n",
    "                   edge={'color':'white'},\n",
    "                      face={'color':'black', 'visible':True})\n",
    "fig\n",
    "\n"
   ]
  },
  {
   "cell_type": "code",
   "execution_count": null,
   "metadata": {
    "scrolled": false
   },
   "outputs": [],
   "source": []
  },
  {
   "cell_type": "code",
   "execution_count": null,
   "metadata": {
    "scrolled": false
   },
   "outputs": [],
   "source": []
  },
  {
   "cell_type": "code",
   "execution_count": 9,
   "metadata": {},
   "outputs": [
    {
     "name": "stdout",
     "output_type": "stream",
     "text": [
      "108\n"
     ]
    },
    {
     "data": {
      "application/vnd.jupyter.widget-view+json": {
       "model_id": "01d6e8c4f77e4460aa3dc6ef9b7bf30b",
       "version_major": 2,
       "version_minor": 0
      },
      "text/plain": [
       "Figure(camera_center=[0.0, 0.0, 0.0], height=500, matrix_projection=[0.0, 0.0, 0.0, 0.0, 0.0, 0.0, 0.0, 0.0, 0…"
      ]
     },
     "metadata": {},
     "output_type": "display_data"
    }
   ],
   "source": [
    "def define_fold_position(sheet, fold_number = 2, position=[-36, -22, 22, 36]):\n",
    "    #position = [min, max, min, max]\n",
    "    sheet.face_df['fold'] = 0\n",
    "    for i in range(fold_number):\n",
    "        i=i*2\n",
    "        sheet.face_df.loc[sheet.face_df[(sheet.face_df.z>position[i]) \n",
    "                                        & (sheet.face_df.z<position[i+1])].index, 'fold'] = i+1\n",
    "        \n",
    "        \n",
    "        \n",
    "define_fold_position(sheet, fold_number = 1, position=[-7, 7])\n",
    "print(len(sheet.face_df[sheet.face_df.fold==1]))\n",
    "ipv.clear()\n",
    "# code couleur profondeur du tissu\n",
    "fig, mesh = sheet_view(sheet, mode=\"3D\", coords=['z', 'x', 'y'],\n",
    "                   edge={'color':'lightslategrey',\n",
    "                         'visible':True},\n",
    "                   face={'color': sheet.face_df.fold,\n",
    "                        'colormap':'Reds',\n",
    "                        'visible':True})\n",
    "fig\n"
   ]
  },
  {
   "cell_type": "code",
   "execution_count": 10,
   "metadata": {},
   "outputs": [
    {
     "data": {
      "application/vnd.jupyter.widget-view+json": {
       "model_id": "bb2296830a63429ca55445d407960b78",
       "version_major": 2,
       "version_minor": 0
      },
      "text/plain": [
       "Figure(camera_center=[0.0, 0.0, 0.0], height=500, matrix_projection=[0.0, 0.0, 0.0, 0.0, 0.0, 0.0, 0.0, 0.0, 0…"
      ]
     },
     "metadata": {},
     "output_type": "display_data"
    }
   ],
   "source": [
    "sheet.face_df['apoptosis'] = 0\n",
    "\n",
    "\n",
    "def apoptosis_ventral (sheet, code_fold = 1):\n",
    "    \n",
    "    fold_cell= sheet.face_df[sheet.face_df.fold == code_fold]\n",
    "    \n",
    "    for i in fold_cell.itertuples(): \n",
    "        proba = 0.6*np.exp(-(i.phi+3)**2/0.7**2) + 0.6*np.exp(-(i.phi-3)**2/0.7**2)\n",
    "        aleatory_number = random.uniform(0,1)\n",
    "        if aleatory_number < proba:\n",
    "            sheet.face_df.loc[i.Index, \"apoptosis\"] = 1\n",
    "        \n",
    "\n",
    "\n",
    "apoptosis_ventral(sheet, 1)\n",
    "\n",
    "ipv.clear()\n",
    "# code couleur profondeur du tissu\n",
    "fig, mesh = sheet_view(sheet, mode=\"3D\", coords=['z', 'x', 'y'],\n",
    "                   edge={'color':'lightslategrey',\n",
    "                         'visible':True},\n",
    "                   face={'color': sheet.face_df.apoptosis,\n",
    "                        'colormap':'Reds',\n",
    "                        'visible':True})\n",
    "fig"
   ]
  },
  {
   "cell_type": "code",
   "execution_count": 11,
   "metadata": {},
   "outputs": [
    {
     "data": {
      "application/vnd.jupyter.widget-view+json": {
       "model_id": "9ded034939264fcebc089e73f59c1812",
       "version_major": 2,
       "version_minor": 0
      },
      "text/plain": [
       "Figure(camera_center=[0.0, 0.0, 0.0], height=500, matrix_projection=[0.0, 0.0, 0.0, 0.0, 0.0, 0.0, 0.0, 0.0, 0…"
      ]
     },
     "metadata": {},
     "output_type": "display_data"
    }
   ],
   "source": [
    "def apoptosis_lateral (sheet, code_fold = 1):\n",
    "    \n",
    "    fold_cell= sheet.face_df[sheet.face_df.fold == code_fold]\n",
    "    \n",
    "    for i in fold_cell.itertuples(): \n",
    "        proba = 0.3*np.exp(-(i.phi+1.5)**2/0.8**2) + 0.3*np.exp(-(i.phi-1.5)**2/0.8**2)\n",
    "        aleatory_number = random.uniform(0,1)\n",
    "        if aleatory_number < proba:\n",
    "            sheet.face_df.loc[i.Index, \"apoptosis\"] = 2\n",
    "        \n",
    "\n",
    "\n",
    "apoptosis_lateral(sheet, 1)\n",
    "\n",
    "ipv.clear()\n",
    "# code couleur profondeur du tissu\n",
    "fig, mesh = sheet_view(sheet, mode=\"3D\", coords=['z', 'x', 'y'],\n",
    "                   edge={'color':'lightslategrey',\n",
    "                         'visible':True},\n",
    "                   face={'color': sheet.face_df.apoptosis,\n",
    "                        'colormap':'Reds',\n",
    "                        'visible':True})\n",
    "fig"
   ]
  },
  {
   "cell_type": "code",
   "execution_count": 12,
   "metadata": {},
   "outputs": [
    {
     "data": {
      "application/vnd.jupyter.widget-view+json": {
       "model_id": "a581ef61b2dd47d0a4faf0cfdb601aab",
       "version_major": 2,
       "version_minor": 0
      },
      "text/plain": [
       "Figure(camera_center=[0.0, 0.0, 0.0], height=500, matrix_projection=[0.0, 0.0, 0.0, 0.0, 0.0, 0.0, 0.0, 0.0, 0…"
      ]
     },
     "metadata": {},
     "output_type": "display_data"
    }
   ],
   "source": [
    "def apoptosis_dorsal (sheet, code_fold = 1):\n",
    "    \n",
    "    fold_cell= sheet.face_df[sheet.face_df.fold == code_fold]\n",
    "    \n",
    "    for i in fold_cell.itertuples(): \n",
    "        proba = 0.2*np.exp(-(i.phi)**2/0.4*2)\n",
    "        aleatory_number = random.uniform(0,1)\n",
    "        if aleatory_number < proba:\n",
    "            sheet.face_df.loc[i.Index, \"apoptosis\"] = 3\n",
    "        \n",
    "\n",
    "\n",
    "apoptosis_dorsal(sheet, 1)\n",
    "\n",
    "ipv.clear()\n",
    "# code couleur profondeur du tissu\n",
    "fig, mesh = sheet_view(sheet, mode=\"3D\", coords=['z', 'x', 'y'],\n",
    "                   edge={'color':'lightslategrey',\n",
    "                         'visible':True},\n",
    "                   face={'color': sheet.face_df.apoptosis,\n",
    "                        'colormap':'Reds',\n",
    "                        'visible':True})\n",
    "fig"
   ]
  },
  {
   "cell_type": "code",
   "execution_count": 13,
   "metadata": {},
   "outputs": [
    {
     "name": "stdout",
     "output_type": "stream",
     "text": [
      "108\n",
      "23\n",
      "8\n",
      "13\n",
      "2\n"
     ]
    }
   ],
   "source": [
    "print(len(sheet.face_df[sheet.face_df.fold>0]))\n",
    "print(len(sheet.face_df[sheet.face_df.apoptosis>0]))\n",
    "print(len(sheet.face_df[sheet.face_df.apoptosis==1]))\n",
    "print(len(sheet.face_df[sheet.face_df.apoptosis==2]))\n",
    "print(len(sheet.face_df[sheet.face_df.apoptosis==3]))"
   ]
  },
  {
   "cell_type": "code",
   "execution_count": null,
   "metadata": {},
   "outputs": [],
   "source": []
  },
  {
   "cell_type": "code",
   "execution_count": 14,
   "metadata": {},
   "outputs": [],
   "source": [
    "def run_sim(sim_save_dir, sheet, constriction, radial_tension, iteration=0):\n",
    "    \n",
    "    dirname = '{}_constriction_{}_radialtension{}'.format(\n",
    "        constriction,radial_tension, iteration)\n",
    "    dirname = os.path.join(sim_save_dir, dirname)\n",
    "    \n",
    "    print('starting {}'.format(dirname))\n",
    "    try:\n",
    "        os.mkdir(dirname)\n",
    "    except IOError:\n",
    "        pass\n",
    "\n",
    "    \n",
    "    apoptosis_settings = {\n",
    "        \"critical_area\": 5,\n",
    "        \"contract_rate\": constriction,\n",
    "        \"basal_contract_rate\": 1.01,\n",
    "        \"shrink_span\": 2,\n",
    "        \"radial_tension\": radial_tension,\n",
    "        \"max_traction\":30,\n",
    "        \"current_traction\":0,\n",
    "        \"geom\": geom,\n",
    "    }\n",
    "    \n",
    "    \n",
    "    # Add some information to the sheet and copy initial sheet\n",
    "    sheet2 = sheet.copy(deep_copy=True)\n",
    "    sheet2.face_df['id'] = sheet2.face_df.index.values\n",
    "    sheet2.settings['apoptosis'] = apoptosis_settings\n",
    "    \n",
    "    #\"\"\" Initiale find minimal energy\n",
    "    # To be sure we are at the equilibrium\n",
    "    res = solver.find_energy_min(sheet2, geom, model, options={\"gtol\": 1e-8})\n",
    "\n",
    "\n",
    "    sheet2 = apoptosis_process(dirname, solver, sheet2, geom, model)\n",
    "\n",
    "    print('{} done'.format(dirname))\n",
    "    print('~~~~~~~~~~~~~~~~~~~~~\\n')"
   ]
  },
  {
   "cell_type": "code",
   "execution_count": 15,
   "metadata": {},
   "outputs": [],
   "source": [
    "def apoptosis_process(dirname, solver, sheet, geom, model):\n",
    "    \n",
    "    # Initiate manager\n",
    "    manager = EventManager('face')\n",
    "    \n",
    "    t = 0\n",
    "    stop = 150\n",
    "        \n",
    "    # Tension linéaire homogène pour les cellules apoptotique\n",
    "    sheet.edge_df.loc[sheet.edge_df[sheet.edge_df.face.isin(sheet.face_df[sheet.face_df.apoptosis>0].index)].index,\n",
    "            'line_tension'] = 1.2\n",
    "\n",
    "        \n",
    "    # Run simulation\n",
    "    while t < stop:\n",
    "        if t%10 == 0:\n",
    "            sheet.settings['lumen_prefered_vol'] *= 0.99        \n",
    "        \n",
    "        # Reset radial tension at each time step\n",
    "        sheet.vert_df.radial_tension = 0\n",
    "        \n",
    "        # Add face in apoptosis according to the \n",
    "        # spatio-temporal patterning define previously\n",
    "        if t == 1 :\n",
    "            apopto_cell = sheet.face_df[sheet.face_df.apoptosis == 1].id\n",
    "            for c in apopto_cell : \n",
    "                apopto_kwargs = sheet.settings['apoptosis'].copy()\n",
    "                apopto_kwargs.update(\n",
    "                {\n",
    "                    'face_id': c,\n",
    "                }\n",
    "                )\n",
    "                manager.append(apoptosis, **apopto_kwargs)\n",
    "        \n",
    "        if t == 11 : \n",
    "            apopto_cell = sheet.face_df[sheet.face_df.apoptosis == 2].id\n",
    "            for c in apopto_cell : \n",
    "                apopto_kwargs = sheet.settings['apoptosis'].copy()\n",
    "                apopto_kwargs.update(\n",
    "                {\n",
    "                    'face_id': c,\n",
    "                    \"max_traction\":30,\n",
    "                    \"current_traction\":0,\n",
    "                }\n",
    "                )\n",
    "                manager.append(apoptosis, **apopto_kwargs)\n",
    "                \n",
    "        if t == 21:\n",
    "            apopto_cell = sheet.face_df[sheet.face_df.apoptosis == 3].id\n",
    "            for c in apopto_cell : \n",
    "                apopto_kwargs = sheet.settings['apoptosis'].copy()\n",
    "                apopto_kwargs.update(\n",
    "                {\n",
    "                    'face_id': c,\n",
    "                    \"max_traction\":30,\n",
    "                    \"current_traction\":0,\n",
    "                }\n",
    "                )\n",
    "                manager.append(apoptosis, **apopto_kwargs)\n",
    "        \n",
    "        manager.execute(sheet)\n",
    "        \n",
    "        res = solver.find_energy_min(sheet, geom, model, options={\"gtol\": 1e-8})\n",
    "\n",
    "        # add noise on vertex position to avoid local minimal.\n",
    "        sheet.vert_df[\n",
    "            ['x', 'y']] += np.random.normal(scale=1e-3, size=(sheet.Nv, 2))\n",
    "        geom.update_all(sheet)\n",
    "        \n",
    "    \n",
    "        \n",
    "        # Save result in each time step.\n",
    "        figname = os.path.join(\n",
    "            dirname, 'invagination_{:04d}.png'.format(t))\n",
    "        hdfname = figname[:-3] + 'hf5'\n",
    "        \n",
    "        \n",
    "        with pd.HDFStore(hdfname) as test:\n",
    "            test.put(\"settings\", pd.Series(sheet.settings))\n",
    "\n",
    "        with pd.HDFStore(hdfname) as store:\n",
    "            settings = store['settings']\n",
    "        \n",
    "        hdf5.save_datasets(hdfname, sheet)\n",
    "\n",
    "\n",
    "\n",
    "        manager.update()\n",
    "        t += 1\n",
    "\n",
    "    return sheet\n"
   ]
  },
  {
   "cell_type": "code",
   "execution_count": null,
   "metadata": {},
   "outputs": [],
   "source": []
  },
  {
   "cell_type": "code",
   "execution_count": 16,
   "metadata": {
    "scrolled": true
   },
   "outputs": [
    {
     "data": {
      "text/plain": [
       "'# Sequential Execution\\n\\nfrom datetime import datetime\\n\\nglobal_start=datetime.now()\\nprint (\"start : \" + str(global_start))\\n\\nradial_tension = [20]\\n#for rd in radial_tension:\\ncontractility_percent = [8, 16]\\ncontractility_rate = [1+c/100 for c in contractility_percent]\\n\\nfor c in contractility_rate:\\n    for rd in radial_tension:\\n        for iteration in range (0, 1):\\n            run_sim(sim_save_dir, sheet, c, rd, iteration)\\n        \\n        \\n        \\nglobal_end = datetime.now()\\nprint (\"end : \" + str(global_end))\\nprint (\\'Duree totale d execution : \\n\\t\\t\\')\\nprint (global_end-global_start)'"
      ]
     },
     "execution_count": 16,
     "metadata": {},
     "output_type": "execute_result"
    }
   ],
   "source": []
  },
  {
   "cell_type": "code",
   "execution_count": 17,
   "metadata": {
    "scrolled": true
   },
   "outputs": [
    {
     "name": "stdout",
     "output_type": "stream",
     "text": [
      "start : 2019-08-27 12:00:32.624829\n"
     ]
    },
    {
     "ename": "AttributeError",
     "evalue": "'function' object has no attribute 'values'",
     "output_type": "error",
     "traceback": [
      "\u001b[0;31m---------------------------------------------------------------------------\u001b[0m",
      "\u001b[0;31m_RemoteTraceback\u001b[0m                          Traceback (most recent call last)",
      "\u001b[0;31m_RemoteTraceback\u001b[0m: \n\"\"\"\nTraceback (most recent call last):\n  File \"/home/admin-suz/anaconda3/lib/python3.6/site-packages/joblib/externals/loky/process_executor.py\", line 418, in _process_worker\n    r = call_item()\n  File \"/home/admin-suz/anaconda3/lib/python3.6/site-packages/joblib/externals/loky/process_executor.py\", line 272, in __call__\n    return self.fn(*self.args, **self.kwargs)\n  File \"/home/admin-suz/anaconda3/lib/python3.6/site-packages/joblib/_parallel_backends.py\", line 567, in __call__\n    return self.func(*args, **kwargs)\n  File \"/home/admin-suz/anaconda3/lib/python3.6/site-packages/joblib/parallel.py\", line 225, in __call__\n    for func, args, kwargs in self.items]\n  File \"/home/admin-suz/anaconda3/lib/python3.6/site-packages/joblib/parallel.py\", line 225, in <listcomp>\n    for func, args, kwargs in self.items]\n  File \"<ipython-input-14-00d79fd39f78>\", line 36, in run_sim\n  File \"<ipython-input-15-d9a85e036b64>\", line 61, in apoptosis_process\n  File \"/home/admin-suz/anaconda3/lib/python3.6/site-packages/tyssue-0.5.0-py3.6-linux-x86_64.egg/tyssue/behaviors/event_manager.py\", line 116, in execute\n    behavior(eptm, self, **kwargs)\n  File \"/home/admin-suz/anaconda3/lib/python3.6/site-packages/tyssue-0.5.0-py3.6-linux-x86_64.egg/tyssue/utils/decorators.py\", line 81, in with_face_lookup\n    return func(*args, **kwargs)\n  File \"/home/admin-suz/anaconda3/lib/python3.6/site-packages/polarity-0.0.1-py3.6.egg/polarity/apoptosis.py\", line 176, in contraction_line_tension\n    (sheet.edge_df[sheet.edge_df.face == face].line_tension.unique.values[0]<40)):\nAttributeError: 'function' object has no attribute 'values'\n\"\"\"",
      "\nThe above exception was the direct cause of the following exception:\n",
      "\u001b[0;31mAttributeError\u001b[0m                            Traceback (most recent call last)",
      "\u001b[0;32m<ipython-input-17-54a1343c1ccf>\u001b[0m in \u001b[0;36m<module>\u001b[0;34m\u001b[0m\n\u001b[1;32m     17\u001b[0m results = Parallel(n_jobs=2)(delayed(run_sim)(\n\u001b[1;32m     18\u001b[0m     sim_save_dir, sheet, c, rd, 0) \n\u001b[0;32m---> 19\u001b[0;31m                              for c, rd in zip(contractility_rate.ravel(), radial_tension.ravel()))\n\u001b[0m\u001b[1;32m     20\u001b[0m \u001b[0;34m\u001b[0m\u001b[0m\n\u001b[1;32m     21\u001b[0m \u001b[0mglobal_end\u001b[0m \u001b[0;34m=\u001b[0m \u001b[0mdatetime\u001b[0m\u001b[0;34m.\u001b[0m\u001b[0mnow\u001b[0m\u001b[0;34m(\u001b[0m\u001b[0;34m)\u001b[0m\u001b[0;34m\u001b[0m\u001b[0m\n",
      "\u001b[0;32m~/anaconda3/lib/python3.6/site-packages/joblib/parallel.py\u001b[0m in \u001b[0;36m__call__\u001b[0;34m(self, iterable)\u001b[0m\n\u001b[1;32m    932\u001b[0m \u001b[0;34m\u001b[0m\u001b[0m\n\u001b[1;32m    933\u001b[0m             \u001b[0;32mwith\u001b[0m \u001b[0mself\u001b[0m\u001b[0;34m.\u001b[0m\u001b[0m_backend\u001b[0m\u001b[0;34m.\u001b[0m\u001b[0mretrieval_context\u001b[0m\u001b[0;34m(\u001b[0m\u001b[0;34m)\u001b[0m\u001b[0;34m:\u001b[0m\u001b[0;34m\u001b[0m\u001b[0m\n\u001b[0;32m--> 934\u001b[0;31m                 \u001b[0mself\u001b[0m\u001b[0;34m.\u001b[0m\u001b[0mretrieve\u001b[0m\u001b[0;34m(\u001b[0m\u001b[0;34m)\u001b[0m\u001b[0;34m\u001b[0m\u001b[0m\n\u001b[0m\u001b[1;32m    935\u001b[0m             \u001b[0;31m# Make sure that we get a last message telling us we are done\u001b[0m\u001b[0;34m\u001b[0m\u001b[0;34m\u001b[0m\u001b[0m\n\u001b[1;32m    936\u001b[0m             \u001b[0melapsed_time\u001b[0m \u001b[0;34m=\u001b[0m \u001b[0mtime\u001b[0m\u001b[0;34m.\u001b[0m\u001b[0mtime\u001b[0m\u001b[0;34m(\u001b[0m\u001b[0;34m)\u001b[0m \u001b[0;34m-\u001b[0m \u001b[0mself\u001b[0m\u001b[0;34m.\u001b[0m\u001b[0m_start_time\u001b[0m\u001b[0;34m\u001b[0m\u001b[0m\n",
      "\u001b[0;32m~/anaconda3/lib/python3.6/site-packages/joblib/parallel.py\u001b[0m in \u001b[0;36mretrieve\u001b[0;34m(self)\u001b[0m\n\u001b[1;32m    831\u001b[0m             \u001b[0;32mtry\u001b[0m\u001b[0;34m:\u001b[0m\u001b[0;34m\u001b[0m\u001b[0m\n\u001b[1;32m    832\u001b[0m                 \u001b[0;32mif\u001b[0m \u001b[0mgetattr\u001b[0m\u001b[0;34m(\u001b[0m\u001b[0mself\u001b[0m\u001b[0;34m.\u001b[0m\u001b[0m_backend\u001b[0m\u001b[0;34m,\u001b[0m \u001b[0;34m'supports_timeout'\u001b[0m\u001b[0;34m,\u001b[0m \u001b[0;32mFalse\u001b[0m\u001b[0;34m)\u001b[0m\u001b[0;34m:\u001b[0m\u001b[0;34m\u001b[0m\u001b[0m\n\u001b[0;32m--> 833\u001b[0;31m                     \u001b[0mself\u001b[0m\u001b[0;34m.\u001b[0m\u001b[0m_output\u001b[0m\u001b[0;34m.\u001b[0m\u001b[0mextend\u001b[0m\u001b[0;34m(\u001b[0m\u001b[0mjob\u001b[0m\u001b[0;34m.\u001b[0m\u001b[0mget\u001b[0m\u001b[0;34m(\u001b[0m\u001b[0mtimeout\u001b[0m\u001b[0;34m=\u001b[0m\u001b[0mself\u001b[0m\u001b[0;34m.\u001b[0m\u001b[0mtimeout\u001b[0m\u001b[0;34m)\u001b[0m\u001b[0;34m)\u001b[0m\u001b[0;34m\u001b[0m\u001b[0m\n\u001b[0m\u001b[1;32m    834\u001b[0m                 \u001b[0;32melse\u001b[0m\u001b[0;34m:\u001b[0m\u001b[0;34m\u001b[0m\u001b[0m\n\u001b[1;32m    835\u001b[0m                     \u001b[0mself\u001b[0m\u001b[0;34m.\u001b[0m\u001b[0m_output\u001b[0m\u001b[0;34m.\u001b[0m\u001b[0mextend\u001b[0m\u001b[0;34m(\u001b[0m\u001b[0mjob\u001b[0m\u001b[0;34m.\u001b[0m\u001b[0mget\u001b[0m\u001b[0;34m(\u001b[0m\u001b[0;34m)\u001b[0m\u001b[0;34m)\u001b[0m\u001b[0;34m\u001b[0m\u001b[0m\n",
      "\u001b[0;32m~/anaconda3/lib/python3.6/site-packages/joblib/_parallel_backends.py\u001b[0m in \u001b[0;36mwrap_future_result\u001b[0;34m(future, timeout)\u001b[0m\n\u001b[1;32m    519\u001b[0m         AsyncResults.get from multiprocessing.\"\"\"\n\u001b[1;32m    520\u001b[0m         \u001b[0;32mtry\u001b[0m\u001b[0;34m:\u001b[0m\u001b[0;34m\u001b[0m\u001b[0m\n\u001b[0;32m--> 521\u001b[0;31m             \u001b[0;32mreturn\u001b[0m \u001b[0mfuture\u001b[0m\u001b[0;34m.\u001b[0m\u001b[0mresult\u001b[0m\u001b[0;34m(\u001b[0m\u001b[0mtimeout\u001b[0m\u001b[0;34m=\u001b[0m\u001b[0mtimeout\u001b[0m\u001b[0;34m)\u001b[0m\u001b[0;34m\u001b[0m\u001b[0m\n\u001b[0m\u001b[1;32m    522\u001b[0m         \u001b[0;32mexcept\u001b[0m \u001b[0mLokyTimeoutError\u001b[0m\u001b[0;34m:\u001b[0m\u001b[0;34m\u001b[0m\u001b[0m\n\u001b[1;32m    523\u001b[0m             \u001b[0;32mraise\u001b[0m \u001b[0mTimeoutError\u001b[0m\u001b[0;34m(\u001b[0m\u001b[0;34m)\u001b[0m\u001b[0;34m\u001b[0m\u001b[0m\n",
      "\u001b[0;32m~/anaconda3/lib/python3.6/concurrent/futures/_base.py\u001b[0m in \u001b[0;36mresult\u001b[0;34m(self, timeout)\u001b[0m\n\u001b[1;32m    430\u001b[0m                 \u001b[0;32mraise\u001b[0m \u001b[0mCancelledError\u001b[0m\u001b[0;34m(\u001b[0m\u001b[0;34m)\u001b[0m\u001b[0;34m\u001b[0m\u001b[0m\n\u001b[1;32m    431\u001b[0m             \u001b[0;32melif\u001b[0m \u001b[0mself\u001b[0m\u001b[0;34m.\u001b[0m\u001b[0m_state\u001b[0m \u001b[0;34m==\u001b[0m \u001b[0mFINISHED\u001b[0m\u001b[0;34m:\u001b[0m\u001b[0;34m\u001b[0m\u001b[0m\n\u001b[0;32m--> 432\u001b[0;31m                 \u001b[0;32mreturn\u001b[0m \u001b[0mself\u001b[0m\u001b[0;34m.\u001b[0m\u001b[0m__get_result\u001b[0m\u001b[0;34m(\u001b[0m\u001b[0;34m)\u001b[0m\u001b[0;34m\u001b[0m\u001b[0m\n\u001b[0m\u001b[1;32m    433\u001b[0m             \u001b[0;32melse\u001b[0m\u001b[0;34m:\u001b[0m\u001b[0;34m\u001b[0m\u001b[0m\n\u001b[1;32m    434\u001b[0m                 \u001b[0;32mraise\u001b[0m \u001b[0mTimeoutError\u001b[0m\u001b[0;34m(\u001b[0m\u001b[0;34m)\u001b[0m\u001b[0;34m\u001b[0m\u001b[0m\n",
      "\u001b[0;32m~/anaconda3/lib/python3.6/concurrent/futures/_base.py\u001b[0m in \u001b[0;36m__get_result\u001b[0;34m(self)\u001b[0m\n\u001b[1;32m    382\u001b[0m     \u001b[0;32mdef\u001b[0m \u001b[0m__get_result\u001b[0m\u001b[0;34m(\u001b[0m\u001b[0mself\u001b[0m\u001b[0;34m)\u001b[0m\u001b[0;34m:\u001b[0m\u001b[0;34m\u001b[0m\u001b[0m\n\u001b[1;32m    383\u001b[0m         \u001b[0;32mif\u001b[0m \u001b[0mself\u001b[0m\u001b[0;34m.\u001b[0m\u001b[0m_exception\u001b[0m\u001b[0;34m:\u001b[0m\u001b[0;34m\u001b[0m\u001b[0m\n\u001b[0;32m--> 384\u001b[0;31m             \u001b[0;32mraise\u001b[0m \u001b[0mself\u001b[0m\u001b[0;34m.\u001b[0m\u001b[0m_exception\u001b[0m\u001b[0;34m\u001b[0m\u001b[0m\n\u001b[0m\u001b[1;32m    385\u001b[0m         \u001b[0;32melse\u001b[0m\u001b[0;34m:\u001b[0m\u001b[0;34m\u001b[0m\u001b[0m\n\u001b[1;32m    386\u001b[0m             \u001b[0;32mreturn\u001b[0m \u001b[0mself\u001b[0m\u001b[0;34m.\u001b[0m\u001b[0m_result\u001b[0m\u001b[0;34m\u001b[0m\u001b[0m\n",
      "\u001b[0;31mAttributeError\u001b[0m: 'function' object has no attribute 'values'"
     ]
    }
   ],
   "source": [
    "from joblib import Parallel, delayed\n",
    "import multiprocessing\n",
    "from datetime import datetime\n",
    "\n",
    "global_start=datetime.now()\n",
    "print (\"start : \" + str(global_start))\n",
    "num_cores = multiprocessing.cpu_count()\n",
    "\n",
    "radial_tension = [0]\n",
    "\n",
    "contractility_percent = [8, 16]\n",
    "contractility_rate = [1+c/100 for c in contractility_percent]\n",
    "\n",
    "\n",
    "contractility_rate, radial_tension = np.meshgrid(contractility_rate, radial_tension)\n",
    "\n",
    "results = Parallel(n_jobs=2)(delayed(run_sim)(\n",
    "    sim_save_dir, sheet, c, rd, 0) \n",
    "                             for c, rd in zip(contractility_rate.ravel(), radial_tension.ravel()))\n",
    "\n",
    "global_end = datetime.now()\n",
    "print (\"end : \" + str(global_end))\n",
    "print ('Duree totale d execution : \\n\\t\\t')\n",
    "print (global_end-global_start)"
   ]
  },
  {
   "cell_type": "code",
   "execution_count": null,
   "metadata": {},
   "outputs": [],
   "source": []
  },
  {
   "cell_type": "code",
   "execution_count": null,
   "metadata": {},
   "outputs": [],
   "source": []
  },
  {
   "cell_type": "code",
   "execution_count": 18,
   "metadata": {},
   "outputs": [
    {
     "name": "stdout",
     "output_type": "stream",
     "text": [
      "start : 2019-08-27 12:03:26.045708\n",
      "starting /home/admin-suz/Documents/Simulations/20190827-QSSolver-Prepolarized/1.08_constriction_20_radialtension0\n"
     ]
    },
    {
     "name": "stderr",
     "output_type": "stream",
     "text": [
      "/home/admin-suz/anaconda3/lib/python3.6/site-packages/ipykernel_launcher.py:16: PerformanceWarning: \n",
      "your performance may suffer as PyTables will pickle object types that it cannot\n",
      "map directly to c-types [inferred_type->mixed-integer,key->values] [items->None]\n",
      "\n",
      "  app.launch_new_instance()\n"
     ]
    },
    {
     "ename": "AttributeError",
     "evalue": "'function' object has no attribute 'values'",
     "output_type": "error",
     "traceback": [
      "\u001b[0;31m---------------------------------------------------------------------------\u001b[0m",
      "\u001b[0;31mAttributeError\u001b[0m                            Traceback (most recent call last)",
      "\u001b[0;32m<ipython-input-18-80fe17451f15>\u001b[0m in \u001b[0;36m<module>\u001b[0;34m\u001b[0m\n\u001b[1;32m     14\u001b[0m     \u001b[0;32mfor\u001b[0m \u001b[0mrd\u001b[0m \u001b[0;32min\u001b[0m \u001b[0mradial_tension\u001b[0m\u001b[0;34m:\u001b[0m\u001b[0;34m\u001b[0m\u001b[0m\n\u001b[1;32m     15\u001b[0m         \u001b[0;32mfor\u001b[0m \u001b[0miteration\u001b[0m \u001b[0;32min\u001b[0m \u001b[0mrange\u001b[0m \u001b[0;34m(\u001b[0m\u001b[0;36m0\u001b[0m\u001b[0;34m,\u001b[0m \u001b[0;36m1\u001b[0m\u001b[0;34m)\u001b[0m\u001b[0;34m:\u001b[0m\u001b[0;34m\u001b[0m\u001b[0m\n\u001b[0;32m---> 16\u001b[0;31m             \u001b[0mrun_sim\u001b[0m\u001b[0;34m(\u001b[0m\u001b[0msim_save_dir\u001b[0m\u001b[0;34m,\u001b[0m \u001b[0msheet\u001b[0m\u001b[0;34m,\u001b[0m \u001b[0mc\u001b[0m\u001b[0;34m,\u001b[0m \u001b[0mrd\u001b[0m\u001b[0;34m,\u001b[0m \u001b[0miteration\u001b[0m\u001b[0;34m)\u001b[0m\u001b[0;34m\u001b[0m\u001b[0m\n\u001b[0m\u001b[1;32m     17\u001b[0m \u001b[0;34m\u001b[0m\u001b[0m\n\u001b[1;32m     18\u001b[0m \u001b[0;34m\u001b[0m\u001b[0m\n",
      "\u001b[0;32m<ipython-input-14-00d79fd39f78>\u001b[0m in \u001b[0;36mrun_sim\u001b[0;34m(sim_save_dir, sheet, constriction, radial_tension, iteration)\u001b[0m\n\u001b[1;32m     34\u001b[0m \u001b[0;34m\u001b[0m\u001b[0m\n\u001b[1;32m     35\u001b[0m \u001b[0;34m\u001b[0m\u001b[0m\n\u001b[0;32m---> 36\u001b[0;31m     \u001b[0msheet2\u001b[0m \u001b[0;34m=\u001b[0m \u001b[0mapoptosis_process\u001b[0m\u001b[0;34m(\u001b[0m\u001b[0mdirname\u001b[0m\u001b[0;34m,\u001b[0m \u001b[0msolver\u001b[0m\u001b[0;34m,\u001b[0m \u001b[0msheet2\u001b[0m\u001b[0;34m,\u001b[0m \u001b[0mgeom\u001b[0m\u001b[0;34m,\u001b[0m \u001b[0mmodel\u001b[0m\u001b[0;34m)\u001b[0m\u001b[0;34m\u001b[0m\u001b[0m\n\u001b[0m\u001b[1;32m     37\u001b[0m \u001b[0;34m\u001b[0m\u001b[0m\n\u001b[1;32m     38\u001b[0m     \u001b[0mprint\u001b[0m\u001b[0;34m(\u001b[0m\u001b[0;34m'{} done'\u001b[0m\u001b[0;34m.\u001b[0m\u001b[0mformat\u001b[0m\u001b[0;34m(\u001b[0m\u001b[0mdirname\u001b[0m\u001b[0;34m)\u001b[0m\u001b[0;34m)\u001b[0m\u001b[0;34m\u001b[0m\u001b[0m\n",
      "\u001b[0;32m<ipython-input-15-d9a85e036b64>\u001b[0m in \u001b[0;36mapoptosis_process\u001b[0;34m(dirname, solver, sheet, geom, model)\u001b[0m\n\u001b[1;32m     59\u001b[0m                 \u001b[0mmanager\u001b[0m\u001b[0;34m.\u001b[0m\u001b[0mappend\u001b[0m\u001b[0;34m(\u001b[0m\u001b[0mapoptosis\u001b[0m\u001b[0;34m,\u001b[0m \u001b[0;34m**\u001b[0m\u001b[0mapopto_kwargs\u001b[0m\u001b[0;34m)\u001b[0m\u001b[0;34m\u001b[0m\u001b[0m\n\u001b[1;32m     60\u001b[0m \u001b[0;34m\u001b[0m\u001b[0m\n\u001b[0;32m---> 61\u001b[0;31m         \u001b[0mmanager\u001b[0m\u001b[0;34m.\u001b[0m\u001b[0mexecute\u001b[0m\u001b[0;34m(\u001b[0m\u001b[0msheet\u001b[0m\u001b[0;34m)\u001b[0m\u001b[0;34m\u001b[0m\u001b[0m\n\u001b[0m\u001b[1;32m     62\u001b[0m \u001b[0;34m\u001b[0m\u001b[0m\n\u001b[1;32m     63\u001b[0m         \u001b[0mres\u001b[0m \u001b[0;34m=\u001b[0m \u001b[0msolver\u001b[0m\u001b[0;34m.\u001b[0m\u001b[0mfind_energy_min\u001b[0m\u001b[0;34m(\u001b[0m\u001b[0msheet\u001b[0m\u001b[0;34m,\u001b[0m \u001b[0mgeom\u001b[0m\u001b[0;34m,\u001b[0m \u001b[0mmodel\u001b[0m\u001b[0;34m,\u001b[0m \u001b[0moptions\u001b[0m\u001b[0;34m=\u001b[0m\u001b[0;34m{\u001b[0m\u001b[0;34m\"gtol\"\u001b[0m\u001b[0;34m:\u001b[0m \u001b[0;36m1e-8\u001b[0m\u001b[0;34m}\u001b[0m\u001b[0;34m)\u001b[0m\u001b[0;34m\u001b[0m\u001b[0m\n",
      "\u001b[0;32m~/anaconda3/lib/python3.6/site-packages/tyssue-0.5.0-py3.6-linux-x86_64.egg/tyssue/behaviors/event_manager.py\u001b[0m in \u001b[0;36mexecute\u001b[0;34m(self, eptm)\u001b[0m\n\u001b[1;32m    114\u001b[0m                 \u001b[0melem_id\u001b[0m \u001b[0;34m=\u001b[0m \u001b[0;34m-\u001b[0m\u001b[0;36m1\u001b[0m\u001b[0;34m\u001b[0m\u001b[0m\n\u001b[1;32m    115\u001b[0m             \u001b[0mlogger\u001b[0m\u001b[0;34m.\u001b[0m\u001b[0minfo\u001b[0m\u001b[0;34m(\u001b[0m\u001b[0;34mf\"{self.clock}, {elem_id}, {behavior.__name__}\"\u001b[0m\u001b[0;34m)\u001b[0m\u001b[0;34m\u001b[0m\u001b[0m\n\u001b[0;32m--> 116\u001b[0;31m             \u001b[0mbehavior\u001b[0m\u001b[0;34m(\u001b[0m\u001b[0meptm\u001b[0m\u001b[0;34m,\u001b[0m \u001b[0mself\u001b[0m\u001b[0;34m,\u001b[0m \u001b[0;34m**\u001b[0m\u001b[0mkwargs\u001b[0m\u001b[0;34m)\u001b[0m\u001b[0;34m\u001b[0m\u001b[0m\n\u001b[0m\u001b[1;32m    117\u001b[0m \u001b[0;34m\u001b[0m\u001b[0m\n\u001b[1;32m    118\u001b[0m     \u001b[0;32mdef\u001b[0m \u001b[0mupdate\u001b[0m\u001b[0;34m(\u001b[0m\u001b[0mself\u001b[0m\u001b[0;34m)\u001b[0m\u001b[0;34m:\u001b[0m\u001b[0;34m\u001b[0m\u001b[0m\n",
      "\u001b[0;32m~/anaconda3/lib/python3.6/site-packages/tyssue-0.5.0-py3.6-linux-x86_64.egg/tyssue/utils/decorators.py\u001b[0m in \u001b[0;36mwith_face_lookup\u001b[0;34m(*args, **kwargs)\u001b[0m\n\u001b[1;32m     79\u001b[0m             \u001b[0;32mreturn\u001b[0m\u001b[0;34m\u001b[0m\u001b[0m\n\u001b[1;32m     80\u001b[0m         \u001b[0mkwargs\u001b[0m\u001b[0;34m[\u001b[0m\u001b[0;34m\"face\"\u001b[0m\u001b[0;34m]\u001b[0m \u001b[0;34m=\u001b[0m \u001b[0mface\u001b[0m\u001b[0;34m\u001b[0m\u001b[0m\n\u001b[0;32m---> 81\u001b[0;31m         \u001b[0;32mreturn\u001b[0m \u001b[0mfunc\u001b[0m\u001b[0;34m(\u001b[0m\u001b[0;34m*\u001b[0m\u001b[0margs\u001b[0m\u001b[0;34m,\u001b[0m \u001b[0;34m**\u001b[0m\u001b[0mkwargs\u001b[0m\u001b[0;34m)\u001b[0m\u001b[0;34m\u001b[0m\u001b[0m\n\u001b[0m\u001b[1;32m     82\u001b[0m \u001b[0;34m\u001b[0m\u001b[0m\n\u001b[1;32m     83\u001b[0m     \u001b[0;32mreturn\u001b[0m \u001b[0mwith_face_lookup\u001b[0m\u001b[0;34m\u001b[0m\u001b[0m\n",
      "\u001b[0;32m~/anaconda3/lib/python3.6/site-packages/polarity-0.0.1-py3.6.egg/polarity/apoptosis.py\u001b[0m in \u001b[0;36mcontraction_line_tension\u001b[0;34m(sheet, manager, **kwargs)\u001b[0m\n\u001b[1;32m    174\u001b[0m \u001b[0;34m\u001b[0m\u001b[0m\n\u001b[1;32m    175\u001b[0m     if ((sheet.face_df.loc[face, \"area\"] < contraction_spec[\"critical_area\"]) or\n\u001b[0;32m--> 176\u001b[0;31m     (sheet.edge_df[sheet.edge_df.face == face].line_tension.unique.values[0]<40)):\n\u001b[0m\u001b[1;32m    177\u001b[0m         \u001b[0;32mreturn\u001b[0m\u001b[0;34m\u001b[0m\u001b[0m\n\u001b[1;32m    178\u001b[0m     contract_line_tension(\n",
      "\u001b[0;31mAttributeError\u001b[0m: 'function' object has no attribute 'values'"
     ]
    }
   ],
   "source": [
    "# Sequential Execution\n",
    "\n",
    "from datetime import datetime\n",
    "\n",
    "global_start=datetime.now()\n",
    "print (\"start : \" + str(global_start))\n",
    "\n",
    "radial_tension = [20]\n",
    "#for rd in radial_tension:\n",
    "contractility_percent = [8, 16]\n",
    "contractility_rate = [1+c/100 for c in contractility_percent]\n",
    "\n",
    "for c in contractility_rate:\n",
    "    for rd in radial_tension:\n",
    "        for iteration in range (0, 1):\n",
    "            run_sim(sim_save_dir, sheet, c, rd, iteration)\n",
    "        \n",
    "        \n",
    "        \n",
    "global_end = datetime.now()\n",
    "print (\"end : \" + str(global_end))\n",
    "print ('Duree totale d execution : \\n\\t\\t')\n",
    "print (global_end-global_start)"
   ]
  },
  {
   "cell_type": "code",
   "execution_count": null,
   "metadata": {},
   "outputs": [],
   "source": []
  },
  {
   "cell_type": "code",
   "execution_count": null,
   "metadata": {},
   "outputs": [],
   "source": []
  },
  {
   "cell_type": "code",
   "execution_count": null,
   "metadata": {},
   "outputs": [],
   "source": []
  },
  {
   "cell_type": "code",
   "execution_count": null,
   "metadata": {},
   "outputs": [],
   "source": []
  },
  {
   "cell_type": "code",
   "execution_count": null,
   "metadata": {
    "scrolled": false
   },
   "outputs": [],
   "source": [
    "SIM_DIR = Path('/home/admin-suz/Documents/Simulations/test_apoptosis')\n",
    "dirname = SIM_DIR/'1.08_constriction_50_radialtension0_line_tension100/'\n",
    "from tyssue.draw import sheet_view\n",
    "\n",
    "import ipyvolume.pylab as p3\n",
    "hfs = [f  for f in os.listdir(dirname)\n",
    "       if f.endswith('hf5')]\n",
    "hfs.sort(key=lambda x: os.path.getctime(os.path.join(dirname, x)))\n",
    "\n",
    "current = 'invagination_0145.hf5'\n",
    "ipv.clear()\n",
    "ipv.style.use('dark')\n",
    "\n",
    "\n",
    "dsets = hdf5.load_datasets(os.path.join(dirname, current),\n",
    "                               data_names=['vert', 'edge', 'face', 'cell'])\n",
    "\n",
    "specs = config.geometry.cylindrical_sheet()\n",
    "sheet = Sheet('ellipse', dsets, specs)\n",
    "\"\"\"sheet.face_df['test']=0\n",
    "index =sheet.face_df[(sheet.face_df.z>6) & (sheet.face_df.z<15) \n",
    "              & (sheet.face_df.y>25) & (sheet.face_df.y<35) \n",
    "                    & (sheet.face_df.x>0)].index\n",
    "sheet.face_df.loc[index, 'test']=1\"\"\"\n",
    "\n",
    "#sheet = sheet.extract_bounding_box(z_boundary=[-200,50])\n",
    "def draw_specs(sheet):\n",
    "    specs = {\n",
    "        'edge': {\n",
    "            'visible': True,\n",
    "            'color': sheet.vert_df.y,\n",
    "            #'colormap': 'Reds'\n",
    "        },\n",
    "        'face': {\n",
    "            'visible': True,\n",
    "            'color': sheet.face_df.fold,\n",
    "            'colormap': 'Blues'\n",
    "        },\n",
    "        'vert':{\n",
    "            'visible':True,\n",
    "            's':100,\n",
    "            'alpha': 0.3,\n",
    "            'zorder': 2,\n",
    "            'color': sheet.vert_df.radial_tension\n",
    "            \n",
    "        }\n",
    "        \n",
    "    }\n",
    "    return specs\n",
    "\n",
    "ipv.clear()\n",
    "ipv_fig, meshes = sheet_view(sheet, coords=list('zxy'),\n",
    "                             mode='3D', **draw_specs(sheet))\n",
    "ipv_fig"
   ]
  },
  {
   "cell_type": "code",
   "execution_count": null,
   "metadata": {},
   "outputs": [],
   "source": [
    "sheet.settings['geometry'] = \"spherical\"\n",
    "sheet.settings['lumen_vol_elasticity'] = 3.e-6\n",
    "#sheet.settings['lumen_prefered_vol'] = sheet.settings['lumen_prefered_vol'] - sheet.settings['lumen_prefered_vol']*10/100\n",
    "sheet.settings['barrier_ray'] = int(max(np.abs(sheet.face_df.z.min()), sheet.face_df.z.max())+20)\n",
    "sheet.vert_df['barrier_elasticity'] = 280.0\n",
    "#sheet.settings['barrier_ray_cylinder'] = 55\n",
    "sheet.edge_df['line_tension'] = 3\n",
    "sheet.settings['lumen_prefered_vol']=1655117.87836963126/2"
   ]
  },
  {
   "cell_type": "code",
   "execution_count": null,
   "metadata": {},
   "outputs": [],
   "source": [
    "res = solver.find_energy_min(sheet, geom, model, options={\"gtol\": 1e-8})"
   ]
  },
  {
   "cell_type": "code",
   "execution_count": null,
   "metadata": {},
   "outputs": [],
   "source": [
    "#sheet = sheet.extract_bounding_box(z_boundary=[-200,50])\n",
    "def draw_specs(sheet):\n",
    "    specs = {\n",
    "        'edge': {\n",
    "            'visible': True,\n",
    "            'color': sheet.vert_df.y,\n",
    "            #'colormap': 'Reds'\n",
    "        },\n",
    "        'face': {\n",
    "            'visible': True,\n",
    "            'color': sheet.face_df.fold,\n",
    "            'colormap': 'Blues'\n",
    "        },\n",
    "        'vert':{\n",
    "            'visible':True,\n",
    "            's':100,\n",
    "            'alpha': 0.3,\n",
    "            'zorder': 2,\n",
    "            'color': sheet.vert_df.radial_tension\n",
    "            \n",
    "        }\n",
    "        \n",
    "    }\n",
    "    return specs\n",
    "\n",
    "ipv.clear()\n",
    "ipv_fig, meshes = sheet_view(sheet, coords=list('zxy'),\n",
    "                             mode='3D', **draw_specs(sheet))\n",
    "ipv_fig"
   ]
  },
  {
   "cell_type": "code",
   "execution_count": null,
   "metadata": {},
   "outputs": [],
   "source": []
  },
  {
   "cell_type": "code",
   "execution_count": null,
   "metadata": {
    "scrolled": false
   },
   "outputs": [],
   "source": []
  },
  {
   "cell_type": "code",
   "execution_count": null,
   "metadata": {},
   "outputs": [],
   "source": []
  },
  {
   "cell_type": "code",
   "execution_count": null,
   "metadata": {},
   "outputs": [],
   "source": []
  }
 ],
 "metadata": {
  "kernelspec": {
   "display_name": "Python 3",
   "language": "python",
   "name": "python3"
  },
  "language_info": {
   "codemirror_mode": {
    "name": "ipython",
    "version": 3
   },
   "file_extension": ".py",
   "mimetype": "text/x-python",
   "name": "python",
   "nbconvert_exporter": "python",
   "pygments_lexer": "ipython3",
   "version": "3.6.4"
  }
 },
 "nbformat": 4,
 "nbformat_minor": 2
}
