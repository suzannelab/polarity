{
 "cells": [
  {
   "cell_type": "code",
   "execution_count": 1,
   "metadata": {},
   "outputs": [],
   "source": [
    "# Import \n",
    "import os\n",
    "import time\n",
    "import json\n",
    "import random\n",
    "import datetime\n",
    "import numpy as np\n",
    "import pandas as pd\n",
    "\n",
    "from IPython.display import display\n",
    "\n",
    "from pathlib import Path\n",
    "from tyssue import config\n",
    "from tyssue import Sheet\n",
    "from tyssue.io import hdf5\n",
    "from tyssue.io.hdf5 import load_datasets\n",
    "from tyssue.topology import all_rearangements\n",
    "from tyssue.core.history import HistoryHdf5\n",
    "from tyssue.dynamics import SheetModel as basemodel\n",
    "from tyssue.solvers.quasistatic import QSSolver\n",
    "from tyssue.draw import sheet_view\n",
    "from tyssue.draw.plt_draw import quick_edge_draw\n",
    "from tyssue.draw.ipv_draw import sheet_view as ipv_draw \n",
    "\n",
    "from tyssue.behaviors.event_manager import EventManager\n",
    "from tyssue.behaviors.sheet.apoptosis_events import apoptosis\n",
    "from tyssue.behaviors.sheet.basic_events import reconnect\n",
    "\n",
    "import matplotlib.pyplot as plt\n",
    "%matplotlib inline\n",
    "\n",
    "try:\n",
    "    import seaborn as sns\n",
    "except ImportError:\n",
    "    print('Seaborn not found')\n",
    "\n"
   ]
  },
  {
   "cell_type": "code",
   "execution_count": 2,
   "metadata": {},
   "outputs": [],
   "source": [
    "from polarity.dynamics import model\n",
    "from polarity.apoptosis import apoptosis\n",
    "from polarity.dynamics import EllipsoidLameGeometry as geom\n",
    "from polarity.toolbox import (init,\n",
    "                              define_fold_position,\n",
    "                              apoptosis_ventral,\n",
    "                              apoptosis_lateral,\n",
    "                              apoptosis_dorsal,\n",
    "                             )\n"
   ]
  },
  {
   "cell_type": "code",
   "execution_count": 3,
   "metadata": {},
   "outputs": [],
   "source": [
    "SIM_DIR = Path('/home/admin-suz/Documents/Simulations/')\n",
    "\n",
    "today = datetime.date.today().strftime('%Y%m%d')\n",
    "sim_save_dir = SIM_DIR/f'{today}-QSSolver-Prepolarized_Clone_4cells'\n",
    "\n",
    "try:\n",
    "    os.mkdir(sim_save_dir)\n",
    "except FileExistsError:\n",
    "    pass"
   ]
  },
  {
   "cell_type": "code",
   "execution_count": 4,
   "metadata": {},
   "outputs": [],
   "source": [
    "solver = QSSolver(with_t1=False, with_t3=False, with_collisions=False)"
   ]
  },
  {
   "cell_type": "code",
   "execution_count": 5,
   "metadata": {},
   "outputs": [],
   "source": [
    "from tyssue.dynamics import units, effectors, model_factory\n",
    "from polarity.dynamics import RadialTension\n",
    "model = model_factory(\n",
    "    [\n",
    "        RadialTension,\n",
    "        effectors.LineTension,\n",
    "        #effectors.FaceContractility,\n",
    "        effectors.FaceAreaElasticity,\n",
    "        effectors.LumenVolumeElasticity,\n",
    "    ], effectors.FaceAreaElasticity)"
   ]
  },
  {
   "cell_type": "code",
   "execution_count": 6,
   "metadata": {},
   "outputs": [],
   "source": [
    "\"\"\"\n",
    "Mesoderm invagination event module\n",
    "=======================\n",
    "\n",
    "\n",
    "\"\"\"\n",
    "\n",
    "import random\n",
    "import numpy as np\n",
    "\n",
    "from tyssue.utils.decorators import face_lookup\n",
    "from tyssue.behaviors.sheet.actions import relax, increase, set_value, increase_linear_tension\n",
    "from tyssue.behaviors.sheet.basic_events import contraction_line_tension\n",
    "\n",
    "\n",
    "default_constriction_spec = {\n",
    "    \"face_id\": -1,\n",
    "    \"face\": -1,\n",
    "    \"contract_rate\": 2,\n",
    "    \"critical_area\": 1e-2,\n",
    "    \"radial_tension\": 1.0,\n",
    "    \"contract_neighbors\": False,\n",
    "    \"critical_area_neighbors\": 10,\n",
    "    \"contract_span\": 2,\n",
    "    \"basal_contract_rate\": 1.001,\n",
    "    \"current_traction\": 0,\n",
    "    \"max_traction\": 30,\n",
    "    \"contraction_column\": \"contractility\",\n",
    "}\n",
    "\n",
    "\n",
    "@face_lookup\n",
    "def delamination(sheet, manager, **kwargs):\n",
    "    \"\"\"Constriction process\n",
    "    This function corresponds to the process called \"apical constriction\"\n",
    "    in the manuscript\n",
    "    The cell undergoing delamination first contracts its apical\n",
    "    area until it reaches a critical area. A probability\n",
    "    dependent to the apical area allow an apico-basal\n",
    "    traction of the cell. The cell can pull during max_traction\n",
    "    time step, not necessarily consecutively.\n",
    "    Parameters\n",
    "    ----------\n",
    "    sheet : a :class:`tyssue.sheet` object\n",
    "    manager : a :class:`tyssue.events.EventManager` object\n",
    "    face_id : int\n",
    "       the Id of the face undergoing delamination.\n",
    "    contract_rate : float, default 2\n",
    "       rate of increase of the face contractility.\n",
    "    critical_area : float, default 1e-2\n",
    "       face's area under which the cell starts loosing sides.\n",
    "    radial_tension : float, default 1.\n",
    "       tension applied on the face vertices along the\n",
    "       apical-basal axis.\n",
    "    contract_neighbors : bool, default `False`\n",
    "       if True, the face contraction triggers contraction of the neighbor\n",
    "       faces.\n",
    "    contract_span : int, default 2\n",
    "       rank of neighbors contracting if contract_neighbor is True. Contraction\n",
    "       rate for the neighbors is equal to `contract_rate` devided by\n",
    "       the rank.\n",
    "    \"\"\"\n",
    "    constriction_spec = default_constriction_spec\n",
    "    constriction_spec.update(**kwargs)\n",
    "\n",
    "    # initialiser une variable face\n",
    "    # aller chercher la valeur dans le dictionnaire à chaque fois ?\n",
    "    face = constriction_spec[\"face\"]\n",
    "    contract_rate = constriction_spec[\"contract_rate\"]\n",
    "    current_traction = constriction_spec[\"current_traction\"]\n",
    "\n",
    "    \n",
    "    \n",
    "    face_area = sheet.face_df.loc[face, \"area\"]\n",
    "\n",
    "    if face_area > constriction_spec[\"critical_area\"]:\n",
    "        increase_linear_tension(\n",
    "            sheet,\n",
    "            face,\n",
    "            contract_rate,\n",
    "            multiple=True,\n",
    "            isotropic=True,\n",
    "            limit=100)\n",
    "\n",
    "\n",
    "        if (constriction_spec[\"contract_neighbors\"]) :\n",
    "            neighbors = sheet.get_neighborhood(\n",
    "                face, constriction_spec[\"contract_span\"]\n",
    "            ).dropna()\n",
    "            neighbors[\"id\"] = sheet.face_df.loc[neighbors.face, \"id\"].values\n",
    "\n",
    "            manager.extend(\n",
    "                [\n",
    "                    (\n",
    "                        contraction_line_tension,\n",
    "                        _neighbor_contractile_increase_delamination(neighbor, constriction_spec),\n",
    "                    )  # TODO: check this\n",
    "                    for _, neighbor in neighbors.iterrows()\n",
    "                ]\n",
    "            )\n",
    "\n",
    "    \n",
    "    if ((current_traction < constriction_spec[\"max_traction\"]) and\n",
    "            (face_area < constriction_spec[\"critical_area\"])):\n",
    "        # AB pull\n",
    "        set_value(sheet,\n",
    "                  'face',\n",
    "                  face,\n",
    "                  constriction_spec['radial_tension'],\n",
    "                  col=\"radial_tension\")\n",
    "        current_traction = current_traction + 1\n",
    "        constriction_spec.update({\"current_traction\": current_traction})\n",
    "\n",
    "    manager.append(delamination, **constriction_spec)\n",
    "\n",
    "\n",
    "def _neighbor_contractile_increase_delamination(neighbor, constriction_spec):\n",
    "\n",
    "    contract = constriction_spec[\"contract_rate\"]\n",
    "    basal_contract = constriction_spec[\"basal_contract_rate\"]\n",
    "\n",
    "    increase = (\n",
    "        -(contract - basal_contract) / constriction_spec[\"contract_span\"]\n",
    "    ) * neighbor[\"order\"] + contract\n",
    "\n",
    "    specs = {\n",
    "        \"face_id\": neighbor[\"id\"],\n",
    "        \"contractile_increase\": increase,\n",
    "        \"critical_area\": constriction_spec[\"critical_area\"],\n",
    "        \"max_contractility\": 50,\n",
    "        \"contraction_column\": constriction_spec[\"contraction_column\"],\n",
    "        \"multiple\": True,\n",
    "        \"unique\": False,\n",
    "    }\n",
    "\n",
    "    return specs\n"
   ]
  },
  {
   "cell_type": "code",
   "execution_count": 7,
   "metadata": {},
   "outputs": [],
   "source": [
    "# Create tissue tissue \n",
    "\n",
    "def load_before_apopto(anchor_tension=0):\n",
    "\n",
    "    #h5store = '../examples/superegg_final.hf5'\n",
    "    h5store = '../examples/tissue_prepolarized.hf5'\n",
    "\n",
    "    datasets = load_datasets(h5store,\n",
    "                             data_names=['face', 'vert', 'edge'])\n",
    "    \n",
    "    with open('../examples/superegg_final.json', 'r+') as fp:\n",
    "        specs = json.load(fp)\n",
    "    \n",
    "    sheet = Sheet('spherical', datasets, specs)\n",
    "    sheet.settings['geometry'] = \"spherical\"\n",
    "    sheet.settings['lumen_vol_elasticity'] = 3.e-6\n",
    "    #sheet.settings['lumen_prefered_vol'] = sheet.settings['lumen_prefered_vol'] - sheet.settings['lumen_prefered_vol']*10/100\n",
    "\n",
    "    return sheet\n",
    "\n",
    "sheet = load_before_apopto(0)\n",
    "\n",
    "geom.update_all(sheet)\n",
    "\n"
   ]
  },
  {
   "cell_type": "code",
   "execution_count": 8,
   "metadata": {},
   "outputs": [],
   "source": [
    "sheet.edge_df.line_tension *= 40.\n",
    "sheet.edge_df.line_tension.unique()\n",
    "sheet.face_df['radial_tension']=0"
   ]
  },
  {
   "cell_type": "code",
   "execution_count": 9,
   "metadata": {},
   "outputs": [
    {
     "data": {
      "text/plain": [
       "\"fig, ax = quick_edge_draw(sheet, ['z', 'x'],\\n                              alpha=0.7)\\nfig.set_size_inches(18.5, 10.5, forward=True)\""
      ]
     },
     "execution_count": 9,
     "metadata": {},
     "output_type": "execute_result"
    }
   ],
   "source": [
    "res = solver.find_energy_min(sheet, geom, model, options={\"gtol\": 1e-8})\n",
    "\n",
    "\"\"\"fig, ax = quick_edge_draw(sheet, ['z', 'x'],\n",
    "                              alpha=0.7)\n",
    "fig.set_size_inches(18.5, 10.5, forward=True)\"\"\""
   ]
  },
  {
   "cell_type": "code",
   "execution_count": 10,
   "metadata": {},
   "outputs": [
    {
     "data": {
      "application/vnd.jupyter.widget-view+json": {
       "model_id": "35e3ee5051cd4c54b7b72f0a16c3e332",
       "version_major": 2,
       "version_minor": 0
      },
      "text/plain": [
       "Figure(camera_center=[0.0, 0.0, 0.0], height=500, matrix_projection=[0.0, 0.0, 0.0, 0.0, 0.0, 0.0, 0.0, 0.0, 0…"
      ]
     },
     "metadata": {},
     "output_type": "display_data"
    }
   ],
   "source": [
    "\"\"\"import ipyvolume as ipv\n",
    "ipv.clear()\n",
    "# code couleur profondeur du tissu\n",
    "fig, mesh = sheet_view(sheet, mode=\"3D\", coords=['z', 'x', 'y'],\n",
    "                   edge={'color':sheet.vert_df.y*(sheet.vert_df.y>0),\n",
    "                         'colormap':'viridis'})\n",
    "fig\"\"\"\n",
    "import ipyvolume as ipv\n",
    "ipv.clear()\n",
    "# code couleur profondeur du tissu\n",
    "fig, mesh = sheet_view(sheet, mode=\"3D\", coords=['z', 'x', 'y'],\n",
    "                   edge={'color':'white'},\n",
    "                      face={'color':'black', 'visible':True})\n",
    "fig\n",
    "\n"
   ]
  },
  {
   "cell_type": "code",
   "execution_count": null,
   "metadata": {
    "scrolled": false
   },
   "outputs": [],
   "source": []
  },
  {
   "cell_type": "code",
   "execution_count": null,
   "metadata": {
    "scrolled": false
   },
   "outputs": [],
   "source": []
  },
  {
   "cell_type": "code",
   "execution_count": 11,
   "metadata": {},
   "outputs": [
    {
     "name": "stdout",
     "output_type": "stream",
     "text": [
      "112\n"
     ]
    },
    {
     "data": {
      "application/vnd.jupyter.widget-view+json": {
       "model_id": "62da523f6f3e45178e5d7fbf5cb8396c",
       "version_major": 2,
       "version_minor": 0
      },
      "text/plain": [
       "Figure(camera_center=[0.0, 0.0, 0.0], height=500, matrix_projection=[0.0, 0.0, 0.0, 0.0, 0.0, 0.0, 0.0, 0.0, 0…"
      ]
     },
     "metadata": {},
     "output_type": "display_data"
    }
   ],
   "source": [
    "define_fold_position(sheet, fold_number = 1, position=[-8, 8])\n",
    "print(len(sheet.face_df[sheet.face_df.fold==1]))\n",
    "\n",
    "ipv.clear()\n",
    "# code couleur profondeur du tissu\n",
    "fig, mesh = sheet_view(sheet, mode=\"3D\", coords=['z', 'x', 'y'],\n",
    "                   edge={'color':'lightslategrey',\n",
    "                         'visible':True},\n",
    "                   face={'color': sheet.face_df.fold,\n",
    "                        'colormap':'Reds',\n",
    "                        'visible':True})\n",
    "fig\n"
   ]
  },
  {
   "cell_type": "code",
   "execution_count": 12,
   "metadata": {},
   "outputs": [
    {
     "name": "stdout",
     "output_type": "stream",
     "text": [
      "112\n",
      "37\n",
      "14\n",
      "20\n",
      "3\n"
     ]
    }
   ],
   "source": [
    "sheet.face_df['apoptosis'] = 0\n",
    "apoptosis_ventral(sheet, 1)\n",
    "apoptosis_lateral(sheet, 1)\n",
    "apoptosis_dorsal(sheet, 1)\n",
    "\n",
    "ipv.clear()\n",
    "# code couleur profondeur du tissu\n",
    "fig, mesh = sheet_view(sheet, mode=\"3D\", coords=['z', 'x', 'y'],\n",
    "                   edge={'color':'lightslategrey',\n",
    "                         'visible':True},\n",
    "                   face={'color': sheet.face_df.apoptosis,\n",
    "                        'colormap':'Reds',\n",
    "                        'visible':True})\n",
    "fig\n",
    "\n",
    "print(len(sheet.face_df[sheet.face_df.fold>0]))\n",
    "print(len(sheet.face_df[sheet.face_df.apoptosis>0]))\n",
    "print(len(sheet.face_df[sheet.face_df.apoptosis==1]))\n",
    "print(len(sheet.face_df[sheet.face_df.apoptosis==2]))\n",
    "print(len(sheet.face_df[sheet.face_df.apoptosis==3]))"
   ]
  },
  {
   "cell_type": "code",
   "execution_count": 13,
   "metadata": {},
   "outputs": [
    {
     "data": {
      "application/vnd.jupyter.widget-view+json": {
       "model_id": "5037127a14d0466287fc584a5cff470c",
       "version_major": 2,
       "version_minor": 0
      },
      "text/plain": [
       "Figure(camera_center=[0.0, 0.0, 0.0], height=500, matrix_projection=[0.0, 0.0, 0.0, 0.0, 0.0, 0.0, 0.0, 0.0, 0…"
      ]
     },
     "metadata": {},
     "output_type": "display_data"
    }
   ],
   "source": [
    "#Add clone cell\n",
    "#clone of 4 cells\n",
    "\n",
    "sheet.face_df['is_mesoderm']=0\n",
    "\"\"\"index_clone_cells = sheet.face_df[(sheet.face_df.z>20) & (sheet.face_df.z<33) \n",
    "              & (sheet.face_df.y>41)&(sheet.face_df.y<51)\n",
    "                    & (sheet.face_df.x>0)].index\n",
    "sheet.face_df.loc[index_clone_cells, 'is_mesoderm']=1\n",
    "\n",
    "index_clone_cells = sheet.face_df[(sheet.face_df.z>20) & (sheet.face_df.z<30) \n",
    "              & (sheet.face_df.y>-51)&(sheet.face_df.y<-41)\n",
    "                    & (sheet.face_df.x>0)].index\n",
    "sheet.face_df.loc[index_clone_cells, 'is_mesoderm']=1\n",
    "\n",
    "index_clone_cells = sheet.face_df[(sheet.face_df.z>22) & (sheet.face_df.z<32) \n",
    "              & (sheet.face_df.y>-11)&(sheet.face_df.y<11)\n",
    "                    & (sheet.face_df.x>0)].index\n",
    "sheet.face_df.loc[index_clone_cells, 'is_mesoderm']=1\"\"\"\n",
    "\n",
    "index_clone_cells = sheet.face_df[(sheet.face_df.z>30) & (sheet.face_df.z<42) \n",
    "              & (sheet.face_df.y>28)&(sheet.face_df.y<39)\n",
    "                    & (sheet.face_df.x>0)].index\n",
    "sheet.face_df.loc[index_clone_cells, 'is_mesoderm']=1\n",
    "\n",
    "\"\"\"index_clone_cells = sheet.face_df[(sheet.face_df.z>20) & (sheet.face_df.z<30) \n",
    "              & (sheet.face_df.y>-25)&(sheet.face_df.y<-11)\n",
    "                    & (sheet.face_df.x>0)].index\n",
    "sheet.face_df.loc[index_clone_cells, 'is_mesoderm']=1\"\"\"\n",
    "\n",
    "\n",
    "ipv.clear()\n",
    "# code couleur profondeur du tissu\n",
    "fig, mesh = sheet_view(sheet, mode=\"3D\", coords=['z', 'x', 'y'],\n",
    "                   edge={'color':'lightslategrey',\n",
    "                         'visible':True},\n",
    "                   face={'color': sheet.face_df.fold+sheet.face_df.is_mesoderm,\n",
    "                        'colormap':'Reds',\n",
    "                        'visible':True})\n",
    "fig"
   ]
  },
  {
   "cell_type": "code",
   "execution_count": null,
   "metadata": {},
   "outputs": [],
   "source": []
  },
  {
   "cell_type": "code",
   "execution_count": null,
   "metadata": {},
   "outputs": [],
   "source": []
  },
  {
   "cell_type": "code",
   "execution_count": null,
   "metadata": {},
   "outputs": [],
   "source": []
  },
  {
   "cell_type": "code",
   "execution_count": 14,
   "metadata": {},
   "outputs": [],
   "source": [
    "def run_sim(sim_save_dir, sheet, constriction, radial_tension, iteration=0):\n",
    "    \n",
    "    dirname = '{}_constriction_{}_radialtension{}'.format(\n",
    "        constriction,radial_tension, iteration)\n",
    "    dirname = os.path.join(sim_save_dir, dirname)\n",
    "    \n",
    "    print('starting {}'.format(dirname))\n",
    "    try:\n",
    "        os.mkdir(dirname)\n",
    "    except IOError:\n",
    "        pass\n",
    "\n",
    "    \n",
    "    apoptosis_settings = {\n",
    "        \"shrink_rate\": 1.1,\n",
    "        \"critical_area\": 5.,\n",
    "        \"contract_rate\": constriction,\n",
    "        \"basal_contract_rate\": 1.01,\n",
    "        \"contract_span\": 4,\n",
    "        \"radial_tension\": radial_tension,\n",
    "        \"max_traction\":30.,\n",
    "        \"current_traction\":0.,\n",
    "        \"geom\": geom,\n",
    "    }\n",
    "    \n",
    "    delaminate_settings = {\n",
    "        \"shrink_rate\": 1.1,\n",
    "        'radial_tension': radial_tension*1.5,\n",
    "        \"contract_rate\": constriction,\n",
    "        \"critical_area\": 5,\n",
    "        'current_traction': 0,\n",
    "        'max_traction': 90,\n",
    "        'contract_neighbors': False,\n",
    "        'critical_area_neighbors': 12,\n",
    "        'contract_span': 4,\n",
    "        'basal_contract_rate': 1.01,\n",
    "        'geom': geom,\n",
    "        'contraction_column': 'contractility'}\n",
    "    \n",
    "    \n",
    "    # Add some information to the sheet and copy initial sheet\n",
    "    sheet2 = sheet.copy(deep_copy=True)\n",
    "    sheet2.face_df['id'] = sheet2.face_df.index.values\n",
    "    sheet2.settings['apoptosis'] = apoptosis_settings\n",
    "    sheet2.settings['delamination'] = delaminate_settings\n",
    "    \n",
    "    #\"\"\" Initiale find minimal energy\n",
    "    # To be sure we are at the equilibrium\n",
    "    res = solver.find_energy_min(sheet2, geom, model, options={\"gtol\": 1e-8})\n",
    "\n",
    "\n",
    "    sheet2 = apoptosis_process(dirname, solver, sheet2, geom, model)\n",
    "    \n",
    "    print('{} done'.format(dirname))\n",
    "    print('~~~~~~~~~~~~~~~~~~~~~\\n')"
   ]
  },
  {
   "cell_type": "code",
   "execution_count": 15,
   "metadata": {},
   "outputs": [],
   "source": [
    "def apoptosis_process(dirname, solver, sheet, geom, model):\n",
    "    \n",
    "    # Initiate manager\n",
    "    manager = EventManager('face')\n",
    "    \n",
    "    # Initiate history\n",
    "    \"\"\"history = HistoryHdf5(sheet, \n",
    "                          extra_cols={\"face\": sheet.face_df.columns,\n",
    "                                      \"edge\": list(sheet.edge_df.columns),\n",
    "                                      \"vert\": list(sheet.vert_df.columns)},\n",
    "                         hf5file=os.path.join(dirname, 'out.hf5'))\n",
    "    \"\"\"\n",
    "    #save settings\n",
    "    pd.Series(sheet.settings).to_csv(os.path.join(dirname, 'settings.csv'))\n",
    "\n",
    "    t = 0.\n",
    "    stop = 150.\n",
    "    \n",
    "    # Add events to limit rosette \n",
    "    rosette_kwargs={\n",
    "        'threshold_length':1e-6,\n",
    "        'p_4':0.5,\n",
    "        'p_5p':0.5}\n",
    "    manager.append(reconnect, **rosette_kwargs)\n",
    "\n",
    "        \n",
    "    # Run simulation\n",
    "    while t < stop:\n",
    "\n",
    "        time_of_last_apoptosis = 30.   \n",
    "            \n",
    "        phi_min = -t*max(np.abs(sheet.face_df.phi))/30+max(np.abs(sheet.face_df.phi))\n",
    "\n",
    "        l_index_apoptosis_cell = sheet.face_df[(np.abs(sheet.face_df.phi)>phi_min) \n",
    "                                               & (sheet.face_df.apoptosis>0)\n",
    "                                              ].index.values\n",
    "        apopto_kwargs = sheet.settings['apoptosis'].copy()\n",
    "        for c in l_index_apoptosis_cell:\n",
    "            apopto_kwargs.update(\n",
    "            {\n",
    "                'face_id': c,\n",
    "            }\n",
    "            )\n",
    "            manager.append(apoptosis, **apopto_kwargs)  \n",
    "\n",
    "        if t == 5 : \n",
    "            for i in sheet.face_df[sheet.face_df.is_mesoderm==1].index:\n",
    "                delamination_kwargs = sheet.settings['delamination'].copy()\n",
    "                delamination_kwargs.update(\n",
    "                        {\n",
    "                            'face_id': i,\n",
    "                            \"max_traction\":90,\n",
    "                            \"current_traction\":0,\n",
    "                        }\n",
    "                    )\n",
    "                manager.append(delamination, **delamination_kwargs)\n",
    "        \n",
    "        if t%10 == 0:\n",
    "            sheet.settings['lumen_prefered_vol'] *= 0.99        \n",
    "        \n",
    "        # Reset radial tension at each time step\n",
    "        sheet.vert_df.radial_tension = 0.\n",
    "        \n",
    "        \n",
    "        manager.execute(sheet)\n",
    "        res = solver.find_energy_min(sheet, geom, model, options={\"gtol\": 1e-8})\n",
    "        #all_rearangements(sheet)\n",
    "        #res = solver.find_energy_min(sheet, geom, model, options={\"gtol\": 1e-8})\n",
    "\n",
    "        # add noise on vertex position to avoid local minimal.\n",
    "        sheet.vert_df[\n",
    "            ['x', 'y']] += np.random.normal(scale=1e-3, size=(sheet.Nv, 2))\n",
    "        geom.update_all(sheet)\n",
    "        \n",
    "    \n",
    "        \n",
    "        # Save result in each time step.\n",
    "        figname = os.path.join(\n",
    "            dirname, 'invagination_{:04.0f}.png'.format(t))\n",
    "        hdfname = figname[:-3] + 'hf5'        \n",
    "        hdf5.save_datasets(hdfname, sheet)\n",
    "\n",
    "        #history.record()\n",
    "\n",
    "        manager.update()\n",
    "        t += 1\n",
    "\n",
    "    return sheet\n"
   ]
  },
  {
   "cell_type": "code",
   "execution_count": null,
   "metadata": {},
   "outputs": [],
   "source": []
  },
  {
   "cell_type": "code",
   "execution_count": null,
   "metadata": {
    "scrolled": true
   },
   "outputs": [],
   "source": []
  },
  {
   "cell_type": "code",
   "execution_count": null,
   "metadata": {
    "scrolled": true
   },
   "outputs": [
    {
     "name": "stdout",
     "output_type": "stream",
     "text": [
      "start : 2019-09-02 10:36:26.539691\n"
     ]
    }
   ],
   "source": [
    "from joblib import Parallel, delayed\n",
    "import multiprocessing\n",
    "from datetime import datetime\n",
    "\n",
    "global_start=datetime.now()\n",
    "print (\"start : \" + str(global_start))\n",
    "num_cores = multiprocessing.cpu_count()\n",
    "\n",
    "radial_tension = [20.]\n",
    "\n",
    "contractility_percent = [8]\n",
    "contractility_rate = [1+c/100 for c in contractility_percent]\n",
    "\n",
    "\n",
    "contractility_rate, radial_tension = np.meshgrid(contractility_rate, radial_tension)\n",
    "\n",
    "results = Parallel(n_jobs=2)(delayed(run_sim)(\n",
    "    sim_save_dir, sheet, c, rd, 0) \n",
    "                             for c, rd in zip(contractility_rate.ravel(), radial_tension.ravel()))\n",
    "\n",
    "global_end = datetime.now()\n",
    "print (\"end : \" + str(global_end))\n",
    "print ('Duree totale d execution : \\n\\t\\t')\n",
    "print (global_end-global_start)"
   ]
  },
  {
   "cell_type": "code",
   "execution_count": null,
   "metadata": {},
   "outputs": [],
   "source": []
  },
  {
   "cell_type": "code",
   "execution_count": null,
   "metadata": {},
   "outputs": [],
   "source": []
  },
  {
   "cell_type": "code",
   "execution_count": null,
   "metadata": {
    "scrolled": true
   },
   "outputs": [],
   "source": [
    "# Sequential Execution\n",
    "\n",
    "from datetime import datetime\n",
    "\n",
    "global_start=datetime.now()\n",
    "print (\"start : \" + str(global_start))\n",
    "\n",
    "radial_tension = [20]\n",
    "#for rd in radial_tension:\n",
    "contractility_percent = [8]\n",
    "contractility_rate = [1+c/100 for c in contractility_percent]\n",
    "\n",
    "for c in contractility_rate:\n",
    "    for rd in radial_tension:\n",
    "        for iteration in range (0, 1):\n",
    "            run_sim(sim_save_dir, sheet, c, rd, iteration)\n",
    "        \n",
    "        \n",
    "        \n",
    "global_end = datetime.now()\n",
    "print (\"end : \" + str(global_end))\n",
    "print ('Duree totale d execution : \\n\\t\\t')\n",
    "print (global_end-global_start)"
   ]
  },
  {
   "cell_type": "code",
   "execution_count": null,
   "metadata": {},
   "outputs": [],
   "source": []
  },
  {
   "cell_type": "code",
   "execution_count": null,
   "metadata": {},
   "outputs": [],
   "source": []
  },
  {
   "cell_type": "code",
   "execution_count": null,
   "metadata": {},
   "outputs": [],
   "source": []
  },
  {
   "cell_type": "code",
   "execution_count": null,
   "metadata": {},
   "outputs": [],
   "source": []
  },
  {
   "cell_type": "code",
   "execution_count": null,
   "metadata": {},
   "outputs": [],
   "source": [
    "history = HistoryHdf5.from_archive(os.path.join(sim_save_dir, '1.08_constriction_20_radialtension0/out.hf5'))"
   ]
  },
  {
   "cell_type": "code",
   "execution_count": null,
   "metadata": {
    "scrolled": false
   },
   "outputs": [],
   "source": [
    "sheet = history.retrieve(0.)"
   ]
  },
  {
   "cell_type": "code",
   "execution_count": null,
   "metadata": {},
   "outputs": [],
   "source": [
    "sheet.face_df"
   ]
  },
  {
   "cell_type": "code",
   "execution_count": null,
   "metadata": {},
   "outputs": [],
   "source": []
  },
  {
   "cell_type": "code",
   "execution_count": null,
   "metadata": {},
   "outputs": [],
   "source": []
  }
 ],
 "metadata": {
  "kernelspec": {
   "display_name": "Python 3",
   "language": "python",
   "name": "python3"
  },
  "language_info": {
   "codemirror_mode": {
    "name": "ipython",
    "version": 3
   },
   "file_extension": ".py",
   "mimetype": "text/x-python",
   "name": "python",
   "nbconvert_exporter": "python",
   "pygments_lexer": "ipython3",
   "version": "3.6.4"
  }
 },
 "nbformat": 4,
 "nbformat_minor": 2
}
