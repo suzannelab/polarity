{
 "cells": [
  {
   "cell_type": "markdown",
   "metadata": {},
   "source": [
    "# Import"
   ]
  },
  {
   "cell_type": "code",
   "execution_count": 1,
   "metadata": {},
   "outputs": [],
   "source": [
    "import os\n",
    "import time\n",
    "import json\n",
    "import random\n",
    "import datetime\n",
    "import numpy as np\n",
    "import pandas as pd\n",
    "\n",
    "from IPython.display import display\n",
    "\n",
    "from pathlib import Path\n",
    "from tyssue import config\n",
    "from tyssue import Sheet\n",
    "from tyssue.io import hdf5\n",
    "from tyssue.io.hdf5 import load_datasets\n",
    "from tyssue.topology import all_rearangements\n",
    "from tyssue.core.history import HistoryHdf5\n",
    "from tyssue.dynamics import SheetModel as basemodel\n",
    "from tyssue.solvers.quasistatic import QSSolver\n",
    "from tyssue.draw import sheet_view\n",
    "from tyssue.draw.plt_draw import quick_edge_draw\n",
    "from tyssue.draw.ipv_draw import sheet_view as ipv_draw \n",
    "\n",
    "from tyssue.behaviors.event_manager import EventManager\n",
    "from tyssue.behaviors.sheet.apoptosis_events import apoptosis\n",
    "from tyssue.behaviors.sheet.basic_events import reconnect\n",
    "\n",
    "import matplotlib.pyplot as plt\n",
    "%matplotlib inline\n",
    "\n",
    "try:\n",
    "    import seaborn as sns\n",
    "except ImportError:\n",
    "    print('Seaborn not found')\n",
    "\n",
    "import ipyvolume as ipv"
   ]
  },
  {
   "cell_type": "code",
   "execution_count": 2,
   "metadata": {},
   "outputs": [],
   "source": [
    "from polarity.dynamics import model\n",
    "from polarity.apoptosis import apoptosis, apoptosis_patterning\n",
    "from polarity.dynamics import EllipsoidLameGeometry as geom\n",
    "from polarity.toolbox import (init,\n",
    "                              define_fold_position,\n",
    "                              apoptosis_ventral,\n",
    "                              apoptosis_lateral,\n",
    "                              apoptosis_dorsal,\n",
    "                             )\n",
    "from tyssue.dynamics import units, effectors, model_factory\n",
    "from polarity.dynamics import RadialTension, BarrierElasticity"
   ]
  },
  {
   "cell_type": "markdown",
   "metadata": {},
   "source": [
    "# Working directory"
   ]
  },
  {
   "cell_type": "code",
   "execution_count": 3,
   "metadata": {},
   "outputs": [],
   "source": [
    "SIM_DIR = Path('/home/admin-suz/Documents/Simulations/')\n",
    "\n",
    "today = datetime.date.today().strftime('%Y%m%d')\n",
    "sim_save_dir = SIM_DIR/f'{today}-QSSolver-Homogenous_Control'\n",
    "\n",
    "try:\n",
    "    os.mkdir(sim_save_dir)\n",
    "except FileExistsError:\n",
    "    pass"
   ]
  },
  {
   "cell_type": "markdown",
   "metadata": {},
   "source": [
    "# Define solver, model and process settings"
   ]
  },
  {
   "cell_type": "code",
   "execution_count": 4,
   "metadata": {},
   "outputs": [],
   "source": [
    "solver = QSSolver(with_t1=False, with_t3=False, with_collisions=False)\n",
    "\n",
    "model = model_factory(\n",
    "    [\n",
    "        BarrierElasticity,\n",
    "        RadialTension,\n",
    "        effectors.LineTension,\n",
    "        effectors.FaceAreaElasticity,\n",
    "        effectors.LumenVolumeElasticity,\n",
    "    ], effectors.FaceAreaElasticity)"
   ]
  },
  {
   "cell_type": "code",
   "execution_count": 5,
   "metadata": {},
   "outputs": [],
   "source": [
    "apopto_pattern_kwargs = {'t':0.,\n",
    "                      'dt':1.,\n",
    "                     'time_of_last_apoptosis':30.}\n",
    "\n",
    "apoptosis_settings = {\n",
    "        \"shrink_rate\": 1.1,\n",
    "        \"basal_shrink_rate\": 1.01,\n",
    "        \"critical_area\": 0.5,\n",
    "        \"contract_rate\": 1.08,\n",
    "        \"basal_contract_rate\": 1.01,\n",
    "        \"contract_span\": 3,\n",
    "        \"radial_tension\": 30,\n",
    "        \"max_traction\": 30.,\n",
    "        \"current_traction\":0.,\n",
    "        \"geom\": geom,\n",
    "    }\n",
    "\n",
    "# pour la propagation aux voisins\n",
    "contraction_lt_kwargs = {\n",
    "    'face_id':-1,\n",
    "    'face':-1,\n",
    "    'shrink_rate':1.05,\n",
    "    'critical_area': 5.,\n",
    "    \"contraction_column\": \"line_tension\",\n",
    "    \"model\":model,\n",
    "    }\n",
    "\n",
    " # Add events to limit rosette \n",
    "rosette_kwargs={\n",
    "    'threshold_length':1e-6,\n",
    "    'p_4':0.9,\n",
    "    'p_5p':0.9}\n",
    "\n"
   ]
  },
  {
   "cell_type": "markdown",
   "metadata": {},
   "source": [
    "# Initiate Tissue"
   ]
  },
  {
   "cell_type": "code",
   "execution_count": 6,
   "metadata": {},
   "outputs": [],
   "source": [
    "sheet = init(hf5_filename='tissue_prepolarized.hf5',\n",
    "             json_filename = 'superegg_final.json')\n",
    "\n",
    "sheet.settings['geometry'] = \"spherical\"\n",
    "sheet.settings['lumen_vol_elasticity'] = 1.e-5\n",
    "sheet.settings['barrier_ray'] = 100\n",
    "\n",
    "sheet.vert_df['barrier_elasticity'] = 280.0\n",
    "\n",
    "# initialy line tension was 0.6 / 1 / 1.2\n",
    "sheet.edge_df.line_tension = 40.\n",
    "\n",
    "sheet.face_df['apoptosis'] = 0\n",
    "sheet.face_df['current_traction'] = 0.0\n",
    "sheet.face_df['radial_tension'] = 0.0\n",
    "\n",
    "sheet.settings['apopto_pattern_kwargs'] = apopto_pattern_kwargs\n",
    "sheet.settings['apoptosis'] = apoptosis_settings\n",
    "sheet.settings['rosette_kwargs'] = rosette_kwargs\n",
    "sheet.settings['contraction_lt_kwargs'] = contraction_lt_kwargs\n",
    "\n",
    "geom.update_all(sheet)"
   ]
  },
  {
   "cell_type": "code",
   "execution_count": 7,
   "metadata": {},
   "outputs": [],
   "source": [
    "res = solver.find_energy_min(sheet, geom, model, options={\"gtol\": 1e-8})"
   ]
  },
  {
   "cell_type": "code",
   "execution_count": 8,
   "metadata": {},
   "outputs": [],
   "source": [
    "define_fold_position(sheet, fold_number = 1, position=[-8, 8])\n",
    "sheet.face_df.apoptosis = 0\n",
    "\n",
    "\"\"\"apoptosis_ventral(sheet, 1)\n",
    "apoptosis_lateral(sheet, 1)\n",
    "apoptosis_dorsal(sheet, 1)\n",
    "\n",
    "ipv.clear()\n",
    "# code couleur profondeur du tissu\n",
    "fig, mesh = sheet_view(sheet, mode=\"3D\", coords=['z', 'x', 'y'],\n",
    "                   edge={'color':'lightslategrey',\n",
    "                         'visible':True},\n",
    "                   face={'color': sheet.face_df.apoptosis,\n",
    "                        'colormap':'Reds',\n",
    "                        'visible':True})\n",
    "fig\n",
    "\n",
    "print(len(sheet.face_df[sheet.face_df.fold>0]))\n",
    "print(len(sheet.face_df[sheet.face_df.apoptosis>0]))\"\"\"\n",
    "\n",
    "\n",
    "l = [   5, 37,   71,   72, 95,  241,  384,  502,\n",
    "     559,  653,  696,  706,  776, 848,  958,  985, 1008, 1075,\n",
    "    1135, 1215, 1264, 1312, 1330, 1393, 1416, 1424, 1429, 1435, 1452,\n",
    "    1466, 1491, 1543, 1544, 1583]\n",
    "for i in l :\n",
    "    sheet.face_df.loc[i, 'apoptosis']=1"
   ]
  },
  {
   "cell_type": "code",
   "execution_count": null,
   "metadata": {},
   "outputs": [],
   "source": []
  },
  {
   "cell_type": "code",
   "execution_count": null,
   "metadata": {},
   "outputs": [],
   "source": []
  },
  {
   "cell_type": "code",
   "execution_count": null,
   "metadata": {},
   "outputs": [],
   "source": []
  },
  {
   "cell_type": "code",
   "execution_count": null,
   "metadata": {},
   "outputs": [],
   "source": []
  },
  {
   "cell_type": "code",
   "execution_count": null,
   "metadata": {},
   "outputs": [],
   "source": []
  },
  {
   "cell_type": "code",
   "execution_count": 9,
   "metadata": {},
   "outputs": [],
   "source": [
    "def run_sim(sim_save_dir, sheet2, shrink, constriction, radial_tension, iteration=0):\n",
    "    \n",
    "    # without copy, dataframe is on read only... \n",
    "    sheet = sheet2.copy()\n",
    "    \n",
    "    dirname = '{}_shrink_{}_constriction_{}_radialtension{}'.format(shrink,\n",
    "        constriction,radial_tension, iteration)\n",
    "    dirname = os.path.join(sim_save_dir, dirname)\n",
    "    \n",
    "    print('starting {}'.format(dirname))\n",
    "    try:\n",
    "        os.mkdir(dirname)\n",
    "    except IOError:\n",
    "        pass\n",
    "    \n",
    "    # Add some information to the sheet and copy initial sheet\n",
    "    sheet.face_df['id'] = sheet.face_df.index.values\n",
    "\n",
    "    # Initiate history\n",
    "    history = HistoryHdf5(sheet, \n",
    "                          extra_cols={\"face\": sheet.face_df.columns,\n",
    "                                      \"edge\": list(sheet.edge_df.columns),\n",
    "                                      \"vert\": list(sheet.vert_df.columns)},\n",
    "                         hf5file=os.path.join(dirname, 'out.hf5'))\n",
    "    \n",
    "    # Initiate manager\n",
    "    manager = EventManager('face')\n",
    "    \n",
    "\n",
    "    # Update kwargs...\n",
    "    sheet.settings['apoptosis'].update(\n",
    "                    {'shrink_rate':shrink,\n",
    "                        'contract_rate':constriction,\n",
    "                    'radial_tension':radial_tension\n",
    "                    })\n",
    "    \n",
    "    #save settings\n",
    "    pd.Series(sheet.settings).to_csv(os.path.join(dirname, 'settings.csv'))\n",
    "   \n",
    "    \n",
    "    manager.append(reconnect, **sheet.settings['rosette_kwargs'])\n",
    "    manager.append(apoptosis_patterning, **sheet.settings['apopto_pattern_kwargs'])\n",
    "\n",
    "    t = 0.\n",
    "    stop = 150.\n",
    "    # Run simulation\n",
    "    while t < stop: \n",
    "        print('____________________________________________________________________________________')\n",
    "        print(t)\n",
    "        # Reset radial tension at each time step\n",
    "        sheet.vert_df.radial_tension = 0.\n",
    "\n",
    "        manager.execute(sheet)\n",
    "        res = solver.find_energy_min(sheet, geom, model, options={\"gtol\": 1e-8})\n",
    "\n",
    "        # add noise on vertex position to avoid local minimal.\n",
    "        sheet.vert_df[\n",
    "            ['x', 'y']] += np.random.normal(scale=1e-3, size=(sheet.Nv, 2))\n",
    "        geom.update_all(sheet)\n",
    "        \n",
    "        \n",
    "        # Save result in each time step.\n",
    "        figname = os.path.join(\n",
    "            dirname, 'invagination_{:04.0f}.png'.format(t))\n",
    "        hdfname = figname[:-3] + 'hf5'        \n",
    "        hdf5.save_datasets(hdfname, sheet)\n",
    "\n",
    "        history.record(time_stamp=float(t))\n",
    "\n",
    "        manager.update()\n",
    "        t += 1.\n",
    "        print(manager.current)\n",
    "    \n",
    "    \n",
    "    \n",
    "    print('{} done'.format(dirname))\n",
    "    print('~~~~~~~~~~~~~~~~~~~~~\\n')"
   ]
  },
  {
   "cell_type": "code",
   "execution_count": null,
   "metadata": {},
   "outputs": [],
   "source": []
  },
  {
   "cell_type": "code",
   "execution_count": null,
   "metadata": {},
   "outputs": [],
   "source": []
  },
  {
   "cell_type": "code",
   "execution_count": null,
   "metadata": {},
   "outputs": [],
   "source": []
  },
  {
   "cell_type": "code",
   "execution_count": 10,
   "metadata": {
    "scrolled": false
   },
   "outputs": [
    {
     "name": "stdout",
     "output_type": "stream",
     "text": [
      "start : 2019-09-16 18:09:57.960305\n"
     ]
    },
    {
     "ename": "KeyboardInterrupt",
     "evalue": "",
     "output_type": "error",
     "traceback": [
      "\u001b[0;31m---------------------------------------------------------------------------\u001b[0m",
      "\u001b[0;31mKeyboardInterrupt\u001b[0m                         Traceback (most recent call last)",
      "\u001b[0;32m<ipython-input-10-32a2eb0be7ae>\u001b[0m in \u001b[0;36m<module>\u001b[0;34m\u001b[0m\n\u001b[1;32m     23\u001b[0m results = Parallel(n_jobs=2)(delayed(run_sim)(\n\u001b[1;32m     24\u001b[0m     sim_save_dir, sheet, s, c, rd, 0) \n\u001b[0;32m---> 25\u001b[0;31m                              for s, c, rd in zip(shrink_rate.ravel(), contractility_rate.ravel(), radial_tension.ravel()))\n\u001b[0m\u001b[1;32m     26\u001b[0m \u001b[0;34m\u001b[0m\u001b[0m\n\u001b[1;32m     27\u001b[0m \u001b[0mglobal_end\u001b[0m \u001b[0;34m=\u001b[0m \u001b[0mdatetime\u001b[0m\u001b[0;34m.\u001b[0m\u001b[0mnow\u001b[0m\u001b[0;34m(\u001b[0m\u001b[0;34m)\u001b[0m\u001b[0;34m\u001b[0m\u001b[0;34m\u001b[0m\u001b[0m\n",
      "\u001b[0;32m~/anaconda3/lib/python3.7/site-packages/joblib/parallel.py\u001b[0m in \u001b[0;36m__call__\u001b[0;34m(self, iterable)\u001b[0m\n\u001b[1;32m    932\u001b[0m \u001b[0;34m\u001b[0m\u001b[0m\n\u001b[1;32m    933\u001b[0m             \u001b[0;32mwith\u001b[0m \u001b[0mself\u001b[0m\u001b[0;34m.\u001b[0m\u001b[0m_backend\u001b[0m\u001b[0;34m.\u001b[0m\u001b[0mretrieval_context\u001b[0m\u001b[0;34m(\u001b[0m\u001b[0;34m)\u001b[0m\u001b[0;34m:\u001b[0m\u001b[0;34m\u001b[0m\u001b[0;34m\u001b[0m\u001b[0m\n\u001b[0;32m--> 934\u001b[0;31m                 \u001b[0mself\u001b[0m\u001b[0;34m.\u001b[0m\u001b[0mretrieve\u001b[0m\u001b[0;34m(\u001b[0m\u001b[0;34m)\u001b[0m\u001b[0;34m\u001b[0m\u001b[0;34m\u001b[0m\u001b[0m\n\u001b[0m\u001b[1;32m    935\u001b[0m             \u001b[0;31m# Make sure that we get a last message telling us we are done\u001b[0m\u001b[0;34m\u001b[0m\u001b[0;34m\u001b[0m\u001b[0;34m\u001b[0m\u001b[0m\n\u001b[1;32m    936\u001b[0m             \u001b[0melapsed_time\u001b[0m \u001b[0;34m=\u001b[0m \u001b[0mtime\u001b[0m\u001b[0;34m.\u001b[0m\u001b[0mtime\u001b[0m\u001b[0;34m(\u001b[0m\u001b[0;34m)\u001b[0m \u001b[0;34m-\u001b[0m \u001b[0mself\u001b[0m\u001b[0;34m.\u001b[0m\u001b[0m_start_time\u001b[0m\u001b[0;34m\u001b[0m\u001b[0;34m\u001b[0m\u001b[0m\n",
      "\u001b[0;32m~/anaconda3/lib/python3.7/site-packages/joblib/parallel.py\u001b[0m in \u001b[0;36mretrieve\u001b[0;34m(self)\u001b[0m\n\u001b[1;32m    831\u001b[0m             \u001b[0;32mtry\u001b[0m\u001b[0;34m:\u001b[0m\u001b[0;34m\u001b[0m\u001b[0;34m\u001b[0m\u001b[0m\n\u001b[1;32m    832\u001b[0m                 \u001b[0;32mif\u001b[0m \u001b[0mgetattr\u001b[0m\u001b[0;34m(\u001b[0m\u001b[0mself\u001b[0m\u001b[0;34m.\u001b[0m\u001b[0m_backend\u001b[0m\u001b[0;34m,\u001b[0m \u001b[0;34m'supports_timeout'\u001b[0m\u001b[0;34m,\u001b[0m \u001b[0;32mFalse\u001b[0m\u001b[0;34m)\u001b[0m\u001b[0;34m:\u001b[0m\u001b[0;34m\u001b[0m\u001b[0;34m\u001b[0m\u001b[0m\n\u001b[0;32m--> 833\u001b[0;31m                     \u001b[0mself\u001b[0m\u001b[0;34m.\u001b[0m\u001b[0m_output\u001b[0m\u001b[0;34m.\u001b[0m\u001b[0mextend\u001b[0m\u001b[0;34m(\u001b[0m\u001b[0mjob\u001b[0m\u001b[0;34m.\u001b[0m\u001b[0mget\u001b[0m\u001b[0;34m(\u001b[0m\u001b[0mtimeout\u001b[0m\u001b[0;34m=\u001b[0m\u001b[0mself\u001b[0m\u001b[0;34m.\u001b[0m\u001b[0mtimeout\u001b[0m\u001b[0;34m)\u001b[0m\u001b[0;34m)\u001b[0m\u001b[0;34m\u001b[0m\u001b[0;34m\u001b[0m\u001b[0m\n\u001b[0m\u001b[1;32m    834\u001b[0m                 \u001b[0;32melse\u001b[0m\u001b[0;34m:\u001b[0m\u001b[0;34m\u001b[0m\u001b[0;34m\u001b[0m\u001b[0m\n\u001b[1;32m    835\u001b[0m                     \u001b[0mself\u001b[0m\u001b[0;34m.\u001b[0m\u001b[0m_output\u001b[0m\u001b[0;34m.\u001b[0m\u001b[0mextend\u001b[0m\u001b[0;34m(\u001b[0m\u001b[0mjob\u001b[0m\u001b[0;34m.\u001b[0m\u001b[0mget\u001b[0m\u001b[0;34m(\u001b[0m\u001b[0;34m)\u001b[0m\u001b[0;34m)\u001b[0m\u001b[0;34m\u001b[0m\u001b[0;34m\u001b[0m\u001b[0m\n",
      "\u001b[0;32m~/anaconda3/lib/python3.7/site-packages/joblib/_parallel_backends.py\u001b[0m in \u001b[0;36mwrap_future_result\u001b[0;34m(future, timeout)\u001b[0m\n\u001b[1;32m    519\u001b[0m         AsyncResults.get from multiprocessing.\"\"\"\n\u001b[1;32m    520\u001b[0m         \u001b[0;32mtry\u001b[0m\u001b[0;34m:\u001b[0m\u001b[0;34m\u001b[0m\u001b[0;34m\u001b[0m\u001b[0m\n\u001b[0;32m--> 521\u001b[0;31m             \u001b[0;32mreturn\u001b[0m \u001b[0mfuture\u001b[0m\u001b[0;34m.\u001b[0m\u001b[0mresult\u001b[0m\u001b[0;34m(\u001b[0m\u001b[0mtimeout\u001b[0m\u001b[0;34m=\u001b[0m\u001b[0mtimeout\u001b[0m\u001b[0;34m)\u001b[0m\u001b[0;34m\u001b[0m\u001b[0;34m\u001b[0m\u001b[0m\n\u001b[0m\u001b[1;32m    522\u001b[0m         \u001b[0;32mexcept\u001b[0m \u001b[0mLokyTimeoutError\u001b[0m\u001b[0;34m:\u001b[0m\u001b[0;34m\u001b[0m\u001b[0;34m\u001b[0m\u001b[0m\n\u001b[1;32m    523\u001b[0m             \u001b[0;32mraise\u001b[0m \u001b[0mTimeoutError\u001b[0m\u001b[0;34m(\u001b[0m\u001b[0;34m)\u001b[0m\u001b[0;34m\u001b[0m\u001b[0;34m\u001b[0m\u001b[0m\n",
      "\u001b[0;32m~/anaconda3/lib/python3.7/concurrent/futures/_base.py\u001b[0m in \u001b[0;36mresult\u001b[0;34m(self, timeout)\u001b[0m\n\u001b[1;32m    425\u001b[0m                 \u001b[0;32mreturn\u001b[0m \u001b[0mself\u001b[0m\u001b[0;34m.\u001b[0m\u001b[0m__get_result\u001b[0m\u001b[0;34m(\u001b[0m\u001b[0;34m)\u001b[0m\u001b[0;34m\u001b[0m\u001b[0;34m\u001b[0m\u001b[0m\n\u001b[1;32m    426\u001b[0m \u001b[0;34m\u001b[0m\u001b[0m\n\u001b[0;32m--> 427\u001b[0;31m             \u001b[0mself\u001b[0m\u001b[0;34m.\u001b[0m\u001b[0m_condition\u001b[0m\u001b[0;34m.\u001b[0m\u001b[0mwait\u001b[0m\u001b[0;34m(\u001b[0m\u001b[0mtimeout\u001b[0m\u001b[0;34m)\u001b[0m\u001b[0;34m\u001b[0m\u001b[0;34m\u001b[0m\u001b[0m\n\u001b[0m\u001b[1;32m    428\u001b[0m \u001b[0;34m\u001b[0m\u001b[0m\n\u001b[1;32m    429\u001b[0m             \u001b[0;32mif\u001b[0m \u001b[0mself\u001b[0m\u001b[0;34m.\u001b[0m\u001b[0m_state\u001b[0m \u001b[0;32min\u001b[0m \u001b[0;34m[\u001b[0m\u001b[0mCANCELLED\u001b[0m\u001b[0;34m,\u001b[0m \u001b[0mCANCELLED_AND_NOTIFIED\u001b[0m\u001b[0;34m]\u001b[0m\u001b[0;34m:\u001b[0m\u001b[0;34m\u001b[0m\u001b[0;34m\u001b[0m\u001b[0m\n",
      "\u001b[0;32m~/anaconda3/lib/python3.7/threading.py\u001b[0m in \u001b[0;36mwait\u001b[0;34m(self, timeout)\u001b[0m\n\u001b[1;32m    294\u001b[0m         \u001b[0;32mtry\u001b[0m\u001b[0;34m:\u001b[0m    \u001b[0;31m# restore state no matter what (e.g., KeyboardInterrupt)\u001b[0m\u001b[0;34m\u001b[0m\u001b[0;34m\u001b[0m\u001b[0m\n\u001b[1;32m    295\u001b[0m             \u001b[0;32mif\u001b[0m \u001b[0mtimeout\u001b[0m \u001b[0;32mis\u001b[0m \u001b[0;32mNone\u001b[0m\u001b[0;34m:\u001b[0m\u001b[0;34m\u001b[0m\u001b[0;34m\u001b[0m\u001b[0m\n\u001b[0;32m--> 296\u001b[0;31m                 \u001b[0mwaiter\u001b[0m\u001b[0;34m.\u001b[0m\u001b[0macquire\u001b[0m\u001b[0;34m(\u001b[0m\u001b[0;34m)\u001b[0m\u001b[0;34m\u001b[0m\u001b[0;34m\u001b[0m\u001b[0m\n\u001b[0m\u001b[1;32m    297\u001b[0m                 \u001b[0mgotit\u001b[0m \u001b[0;34m=\u001b[0m \u001b[0;32mTrue\u001b[0m\u001b[0;34m\u001b[0m\u001b[0;34m\u001b[0m\u001b[0m\n\u001b[1;32m    298\u001b[0m             \u001b[0;32melse\u001b[0m\u001b[0;34m:\u001b[0m\u001b[0;34m\u001b[0m\u001b[0;34m\u001b[0m\u001b[0m\n",
      "\u001b[0;31mKeyboardInterrupt\u001b[0m: "
     ]
    }
   ],
   "source": [
    "from joblib import Parallel, delayed\n",
    "import multiprocessing\n",
    "from datetime import datetime\n",
    "\n",
    "global_start=datetime.now()\n",
    "print (\"start : \" + str(global_start))\n",
    "num_cores = multiprocessing.cpu_count()\n",
    "#\"\"\" Initiale find minimal energy\n",
    "# To be sure we are at the equilibrium before executing simulation \n",
    "# (it will be done only once if multiprocessing...)\n",
    "#res = solver.find_energy_min(sheet, geom, model, options={\"gtol\": 1e-8})\n",
    "\n",
    "radial_tension = [20., 30., 40., 50., 60.]\n",
    "\n",
    "contractility_percent = [4,8,16]\n",
    "contractility_rate = [1+c/100 for c in contractility_percent]\n",
    "shrink_percent = [4,8,16]\n",
    "shrink_rate = [1+c/100 for c in contractility_percent]\n",
    "\n",
    "\n",
    "shrink_rate, contractility_rate, radial_tension = np.meshgrid(shrink_rate, contractility_rate, radial_tension)\n",
    "\n",
    "results = Parallel(n_jobs=2)(delayed(run_sim)(\n",
    "    sim_save_dir, sheet, s, c, rd, 0) \n",
    "                             for s, c, rd in zip(shrink_rate.ravel(), contractility_rate.ravel(), radial_tension.ravel()))\n",
    "\n",
    "global_end = datetime.now()\n",
    "print (\"end : \" + str(global_end))\n",
    "print ('Duree totale d execution : \\n\\t\\t')\n",
    "print (global_end-global_start)"
   ]
  },
  {
   "cell_type": "code",
   "execution_count": null,
   "metadata": {},
   "outputs": [],
   "source": []
  },
  {
   "cell_type": "code",
   "execution_count": null,
   "metadata": {},
   "outputs": [],
   "source": []
  },
  {
   "cell_type": "code",
   "execution_count": null,
   "metadata": {
    "scrolled": false
   },
   "outputs": [],
   "source": []
  },
  {
   "cell_type": "code",
   "execution_count": null,
   "metadata": {},
   "outputs": [],
   "source": []
  },
  {
   "cell_type": "code",
   "execution_count": null,
   "metadata": {},
   "outputs": [],
   "source": []
  },
  {
   "cell_type": "code",
   "execution_count": null,
   "metadata": {},
   "outputs": [],
   "source": []
  },
  {
   "cell_type": "code",
   "execution_count": null,
   "metadata": {},
   "outputs": [],
   "source": []
  },
  {
   "cell_type": "code",
   "execution_count": null,
   "metadata": {},
   "outputs": [],
   "source": []
  },
  {
   "cell_type": "code",
   "execution_count": null,
   "metadata": {},
   "outputs": [],
   "source": []
  },
  {
   "cell_type": "code",
   "execution_count": null,
   "metadata": {},
   "outputs": [],
   "source": []
  },
  {
   "cell_type": "code",
   "execution_count": null,
   "metadata": {},
   "outputs": [],
   "source": []
  },
  {
   "cell_type": "code",
   "execution_count": null,
   "metadata": {},
   "outputs": [],
   "source": []
  }
 ],
 "metadata": {
  "kernelspec": {
   "display_name": "Python 3",
   "language": "python",
   "name": "python3"
  },
  "language_info": {
   "codemirror_mode": {
    "name": "ipython",
    "version": 3
   },
   "file_extension": ".py",
   "mimetype": "text/x-python",
   "name": "python",
   "nbconvert_exporter": "python",
   "pygments_lexer": "ipython3",
   "version": "3.7.3"
  }
 },
 "nbformat": 4,
 "nbformat_minor": 4
}
