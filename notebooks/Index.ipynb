{
 "cells": [
  {
   "cell_type": "markdown",
   "metadata": {},
   "source": [
    "\n",
    "## Notebooks from ????\n",
    " \n",
    " \n",
    "Emmanuel Martin<sup>1</sup> , Sophie Theis<sup>1,2</sup> , Guillaume Gay<sup>*2</sup> , Bruno Monier<sup>*1</sup> , and Magali Suzanne<sup>*1</sup>\n",
    " \n",
    " <sup>1</sup> LBCMCP, Centre de Biologie Intégrative (CBI), Université de Toulouse, CNRS, UPS, France \n",
    " \n",
    " <sup>2</sup> Morphogénie Logiciels, 32110 St Martin d’Armagnac, France\n",
    " \n",
    " * co-corresponding authors\n",
    " \n",
    "### Toy model demo\n",
    " \n",
    " [SmallEllipsoidInvagination](SmallEllipsoidInvagination.ipynb) contains a small ellipsoid to run simulation in a small number of cells. \n",
    " \n",
    " \n",
    "### Simulations for the main figures\n",
    " \n",
    " [Simulations_FiguresPrincipale](Simulations_FiguresPrincipale.ipynb) contains simulations in figure 7-8 and Supplementary figure S4 pannel c and d.\n",
    " \n",
    " [Simulations_Ablations](Simulations_Ablations.ipynb) contains simulations in figure 9 and Supplementary figure S6. It reproduces experiments made in drosophila in vivo embryo in figure 6 and Supplementary figure S3.\n",
    " \n",
    "### Simulations for the supplementary figures\n",
    "\n",
    " [FINAL_EffectOfExternalBarrier](FINAL_EffectOfExternalBarrier.ipynb) contains how external barrier can affect tissue. \n",
    " \n",
    " [FINAL-EpitheliumGeneration-WithCellDivision](FINAL-EpitheliumGeneration-WithCellDivision.ipynb) contains generation of the initial super-egg tissue. \n",
    " \n",
    " [Final_LumenVolumeElasticity](Final_LumenVolumeElasticity.ipynb) contains simulations in Supplementary figure S4 pannel a. It tests different values of yolk compression. \n",
    " \n",
    " [Final_TissuPolarisationAtInitialState](Final_TissuPolarisationAtInitialState.ipynb) contains simulations in Supplementary figure S4 pannel a. It tests different values of ratio of cell polarization and look of how the tissue is polarized or not. \n",
    " \n",
    " \n",
    " \n",
    "\n",
    " "
   ]
  },
  {
   "cell_type": "code",
   "execution_count": null,
   "metadata": {},
   "outputs": [],
   "source": []
  }
 ],
 "metadata": {
  "kernelspec": {
   "display_name": "Python 3",
   "language": "python",
   "name": "python3"
  },
  "language_info": {
   "codemirror_mode": {
    "name": "ipython",
    "version": 3
   },
   "file_extension": ".py",
   "mimetype": "text/x-python",
   "name": "python",
   "nbconvert_exporter": "python",
   "pygments_lexer": "ipython3",
   "version": "3.7.3"
  }
 },
 "nbformat": 4,
 "nbformat_minor": 2
}
