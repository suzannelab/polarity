{
 "cells": [
  {
   "cell_type": "code",
   "execution_count": 12,
   "metadata": {},
   "outputs": [],
   "source": [
    "# Import \n",
    "import os\n",
    "import time\n",
    "import json\n",
    "import datetime\n",
    "import zipfile\n",
    "import numpy as np\n",
    "import pandas as pd\n",
    "\n",
    "from IPython.display import display\n",
    "\n",
    "from pathlib import Path\n",
    "from tyssue import config\n",
    "from tyssue import Sheet\n",
    "from tyssue.geometry.sheet_geometry import ClosedSheetGeometry as geom\n",
    "from tyssue.io import hdf5\n",
    "from tyssue.io.hdf5 import load_datasets\n",
    "from tyssue.dynamics import SheetModel as basemodel\n",
    "from tyssue.dynamics.apoptosis_model import SheetApoptosisModel as model\n",
    "\n"
   ]
  },
  {
   "cell_type": "raw",
   "metadata": {},
   "source": [
    "Conversion des anciens fichiers de simulations hdf5 en un seul fichier hdf5 par simulation...\n",
    "Création également de fichier CSV. Un fichier par dataframe. qui seront zipper ensemble..."
   ]
  },
  {
   "cell_type": "code",
   "execution_count": 2,
   "metadata": {},
   "outputs": [],
   "source": [
    "def open_sheet(dirname, t, data_names=['vert', 'edge', 'face', 'cell']):\n",
    "    \"\"\"Open hdf5 file\n",
    "\n",
    "    Open HDF5 file correspond to t time from dirname directory.\n",
    "\n",
    "    Parameters\n",
    "    ----------\n",
    "    directory : str\n",
    "        complete directory path\n",
    "    t : int\n",
    "        time step\n",
    "    \"\"\"\n",
    "    file_name = 'invagination_{:04d}.hf5'.format(t)\n",
    "    dsets = hdf5.load_datasets(os.path.join(dirname, file_name),\n",
    "                               data_names=data_names)\n",
    "\n",
    "    specs = config.geometry.cylindrical_sheet()\n",
    "    sheet = Sheet('ellipse', dsets, specs)\n",
    "    return sheet\n"
   ]
  },
  {
   "cell_type": "code",
   "execution_count": 13,
   "metadata": {},
   "outputs": [],
   "source": [
    "SIM_DIR = Path('/home/admin-suz/Documents/Simulations/20190827-QSSolver-Prepolarized')\n",
    "dirname = SIM_DIR/'1.08_constriction_0_radialtension0/'"
   ]
  },
  {
   "cell_type": "code",
   "execution_count": 45,
   "metadata": {},
   "outputs": [],
   "source": [
    "\n",
    "for t in range(0, 200):\n",
    "    try:\n",
    "        sheet = open_sheet(dirname,t)\n",
    "        sheet.face_df['time']=t\n",
    "        sheet.face_df.to_csv(os.path.join(dirname, \"face.csv\"), mode='a')\n",
    "        sheet.edge_df.to_csv(os.path.join(dirname, \"edge.csv\"), mode='a')\n",
    "        sheet.vert_df.to_csv(os.path.join(dirname, \"vert.csv\"), mode='a')\n",
    "    except Exception:\n",
    "        pass\n",
    "\n",
    "pd.Series(sheet.settings).to_csv(os.path.join(dirname, 'settings.csv'))\n",
    "\n",
    "#Faire le zip avec la bibliothèque shutil plutôt ? \n",
    "with zipfile.ZipFile(os.path.join(dirname, str(dirname).split('/')[-1]+'.zip'), 'w') as zip :\n",
    "    zip.write(os.path.join(dirname, \"face.csv\"), arcname='face.csv')\n",
    "    zip.write(os.path.join(dirname, \"edge.csv\"), arcname='edge.csv')\n",
    "    zip.write(os.path.join(dirname, \"vert.csv\"), arcname='vert.csv')\n",
    "    zip.write(os.path.join(dirname, \"settings.csv\"), arcname='settings.csv')\n",
    "    \n",
    "os.remove(os.path.join(dirname, \"settings.csv\"))\n",
    "os.remove(os.path.join(dirname, \"face.csv\"))\n",
    "os.remove(os.path.join(dirname, \"edge.csv\"))\n",
    "os.remove(os.path.join(dirname, \"vert.csv\"))\n"
   ]
  },
  {
   "cell_type": "code",
   "execution_count": null,
   "metadata": {},
   "outputs": [],
   "source": []
  },
  {
   "cell_type": "code",
   "execution_count": null,
   "metadata": {},
   "outputs": [],
   "source": []
  },
  {
   "cell_type": "code",
   "execution_count": null,
   "metadata": {},
   "outputs": [],
   "source": []
  },
  {
   "cell_type": "code",
   "execution_count": null,
   "metadata": {},
   "outputs": [],
   "source": []
  },
  {
   "cell_type": "code",
   "execution_count": null,
   "metadata": {},
   "outputs": [],
   "source": []
  }
 ],
 "metadata": {
  "kernelspec": {
   "display_name": "Python 3",
   "language": "python",
   "name": "python3"
  },
  "language_info": {
   "codemirror_mode": {
    "name": "ipython",
    "version": 3
   },
   "file_extension": ".py",
   "mimetype": "text/x-python",
   "name": "python",
   "nbconvert_exporter": "python",
   "pygments_lexer": "ipython3",
   "version": "3.6.4"
  }
 },
 "nbformat": 4,
 "nbformat_minor": 2
}
