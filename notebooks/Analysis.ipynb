{
 "cells": [
  {
   "cell_type": "code",
   "execution_count": 1,
   "metadata": {},
   "outputs": [],
   "source": [
    "# Import \n",
    "import os\n",
    "import time\n",
    "import json\n",
    "import datetime\n",
    "import numpy as np\n",
    "import pandas as pd\n",
    "\n",
    "from IPython.display import display\n",
    "\n",
    "from pathlib import Path\n",
    "from tyssue import config\n",
    "from tyssue import Sheet#, SheetGeometry as geom\n",
    "from tyssue.geometry.sheet_geometry import ClosedSheetGeometry as geom\n",
    "from tyssue.io import hdf5\n",
    "from tyssue.io.hdf5 import load_datasets\n",
    "from tyssue.dynamics import SheetModel as basemodel\n",
    "from tyssue.dynamics.apoptosis_model import SheetApoptosisModel as model\n",
    "from tyssue.solvers.sheet_vertex_solver import Solver as solver\n",
    "from tyssue.draw import sheet_view\n",
    "from tyssue.draw.plt_draw import quick_edge_draw\n",
    "from tyssue.draw.ipv_draw import sheet_view as ipv_draw \n",
    "\n",
    "from tyssue.behaviors.event_manager import EventManager\n",
    "from tyssue.behaviors.sheet.apoptosis_events import apoptosis\n",
    "\n",
    "import matplotlib.pyplot as plt\n",
    "%matplotlib inline\n",
    "\n",
    "try:\n",
    "    import seaborn as sns\n",
    "except ImportError:\n",
    "    print('Seaborn not found')\n",
    "import ipyvolume as ipv\n",
    "ipv.clear()"
   ]
  },
  {
   "cell_type": "code",
   "execution_count": 30,
   "metadata": {},
   "outputs": [
    {
     "data": {
      "application/vnd.jupyter.widget-view+json": {
       "model_id": "8b4076bef135430e8d433485355e9890",
       "version_major": 2,
       "version_minor": 0
      },
      "text/html": [
       "<p>Failed to display Jupyter Widget of type <code>Figure</code>.</p>\n",
       "<p>\n",
       "  If you're reading this message in the Jupyter Notebook or JupyterLab Notebook, it may mean\n",
       "  that the widgets JavaScript is still loading. If this message persists, it\n",
       "  likely means that the widgets JavaScript library is either not installed or\n",
       "  not enabled. See the <a href=\"https://ipywidgets.readthedocs.io/en/stable/user_install.html\">Jupyter\n",
       "  Widgets Documentation</a> for setup instructions.\n",
       "</p>\n",
       "<p>\n",
       "  If you're reading this message in another frontend (for example, a static\n",
       "  rendering on GitHub or <a href=\"https://nbviewer.jupyter.org/\">NBViewer</a>),\n",
       "  it may mean that your frontend doesn't currently support widgets.\n",
       "</p>\n"
      ],
      "text/plain": [
       "Figure(camera_center=[0.0, 0.0, 0.0], height=500, matrix_projection=[0.0, 0.0, 0.0, 0.0, 0.0, 0.0, 0.0, 0.0, 0.0, 0.0, 0.0, 0.0, 0.0, 0.0, 0.0, 0.0], matrix_world=[0.0, 0.0, 0.0, 0.0, 0.0, 0.0, 0.0, 0.0, 0.0, 0.0, 0.0, 0.0, 0.0, 0.0, 0.0, 0.0], meshes=[Mesh(color=array([[0.124395, 0.578002, 0.548287],\n",
       "       [0.15627 , 0.489624, 0.557936],\n",
       "       [0.126453, 0.570633, 0.549841],\n",
       "       ...,\n",
       "       [0.709898, 0.868751, 0.169257],\n",
       "       [0.720391, 0.87035 , 0.162603],\n",
       "       [0.688944, 0.865448, 0.182725]]), lines=array([[   0,  258],\n",
       "       [3049, 3046],\n",
       "       [1971, 3049],\n",
       "       ...,\n",
       "       [1583, 1582],\n",
       "       [ 685, 1157],\n",
       "       [3737, 3734]], dtype=uint32), texture=None, x=array([-113.23435591,  -42.23949538, -116.99286248, ...,  -38.75780561,\n",
       "        -35.29561198,  -37.02588774]), y=array([-16.89254261,  37.9536288 ,   6.7709587 , ..., -23.69326046,\n",
       "       -23.76215948, -24.50998023]), z=array([ 1.1963095 , -6.22983149,  0.31384723, ..., 30.51305585,\n",
       "       30.60041663, 29.93376109])), Mesh(color=array([[0.22786621, 0.5415917 , 0.76052288],\n",
       "       [0.31115725, 0.60828912, 0.7968935 ],\n",
       "       [0.22380623, 0.53753172, 0.75843137],\n",
       "       ...,\n",
       "       [0.03137255, 0.19635525, 0.43166474],\n",
       "       [0.03137255, 0.19229527, 0.42563629],\n",
       "       [0.03137255, 0.18823529, 0.41960784]]), texture=None, triangles=array([[    0,  2816, 19700],\n",
       "       [ 1495,  2817, 19701],\n",
       "       [ 1495,  2818, 19702],\n",
       "       ...,\n",
       "       [  720, 19697, 36581],\n",
       "       [  718, 19698, 36582],\n",
       "       [  719, 19699, 36583]], dtype=uint32), x=array([-111.72359407, -113.9138704 , -113.7764842 , ...,  -28.40227587,\n",
       "        -16.33837747,  -11.17578956]), y=array([-19.07935541, -15.51386684, -15.39481907, ...,  14.64835503,\n",
       "        19.95804579,  14.74210317]), z=array([  0.80972274,  -0.93032683,   3.23190739, ..., -36.02881353,\n",
       "       -33.61857379, -36.26685079]))], style={'axes': {'visible': False, 'label': {'color': 'white'}, 'ticklabel': {'color': 'white'}, 'color': 'white'}, 'box': {'visible': False}, 'background-color': 'black'}, tf=None, width=400, xlim=[-129.30910235577178, 129.3239434410714], ylim=[-129.30910235577178, 129.3239434410714], zlim=[-129.30910235577178, 129.3239434410714])"
      ]
     },
     "metadata": {},
     "output_type": "display_data"
    }
   ],
   "source": [
    "SIM_DIR = Path('/home/admin-suz/Documents/Simulations/2019-05-23')\n",
    "dirname = SIM_DIR/'1.04_constriction_30_radialtension0/'\n",
    "from tyssue.draw import sheet_view\n",
    "\n",
    "import ipyvolume.pylab as p3\n",
    "hfs = [f  for f in os.listdir(dirname)\n",
    "       if f.endswith('hf5')]\n",
    "hfs.sort(key=lambda x: os.path.getctime(os.path.join(dirname, x)))\n",
    "\n",
    "current = 'invagination_0000.hf5'\n",
    "ipv.clear()\n",
    "ipv.style.use('dark')\n",
    "\n",
    "\n",
    "dsets = hdf5.load_datasets(os.path.join(dirname, current),\n",
    "                               data_names=['vert', 'edge', 'face', 'cell'])\n",
    "\n",
    "specs = config.geometry.cylindrical_sheet()\n",
    "sheet = Sheet('ellipse', dsets, specs)\n",
    "sheet.face_df['test']=0\n",
    "index =sheet.face_df[(sheet.face_df.z>6) & (sheet.face_df.z<15) \n",
    "              & (sheet.face_df.y>25) & (sheet.face_df.y<35) \n",
    "                    & (sheet.face_df.x>0)].index\n",
    "sheet.face_df.loc[index, 'test']=1\n",
    "\n",
    "#sheet = sheet.extract_bounding_box(z_boundary=[-200,50])\n",
    "def draw_specs(sheet):\n",
    "    specs = {\n",
    "        'edge': {\n",
    "            'visible': True,\n",
    "            'color': sheet.vert_df.y,\n",
    "            #'colormap': 'Reds'\n",
    "        },\n",
    "        'face': {\n",
    "            'visible': True,\n",
    "            'color': sheet.face_df.area,\n",
    "            'colormap': 'Blues'\n",
    "        },\n",
    "        'vert':{\n",
    "            'visible':True,\n",
    "            's':100,\n",
    "            'alpha': 0.3,\n",
    "            'zorder': 2,\n",
    "            'color': sheet.vert_df.radial_tension\n",
    "            \n",
    "        }\n",
    "        \n",
    "    }\n",
    "    return specs\n",
    "\n",
    "ipv.clear()\n",
    "ipv_fig, meshes = sheet_view(sheet, coords=list('zxy'),\n",
    "                             mode='3D', **draw_specs(sheet))\n",
    "ipv_fig"
   ]
  },
  {
   "cell_type": "code",
   "execution_count": 33,
   "metadata": {
    "scrolled": false
   },
   "outputs": [],
   "source": [
    "def open_sheet(dirname, t, data_names=['vert', 'edge', 'face', 'cell']):\n",
    "    \"\"\"Open hdf5 file\n",
    "\n",
    "    Open HDF5 file correspond to t time from dirname directory.\n",
    "\n",
    "    Parameters\n",
    "    ----------\n",
    "    directory : str\n",
    "        complete directory path\n",
    "    t : int\n",
    "        time step\n",
    "    \"\"\"\n",
    "    file_name = 'invagination_{:04d}.hf5'.format(t)\n",
    "    dsets = hdf5.load_datasets(os.path.join(dirname, file_name),\n",
    "                               data_names=data_names)\n",
    "\n",
    "    specs = config.geometry.cylindrical_sheet()\n",
    "    sheet = Sheet('ellipse', dsets, specs)\n",
    "    return sheet\n",
    "\n",
    "\n",
    "def depth_calculation(sheet):\n",
    "    # Caculation of the radius\n",
    "    sheet_fold = sheet.extract_bounding_box(z_boundary=(-5,5))\n",
    "    r = np.sqrt(np.abs(sheet_fold.face_df.x).max()**2 + np.abs(sheet_fold.face_df.y).max()**2)\n",
    "    return r\n"
   ]
  },
  {
   "cell_type": "code",
   "execution_count": 32,
   "metadata": {
    "scrolled": false
   },
   "outputs": [
    {
     "data": {
      "text/plain": [
       "55.24266936673766"
      ]
     },
     "execution_count": 32,
     "metadata": {},
     "output_type": "execute_result"
    }
   ],
   "source": [
    "depth_calculation(sheet,12)"
   ]
  },
  {
   "cell_type": "code",
   "execution_count": 40,
   "metadata": {},
   "outputs": [],
   "source": [
    "sheet = open_sheet(dirname,0)\n",
    "depth_0 = depth_calculation(sheet)\n",
    "\n",
    "depths = []\n",
    "for t in range(0, 200):\n",
    "    try:\n",
    "        sheet = open_sheet(dirname,t)\n",
    "        depths.append(depth_0 - depth_calculation(sheet))\n",
    "    except Exception:\n",
    "        pass\n",
    "\n",
    "time = depths.index(max(depths))"
   ]
  },
  {
   "cell_type": "code",
   "execution_count": 45,
   "metadata": {},
   "outputs": [
    {
     "data": {
      "text/plain": [
       "Text(0,0.5,'invagination depth')"
      ]
     },
     "execution_count": 45,
     "metadata": {},
     "output_type": "execute_result"
    },
    {
     "data": {
      "image/png": "[encoded data removed]",
      "text/plain": [
       "<matplotlib.figure.Figure at 0x7fc5d5f17fd0>"
      ]
     },
     "metadata": {},
     "output_type": "display_data"
    }
   ],
   "source": [
    "fig, ax = plt.subplots(1, 1)\n",
    "ax.plot(depths)\n",
    "ax.set_xlabel('timestep')\n",
    "ax.set_ylabel('invagination depth')"
   ]
  },
  {
   "cell_type": "code",
   "execution_count": null,
   "metadata": {},
   "outputs": [],
   "source": []
  },
  {
   "cell_type": "code",
   "execution_count": null,
   "metadata": {},
   "outputs": [],
   "source": []
  },
  {
   "cell_type": "code",
   "execution_count": null,
   "metadata": {},
   "outputs": [],
   "source": []
  },
  {
   "cell_type": "code",
   "execution_count": null,
   "metadata": {},
   "outputs": [],
   "source": []
  },
  {
   "cell_type": "code",
   "execution_count": null,
   "metadata": {},
   "outputs": [],
   "source": []
  },
  {
   "cell_type": "code",
   "execution_count": null,
   "metadata": {},
   "outputs": [],
   "source": []
  }
 ],
 "metadata": {
  "kernelspec": {
   "display_name": "Python 3",
   "language": "python",
   "name": "python3"
  },
  "language_info": {
   "codemirror_mode": {
    "name": "ipython",
    "version": 3
   },
   "file_extension": ".py",
   "mimetype": "text/x-python",
   "name": "python",
   "nbconvert_exporter": "python",
   "pygments_lexer": "ipython3",
   "version": "3.6.3"
  }
 },
 "nbformat": 4,
 "nbformat_minor": 2
}
